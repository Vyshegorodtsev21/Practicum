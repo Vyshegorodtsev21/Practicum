{
 "cells": [
  {
   "cell_type": "markdown",
   "metadata": {},
   "source": [
    "# Разработка модели прогнозирования рыночной стоимости автомобиля для сервиса «Не бит, не крашен»"
   ]
  },
  {
   "cell_type": "markdown",
   "metadata": {},
   "source": [
    "Целью проекта является создание модели, которая обеспечит высокое качество предсказаний рыночной стоимости автомобилей для платформы \"Не бит, не крашен\". На основе исторических данных о технических характеристиках, комплектациях и ценах автомобилей, модель будет обладать высокой скоростью как обучения, так и предсказания, что позволит пользователям быстро и удобно получать информацию о цене своего транспортного средства."
   ]
  },
  {
   "cell_type": "markdown",
   "metadata": {},
   "source": [
    "**Описание данных:**\n",
    "\n",
    "**Признаки**\n",
    "- `DateCrawled` — дата скачивания анкеты из базы\n",
    "- `VehicleType` — тип автомобильного кузова\n",
    "- `RegistrationYear` — год регистрации автомобиля\n",
    "- `Gearbox` — тип коробки передач\n",
    "- `Power` — мощность (л. с.)\n",
    "- `Model` — модель автомобиля\n",
    "- `Kilometer` — пробег (км)\n",
    "- `RegistrationMonth` — месяц регистрации автомобиля\n",
    "- `FuelType` — тип топлива\n",
    "- `Brand` — марка автомобиля\n",
    "- `Repaired` — была машина в ремонте или нет\n",
    "- `DateCreated` — дата создания анкеты\n",
    "- `NumberOfPictures` — количество фотографий автомобиля\n",
    "- `PostalCode` — почтовый индекс владельца анкеты (пользователя)\n",
    "- `LastSeen` — дата последней активности пользователя\n",
    "\n",
    "**Целевой признак**\n",
    "- `Price` — цена (евро)"
   ]
  },
  {
   "cell_type": "markdown",
   "metadata": {},
   "source": [
    "**Этапы работы**\n",
    "\n",
    "1. [Подготовка данных](#Подготовка-данных)\n",
    "2. [Обучение моделей](#Обучение-моделей)\n",
    "3. [Анализ моделей](#Анализ-моделей)\n",
    "4. [Общий вывод](#Общий-вывод)"
   ]
  },
  {
   "cell_type": "code",
   "execution_count": 1,
   "metadata": {},
   "outputs": [],
   "source": [
    "!pip install -U scikit-learn -q\n",
    "!pip install phik -q\n",
    "!pip install lightgbm -q\n",
    "!pip install catboost -q"
   ]
  },
  {
   "cell_type": "code",
   "execution_count": 2,
   "metadata": {},
   "outputs": [],
   "source": [
    "import os\n",
    "import pandas as pd\n",
    "import numpy as np \n",
    "import seaborn as sns\n",
    "import matplotlib.pyplot as plt\n",
    "import phik\n",
    "import time\n",
    "\n",
    "from sklearn.model_selection import train_test_split\n",
    "from sklearn.pipeline import Pipeline\n",
    "from sklearn.preprocessing import OneHotEncoder, OrdinalEncoder, StandardScaler, MinMaxScaler, RobustScaler\n",
    "from sklearn.compose import ColumnTransformer\n",
    "from sklearn.impute import SimpleImputer\n",
    "from sklearn.metrics import mean_squared_error\n",
    "from sklearn.model_selection import GridSearchCV\n",
    "from sklearn.model_selection import cross_val_score\n",
    "from sklearn.linear_model import LinearRegression\n",
    "from sklearn.tree import DecisionTreeRegressor\n",
    "\n",
    "from lightgbm import LGBMRegressor\n",
    "\n",
    "from sklearn.dummy import DummyRegressor\n",
    "\n",
    "import warnings\n",
    "\n",
    "warnings.filterwarnings(\"ignore\")"
   ]
  },
  {
   "cell_type": "code",
   "execution_count": 3,
   "metadata": {},
   "outputs": [],
   "source": [
    "RANDOM_STATE = 17"
   ]
  },
  {
   "cell_type": "code",
   "execution_count": 4,
   "metadata": {},
   "outputs": [],
   "source": [
    "def build_bar_plot(df, col, xlabel, title):\n",
    "    \"\"\"\n",
    "    Строит столбчатую диаграмму для анализа распределения категориальной переменной.\n",
    "\n",
    "    Параметры:\n",
    "    - df: DataFrame, содержащий данные.\n",
    "    - col: Название столбца, для которого строится диаграмма.\n",
    "    - xlabel: Подпись оси x.\n",
    "    - title: Название графика.\n",
    "\n",
    "    Пример:\n",
    "    ```\n",
    "    build_bar_plot(data, 'department', 'Отделы', 'Распределение сотрудников по отделам')\n",
    "    ```\n",
    "\n",
    "    \"\"\"\n",
    "    plt.figure(figsize=(10, 7))\n",
    "    \n",
    "    # Получаем топ-10 наиболее популярных значений столбца\n",
    "    top_10_values = df[col].value_counts().nlargest(10).index\n",
    "    \n",
    "    # Фильтруем данные по этим значениям\n",
    "    filtered_df = df[df[col].isin(top_10_values)]\n",
    "    \n",
    "    # Строим график на отфильтрованных данных\n",
    "    ax = sns.countplot(x=filtered_df[col], order=top_10_values, color='steelblue')\n",
    "    \n",
    "    plt.ylabel('Кол-во автомобилей')\n",
    "    plt.xlabel(xlabel)\n",
    "    plt.title(title)\n",
    "    \n",
    "    total = len(df[col])  # общее количество элементов в столбце\n",
    "    for p in ax.patches:\n",
    "        percentage = '{:.1f}%'.format(100 * p.get_height() / total)\n",
    "        x = p.get_x() + p.get_width() / 2\n",
    "        y = p.get_height()\n",
    "        ax.annotate(percentage, (x, y), ha='center', va='bottom')\n",
    "        \n",
    "    plt.xticks(rotation=0)\n",
    "    plt.show()\n",
    "    \n",
    "    \n",
    "    \n",
    "def build_hist_box_plot(df, col, xlabel, title):\n",
    "    \"\"\"\n",
    "    Строит гистограмму и бокс-плот для анализа распределения числовой переменной.\n",
    "\n",
    "    Параметры:\n",
    "    - df: DataFrame, содержащий данные.\n",
    "    - col: Название столбца, для которого строится гистограмма и бокс-плот.\n",
    "    - xlabel: Подпись оси x.\n",
    "    - title: Название графика.\n",
    "\n",
    "    Пример:\n",
    "    ```\n",
    "    build_hist_box_plot(data, 'age', 'Возраст', 'Распределение возраста в компании')\n",
    "    ```\n",
    "\n",
    "    \"\"\"\n",
    "    plt.figure(figsize=(13, 7))\n",
    "    \n",
    "    \n",
    "    plt.subplot(1, 2, 1)\n",
    "    sns.histplot(x=df[col], kde=False, bins=30)\n",
    "    plt.ylabel('Кол-во автомобилей')\n",
    "    plt.xlabel(xlabel)\n",
    "    \n",
    "    \n",
    "    plt.subplot(1, 2, 2)\n",
    "    sns.boxplot(x=df[col])\n",
    "    plt.ylabel('')\n",
    "    plt.xlabel(xlabel)\n",
    "    \n",
    "    plt.suptitle(title)\n",
    "    plt.tight_layout()\n",
    "    plt.show()\n",
    "    \n",
    "    display(df[col].describe())\n"
   ]
  },
  {
   "cell_type": "markdown",
   "metadata": {},
   "source": [
    "## Подготовка данных"
   ]
  },
  {
   "cell_type": "markdown",
   "metadata": {},
   "source": [
    "### Загрузка данных"
   ]
  },
  {
   "cell_type": "code",
   "execution_count": 5,
   "metadata": {},
   "outputs": [],
   "source": [
    "try:\n",
    "    autos = pd.read_csv('/datasets/autos.csv', parse_dates=['DateCrawled', 'DateCreated', 'LastSeen'])\n",
    "except:\n",
    "    print('There is no such file')"
   ]
  },
  {
   "cell_type": "code",
   "execution_count": 6,
   "metadata": {},
   "outputs": [
    {
     "data": {
      "text/html": [
       "<div>\n",
       "<style scoped>\n",
       "    .dataframe tbody tr th:only-of-type {\n",
       "        vertical-align: middle;\n",
       "    }\n",
       "\n",
       "    .dataframe tbody tr th {\n",
       "        vertical-align: top;\n",
       "    }\n",
       "\n",
       "    .dataframe thead th {\n",
       "        text-align: right;\n",
       "    }\n",
       "</style>\n",
       "<table border=\"1\" class=\"dataframe\">\n",
       "  <thead>\n",
       "    <tr style=\"text-align: right;\">\n",
       "      <th></th>\n",
       "      <th>DateCrawled</th>\n",
       "      <th>Price</th>\n",
       "      <th>VehicleType</th>\n",
       "      <th>RegistrationYear</th>\n",
       "      <th>Gearbox</th>\n",
       "      <th>Power</th>\n",
       "      <th>Model</th>\n",
       "      <th>Kilometer</th>\n",
       "      <th>RegistrationMonth</th>\n",
       "      <th>FuelType</th>\n",
       "      <th>Brand</th>\n",
       "      <th>Repaired</th>\n",
       "      <th>DateCreated</th>\n",
       "      <th>NumberOfPictures</th>\n",
       "      <th>PostalCode</th>\n",
       "      <th>LastSeen</th>\n",
       "    </tr>\n",
       "  </thead>\n",
       "  <tbody>\n",
       "    <tr>\n",
       "      <th>53794</th>\n",
       "      <td>2016-03-08 12:47:14</td>\n",
       "      <td>5900</td>\n",
       "      <td>suv</td>\n",
       "      <td>2007</td>\n",
       "      <td>manual</td>\n",
       "      <td>136</td>\n",
       "      <td>captiva</td>\n",
       "      <td>100000</td>\n",
       "      <td>8</td>\n",
       "      <td>petrol</td>\n",
       "      <td>chevrolet</td>\n",
       "      <td>no</td>\n",
       "      <td>2016-03-08</td>\n",
       "      <td>0</td>\n",
       "      <td>81241</td>\n",
       "      <td>2016-03-12 05:17:33</td>\n",
       "    </tr>\n",
       "    <tr>\n",
       "      <th>234078</th>\n",
       "      <td>2016-03-24 09:37:19</td>\n",
       "      <td>3950</td>\n",
       "      <td>sedan</td>\n",
       "      <td>1988</td>\n",
       "      <td>auto</td>\n",
       "      <td>113</td>\n",
       "      <td>NaN</td>\n",
       "      <td>150000</td>\n",
       "      <td>6</td>\n",
       "      <td>petrol</td>\n",
       "      <td>volvo</td>\n",
       "      <td>no</td>\n",
       "      <td>2016-03-24</td>\n",
       "      <td>0</td>\n",
       "      <td>75203</td>\n",
       "      <td>2016-04-02 23:16:54</td>\n",
       "    </tr>\n",
       "    <tr>\n",
       "      <th>143169</th>\n",
       "      <td>2016-03-28 10:55:41</td>\n",
       "      <td>3800</td>\n",
       "      <td>small</td>\n",
       "      <td>2008</td>\n",
       "      <td>manual</td>\n",
       "      <td>69</td>\n",
       "      <td>c1</td>\n",
       "      <td>80000</td>\n",
       "      <td>2</td>\n",
       "      <td>petrol</td>\n",
       "      <td>citroen</td>\n",
       "      <td>no</td>\n",
       "      <td>2016-03-28</td>\n",
       "      <td>0</td>\n",
       "      <td>87724</td>\n",
       "      <td>2016-04-06 12:45:23</td>\n",
       "    </tr>\n",
       "    <tr>\n",
       "      <th>257658</th>\n",
       "      <td>2016-03-28 20:44:22</td>\n",
       "      <td>2600</td>\n",
       "      <td>small</td>\n",
       "      <td>2003</td>\n",
       "      <td>manual</td>\n",
       "      <td>75</td>\n",
       "      <td>corsa</td>\n",
       "      <td>150000</td>\n",
       "      <td>9</td>\n",
       "      <td>petrol</td>\n",
       "      <td>opel</td>\n",
       "      <td>no</td>\n",
       "      <td>2016-03-28</td>\n",
       "      <td>0</td>\n",
       "      <td>63457</td>\n",
       "      <td>2016-04-07 03:15:20</td>\n",
       "    </tr>\n",
       "    <tr>\n",
       "      <th>88521</th>\n",
       "      <td>2016-03-09 11:56:37</td>\n",
       "      <td>3890</td>\n",
       "      <td>convertible</td>\n",
       "      <td>2001</td>\n",
       "      <td>manual</td>\n",
       "      <td>163</td>\n",
       "      <td>slk</td>\n",
       "      <td>150000</td>\n",
       "      <td>9</td>\n",
       "      <td>petrol</td>\n",
       "      <td>mercedes_benz</td>\n",
       "      <td>no</td>\n",
       "      <td>2016-03-09</td>\n",
       "      <td>0</td>\n",
       "      <td>58313</td>\n",
       "      <td>2016-03-29 10:46:27</td>\n",
       "    </tr>\n",
       "  </tbody>\n",
       "</table>\n",
       "</div>"
      ],
      "text/plain": [
       "               DateCrawled  Price  VehicleType  RegistrationYear Gearbox  \\\n",
       "53794  2016-03-08 12:47:14   5900          suv              2007  manual   \n",
       "234078 2016-03-24 09:37:19   3950        sedan              1988    auto   \n",
       "143169 2016-03-28 10:55:41   3800        small              2008  manual   \n",
       "257658 2016-03-28 20:44:22   2600        small              2003  manual   \n",
       "88521  2016-03-09 11:56:37   3890  convertible              2001  manual   \n",
       "\n",
       "        Power    Model  Kilometer  RegistrationMonth FuelType          Brand  \\\n",
       "53794     136  captiva     100000                  8   petrol      chevrolet   \n",
       "234078    113      NaN     150000                  6   petrol          volvo   \n",
       "143169     69       c1      80000                  2   petrol        citroen   \n",
       "257658     75    corsa     150000                  9   petrol           opel   \n",
       "88521     163      slk     150000                  9   petrol  mercedes_benz   \n",
       "\n",
       "       Repaired DateCreated  NumberOfPictures  PostalCode            LastSeen  \n",
       "53794        no  2016-03-08                 0       81241 2016-03-12 05:17:33  \n",
       "234078       no  2016-03-24                 0       75203 2016-04-02 23:16:54  \n",
       "143169       no  2016-03-28                 0       87724 2016-04-06 12:45:23  \n",
       "257658       no  2016-03-28                 0       63457 2016-04-07 03:15:20  \n",
       "88521        no  2016-03-09                 0       58313 2016-03-29 10:46:27  "
      ]
     },
     "metadata": {},
     "output_type": "display_data"
    },
    {
     "name": "stdout",
     "output_type": "stream",
     "text": [
      "<class 'pandas.core.frame.DataFrame'>\n",
      "RangeIndex: 354369 entries, 0 to 354368\n",
      "Data columns (total 16 columns):\n",
      " #   Column             Non-Null Count   Dtype         \n",
      "---  ------             --------------   -----         \n",
      " 0   DateCrawled        354369 non-null  datetime64[ns]\n",
      " 1   Price              354369 non-null  int64         \n",
      " 2   VehicleType        316879 non-null  object        \n",
      " 3   RegistrationYear   354369 non-null  int64         \n",
      " 4   Gearbox            334536 non-null  object        \n",
      " 5   Power              354369 non-null  int64         \n",
      " 6   Model              334664 non-null  object        \n",
      " 7   Kilometer          354369 non-null  int64         \n",
      " 8   RegistrationMonth  354369 non-null  int64         \n",
      " 9   FuelType           321474 non-null  object        \n",
      " 10  Brand              354369 non-null  object        \n",
      " 11  Repaired           283215 non-null  object        \n",
      " 12  DateCreated        354369 non-null  datetime64[ns]\n",
      " 13  NumberOfPictures   354369 non-null  int64         \n",
      " 14  PostalCode         354369 non-null  int64         \n",
      " 15  LastSeen           354369 non-null  datetime64[ns]\n",
      "dtypes: datetime64[ns](3), int64(7), object(6)\n",
      "memory usage: 43.3+ MB\n"
     ]
    }
   ],
   "source": [
    "display(autos.sample(5))\n",
    "autos.info()"
   ]
  },
  {
   "cell_type": "markdown",
   "metadata": {},
   "source": [
    "**Мы успешно завершили процесс загрузки данных и обнаружили наличие пропущенных значений в них.**"
   ]
  },
  {
   "cell_type": "markdown",
   "metadata": {},
   "source": [
    "### Проверка данных на наличие дубликатов"
   ]
  },
  {
   "cell_type": "code",
   "execution_count": 7,
   "metadata": {},
   "outputs": [
    {
     "name": "stdout",
     "output_type": "stream",
     "text": [
      "Количество явных дубликатов: 4\n"
     ]
    }
   ],
   "source": [
    "print(f'Количество явных дубликатов: {autos.duplicated().sum()}')"
   ]
  },
  {
   "cell_type": "code",
   "execution_count": 8,
   "metadata": {},
   "outputs": [],
   "source": [
    "autos.drop_duplicates(inplace=True)"
   ]
  },
  {
   "cell_type": "markdown",
   "metadata": {},
   "source": [
    "**В предоставленных данных были обнаружены и удалены дубликаты.**"
   ]
  },
  {
   "cell_type": "markdown",
   "metadata": {},
   "source": [
    "### Работа с пропусками"
   ]
  },
  {
   "cell_type": "code",
   "execution_count": 9,
   "metadata": {},
   "outputs": [
    {
     "name": "stdout",
     "output_type": "stream",
     "text": [
      "[nan 'coupe' 'suv' 'small' 'sedan' 'convertible' 'bus' 'wagon' 'other']\n"
     ]
    }
   ],
   "source": [
    "print(autos['VehicleType'].unique())\n",
    "autos['VehicleType'].fillna('other', inplace=True)"
   ]
  },
  {
   "cell_type": "markdown",
   "metadata": {},
   "source": [
    "Вероятные пропуски в типе кузова могут быть обусловлены отсутствием соответствующей категории на сервисе. Поэтому присвоим пропущенным значениям типа кузова значение `other`."
   ]
  },
  {
   "cell_type": "code",
   "execution_count": 10,
   "metadata": {},
   "outputs": [
    {
     "name": "stdout",
     "output_type": "stream",
     "text": [
      "['manual' 'auto' nan]\n"
     ]
    }
   ],
   "source": [
    "print(autos['Gearbox'].unique())\n",
    "autos['Gearbox'].fillna('unknown', inplace=True)"
   ]
  },
  {
   "cell_type": "markdown",
   "metadata": {},
   "source": [
    "В данном случае отсутствуют логически обоснованные альтернативы. Поэтому присвоим пропущенным значениям типа кузова значение `unknown`."
   ]
  },
  {
   "cell_type": "code",
   "execution_count": 11,
   "metadata": {},
   "outputs": [
    {
     "name": "stdout",
     "output_type": "stream",
     "text": [
      "['golf' nan 'grand' 'fabia' '3er' '2_reihe' 'other' 'c_max' '3_reihe'\n",
      " 'passat' 'navara' 'ka' 'polo' 'twingo' 'a_klasse' 'scirocco' '5er'\n",
      " 'meriva' 'arosa' 'c4' 'civic' 'transporter' 'punto' 'e_klasse' 'clio'\n",
      " 'kadett' 'kangoo' 'corsa' 'one' 'fortwo' '1er' 'b_klasse' 'signum'\n",
      " 'astra' 'a8' 'jetta' 'fiesta' 'c_klasse' 'micra' 'vito' 'sprinter' '156'\n",
      " 'escort' 'forester' 'xc_reihe' 'scenic' 'a4' 'a1' 'insignia' 'combo'\n",
      " 'focus' 'tt' 'a6' 'jazz' 'omega' 'slk' '7er' '80' '147' '100' 'z_reihe'\n",
      " 'sportage' 'sorento' 'v40' 'ibiza' 'mustang' 'eos' 'touran' 'getz' 'a3'\n",
      " 'almera' 'megane' 'lupo' 'r19' 'zafira' 'caddy' 'mondeo' 'cordoba' 'colt'\n",
      " 'impreza' 'vectra' 'berlingo' 'tiguan' 'i_reihe' 'espace' 'sharan'\n",
      " '6_reihe' 'panda' 'up' 'seicento' 'ceed' '5_reihe' 'yeti' 'octavia' 'mii'\n",
      " 'rx_reihe' '6er' 'modus' 'fox' 'matiz' 'beetle' 'c1' 'rio' 'touareg'\n",
      " 'logan' 'spider' 'cuore' 's_max' 'a2' 'galaxy' 'c3' 'viano' 's_klasse'\n",
      " '1_reihe' 'avensis' 'roomster' 'sl' 'kaefer' 'santa' 'cooper' 'leon'\n",
      " '4_reihe' 'a5' '500' 'laguna' 'ptcruiser' 'clk' 'primera' 'x_reihe'\n",
      " 'exeo' '159' 'transit' 'juke' 'qashqai' 'carisma' 'accord' 'corolla'\n",
      " 'lanos' 'phaeton' 'verso' 'swift' 'rav' 'picanto' 'boxster' 'kalos'\n",
      " 'superb' 'stilo' 'alhambra' 'mx_reihe' 'roadster' 'ypsilon' 'cayenne'\n",
      " 'galant' 'justy' '90' 'sirion' 'crossfire' 'agila' 'duster' 'cr_reihe'\n",
      " 'v50' 'c_reihe' 'v_klasse' 'm_klasse' 'yaris' 'c5' 'aygo' 'cc' 'carnival'\n",
      " 'fusion' '911' 'bora' 'forfour' 'm_reihe' 'cl' 'tigra' '300c' 'spark'\n",
      " 'v70' 'kuga' 'x_type' 'ducato' 's_type' 'x_trail' 'toledo' 'altea'\n",
      " 'voyager' 'calibra' 'bravo' 'antara' 'tucson' 'citigo' 'jimny' 'wrangler'\n",
      " 'lybra' 'q7' 'lancer' 'captiva' 'c2' 'discovery' 'freelander' 'sandero'\n",
      " 'note' '900' 'cherokee' 'clubman' 'samara' 'defender' '601' 'cx_reihe'\n",
      " 'legacy' 'pajero' 'auris' 'niva' 's60' 'nubira' 'vivaro' 'g_klasse'\n",
      " 'lodgy' '850' 'range_rover' 'q3' 'serie_2' 'glk' 'charade' 'croma'\n",
      " 'outlander' 'doblo' 'musa' 'move' '9000' 'v60' '145' 'aveo' '200' 'b_max'\n",
      " 'range_rover_sport' 'terios' 'rangerover' 'q5' 'range_rover_evoque'\n",
      " 'materia' 'delta' 'gl' 'kalina' 'amarok' 'elefantino' 'i3' 'kappa'\n",
      " 'serie_3' 'serie_1']\n"
     ]
    }
   ],
   "source": [
    "print(autos['Model'].unique())\n",
    "autos['Model'].fillna('other', inplace=True)"
   ]
  },
  {
   "cell_type": "markdown",
   "metadata": {},
   "source": [
    "Вероятные пропуски в модели автомобиля также могут быть обусловлены отсутствием соответствующей модели на сервисе. Поэтому пропущенным значениям будет присвоено значение `other`."
   ]
  },
  {
   "cell_type": "code",
   "execution_count": 12,
   "metadata": {},
   "outputs": [
    {
     "name": "stdout",
     "output_type": "stream",
     "text": [
      "['petrol' 'gasoline' nan 'lpg' 'other' 'hybrid' 'cng' 'electric']\n"
     ]
    }
   ],
   "source": [
    "print(autos['FuelType'].unique())\n",
    "autos['FuelType'].fillna('other', inplace=True)"
   ]
  },
  {
   "cell_type": "markdown",
   "metadata": {},
   "source": [
    "Для типа топлива применим аналогичный подход."
   ]
  },
  {
   "cell_type": "code",
   "execution_count": 13,
   "metadata": {},
   "outputs": [
    {
     "name": "stdout",
     "output_type": "stream",
     "text": [
      "[nan 'yes' 'no']\n"
     ]
    }
   ],
   "source": [
    "print(autos['Repaired'].unique())\n",
    "autos['Repaired'].fillna('no', inplace=True)"
   ]
  },
  {
   "cell_type": "markdown",
   "metadata": {},
   "source": [
    "Предположительно, значение nan в данном признаке указывает на отсутствие проведенных ремонтных работ."
   ]
  },
  {
   "cell_type": "markdown",
   "metadata": {},
   "source": [
    "### Исследовательский анализ данных"
   ]
  },
  {
   "cell_type": "markdown",
   "metadata": {},
   "source": [
    "**Категориальные признаки**"
   ]
  },
  {
   "cell_type": "code",
   "execution_count": 14,
   "metadata": {
    "scrolled": false
   },
   "outputs": [
    {
     "data": {
      "image/png": "[encoded data removed]",
      "text/plain": [
       "<Figure size 720x504 with 1 Axes>"
      ]
     },
     "metadata": {
      "needs_background": "light"
     },
     "output_type": "display_data"
    },
    {
     "data": {
      "image/png": "[encoded data removed]",
      "text/plain": [
       "<Figure size 720x504 with 1 Axes>"
      ]
     },
     "metadata": {
      "needs_background": "light"
     },
     "output_type": "display_data"
    },
    {
     "data": {
      "image/png": "[encoded data removed]",
      "text/plain": [
       "<Figure size 720x504 with 1 Axes>"
      ]
     },
     "metadata": {
      "needs_background": "light"
     },
     "output_type": "display_data"
    },
    {
     "data": {
      "image/png": "[encoded data removed]",
      "text/plain": [
       "<Figure size 720x504 with 1 Axes>"
      ]
     },
     "metadata": {
      "needs_background": "light"
     },
     "output_type": "display_data"
    },
    {
     "data": {
      "image/png": "[encoded data removed]",
      "text/plain": [
       "<Figure size 720x504 with 1 Axes>"
      ]
     },
     "metadata": {
      "needs_background": "light"
     },
     "output_type": "display_data"
    },
    {
     "data": {
      "image/png": "[encoded data removed]",
      "text/plain": [
       "<Figure size 720x504 with 1 Axes>"
      ]
     },
     "metadata": {
      "needs_background": "light"
     },
     "output_type": "display_data"
    }
   ],
   "source": [
    "build_bar_plot(autos, 'VehicleType', 'Типы кузова', 'Распределение предоставленных на сервисе типов кузова автомобилей')\n",
    "build_bar_plot(autos, 'Gearbox', 'Типы коробки передач', 'Распределение предоставленных на сервисе типов коробок передач')\n",
    "build_bar_plot(autos, 'Model', 'Модели автомобилей', 'Распределение наиболее популярных на сервисе моделей автомобилей')\n",
    "build_bar_plot(autos, 'FuelType', 'Типы топлива', 'Распределение предоставленных на сервисе типов топлива')\n",
    "build_bar_plot(autos, 'Brand', 'Марки автомобилей', 'Распределение наиболее популярных на сервисе марок автомобилей')\n",
    "build_bar_plot(autos, 'Repaired', 'Прохождение ремонтных работ', 'Прохождение автомобилем ремонтных работ')"
   ]
  },
  {
   "cell_type": "markdown",
   "metadata": {},
   "source": [
    "- Наиболее популярными типами кузова являются: sedan(25.8%), small(22.5%) и wagon(18.4%)\n",
    "\n",
    "\n",
    "\n",
    "- На сервисе преобладают автомобили с механической коробки передач, соотношение составляет 75.7% по сравнению с 18.7% у автоматической коробки передач.\n",
    "\n",
    "\n",
    "\n",
    "- Наиболее популярными моделями автомобиля являются: other(12.5%), golf(8.2%) и 3er(5.6%)\n",
    "\n",
    "\n",
    "\n",
    "- Наиболее популярные типы топлива: petrol(61.1%), gasoline(27.9%) и other(9.3%)\n",
    "\n",
    "\n",
    "\n",
    "- Наиболее популярными марками автомобиля являются: volkswagen(21.7%), opel(11.3%) и bmw(10.4%)\n",
    "\n",
    "\n",
    "\n",
    "- Наибольшее количество автомобилей (89.8%) не проходили ремонтные работы, в сравнении с 10.2% автомобилей, которые прошли."
   ]
  },
  {
   "cell_type": "markdown",
   "metadata": {},
   "source": [
    "**Количественные признаки**"
   ]
  },
  {
   "cell_type": "code",
   "execution_count": 15,
   "metadata": {},
   "outputs": [
    {
     "data": {
      "image/png": "[encoded data removed]",
      "text/plain": [
       "<Figure size 936x504 with 2 Axes>"
      ]
     },
     "metadata": {
      "needs_background": "light"
     },
     "output_type": "display_data"
    },
    {
     "data": {
      "text/plain": [
       "count    354365.000000\n",
       "mean       4416.679830\n",
       "std        4514.176349\n",
       "min           0.000000\n",
       "25%        1050.000000\n",
       "50%        2700.000000\n",
       "75%        6400.000000\n",
       "max       20000.000000\n",
       "Name: Price, dtype: float64"
      ]
     },
     "metadata": {},
     "output_type": "display_data"
    }
   ],
   "source": [
    "build_hist_box_plot(autos, 'Price', 'Цена', 'Цены на автомобили')"
   ]
  },
  {
   "cell_type": "markdown",
   "metadata": {},
   "source": [
    "Исключим из дальнейшего анализа автомобили, цена которых составляет менее 50 евро, поскольку это вероятно является ошибкой."
   ]
  },
  {
   "cell_type": "code",
   "execution_count": 16,
   "metadata": {},
   "outputs": [
    {
     "data": {
      "image/png": "[encoded data removed]",
      "text/plain": [
       "<Figure size 936x504 with 2 Axes>"
      ]
     },
     "metadata": {
      "needs_background": "light"
     },
     "output_type": "display_data"
    },
    {
     "data": {
      "text/plain": [
       "count    318311.000000\n",
       "mean       4895.114881\n",
       "std        4520.278157\n",
       "min         500.000000\n",
       "25%        1499.000000\n",
       "50%        3200.000000\n",
       "75%        6950.000000\n",
       "max       20000.000000\n",
       "Name: Price, dtype: float64"
      ]
     },
     "metadata": {},
     "output_type": "display_data"
    }
   ],
   "source": [
    "autos = autos.drop(autos[autos['Price'] < 500].index)\n",
    "build_hist_box_plot(autos, 'Price', 'Цена', 'Цены на автомобили')"
   ]
  },
  {
   "cell_type": "code",
   "execution_count": 17,
   "metadata": {},
   "outputs": [
    {
     "data": {
      "image/png": "[encoded data removed]",
      "text/plain": [
       "<Figure size 936x504 with 2 Axes>"
      ]
     },
     "metadata": {
      "needs_background": "light"
     },
     "output_type": "display_data"
    },
    {
     "data": {
      "text/plain": [
       "count    318311.000000\n",
       "mean       2004.164672\n",
       "std          65.378165\n",
       "min        1000.000000\n",
       "25%        1999.000000\n",
       "50%        2004.000000\n",
       "75%        2008.000000\n",
       "max        9999.000000\n",
       "Name: RegistrationYear, dtype: float64"
      ]
     },
     "metadata": {},
     "output_type": "display_data"
    }
   ],
   "source": [
    "build_hist_box_plot(autos, 'RegistrationYear', 'Год', 'Год регистрации автомобиля')"
   ]
  },
  {
   "cell_type": "markdown",
   "metadata": {},
   "source": [
    "Для дальнейшего анализа оставим только те автомобили, которые были зарегистрированы в период с 1970 по 2024 год, чтобы исключить большое количество аномальных значений по году регистрации."
   ]
  },
  {
   "cell_type": "code",
   "execution_count": 18,
   "metadata": {},
   "outputs": [
    {
     "data": {
      "image/png": "[encoded data removed]",
      "text/plain": [
       "<Figure size 936x504 with 2 Axes>"
      ]
     },
     "metadata": {
      "needs_background": "light"
     },
     "output_type": "display_data"
    },
    {
     "data": {
      "text/plain": [
       "count    303291.000000\n",
       "mean       2003.137337\n",
       "std           6.053962\n",
       "min        1975.000000\n",
       "25%        1999.000000\n",
       "50%        2003.000000\n",
       "75%        2007.000000\n",
       "max        2016.000000\n",
       "Name: RegistrationYear, dtype: float64"
      ]
     },
     "metadata": {},
     "output_type": "display_data"
    }
   ],
   "source": [
    "autos = autos.drop(autos[(autos['RegistrationYear'] < 1975) |\n",
    "                         (autos['RegistrationYear'] > autos['DateCrawled'].dt.year.max())].index)\n",
    "build_hist_box_plot(autos, 'RegistrationYear', 'Год', 'Год регистрации автомобиля')"
   ]
  },
  {
   "cell_type": "code",
   "execution_count": 19,
   "metadata": {},
   "outputs": [
    {
     "data": {
      "image/png": "[encoded data removed]",
      "text/plain": [
       "<Figure size 936x504 with 2 Axes>"
      ]
     },
     "metadata": {
      "needs_background": "light"
     },
     "output_type": "display_data"
    },
    {
     "data": {
      "text/plain": [
       "count    303291.000000\n",
       "mean        116.264228\n",
       "std         185.286511\n",
       "min           0.000000\n",
       "25%          75.000000\n",
       "50%         109.000000\n",
       "75%         147.000000\n",
       "max       20000.000000\n",
       "Name: Power, dtype: float64"
      ]
     },
     "metadata": {},
     "output_type": "display_data"
    }
   ],
   "source": [
    "build_hist_box_plot(autos, 'Power', 'Лошадиные силы', 'Мощность автомобиля в лошадиных силах')"
   ]
  },
  {
   "cell_type": "markdown",
   "metadata": {},
   "source": [
    "Также уберём аномальные значения по признаку лошадиных сил и установим ограничение от 6 до 1600 лошадиных сил. Аномальные значения заполним медианным по модели."
   ]
  },
  {
   "cell_type": "code",
   "execution_count": 20,
   "metadata": {},
   "outputs": [
    {
     "data": {
      "image/png": "[encoded data removed]",
      "text/plain": [
       "<Figure size 936x504 with 2 Axes>"
      ]
     },
     "metadata": {
      "needs_background": "light"
     },
     "output_type": "display_data"
    },
    {
     "data": {
      "text/plain": [
       "count    278095.000000\n",
       "mean        123.666075\n",
       "std          58.531127\n",
       "min           6.000000\n",
       "25%          82.000000\n",
       "50%         116.000000\n",
       "75%         150.000000\n",
       "max        1600.000000\n",
       "Name: Power, dtype: float64"
      ]
     },
     "metadata": {},
     "output_type": "display_data"
    }
   ],
   "source": [
    "autos = autos.drop(autos[(autos['Power'] < 6) | (autos['Power'] > 1600)].index)\n",
    "build_hist_box_plot(autos, 'Power', 'Лошадиные силы', 'Мощность автомобиля в лошадиных силах')"
   ]
  },
  {
   "cell_type": "code",
   "execution_count": 21,
   "metadata": {},
   "outputs": [
    {
     "data": {
      "image/png": "[encoded data removed]",
      "text/plain": [
       "<Figure size 936x504 with 2 Axes>"
      ]
     },
     "metadata": {
      "needs_background": "light"
     },
     "output_type": "display_data"
    },
    {
     "data": {
      "text/plain": [
       "count    278095.000000\n",
       "mean     127918.984520\n",
       "std       36743.663655\n",
       "min        5000.000000\n",
       "25%      125000.000000\n",
       "50%      150000.000000\n",
       "75%      150000.000000\n",
       "max      150000.000000\n",
       "Name: Kilometer, dtype: float64"
      ]
     },
     "metadata": {},
     "output_type": "display_data"
    }
   ],
   "source": [
    "build_hist_box_plot(autos, 'Kilometer', 'Пробег (км)', 'Пробег автомобиля')"
   ]
  },
  {
   "cell_type": "code",
   "execution_count": 22,
   "metadata": {},
   "outputs": [
    {
     "data": {
      "image/png": "[encoded data removed]",
      "text/plain": [
       "<Figure size 936x504 with 2 Axes>"
      ]
     },
     "metadata": {
      "needs_background": "light"
     },
     "output_type": "display_data"
    },
    {
     "data": {
      "text/plain": [
       "count    278095.0\n",
       "mean          0.0\n",
       "std           0.0\n",
       "min           0.0\n",
       "25%           0.0\n",
       "50%           0.0\n",
       "75%           0.0\n",
       "max           0.0\n",
       "Name: NumberOfPictures, dtype: float64"
      ]
     },
     "metadata": {},
     "output_type": "display_data"
    }
   ],
   "source": [
    "build_hist_box_plot(autos, 'NumberOfPictures', 'Кол-во фото', 'Количество фотографий автомобиля')"
   ]
  },
  {
   "cell_type": "markdown",
   "metadata": {},
   "source": [
    "**После исключения аномальных значений мы можем сделать следующие выводы:**\n",
    "- **Цены на автомобили**: цены варьируются от 500 до 20 000 евро, с медианным значением в 3200 евро.\n",
    "- **Год регистрации**: год варьируется от 1975 до 2016, с медианным и средним значением в 2003.\n",
    "- **Мощность автомобиля**: мощность варьируется от 6 до 1600 лс с медианой в 116 лс.\n",
    "- **Пробег**: пробег автомобилей варьируется от 5000 до 150 000 км, с медианным значением в 150000 км. Заметно преобладание машин с большим пробегом..\n",
    "- **Количество фотографий автомобиля**: интересной особенностью является полное отсутствие фотографий в объявлениях. Вероятно, это связано с ошибкой при выгрузке данных."
   ]
  },
  {
   "cell_type": "markdown",
   "metadata": {},
   "source": [
    "Колонки DateCrawled, RegistrationMonth, DateCreated, NumberOfPictures, PostalCode и LastSeen не представляют существенной информации для нашего исследования. Их можно удалить."
   ]
  },
  {
   "cell_type": "code",
   "execution_count": 23,
   "metadata": {},
   "outputs": [],
   "source": [
    "autos = autos.drop(['DateCrawled', 'RegistrationMonth', 'DateCreated', 'NumberOfPictures', 'PostalCode', 'LastSeen'], axis=1)"
   ]
  },
  {
   "cell_type": "markdown",
   "metadata": {},
   "source": [
    "### Корреляционный анализ"
   ]
  },
  {
   "cell_type": "code",
   "execution_count": 24,
   "metadata": {},
   "outputs": [
    {
     "data": {
      "image/png": "[encoded data removed]",
      "text/plain": [
       "<Figure size 1008x720 with 2 Axes>"
      ]
     },
     "metadata": {
      "needs_background": "light"
     },
     "output_type": "display_data"
    }
   ],
   "source": [
    "plt.figure(figsize=(14, 10))\n",
    "interval_columns = ['Price', 'Power']\n",
    "sns.heatmap(autos.phik_matrix(interval_cols=interval_columns), annot=True, cmap='Greens', linewidths=0.5);"
   ]
  },
  {
   "cell_type": "markdown",
   "metadata": {},
   "source": [
    "**Наибольшая корреляция с целевым признаком наблюдается у следующих показателей:**\n",
    "1) Год регистрации автомобиля - 0.65\n",
    "\n",
    "2) Модель автомобиля - 0.56\n",
    "\n",
    "3) Мощность автомобиля - 0.4"
   ]
  },
  {
   "cell_type": "markdown",
   "metadata": {},
   "source": [
    "**Выявлена мультиколлинеарность между столбцами `Model` и `Brand`, где коэффициент корреляции равен 1. В связи с этим удалим столбец с маркой.**"
   ]
  },
  {
   "cell_type": "code",
   "execution_count": 25,
   "metadata": {},
   "outputs": [],
   "source": [
    "autos = autos.drop('Brand', axis=1)"
   ]
  },
  {
   "cell_type": "code",
   "execution_count": 26,
   "metadata": {},
   "outputs": [
    {
     "name": "stdout",
     "output_type": "stream",
     "text": [
      "Количество явных дубликатов после коррекции данных: 43619\n"
     ]
    }
   ],
   "source": [
    "print(f'Количество явных дубликатов после коррекции данных: {autos.duplicated().sum()}')\n",
    "autos.drop_duplicates(inplace=True)"
   ]
  },
  {
   "cell_type": "markdown",
   "metadata": {},
   "source": [
    "## Обучение моделей"
   ]
  },
  {
   "cell_type": "markdown",
   "metadata": {},
   "source": [
    "### Деление на выборки"
   ]
  },
  {
   "cell_type": "code",
   "execution_count": 27,
   "metadata": {},
   "outputs": [],
   "source": [
    "features = autos.drop('Price', axis=1)\n",
    "target = autos['Price']\n",
    "\n",
    "features_train, features_test, target_train, target_test = train_test_split(\n",
    "    features, target, test_size=0.25, random_state=RANDOM_STATE)\n",
    "\n",
    "categorical_cols = ['VehicleType', 'Gearbox', 'Model', 'FuelType', 'Repaired']"
   ]
  },
  {
   "cell_type": "markdown",
   "metadata": {},
   "source": [
    "### Тестирование моделей"
   ]
  },
  {
   "cell_type": "markdown",
   "metadata": {},
   "source": [
    "**LinearRegression**"
   ]
  },
  {
   "cell_type": "code",
   "execution_count": 28,
   "metadata": {},
   "outputs": [
    {
     "name": "stdout",
     "output_type": "stream",
     "text": [
      "Время обучения LinearRegression: 110.38144898414612\n",
      "Время предсказания на тренировочной выборке: 0.4380347728729248\n",
      "RMSE LinearRegression: 2650.714833401103\n",
      "Лучшая модель:\n",
      "Pipeline(steps=[('preprocessor',\n",
      "                 ColumnTransformer(remainder='passthrough',\n",
      "                                   transformers=[('cat',\n",
      "                                                  OneHotEncoder(drop='first',\n",
      "                                                                handle_unknown='ignore'),\n",
      "                                                  ['VehicleType', 'Gearbox',\n",
      "                                                   'Model', 'FuelType',\n",
      "                                                   'Repaired'])])),\n",
      "                ('scaler', StandardScaler(with_mean=False)),\n",
      "                ('regressor', LinearRegression())])\n"
     ]
    }
   ],
   "source": [
    "model_lr = LinearRegression()\n",
    "\n",
    "preprocessor = ColumnTransformer(\n",
    "    transformers=[\n",
    "        ('cat', OneHotEncoder(handle_unknown='ignore', drop='first'), categorical_cols)\n",
    "    ],\n",
    "    remainder='passthrough' \n",
    ")\n",
    "pipeline_lr = Pipeline([\n",
    "    ('preprocessor', preprocessor), \n",
    "    ('scaler', StandardScaler(with_mean=False)),\n",
    "    ('regressor', model_lr) \n",
    "])\n",
    "\n",
    "\n",
    "param_grid_lr = {\n",
    "     'scaler': [StandardScaler(with_mean=False), RobustScaler(with_centering=False), None]\n",
    "}\n",
    "\n",
    "\n",
    "grid_search_lr = GridSearchCV(pipeline_lr, param_grid_lr, cv=5, scoring='neg_root_mean_squared_error')\n",
    "\n",
    "start_training_time = time.time()\n",
    "grid_search_lr.fit(features_train, target_train)\n",
    "end_training_time = time.time()\n",
    "\n",
    "best_pipeline_lr = grid_search_lr.best_estimator_\n",
    "\n",
    "start_prediction_time_train = time.time()\n",
    "target_predict_train = best_pipeline_lr.predict(features_train)\n",
    "end_prediction_time_train = time.time()\n",
    "\n",
    "prediction_time_train_lr = end_prediction_time_train - start_prediction_time_train\n",
    "rmse_score_lr = grid_search_lr.best_score_ * -1\n",
    "training_time_lr = end_training_time - start_training_time\n",
    "\n",
    "\n",
    "print(\"Время обучения LinearRegression:\", training_time_lr)\n",
    "print(\"Время предсказания на тренировочной выборке:\", prediction_time_train_lr)\n",
    "print(\"RMSE LinearRegression:\", rmse_score_lr)\n",
    "print(\"Лучшая модель:\")\n",
    "print(best_pipeline_lr)"
   ]
  },
  {
   "cell_type": "markdown",
   "metadata": {},
   "source": [
    "**DecisionTreeRegressor**"
   ]
  },
  {
   "cell_type": "code",
   "execution_count": 29,
   "metadata": {},
   "outputs": [
    {
     "name": "stdout",
     "output_type": "stream",
     "text": [
      "Время обучения DecisionTreeRegressor: 112.20657873153687\n",
      "Время предсказания на тренировочной выборке: 0.34612131118774414\n",
      "RMSE DecisionTreeRegressor: 1940.9299146936187\n",
      "Лучшая модель DecisionTreeRegressor:\n",
      "Pipeline(steps=[('preprocessor',\n",
      "                 ColumnTransformer(remainder='passthrough',\n",
      "                                   transformers=[('cat',\n",
      "                                                  OneHotEncoder(drop='first',\n",
      "                                                                handle_unknown='ignore'),\n",
      "                                                  ['VehicleType', 'Gearbox',\n",
      "                                                   'Model', 'FuelType',\n",
      "                                                   'Repaired'])])),\n",
      "                ('scaler', StandardScaler(with_mean=False)),\n",
      "                ('regressor',\n",
      "                 DecisionTreeRegressor(max_depth=15, random_state=17))])\n"
     ]
    }
   ],
   "source": [
    "model_dt = DecisionTreeRegressor(random_state=RANDOM_STATE)\n",
    "\n",
    "preprocessor = ColumnTransformer(\n",
    "    transformers=[\n",
    "        ('cat', OneHotEncoder(handle_unknown='ignore', drop='first'), categorical_cols)\n",
    "    ],\n",
    "    remainder='passthrough' \n",
    ")\n",
    "\n",
    "\n",
    "pipeline_dt = Pipeline([\n",
    "    ('preprocessor', preprocessor), \n",
    "    ('scaler', StandardScaler(with_mean=False)),\n",
    "    ('regressor', model_dt) \n",
    "])\n",
    "\n",
    "param_grid_dt = {\n",
    "    'scaler': [StandardScaler(with_mean=False), RobustScaler(with_centering=False), None],\n",
    "    'regressor__max_depth': [5, 10, 15]\n",
    "}\n",
    "\n",
    "grid_search_dt = GridSearchCV(pipeline_dt, param_grid_dt, cv=5, scoring='neg_root_mean_squared_error')\n",
    "\n",
    "start_time_dt = time.time()\n",
    "grid_search_dt.fit(features_train, target_train)\n",
    "end_time_dt = time.time()\n",
    "\n",
    "best_pipeline_dt = grid_search_dt.best_estimator_\n",
    "\n",
    "start_prediction_time_train = time.time()\n",
    "target_predict_train = best_pipeline_dt.predict(features_train)\n",
    "end_prediction_time_train = time.time()\n",
    "\n",
    "prediction_time_train_dt = end_prediction_time_train - start_prediction_time_train\n",
    "rmse_score_dt = grid_search_dt.best_score_ * -1\n",
    "training_time_dt = end_time_dt - start_time_dt\n",
    "\n",
    "print(\"Время обучения DecisionTreeRegressor:\", training_time_dt)\n",
    "print(\"Время предсказания на тренировочной выборке:\", prediction_time_train_dt)\n",
    "print(\"RMSE DecisionTreeRegressor:\", rmse_score_dt)\n",
    "print(\"Лучшая модель DecisionTreeRegressor:\")\n",
    "print(best_pipeline_dt)"
   ]
  },
  {
   "cell_type": "markdown",
   "metadata": {},
   "source": [
    "**LGBMRegressor**"
   ]
  },
  {
   "cell_type": "code",
   "execution_count": 30,
   "metadata": {},
   "outputs": [
    {
     "name": "stdout",
     "output_type": "stream",
     "text": [
      "Время обучения LGBMRegressor: 596.8780810832977\n",
      "Время предсказания на тренировочной выборке: 2.911189317703247\n",
      "RMSE LGBMRegressor: 1644.9576656282275\n",
      "Лучшая модель LGBMRegressor:\n",
      "Pipeline(steps=[('preprocessor',\n",
      "                 ColumnTransformer(remainder='passthrough',\n",
      "                                   transformers=[('cat',\n",
      "                                                  OneHotEncoder(handle_unknown='ignore'),\n",
      "                                                  ['VehicleType', 'Gearbox',\n",
      "                                                   'Model', 'FuelType',\n",
      "                                                   'Repaired'])])),\n",
      "                ('scaler', StandardScaler(with_mean=False)),\n",
      "                ('regressor', LGBMRegressor(num_leaves=100, random_state=17))])\n"
     ]
    }
   ],
   "source": [
    "model_lgbm = LGBMRegressor(random_state=RANDOM_STATE)\n",
    "\n",
    "preprocessor = ColumnTransformer(\n",
    "    transformers=[\n",
    "        ('cat', OneHotEncoder(handle_unknown='ignore'), categorical_cols)\n",
    "    ],\n",
    "    remainder='passthrough'\n",
    ")\n",
    "\n",
    "pipeline_lgbm = Pipeline([\n",
    "    ('preprocessor', preprocessor),\n",
    "    ('scaler', StandardScaler(with_mean=False)),\n",
    "    ('regressor', model_lgbm)\n",
    "])\n",
    "\n",
    "param_grid_lgbm = {\n",
    "    'scaler': [StandardScaler(with_mean=False), None],\n",
    "    'regressor__num_leaves': [50, 100] \n",
    "}\n",
    "\n",
    "grid_search_lgbm = GridSearchCV(pipeline_lgbm, param_grid_lgbm, cv=5, scoring='neg_root_mean_squared_error')\n",
    "\n",
    "start_time_lgbm = time.time()\n",
    "grid_search_lgbm.fit(features_train, target_train)\n",
    "end_time_lgbm = time.time()\n",
    "\n",
    "best_pipeline_lgbm = grid_search_lgbm.best_estimator_\n",
    "\n",
    "start_prediction_time_train_lgbm = time.time()\n",
    "target_predict_train_lgbm = best_pipeline_lgbm.predict(features_train)\n",
    "end_prediction_time_train_lgbm = time.time()\n",
    "\n",
    "prediction_time_train_lgbm = end_prediction_time_train_lgbm - start_prediction_time_train_lgbm\n",
    "rmse_score_lgbm = grid_search_lgbm.best_score_ * -1\n",
    "training_time_lgbm = end_time_lgbm - start_time_lgbm\n",
    "\n",
    "print(\"Время обучения LGBMRegressor:\", training_time_lgbm)\n",
    "print(\"Время предсказания на тренировочной выборке:\", prediction_time_train_lgbm)\n",
    "print(\"RMSE LGBMRegressor:\", rmse_score_lgbm)\n",
    "print(\"Лучшая модель LGBMRegressor:\")\n",
    "print(best_pipeline_lgbm)\n"
   ]
  },
  {
   "cell_type": "markdown",
   "metadata": {},
   "source": [
    "## Анализ моделей"
   ]
  },
  {
   "cell_type": "markdown",
   "metadata": {},
   "source": [
    "### Сравнение моделей"
   ]
  },
  {
   "cell_type": "code",
   "execution_count": 31,
   "metadata": {},
   "outputs": [
    {
     "data": {
      "text/html": [
       "<div>\n",
       "<style scoped>\n",
       "    .dataframe tbody tr th:only-of-type {\n",
       "        vertical-align: middle;\n",
       "    }\n",
       "\n",
       "    .dataframe tbody tr th {\n",
       "        vertical-align: top;\n",
       "    }\n",
       "\n",
       "    .dataframe thead th {\n",
       "        text-align: right;\n",
       "    }\n",
       "</style>\n",
       "<table border=\"1\" class=\"dataframe\">\n",
       "  <thead>\n",
       "    <tr style=\"text-align: right;\">\n",
       "      <th></th>\n",
       "      <th>RMSE</th>\n",
       "      <th>Время обучения модели</th>\n",
       "      <th>Время предсказания модели на тренировочных данных</th>\n",
       "    </tr>\n",
       "  </thead>\n",
       "  <tbody>\n",
       "    <tr>\n",
       "      <th>LinearRegression</th>\n",
       "      <td>2650.714833</td>\n",
       "      <td>110.381449</td>\n",
       "      <td>0.438035</td>\n",
       "    </tr>\n",
       "    <tr>\n",
       "      <th>DecisionTreeRegressor</th>\n",
       "      <td>1940.929915</td>\n",
       "      <td>112.206579</td>\n",
       "      <td>0.346121</td>\n",
       "    </tr>\n",
       "    <tr>\n",
       "      <th>LGBMRegressor</th>\n",
       "      <td>1644.957666</td>\n",
       "      <td>596.878081</td>\n",
       "      <td>2.911189</td>\n",
       "    </tr>\n",
       "  </tbody>\n",
       "</table>\n",
       "</div>"
      ],
      "text/plain": [
       "                              RMSE  Время обучения модели  \\\n",
       "LinearRegression       2650.714833             110.381449   \n",
       "DecisionTreeRegressor  1940.929915             112.206579   \n",
       "LGBMRegressor          1644.957666             596.878081   \n",
       "\n",
       "                       Время предсказания модели на тренировочных данных  \n",
       "LinearRegression                                                0.438035  \n",
       "DecisionTreeRegressor                                           0.346121  \n",
       "LGBMRegressor                                                   2.911189  "
      ]
     },
     "execution_count": 31,
     "metadata": {},
     "output_type": "execute_result"
    }
   ],
   "source": [
    "index = ['LinearRegression',\n",
    "         'DecisionTreeRegressor',\n",
    "         'LGBMRegressor']\n",
    "\n",
    "data = {'RMSE':[rmse_score_lr,\n",
    "                rmse_score_dt,\n",
    "                rmse_score_lgbm],\n",
    "        \n",
    "        'Время обучения модели':[training_time_lr,\n",
    "                                 training_time_dt,\n",
    "                                 training_time_lgbm],\n",
    "        \n",
    "        'Время предсказания модели на тренировочных данных':[prediction_time_train_lr,\n",
    "                                     prediction_time_train_dt,\n",
    "                                     prediction_time_train_lgbm]\n",
    "       }\n",
    "model_rating = pd.DataFrame(data=data, index=index)\n",
    "model_rating"
   ]
  },
  {
   "cell_type": "markdown",
   "metadata": {},
   "source": [
    "Наилучшей моделью, оцениваемой по метрике RMSE, оказалась LGBMRegressor, демонстрирующая значение RMSE на уровне 1644 и время предсказания 2.9 секунды. Тем не менее, лучшей в плане времени предсказания оказалась модель DecisionTreeRegressor, выполняющая предсказания за 0.3 секунды, с RMSE равным 1940. Модель линейной регрессии продемонстрировала менее удовлетворительные результаты.\n",
    "\n",
    "Поскольку заказчик оценивает качество предсказаний, время обучения и время предсказания моделей, незначительное различие во времени предсказания и обучения не превышает значимость разницы в RMSE. Следовательно, рекомендуется придерживаться модели LGBMRegressor, несмотря на более длительное время обучения."
   ]
  },
  {
   "cell_type": "markdown",
   "metadata": {},
   "source": [
    "### Проверка лучшей модели на тестовых данных"
   ]
  },
  {
   "cell_type": "code",
   "execution_count": 32,
   "metadata": {},
   "outputs": [
    {
     "name": "stdout",
     "output_type": "stream",
     "text": [
      "Время предсказания на тестовой выборке: 0.9655513763427734\n",
      "RMSE на тестовой выборке для LGBMRegressor: 1631.7537063327245\n"
     ]
    }
   ],
   "source": [
    "start_prediction_time_test_lgbm = time.time()\n",
    "target_predict_test_lgbm = best_pipeline_lgbm.predict(features_test)\n",
    "end_prediction_time_test_lgbm = time.time()\n",
    "\n",
    "prediction_time_test_lgbm = end_prediction_time_test_lgbm - start_prediction_time_test_lgbm\n",
    "rmse_test_lgbm = mean_squared_error(target_test, target_predict_test_lgbm, squared=False)\n",
    "\n",
    "print(\"Время предсказания на тестовой выборке:\", prediction_time_test_lgbm)\n",
    "print(\"RMSE на тестовой выборке для LGBMRegressor:\", rmse_test_lgbm)"
   ]
  },
  {
   "cell_type": "markdown",
   "metadata": {},
   "source": [
    "### Сравнение лучшей модели с DummyRegressor"
   ]
  },
  {
   "cell_type": "code",
   "execution_count": 33,
   "metadata": {},
   "outputs": [
    {
     "name": "stdout",
     "output_type": "stream",
     "text": [
      "RMSE на тренировочной выборке для DummyRegressor : 4657.208839173066\n",
      "RMSE на тестовой выборке для DummyRegressor : 4659.827007115462\n"
     ]
    }
   ],
   "source": [
    "model_dummy = DummyRegressor(strategy=\"mean\")\n",
    "\n",
    "model_dummy.fit(features_train, target_train)\n",
    "\n",
    "target_predict_train_dummy = model_dummy.predict(features_train)\n",
    "rmse_train_dummy = mean_squared_error(target_train, target_predict_train_dummy, squared=False)\n",
    "print(\"RMSE на тренировочной выборке для DummyRegressor :\", rmse_train_dummy)\n",
    "\n",
    "target_predict_test_dummy = model_dummy.predict(features_test)\n",
    "rmse_test_dummy = mean_squared_error(target_test, target_predict_test_dummy, squared=False)\n",
    "print(\"RMSE на тестовой выборке для DummyRegressor :\", rmse_test_dummy)"
   ]
  },
  {
   "cell_type": "markdown",
   "metadata": {},
   "source": [
    "Сравнивая прогнозы, полученные нашей моделью, с прогнозами DummyRegressor, можно отметить значительную разницу в показателе RMSE, что свидетельствует о высоком качестве работы нашей модели."
   ]
  },
  {
   "cell_type": "markdown",
   "metadata": {},
   "source": [
    "## Общий вывод"
   ]
  },
  {
   "cell_type": "markdown",
   "metadata": {},
   "source": [
    "Проведен предварительный анализ данных, в ходе которого были удалены дубликаты, аномальные значения и пропущенные данные. Далее были обучены три модели: линейная регрессия, дерево решений и градиентный бустинг LGBM. Оценка моделей производилась по времени обучения, времени предсказания и метрике RMSE.\n",
    "\n",
    "Из результатов оценки выявлено, что наилучшие показатели продемонстрировала модель LGBM, хранящаяся в переменной `best_pipeline_lgbm`."
   ]
  }
 ],
 "metadata": {
  "ExecuteTimeLog": [
   {
    "duration": 6570,
    "start_time": "2024-02-08T13:37:41.371Z"
   },
   {
    "duration": 452,
    "start_time": "2024-02-08T13:38:04.365Z"
   },
   {
    "duration": 2890,
    "start_time": "2024-02-08T13:38:40.843Z"
   },
   {
    "duration": 19,
    "start_time": "2024-02-08T13:39:34.703Z"
   },
   {
    "duration": 166,
    "start_time": "2024-02-08T13:39:50.876Z"
   },
   {
    "duration": 1090,
    "start_time": "2024-02-08T13:43:57.282Z"
   },
   {
    "duration": 112,
    "start_time": "2024-02-08T13:43:58.422Z"
   },
   {
    "duration": 132,
    "start_time": "2024-02-08T13:45:36.539Z"
   },
   {
    "duration": 120,
    "start_time": "2024-02-08T13:45:46.473Z"
   },
   {
    "duration": 311,
    "start_time": "2024-02-08T13:52:31.654Z"
   },
   {
    "duration": 323,
    "start_time": "2024-02-08T13:53:41.550Z"
   },
   {
    "duration": 321,
    "start_time": "2024-02-08T13:53:43.372Z"
   },
   {
    "duration": 28,
    "start_time": "2024-02-08T13:57:16.613Z"
   },
   {
    "duration": 33,
    "start_time": "2024-02-08T13:57:26.081Z"
   },
   {
    "duration": 24,
    "start_time": "2024-02-08T13:57:35.265Z"
   },
   {
    "duration": 20,
    "start_time": "2024-02-08T13:57:57.530Z"
   },
   {
    "duration": 24,
    "start_time": "2024-02-08T13:58:10.780Z"
   },
   {
    "duration": 6,
    "start_time": "2024-02-08T14:05:26.942Z"
   },
   {
    "duration": 899,
    "start_time": "2024-02-08T14:06:16.249Z"
   },
   {
    "duration": 368,
    "start_time": "2024-02-08T14:08:46.692Z"
   },
   {
    "duration": 5,
    "start_time": "2024-02-08T14:09:08.997Z"
   },
   {
    "duration": 323,
    "start_time": "2024-02-08T14:09:12.004Z"
   },
   {
    "duration": 349,
    "start_time": "2024-02-08T14:10:01.441Z"
   },
   {
    "duration": 288,
    "start_time": "2024-02-08T14:13:17.317Z"
   },
   {
    "duration": 286,
    "start_time": "2024-02-08T14:13:23.531Z"
   },
   {
    "duration": 605,
    "start_time": "2024-02-08T14:15:05.223Z"
   },
   {
    "duration": 6595,
    "start_time": "2024-02-08T14:23:04.807Z"
   },
   {
    "duration": 6,
    "start_time": "2024-02-08T14:25:15.274Z"
   },
   {
    "duration": 2091,
    "start_time": "2024-02-08T14:25:18.573Z"
   },
   {
    "duration": 2077,
    "start_time": "2024-02-08T14:27:13.991Z"
   },
   {
    "duration": 1917,
    "start_time": "2024-02-08T14:27:47.624Z"
   },
   {
    "duration": 6,
    "start_time": "2024-02-08T14:30:28.755Z"
   },
   {
    "duration": 1988,
    "start_time": "2024-02-08T14:31:23.701Z"
   },
   {
    "duration": 5,
    "start_time": "2024-02-08T14:39:26.307Z"
   },
   {
    "duration": 6682,
    "start_time": "2024-02-08T14:39:29.606Z"
   },
   {
    "duration": 5,
    "start_time": "2024-02-08T14:40:39.320Z"
   },
   {
    "duration": 6,
    "start_time": "2024-02-08T14:40:49.956Z"
   },
   {
    "duration": 1901,
    "start_time": "2024-02-08T14:40:55.398Z"
   },
   {
    "duration": 6,
    "start_time": "2024-02-08T14:42:01.494Z"
   },
   {
    "duration": 6517,
    "start_time": "2024-02-08T14:42:04.461Z"
   },
   {
    "duration": 5,
    "start_time": "2024-02-08T14:43:04.115Z"
   },
   {
    "duration": 1911,
    "start_time": "2024-02-08T14:43:12.957Z"
   },
   {
    "duration": 8,
    "start_time": "2024-02-08T15:02:02.064Z"
   },
   {
    "duration": 566,
    "start_time": "2024-02-08T15:04:32.803Z"
   },
   {
    "duration": 2762,
    "start_time": "2024-02-09T05:49:21.112Z"
   },
   {
    "duration": 1089,
    "start_time": "2024-02-09T05:49:23.877Z"
   },
   {
    "duration": 8,
    "start_time": "2024-02-09T05:49:24.968Z"
   },
   {
    "duration": 1055,
    "start_time": "2024-02-09T05:49:24.977Z"
   },
   {
    "duration": 125,
    "start_time": "2024-02-09T05:49:26.034Z"
   },
   {
    "duration": 298,
    "start_time": "2024-02-09T05:49:26.161Z"
   },
   {
    "duration": 331,
    "start_time": "2024-02-09T05:49:26.460Z"
   },
   {
    "duration": 1963,
    "start_time": "2024-02-09T05:49:26.793Z"
   },
   {
    "duration": 471,
    "start_time": "2024-02-09T05:49:28.758Z"
   },
   {
    "duration": 31,
    "start_time": "2024-02-09T05:51:26.998Z"
   },
   {
    "duration": 29,
    "start_time": "2024-02-09T05:51:42.579Z"
   },
   {
    "duration": 27,
    "start_time": "2024-02-09T05:51:48.823Z"
   },
   {
    "duration": 27,
    "start_time": "2024-02-09T05:58:43.697Z"
   },
   {
    "duration": 23,
    "start_time": "2024-02-09T06:00:25.285Z"
   },
   {
    "duration": 2,
    "start_time": "2024-02-09T06:01:30.340Z"
   },
   {
    "duration": 21,
    "start_time": "2024-02-09T06:01:59.045Z"
   },
   {
    "duration": 91,
    "start_time": "2024-02-09T06:03:12.658Z"
   },
   {
    "duration": 18,
    "start_time": "2024-02-09T06:03:18.415Z"
   },
   {
    "duration": 19,
    "start_time": "2024-02-09T06:03:21.062Z"
   },
   {
    "duration": 20,
    "start_time": "2024-02-09T06:10:36.771Z"
   },
   {
    "duration": 22,
    "start_time": "2024-02-09T06:13:37.268Z"
   },
   {
    "duration": 27,
    "start_time": "2024-02-09T06:14:29.968Z"
   },
   {
    "duration": 26,
    "start_time": "2024-02-09T06:15:15.353Z"
   },
   {
    "duration": 26,
    "start_time": "2024-02-09T06:15:30.713Z"
   },
   {
    "duration": 25,
    "start_time": "2024-02-09T06:16:26.270Z"
   },
   {
    "duration": 32,
    "start_time": "2024-02-09T06:16:58.724Z"
   },
   {
    "duration": 23,
    "start_time": "2024-02-09T06:17:45.641Z"
   },
   {
    "duration": 35,
    "start_time": "2024-02-09T06:17:57.180Z"
   },
   {
    "duration": 78,
    "start_time": "2024-02-09T06:20:02.594Z"
   },
   {
    "duration": 35,
    "start_time": "2024-02-09T06:20:12.310Z"
   },
   {
    "duration": 35,
    "start_time": "2024-02-09T06:20:16.730Z"
   },
   {
    "duration": 57,
    "start_time": "2024-02-09T06:20:28.009Z"
   },
   {
    "duration": 38,
    "start_time": "2024-02-09T06:20:41.396Z"
   },
   {
    "duration": 33,
    "start_time": "2024-02-09T06:21:15.431Z"
   },
   {
    "duration": 49,
    "start_time": "2024-02-09T06:21:37.002Z"
   },
   {
    "duration": 47,
    "start_time": "2024-02-09T06:21:50.699Z"
   },
   {
    "duration": 37,
    "start_time": "2024-02-09T06:23:50.258Z"
   },
   {
    "duration": 20,
    "start_time": "2024-02-09T06:25:45.630Z"
   },
   {
    "duration": 37,
    "start_time": "2024-02-09T06:25:54.427Z"
   },
   {
    "duration": 34,
    "start_time": "2024-02-09T06:26:01.723Z"
   },
   {
    "duration": 64,
    "start_time": "2024-02-09T06:29:08.629Z"
   },
   {
    "duration": 2103,
    "start_time": "2024-02-09T06:29:59.004Z"
   },
   {
    "duration": 34,
    "start_time": "2024-02-09T06:55:14.418Z"
   },
   {
    "duration": 32,
    "start_time": "2024-02-09T06:55:55.495Z"
   },
   {
    "duration": 34,
    "start_time": "2024-02-09T08:15:16.497Z"
   },
   {
    "duration": 30,
    "start_time": "2024-02-09T08:15:26.314Z"
   },
   {
    "duration": 28,
    "start_time": "2024-02-09T08:15:33.586Z"
   },
   {
    "duration": 52,
    "start_time": "2024-02-09T08:18:40.461Z"
   },
   {
    "duration": 477,
    "start_time": "2024-02-09T08:18:43.485Z"
   },
   {
    "duration": 419,
    "start_time": "2024-02-09T08:19:52.206Z"
   },
   {
    "duration": 1270,
    "start_time": "2024-02-09T08:22:34.891Z"
   },
   {
    "duration": 482,
    "start_time": "2024-02-09T08:22:46.889Z"
   },
   {
    "duration": 11,
    "start_time": "2024-02-09T08:25:26.184Z"
   },
   {
    "duration": 106,
    "start_time": "2024-02-09T08:25:52.579Z"
   },
   {
    "duration": 378,
    "start_time": "2024-02-09T08:25:55.156Z"
   },
   {
    "duration": 346,
    "start_time": "2024-02-09T08:26:19.326Z"
   },
   {
    "duration": 5,
    "start_time": "2024-02-09T08:26:24.800Z"
   },
   {
    "duration": 354,
    "start_time": "2024-02-09T08:26:27.330Z"
   },
   {
    "duration": 5,
    "start_time": "2024-02-09T08:27:23.786Z"
   },
   {
    "duration": 411,
    "start_time": "2024-02-09T08:27:26.171Z"
   },
   {
    "duration": 2689,
    "start_time": "2024-02-09T08:27:34.508Z"
   },
   {
    "duration": 1077,
    "start_time": "2024-02-09T08:27:37.200Z"
   },
   {
    "duration": 8,
    "start_time": "2024-02-09T08:27:38.278Z"
   },
   {
    "duration": 1004,
    "start_time": "2024-02-09T08:27:38.287Z"
   },
   {
    "duration": 116,
    "start_time": "2024-02-09T08:27:39.293Z"
   },
   {
    "duration": 289,
    "start_time": "2024-02-09T08:27:39.410Z"
   },
   {
    "duration": 327,
    "start_time": "2024-02-09T08:27:39.701Z"
   },
   {
    "duration": 36,
    "start_time": "2024-02-09T08:27:40.030Z"
   },
   {
    "duration": 26,
    "start_time": "2024-02-09T08:27:40.067Z"
   },
   {
    "duration": 37,
    "start_time": "2024-02-09T08:27:40.094Z"
   },
   {
    "duration": 50,
    "start_time": "2024-02-09T08:27:40.133Z"
   },
   {
    "duration": 41,
    "start_time": "2024-02-09T08:27:40.184Z"
   },
   {
    "duration": 2182,
    "start_time": "2024-02-09T08:27:40.227Z"
   },
   {
    "duration": 510,
    "start_time": "2024-02-09T08:27:42.412Z"
   },
   {
    "duration": 68,
    "start_time": "2024-02-09T08:27:42.924Z"
   },
   {
    "duration": 480,
    "start_time": "2024-02-09T08:27:42.994Z"
   },
   {
    "duration": 54,
    "start_time": "2024-02-09T08:27:43.475Z"
   },
   {
    "duration": 417,
    "start_time": "2024-02-09T08:28:53.185Z"
   },
   {
    "duration": 2765,
    "start_time": "2024-02-09T08:29:38.556Z"
   },
   {
    "duration": 1064,
    "start_time": "2024-02-09T08:29:41.323Z"
   },
   {
    "duration": 7,
    "start_time": "2024-02-09T08:29:42.389Z"
   },
   {
    "duration": 994,
    "start_time": "2024-02-09T08:29:42.397Z"
   },
   {
    "duration": 137,
    "start_time": "2024-02-09T08:29:43.393Z"
   },
   {
    "duration": 313,
    "start_time": "2024-02-09T08:29:43.532Z"
   },
   {
    "duration": 345,
    "start_time": "2024-02-09T08:29:43.847Z"
   },
   {
    "duration": 37,
    "start_time": "2024-02-09T08:29:44.194Z"
   },
   {
    "duration": 28,
    "start_time": "2024-02-09T08:29:44.233Z"
   },
   {
    "duration": 34,
    "start_time": "2024-02-09T08:29:44.263Z"
   },
   {
    "duration": 34,
    "start_time": "2024-02-09T08:29:44.299Z"
   },
   {
    "duration": 57,
    "start_time": "2024-02-09T08:29:44.334Z"
   },
   {
    "duration": 2014,
    "start_time": "2024-02-09T08:29:44.393Z"
   },
   {
    "duration": 478,
    "start_time": "2024-02-09T08:29:46.409Z"
   },
   {
    "duration": 49,
    "start_time": "2024-02-09T08:29:46.889Z"
   },
   {
    "duration": 511,
    "start_time": "2024-02-09T08:29:46.940Z"
   },
   {
    "duration": 54,
    "start_time": "2024-02-09T08:29:47.453Z"
   },
   {
    "duration": 434,
    "start_time": "2024-02-09T08:29:47.509Z"
   },
   {
    "duration": 451,
    "start_time": "2024-02-09T08:30:44.330Z"
   },
   {
    "duration": 421,
    "start_time": "2024-02-09T08:33:42.304Z"
   },
   {
    "duration": 459,
    "start_time": "2024-02-09T08:34:56.941Z"
   },
   {
    "duration": 470,
    "start_time": "2024-02-09T08:35:20.943Z"
   },
   {
    "duration": 615,
    "start_time": "2024-02-09T08:38:00.871Z"
   },
   {
    "duration": 460,
    "start_time": "2024-02-09T08:38:12.859Z"
   },
   {
    "duration": 501,
    "start_time": "2024-02-09T08:38:39.495Z"
   },
   {
    "duration": 468,
    "start_time": "2024-02-09T08:39:08.735Z"
   },
   {
    "duration": 488,
    "start_time": "2024-02-09T08:46:56.618Z"
   },
   {
    "duration": 517,
    "start_time": "2024-02-09T08:48:36.644Z"
   },
   {
    "duration": 485,
    "start_time": "2024-02-09T08:50:10.477Z"
   },
   {
    "duration": 412,
    "start_time": "2024-02-09T08:50:44.279Z"
   },
   {
    "duration": 2925,
    "start_time": "2024-02-09T11:43:28.779Z"
   },
   {
    "duration": 1101,
    "start_time": "2024-02-09T11:43:31.707Z"
   },
   {
    "duration": 8,
    "start_time": "2024-02-09T11:43:32.810Z"
   },
   {
    "duration": 1150,
    "start_time": "2024-02-09T11:43:32.819Z"
   },
   {
    "duration": 126,
    "start_time": "2024-02-09T11:43:33.971Z"
   },
   {
    "duration": 301,
    "start_time": "2024-02-09T11:43:34.099Z"
   },
   {
    "duration": 339,
    "start_time": "2024-02-09T11:43:34.402Z"
   },
   {
    "duration": 42,
    "start_time": "2024-02-09T11:43:34.743Z"
   },
   {
    "duration": 22,
    "start_time": "2024-02-09T11:43:34.786Z"
   },
   {
    "duration": 55,
    "start_time": "2024-02-09T11:43:34.809Z"
   },
   {
    "duration": 40,
    "start_time": "2024-02-09T11:43:34.865Z"
   },
   {
    "duration": 40,
    "start_time": "2024-02-09T11:43:34.906Z"
   },
   {
    "duration": 2176,
    "start_time": "2024-02-09T11:43:34.947Z"
   },
   {
    "duration": 547,
    "start_time": "2024-02-09T11:43:37.126Z"
   },
   {
    "duration": 624,
    "start_time": "2024-02-09T11:43:37.675Z"
   },
   {
    "duration": 437,
    "start_time": "2024-02-09T11:43:38.300Z"
   },
   {
    "duration": 494,
    "start_time": "2024-02-09T11:43:38.738Z"
   },
   {
    "duration": 487,
    "start_time": "2024-02-09T11:43:39.233Z"
   },
   {
    "duration": 486,
    "start_time": "2024-02-09T11:43:39.722Z"
   },
   {
    "duration": 484,
    "start_time": "2024-02-09T11:43:40.209Z"
   },
   {
    "duration": 526,
    "start_time": "2024-02-09T11:43:40.695Z"
   },
   {
    "duration": 5872,
    "start_time": "2024-02-09T11:47:41.276Z"
   },
   {
    "duration": 57,
    "start_time": "2024-02-09T11:47:47.150Z"
   },
   {
    "duration": 15,
    "start_time": "2024-02-09T11:50:03.613Z"
   },
   {
    "duration": 17,
    "start_time": "2024-02-09T11:52:35.636Z"
   },
   {
    "duration": 10,
    "start_time": "2024-02-09T11:52:44.981Z"
   },
   {
    "duration": 5912,
    "start_time": "2024-02-09T11:59:48.933Z"
   },
   {
    "duration": 5114,
    "start_time": "2024-02-09T12:12:25.301Z"
   },
   {
    "duration": 1139,
    "start_time": "2024-02-09T12:12:30.417Z"
   },
   {
    "duration": 15,
    "start_time": "2024-02-09T12:12:31.557Z"
   },
   {
    "duration": 1079,
    "start_time": "2024-02-09T12:12:31.574Z"
   },
   {
    "duration": 144,
    "start_time": "2024-02-09T12:12:32.655Z"
   },
   {
    "duration": 321,
    "start_time": "2024-02-09T12:12:32.801Z"
   },
   {
    "duration": 351,
    "start_time": "2024-02-09T12:12:33.123Z"
   },
   {
    "duration": 35,
    "start_time": "2024-02-09T12:12:33.476Z"
   },
   {
    "duration": 33,
    "start_time": "2024-02-09T12:12:33.512Z"
   },
   {
    "duration": 78,
    "start_time": "2024-02-09T12:12:33.547Z"
   },
   {
    "duration": 58,
    "start_time": "2024-02-09T12:12:33.627Z"
   },
   {
    "duration": 58,
    "start_time": "2024-02-09T12:12:33.687Z"
   },
   {
    "duration": 2094,
    "start_time": "2024-02-09T12:12:33.747Z"
   },
   {
    "duration": 486,
    "start_time": "2024-02-09T12:12:35.843Z"
   },
   {
    "duration": 608,
    "start_time": "2024-02-09T12:12:36.330Z"
   },
   {
    "duration": 464,
    "start_time": "2024-02-09T12:12:36.939Z"
   },
   {
    "duration": 519,
    "start_time": "2024-02-09T12:12:37.405Z"
   },
   {
    "duration": 487,
    "start_time": "2024-02-09T12:12:37.926Z"
   },
   {
    "duration": 479,
    "start_time": "2024-02-09T12:12:38.415Z"
   },
   {
    "duration": 571,
    "start_time": "2024-02-09T12:12:38.896Z"
   },
   {
    "duration": 437,
    "start_time": "2024-02-09T12:12:39.469Z"
   },
   {
    "duration": 2,
    "start_time": "2024-02-09T12:12:39.908Z"
   },
   {
    "duration": 16,
    "start_time": "2024-02-09T12:12:39.911Z"
   },
   {
    "duration": 5141,
    "start_time": "2024-02-09T12:14:53.795Z"
   },
   {
    "duration": 1213,
    "start_time": "2024-02-09T12:14:58.939Z"
   },
   {
    "duration": 16,
    "start_time": "2024-02-09T12:15:00.154Z"
   },
   {
    "duration": 1165,
    "start_time": "2024-02-09T12:15:00.172Z"
   },
   {
    "duration": 136,
    "start_time": "2024-02-09T12:15:01.339Z"
   },
   {
    "duration": 345,
    "start_time": "2024-02-09T12:15:01.477Z"
   },
   {
    "duration": 376,
    "start_time": "2024-02-09T12:15:01.824Z"
   },
   {
    "duration": 38,
    "start_time": "2024-02-09T12:15:02.201Z"
   },
   {
    "duration": 53,
    "start_time": "2024-02-09T12:15:02.240Z"
   },
   {
    "duration": 53,
    "start_time": "2024-02-09T12:15:02.294Z"
   },
   {
    "duration": 61,
    "start_time": "2024-02-09T12:15:02.349Z"
   },
   {
    "duration": 60,
    "start_time": "2024-02-09T12:15:02.411Z"
   },
   {
    "duration": 2155,
    "start_time": "2024-02-09T12:15:02.473Z"
   },
   {
    "duration": 521,
    "start_time": "2024-02-09T12:15:04.630Z"
   },
   {
    "duration": 623,
    "start_time": "2024-02-09T12:15:05.152Z"
   },
   {
    "duration": 428,
    "start_time": "2024-02-09T12:15:05.777Z"
   },
   {
    "duration": 516,
    "start_time": "2024-02-09T12:15:06.206Z"
   },
   {
    "duration": 483,
    "start_time": "2024-02-09T12:15:06.723Z"
   },
   {
    "duration": 533,
    "start_time": "2024-02-09T12:15:07.207Z"
   },
   {
    "duration": 629,
    "start_time": "2024-02-09T12:15:07.742Z"
   },
   {
    "duration": 423,
    "start_time": "2024-02-09T12:15:08.373Z"
   },
   {
    "duration": 23,
    "start_time": "2024-02-09T12:15:08.798Z"
   },
   {
    "duration": 12,
    "start_time": "2024-02-09T12:15:08.823Z"
   },
   {
    "duration": 5744,
    "start_time": "2024-02-09T12:15:08.836Z"
   },
   {
    "duration": 13,
    "start_time": "2024-02-09T12:24:03.198Z"
   },
   {
    "duration": 17,
    "start_time": "2024-02-09T12:24:07.794Z"
   },
   {
    "duration": 110,
    "start_time": "2024-02-09T12:46:44.821Z"
   },
   {
    "duration": 223,
    "start_time": "2024-02-09T12:47:13.645Z"
   },
   {
    "duration": 101,
    "start_time": "2024-02-09T12:47:19.250Z"
   },
   {
    "duration": 3,
    "start_time": "2024-02-09T12:51:47.444Z"
   },
   {
    "duration": 61,
    "start_time": "2024-02-09T12:53:21.715Z"
   },
   {
    "duration": 113,
    "start_time": "2024-02-09T12:53:27.245Z"
   },
   {
    "duration": 53,
    "start_time": "2024-02-09T12:53:32.432Z"
   },
   {
    "duration": 15,
    "start_time": "2024-02-09T12:53:38.177Z"
   },
   {
    "duration": 4,
    "start_time": "2024-02-09T12:53:45.824Z"
   },
   {
    "duration": 10,
    "start_time": "2024-02-09T12:54:45.958Z"
   },
   {
    "duration": 82,
    "start_time": "2024-02-09T12:59:05.741Z"
   },
   {
    "duration": 4,
    "start_time": "2024-02-09T12:59:48.908Z"
   },
   {
    "duration": 7749,
    "start_time": "2024-02-09T13:01:33.921Z"
   },
   {
    "duration": 31,
    "start_time": "2024-02-09T13:01:43.965Z"
   },
   {
    "duration": 4,
    "start_time": "2024-02-09T13:03:41.184Z"
   },
   {
    "duration": 24,
    "start_time": "2024-02-09T13:06:08.785Z"
   },
   {
    "duration": 4,
    "start_time": "2024-02-09T13:06:38.932Z"
   },
   {
    "duration": 12,
    "start_time": "2024-02-09T13:06:43.346Z"
   },
   {
    "duration": 6,
    "start_time": "2024-02-09T13:07:30.301Z"
   },
   {
    "duration": 4,
    "start_time": "2024-02-09T13:08:22.414Z"
   },
   {
    "duration": 34800,
    "start_time": "2024-02-09T13:09:28.756Z"
   },
   {
    "duration": 20,
    "start_time": "2024-02-09T13:10:59.996Z"
   },
   {
    "duration": 13,
    "start_time": "2024-02-09T13:12:07.926Z"
   },
   {
    "duration": 12,
    "start_time": "2024-02-09T13:12:52.686Z"
   },
   {
    "duration": 4,
    "start_time": "2024-02-09T13:13:53.289Z"
   },
   {
    "duration": 12,
    "start_time": "2024-02-09T13:13:55.880Z"
   },
   {
    "duration": 7789,
    "start_time": "2024-02-09T13:14:02.276Z"
   },
   {
    "duration": 1284,
    "start_time": "2024-02-09T13:14:10.067Z"
   },
   {
    "duration": 3,
    "start_time": "2024-02-09T13:14:11.352Z"
   },
   {
    "duration": 9,
    "start_time": "2024-02-09T13:14:11.359Z"
   },
   {
    "duration": 1037,
    "start_time": "2024-02-09T13:14:11.370Z"
   },
   {
    "duration": 128,
    "start_time": "2024-02-09T13:14:12.409Z"
   },
   {
    "duration": 305,
    "start_time": "2024-02-09T13:14:12.539Z"
   },
   {
    "duration": 327,
    "start_time": "2024-02-09T13:14:12.846Z"
   },
   {
    "duration": 35,
    "start_time": "2024-02-09T13:14:13.175Z"
   },
   {
    "duration": 51,
    "start_time": "2024-02-09T13:14:13.211Z"
   },
   {
    "duration": 64,
    "start_time": "2024-02-09T13:14:13.263Z"
   },
   {
    "duration": 60,
    "start_time": "2024-02-09T13:14:13.329Z"
   },
   {
    "duration": 71,
    "start_time": "2024-02-09T13:14:13.390Z"
   },
   {
    "duration": 2166,
    "start_time": "2024-02-09T13:14:13.465Z"
   },
   {
    "duration": 493,
    "start_time": "2024-02-09T13:14:15.632Z"
   },
   {
    "duration": 506,
    "start_time": "2024-02-09T13:14:16.126Z"
   },
   {
    "duration": 433,
    "start_time": "2024-02-09T13:14:16.634Z"
   },
   {
    "duration": 485,
    "start_time": "2024-02-09T13:14:17.068Z"
   },
   {
    "duration": 457,
    "start_time": "2024-02-09T13:14:17.558Z"
   },
   {
    "duration": 573,
    "start_time": "2024-02-09T13:14:18.016Z"
   },
   {
    "duration": 482,
    "start_time": "2024-02-09T13:14:18.591Z"
   },
   {
    "duration": 421,
    "start_time": "2024-02-09T13:14:19.074Z"
   },
   {
    "duration": 22,
    "start_time": "2024-02-09T13:14:19.497Z"
   },
   {
    "duration": 15,
    "start_time": "2024-02-09T13:14:19.520Z"
   },
   {
    "duration": 5598,
    "start_time": "2024-02-09T13:14:19.537Z"
   },
   {
    "duration": 22,
    "start_time": "2024-02-09T13:14:25.137Z"
   },
   {
    "duration": 233,
    "start_time": "2024-02-09T13:14:25.160Z"
   },
   {
    "duration": 64,
    "start_time": "2024-02-09T13:14:25.395Z"
   },
   {
    "duration": 10,
    "start_time": "2024-02-09T13:14:25.460Z"
   },
   {
    "duration": 122,
    "start_time": "2024-02-09T13:14:25.472Z"
   },
   {
    "duration": 0,
    "start_time": "2024-02-09T13:14:25.596Z"
   },
   {
    "duration": 0,
    "start_time": "2024-02-09T13:14:25.597Z"
   },
   {
    "duration": 6,
    "start_time": "2024-02-09T13:15:07.950Z"
   },
   {
    "duration": 64295,
    "start_time": "2024-02-09T13:15:09.501Z"
   },
   {
    "duration": 18,
    "start_time": "2024-02-09T13:16:47.190Z"
   },
   {
    "duration": 6,
    "start_time": "2024-02-09T13:20:14.079Z"
   },
   {
    "duration": 66894,
    "start_time": "2024-02-09T13:20:15.473Z"
   },
   {
    "duration": 17,
    "start_time": "2024-02-09T13:21:27.552Z"
   },
   {
    "duration": 12,
    "start_time": "2024-02-09T13:21:55.427Z"
   },
   {
    "duration": 66712,
    "start_time": "2024-02-09T13:22:04.974Z"
   },
   {
    "duration": 15,
    "start_time": "2024-02-09T13:23:49.866Z"
   },
   {
    "duration": 16,
    "start_time": "2024-02-09T13:23:54.505Z"
   },
   {
    "duration": 7308,
    "start_time": "2024-02-09T13:24:21.705Z"
   },
   {
    "duration": 1244,
    "start_time": "2024-02-09T13:24:29.016Z"
   },
   {
    "duration": 2,
    "start_time": "2024-02-09T13:24:30.261Z"
   },
   {
    "duration": 53,
    "start_time": "2024-02-09T13:24:30.265Z"
   },
   {
    "duration": 1138,
    "start_time": "2024-02-09T13:24:30.320Z"
   },
   {
    "duration": 135,
    "start_time": "2024-02-09T13:24:31.460Z"
   },
   {
    "duration": 300,
    "start_time": "2024-02-09T13:24:31.596Z"
   },
   {
    "duration": 334,
    "start_time": "2024-02-09T13:24:31.898Z"
   },
   {
    "duration": 40,
    "start_time": "2024-02-09T13:24:32.234Z"
   },
   {
    "duration": 50,
    "start_time": "2024-02-09T13:24:32.275Z"
   },
   {
    "duration": 76,
    "start_time": "2024-02-09T13:24:32.326Z"
   },
   {
    "duration": 81,
    "start_time": "2024-02-09T13:24:32.403Z"
   },
   {
    "duration": 62,
    "start_time": "2024-02-09T13:24:32.486Z"
   },
   {
    "duration": 2052,
    "start_time": "2024-02-09T13:24:32.551Z"
   },
   {
    "duration": 467,
    "start_time": "2024-02-09T13:24:34.605Z"
   },
   {
    "duration": 490,
    "start_time": "2024-02-09T13:24:35.073Z"
   },
   {
    "duration": 441,
    "start_time": "2024-02-09T13:24:35.565Z"
   },
   {
    "duration": 502,
    "start_time": "2024-02-09T13:24:36.008Z"
   },
   {
    "duration": 462,
    "start_time": "2024-02-09T13:24:36.511Z"
   },
   {
    "duration": 556,
    "start_time": "2024-02-09T13:24:36.974Z"
   },
   {
    "duration": 512,
    "start_time": "2024-02-09T13:24:37.531Z"
   },
   {
    "duration": 430,
    "start_time": "2024-02-09T13:24:38.045Z"
   },
   {
    "duration": 22,
    "start_time": "2024-02-09T13:24:38.477Z"
   },
   {
    "duration": 26,
    "start_time": "2024-02-09T13:24:38.500Z"
   },
   {
    "duration": 5448,
    "start_time": "2024-02-09T13:24:38.528Z"
   },
   {
    "duration": 2,
    "start_time": "2024-02-09T13:24:43.977Z"
   },
   {
    "duration": 254,
    "start_time": "2024-02-09T13:24:43.981Z"
   },
   {
    "duration": 65,
    "start_time": "2024-02-09T13:24:44.237Z"
   },
   {
    "duration": 9,
    "start_time": "2024-02-09T13:24:44.304Z"
   },
   {
    "duration": 9,
    "start_time": "2024-02-09T13:24:44.315Z"
   },
   {
    "duration": 136108,
    "start_time": "2024-02-09T13:24:44.325Z"
   },
   {
    "duration": 0,
    "start_time": "2024-02-09T13:27:00.435Z"
   },
   {
    "duration": 6,
    "start_time": "2024-02-09T13:27:41.061Z"
   },
   {
    "duration": 80054,
    "start_time": "2024-02-09T13:27:41.681Z"
   },
   {
    "duration": 15,
    "start_time": "2024-02-09T13:29:08.219Z"
   },
   {
    "duration": 6,
    "start_time": "2024-02-09T13:30:29.106Z"
   },
   {
    "duration": 137582,
    "start_time": "2024-02-09T13:30:29.544Z"
   },
   {
    "duration": 7257,
    "start_time": "2024-02-09T13:33:33.717Z"
   },
   {
    "duration": 1289,
    "start_time": "2024-02-09T13:33:40.976Z"
   },
   {
    "duration": 3,
    "start_time": "2024-02-09T13:33:42.266Z"
   },
   {
    "duration": 8,
    "start_time": "2024-02-09T13:33:42.270Z"
   },
   {
    "duration": 981,
    "start_time": "2024-02-09T13:33:42.280Z"
   },
   {
    "duration": 126,
    "start_time": "2024-02-09T13:33:43.263Z"
   },
   {
    "duration": 300,
    "start_time": "2024-02-09T13:33:43.390Z"
   },
   {
    "duration": 334,
    "start_time": "2024-02-09T13:33:43.692Z"
   },
   {
    "duration": 36,
    "start_time": "2024-02-09T13:33:44.028Z"
   },
   {
    "duration": 22,
    "start_time": "2024-02-09T13:33:44.065Z"
   },
   {
    "duration": 41,
    "start_time": "2024-02-09T13:33:44.088Z"
   },
   {
    "duration": 54,
    "start_time": "2024-02-09T13:33:44.131Z"
   },
   {
    "duration": 38,
    "start_time": "2024-02-09T13:33:44.187Z"
   },
   {
    "duration": 2195,
    "start_time": "2024-02-09T13:33:44.229Z"
   },
   {
    "duration": 497,
    "start_time": "2024-02-09T13:33:46.426Z"
   },
   {
    "duration": 506,
    "start_time": "2024-02-09T13:33:46.925Z"
   },
   {
    "duration": 447,
    "start_time": "2024-02-09T13:33:47.432Z"
   },
   {
    "duration": 517,
    "start_time": "2024-02-09T13:33:47.881Z"
   },
   {
    "duration": 449,
    "start_time": "2024-02-09T13:33:48.400Z"
   },
   {
    "duration": 551,
    "start_time": "2024-02-09T13:33:48.859Z"
   },
   {
    "duration": 486,
    "start_time": "2024-02-09T13:33:49.412Z"
   },
   {
    "duration": 408,
    "start_time": "2024-02-09T13:33:49.900Z"
   },
   {
    "duration": 19,
    "start_time": "2024-02-09T13:33:50.310Z"
   },
   {
    "duration": 11,
    "start_time": "2024-02-09T13:33:50.331Z"
   },
   {
    "duration": 5540,
    "start_time": "2024-02-09T13:33:50.359Z"
   },
   {
    "duration": 13,
    "start_time": "2024-02-09T13:33:55.901Z"
   },
   {
    "duration": 248,
    "start_time": "2024-02-09T13:33:55.915Z"
   },
   {
    "duration": 50,
    "start_time": "2024-02-09T13:33:56.165Z"
   },
   {
    "duration": 10,
    "start_time": "2024-02-09T13:33:56.216Z"
   },
   {
    "duration": 7,
    "start_time": "2024-02-09T13:33:56.228Z"
   },
   {
    "duration": 72472,
    "start_time": "2024-02-09T13:33:56.237Z"
   },
   {
    "duration": 17,
    "start_time": "2024-02-09T13:35:08.711Z"
   },
   {
    "duration": 11519,
    "start_time": "2024-02-10T06:16:27.257Z"
   },
   {
    "duration": 1425,
    "start_time": "2024-02-10T06:16:38.779Z"
   },
   {
    "duration": 3,
    "start_time": "2024-02-10T06:16:40.206Z"
   },
   {
    "duration": 9,
    "start_time": "2024-02-10T06:16:40.210Z"
   },
   {
    "duration": 1247,
    "start_time": "2024-02-10T06:16:40.221Z"
   },
   {
    "duration": 134,
    "start_time": "2024-02-10T06:16:41.470Z"
   },
   {
    "duration": 311,
    "start_time": "2024-02-10T06:16:41.606Z"
   },
   {
    "duration": 356,
    "start_time": "2024-02-10T06:16:41.919Z"
   },
   {
    "duration": 37,
    "start_time": "2024-02-10T06:16:42.277Z"
   },
   {
    "duration": 19,
    "start_time": "2024-02-10T06:16:42.316Z"
   },
   {
    "duration": 51,
    "start_time": "2024-02-10T06:16:42.336Z"
   },
   {
    "duration": 36,
    "start_time": "2024-02-10T06:16:42.389Z"
   },
   {
    "duration": 56,
    "start_time": "2024-02-10T06:16:42.426Z"
   },
   {
    "duration": 2164,
    "start_time": "2024-02-10T06:16:42.485Z"
   },
   {
    "duration": 551,
    "start_time": "2024-02-10T06:16:44.651Z"
   },
   {
    "duration": 565,
    "start_time": "2024-02-10T06:16:45.204Z"
   },
   {
    "duration": 435,
    "start_time": "2024-02-10T06:16:45.770Z"
   },
   {
    "duration": 512,
    "start_time": "2024-02-10T06:16:46.207Z"
   },
   {
    "duration": 462,
    "start_time": "2024-02-10T06:16:46.720Z"
   },
   {
    "duration": 622,
    "start_time": "2024-02-10T06:16:47.184Z"
   },
   {
    "duration": 510,
    "start_time": "2024-02-10T06:16:47.810Z"
   },
   {
    "duration": 394,
    "start_time": "2024-02-10T06:16:48.322Z"
   },
   {
    "duration": 16,
    "start_time": "2024-02-10T06:16:48.718Z"
   },
   {
    "duration": 11,
    "start_time": "2024-02-10T06:16:48.735Z"
   },
   {
    "duration": 5694,
    "start_time": "2024-02-10T06:16:48.766Z"
   },
   {
    "duration": 12,
    "start_time": "2024-02-10T06:16:54.461Z"
   },
   {
    "duration": 225,
    "start_time": "2024-02-10T06:16:54.474Z"
   },
   {
    "duration": 51,
    "start_time": "2024-02-10T06:16:54.701Z"
   },
   {
    "duration": 9,
    "start_time": "2024-02-10T06:16:54.764Z"
   },
   {
    "duration": 10,
    "start_time": "2024-02-10T06:16:54.775Z"
   },
   {
    "duration": 72281,
    "start_time": "2024-02-10T06:16:54.786Z"
   },
   {
    "duration": 16,
    "start_time": "2024-02-10T06:18:07.068Z"
   },
   {
    "duration": 7395,
    "start_time": "2024-02-10T06:19:15.253Z"
   },
   {
    "duration": 1289,
    "start_time": "2024-02-10T06:19:22.651Z"
   },
   {
    "duration": 3,
    "start_time": "2024-02-10T06:19:23.941Z"
   },
   {
    "duration": 10,
    "start_time": "2024-02-10T06:19:23.946Z"
   },
   {
    "duration": 977,
    "start_time": "2024-02-10T06:19:23.957Z"
   },
   {
    "duration": 122,
    "start_time": "2024-02-10T06:19:24.936Z"
   },
   {
    "duration": 286,
    "start_time": "2024-02-10T06:19:25.064Z"
   },
   {
    "duration": 338,
    "start_time": "2024-02-10T06:19:25.352Z"
   },
   {
    "duration": 37,
    "start_time": "2024-02-10T06:19:25.692Z"
   },
   {
    "duration": 35,
    "start_time": "2024-02-10T06:19:25.730Z"
   },
   {
    "duration": 57,
    "start_time": "2024-02-10T06:19:25.767Z"
   },
   {
    "duration": 51,
    "start_time": "2024-02-10T06:19:25.826Z"
   },
   {
    "duration": 46,
    "start_time": "2024-02-10T06:19:25.878Z"
   },
   {
    "duration": 2031,
    "start_time": "2024-02-10T06:19:25.928Z"
   },
   {
    "duration": 470,
    "start_time": "2024-02-10T06:19:27.960Z"
   },
   {
    "duration": 508,
    "start_time": "2024-02-10T06:19:28.432Z"
   },
   {
    "duration": 450,
    "start_time": "2024-02-10T06:19:28.942Z"
   },
   {
    "duration": 514,
    "start_time": "2024-02-10T06:19:29.394Z"
   },
   {
    "duration": 474,
    "start_time": "2024-02-10T06:19:29.909Z"
   },
   {
    "duration": 567,
    "start_time": "2024-02-10T06:19:30.385Z"
   },
   {
    "duration": 517,
    "start_time": "2024-02-10T06:19:30.954Z"
   },
   {
    "duration": 434,
    "start_time": "2024-02-10T06:19:31.473Z"
   },
   {
    "duration": 17,
    "start_time": "2024-02-10T06:19:31.908Z"
   },
   {
    "duration": 11,
    "start_time": "2024-02-10T06:19:31.927Z"
   },
   {
    "duration": 5681,
    "start_time": "2024-02-10T06:19:31.939Z"
   },
   {
    "duration": 12,
    "start_time": "2024-02-10T06:19:37.622Z"
   },
   {
    "duration": 242,
    "start_time": "2024-02-10T06:19:37.635Z"
   },
   {
    "duration": 54,
    "start_time": "2024-02-10T06:19:37.879Z"
   },
   {
    "duration": 9,
    "start_time": "2024-02-10T06:19:37.935Z"
   },
   {
    "duration": 22,
    "start_time": "2024-02-10T06:19:37.946Z"
   },
   {
    "duration": 71348,
    "start_time": "2024-02-10T06:19:37.969Z"
   },
   {
    "duration": 24,
    "start_time": "2024-02-10T06:20:49.319Z"
   },
   {
    "duration": 6,
    "start_time": "2024-02-10T06:22:19.672Z"
   },
   {
    "duration": 72598,
    "start_time": "2024-02-10T06:22:20.129Z"
   },
   {
    "duration": 17,
    "start_time": "2024-02-10T06:23:32.729Z"
   },
   {
    "duration": 6,
    "start_time": "2024-02-10T06:26:11.868Z"
   },
   {
    "duration": 71913,
    "start_time": "2024-02-10T06:26:12.356Z"
   },
   {
    "duration": 18,
    "start_time": "2024-02-10T06:27:24.271Z"
   },
   {
    "duration": 7,
    "start_time": "2024-02-10T06:31:02.101Z"
   },
   {
    "duration": 87798,
    "start_time": "2024-02-10T06:31:02.433Z"
   },
   {
    "duration": 17,
    "start_time": "2024-02-10T06:32:30.233Z"
   },
   {
    "duration": 6,
    "start_time": "2024-02-10T06:33:47.498Z"
   },
   {
    "duration": 71302,
    "start_time": "2024-02-10T06:33:47.719Z"
   },
   {
    "duration": 16,
    "start_time": "2024-02-10T06:34:59.023Z"
   },
   {
    "duration": 6,
    "start_time": "2024-02-10T06:42:57.555Z"
   },
   {
    "duration": 98226,
    "start_time": "2024-02-10T06:42:57.807Z"
   },
   {
    "duration": 17,
    "start_time": "2024-02-10T06:44:36.035Z"
   },
   {
    "duration": 6,
    "start_time": "2024-02-10T06:49:56.305Z"
   },
   {
    "duration": 78990,
    "start_time": "2024-02-10T06:49:57.664Z"
   },
   {
    "duration": 33,
    "start_time": "2024-02-10T06:51:16.657Z"
   },
   {
    "duration": 6,
    "start_time": "2024-02-10T06:52:00.152Z"
   },
   {
    "duration": 143391,
    "start_time": "2024-02-10T06:52:00.898Z"
   },
   {
    "duration": 0,
    "start_time": "2024-02-10T06:54:24.291Z"
   },
   {
    "duration": 6,
    "start_time": "2024-02-10T06:57:34.311Z"
   },
   {
    "duration": 138020,
    "start_time": "2024-02-10T06:57:34.688Z"
   },
   {
    "duration": 0,
    "start_time": "2024-02-10T06:59:52.709Z"
   },
   {
    "duration": 7,
    "start_time": "2024-02-10T07:00:29.523Z"
   },
   {
    "duration": 77602,
    "start_time": "2024-02-10T07:00:30.745Z"
   },
   {
    "duration": 29,
    "start_time": "2024-02-10T07:01:48.349Z"
   },
   {
    "duration": 5,
    "start_time": "2024-02-10T07:02:06.830Z"
   },
   {
    "duration": 77188,
    "start_time": "2024-02-10T07:02:07.466Z"
   },
   {
    "duration": 17,
    "start_time": "2024-02-10T07:03:24.656Z"
   },
   {
    "duration": 5,
    "start_time": "2024-02-10T07:10:31.137Z"
   },
   {
    "duration": 7222,
    "start_time": "2024-02-10T07:19:13.663Z"
   },
   {
    "duration": 1267,
    "start_time": "2024-02-10T07:19:20.888Z"
   },
   {
    "duration": 2,
    "start_time": "2024-02-10T07:19:22.157Z"
   },
   {
    "duration": 10,
    "start_time": "2024-02-10T07:19:22.161Z"
   },
   {
    "duration": 977,
    "start_time": "2024-02-10T07:19:22.172Z"
   },
   {
    "duration": 131,
    "start_time": "2024-02-10T07:19:23.151Z"
   },
   {
    "duration": 297,
    "start_time": "2024-02-10T07:19:23.284Z"
   },
   {
    "duration": 320,
    "start_time": "2024-02-10T07:19:23.582Z"
   },
   {
    "duration": 50,
    "start_time": "2024-02-10T07:19:23.903Z"
   },
   {
    "duration": 26,
    "start_time": "2024-02-10T07:19:23.964Z"
   },
   {
    "duration": 37,
    "start_time": "2024-02-10T07:19:23.991Z"
   },
   {
    "duration": 57,
    "start_time": "2024-02-10T07:19:24.030Z"
   },
   {
    "duration": 45,
    "start_time": "2024-02-10T07:19:24.089Z"
   },
   {
    "duration": 2071,
    "start_time": "2024-02-10T07:19:24.138Z"
   },
   {
    "duration": 455,
    "start_time": "2024-02-10T07:19:26.211Z"
   },
   {
    "duration": 481,
    "start_time": "2024-02-10T07:19:26.667Z"
   },
   {
    "duration": 443,
    "start_time": "2024-02-10T07:19:27.150Z"
   },
   {
    "duration": 514,
    "start_time": "2024-02-10T07:19:27.594Z"
   },
   {
    "duration": 438,
    "start_time": "2024-02-10T07:19:28.109Z"
   },
   {
    "duration": 568,
    "start_time": "2024-02-10T07:19:28.548Z"
   },
   {
    "duration": 508,
    "start_time": "2024-02-10T07:19:29.117Z"
   },
   {
    "duration": 395,
    "start_time": "2024-02-10T07:19:29.627Z"
   },
   {
    "duration": 21,
    "start_time": "2024-02-10T07:19:30.024Z"
   },
   {
    "duration": 60,
    "start_time": "2024-02-10T07:19:30.046Z"
   },
   {
    "duration": 5480,
    "start_time": "2024-02-10T07:19:30.108Z"
   },
   {
    "duration": 12,
    "start_time": "2024-02-10T07:19:35.589Z"
   },
   {
    "duration": 229,
    "start_time": "2024-02-10T07:19:35.603Z"
   },
   {
    "duration": 53,
    "start_time": "2024-02-10T07:19:35.834Z"
   },
   {
    "duration": 10,
    "start_time": "2024-02-10T07:19:35.888Z"
   },
   {
    "duration": 5,
    "start_time": "2024-02-10T07:19:35.899Z"
   },
   {
    "duration": 9707,
    "start_time": "2024-02-10T07:25:42.756Z"
   },
   {
    "duration": 1282,
    "start_time": "2024-02-10T07:25:52.466Z"
   },
   {
    "duration": 3,
    "start_time": "2024-02-10T07:25:53.754Z"
   },
   {
    "duration": 11,
    "start_time": "2024-02-10T07:25:53.760Z"
   },
   {
    "duration": 972,
    "start_time": "2024-02-10T07:25:53.773Z"
   },
   {
    "duration": 128,
    "start_time": "2024-02-10T07:25:54.746Z"
   },
   {
    "duration": 290,
    "start_time": "2024-02-10T07:25:54.875Z"
   },
   {
    "duration": 328,
    "start_time": "2024-02-10T07:25:55.166Z"
   },
   {
    "duration": 37,
    "start_time": "2024-02-10T07:25:55.496Z"
   },
   {
    "duration": 30,
    "start_time": "2024-02-10T07:25:55.536Z"
   },
   {
    "duration": 38,
    "start_time": "2024-02-10T07:25:55.568Z"
   },
   {
    "duration": 41,
    "start_time": "2024-02-10T07:25:55.607Z"
   },
   {
    "duration": 39,
    "start_time": "2024-02-10T07:25:55.665Z"
   },
   {
    "duration": 2152,
    "start_time": "2024-02-10T07:25:55.706Z"
   },
   {
    "duration": 490,
    "start_time": "2024-02-10T07:25:57.860Z"
   },
   {
    "duration": 503,
    "start_time": "2024-02-10T07:25:58.353Z"
   },
   {
    "duration": 436,
    "start_time": "2024-02-10T07:25:58.858Z"
   },
   {
    "duration": 531,
    "start_time": "2024-02-10T07:25:59.296Z"
   },
   {
    "duration": 484,
    "start_time": "2024-02-10T07:25:59.829Z"
   },
   {
    "duration": 582,
    "start_time": "2024-02-10T07:26:00.314Z"
   },
   {
    "duration": 493,
    "start_time": "2024-02-10T07:26:00.897Z"
   },
   {
    "duration": 406,
    "start_time": "2024-02-10T07:26:01.392Z"
   },
   {
    "duration": 20,
    "start_time": "2024-02-10T07:26:01.800Z"
   },
   {
    "duration": 16,
    "start_time": "2024-02-10T07:26:01.822Z"
   },
   {
    "duration": 5565,
    "start_time": "2024-02-10T07:26:01.839Z"
   },
   {
    "duration": 12,
    "start_time": "2024-02-10T07:26:07.405Z"
   },
   {
    "duration": 223,
    "start_time": "2024-02-10T07:26:07.418Z"
   },
   {
    "duration": 56,
    "start_time": "2024-02-10T07:26:07.644Z"
   },
   {
    "duration": 10,
    "start_time": "2024-02-10T07:26:07.701Z"
   },
   {
    "duration": 124,
    "start_time": "2024-02-10T07:26:07.712Z"
   },
   {
    "duration": 0,
    "start_time": "2024-02-10T07:26:07.838Z"
   },
   {
    "duration": 0,
    "start_time": "2024-02-10T07:26:07.839Z"
   },
   {
    "duration": 9,
    "start_time": "2024-02-10T07:26:20.555Z"
   },
   {
    "duration": 77729,
    "start_time": "2024-02-10T07:26:21.298Z"
   },
   {
    "duration": 18,
    "start_time": "2024-02-10T07:27:39.029Z"
   },
   {
    "duration": 10,
    "start_time": "2024-02-10T07:27:47.926Z"
   },
   {
    "duration": 21,
    "start_time": "2024-02-10T07:28:02.935Z"
   },
   {
    "duration": 27,
    "start_time": "2024-02-10T07:28:46.146Z"
   },
   {
    "duration": 8,
    "start_time": "2024-02-10T07:34:28.119Z"
   },
   {
    "duration": 81932,
    "start_time": "2024-02-10T07:34:28.510Z"
   },
   {
    "duration": 26,
    "start_time": "2024-02-10T07:35:50.444Z"
   },
   {
    "duration": 9,
    "start_time": "2024-02-10T07:36:41.344Z"
   },
   {
    "duration": 71465,
    "start_time": "2024-02-10T07:36:42.035Z"
   },
   {
    "duration": 22,
    "start_time": "2024-02-10T07:37:53.501Z"
   },
   {
    "duration": 16,
    "start_time": "2024-02-10T09:49:52.912Z"
   },
   {
    "duration": 7315,
    "start_time": "2024-02-10T09:50:07.213Z"
   },
   {
    "duration": 1229,
    "start_time": "2024-02-10T09:50:14.530Z"
   },
   {
    "duration": 3,
    "start_time": "2024-02-10T09:50:15.763Z"
   },
   {
    "duration": 11,
    "start_time": "2024-02-10T09:50:15.768Z"
   },
   {
    "duration": 1042,
    "start_time": "2024-02-10T09:50:15.781Z"
   },
   {
    "duration": 128,
    "start_time": "2024-02-10T09:50:16.825Z"
   },
   {
    "duration": 303,
    "start_time": "2024-02-10T09:50:16.954Z"
   },
   {
    "duration": 355,
    "start_time": "2024-02-10T09:50:17.258Z"
   },
   {
    "duration": 21,
    "start_time": "2024-02-10T09:50:17.615Z"
   },
   {
    "duration": 7355,
    "start_time": "2024-02-10T09:54:24.101Z"
   },
   {
    "duration": 1305,
    "start_time": "2024-02-10T09:54:31.459Z"
   },
   {
    "duration": 4,
    "start_time": "2024-02-10T09:54:32.765Z"
   },
   {
    "duration": 17,
    "start_time": "2024-02-10T09:54:32.771Z"
   },
   {
    "duration": 1059,
    "start_time": "2024-02-10T09:54:32.790Z"
   },
   {
    "duration": 131,
    "start_time": "2024-02-10T09:54:33.851Z"
   },
   {
    "duration": 304,
    "start_time": "2024-02-10T09:54:33.984Z"
   },
   {
    "duration": 340,
    "start_time": "2024-02-10T09:54:34.290Z"
   },
   {
    "duration": 38,
    "start_time": "2024-02-10T09:54:34.632Z"
   },
   {
    "duration": 31,
    "start_time": "2024-02-10T09:54:34.672Z"
   },
   {
    "duration": 35,
    "start_time": "2024-02-10T09:55:12.397Z"
   },
   {
    "duration": 49,
    "start_time": "2024-02-10T09:56:11.189Z"
   },
   {
    "duration": 36,
    "start_time": "2024-02-10T09:56:23.294Z"
   },
   {
    "duration": 35,
    "start_time": "2024-02-10T09:56:26.307Z"
   },
   {
    "duration": 517,
    "start_time": "2024-02-10T09:57:40.927Z"
   },
   {
    "duration": 532,
    "start_time": "2024-02-10T09:57:42.474Z"
   },
   {
    "duration": 540,
    "start_time": "2024-02-10T09:58:49.440Z"
   },
   {
    "duration": 495,
    "start_time": "2024-02-10T09:59:51.023Z"
   },
   {
    "duration": 516,
    "start_time": "2024-02-10T10:00:00.033Z"
   },
   {
    "duration": 7576,
    "start_time": "2024-02-10T10:02:28.396Z"
   },
   {
    "duration": 1350,
    "start_time": "2024-02-10T10:02:35.974Z"
   },
   {
    "duration": 2,
    "start_time": "2024-02-10T10:02:37.326Z"
   },
   {
    "duration": 8,
    "start_time": "2024-02-10T10:02:37.330Z"
   },
   {
    "duration": 1030,
    "start_time": "2024-02-10T10:02:37.339Z"
   },
   {
    "duration": 131,
    "start_time": "2024-02-10T10:02:38.371Z"
   },
   {
    "duration": 308,
    "start_time": "2024-02-10T10:02:38.503Z"
   },
   {
    "duration": 408,
    "start_time": "2024-02-10T10:02:38.812Z"
   },
   {
    "duration": 43,
    "start_time": "2024-02-10T10:02:39.222Z"
   },
   {
    "duration": 45,
    "start_time": "2024-02-10T10:02:39.268Z"
   },
   {
    "duration": 39,
    "start_time": "2024-02-10T10:02:39.315Z"
   },
   {
    "duration": 39,
    "start_time": "2024-02-10T10:02:39.365Z"
   },
   {
    "duration": 39,
    "start_time": "2024-02-10T10:02:39.406Z"
   },
   {
    "duration": 2149,
    "start_time": "2024-02-10T10:02:39.446Z"
   },
   {
    "duration": 553,
    "start_time": "2024-02-10T10:02:41.597Z"
   },
   {
    "duration": 514,
    "start_time": "2024-02-10T10:02:42.152Z"
   },
   {
    "duration": 461,
    "start_time": "2024-02-10T10:02:42.668Z"
   },
   {
    "duration": 432,
    "start_time": "2024-02-10T10:12:16.115Z"
   },
   {
    "duration": 2,
    "start_time": "2024-02-10T10:12:21.752Z"
   },
   {
    "duration": 540,
    "start_time": "2024-02-10T10:12:23.255Z"
   },
   {
    "duration": 580,
    "start_time": "2024-02-10T10:13:30.320Z"
   },
   {
    "duration": 401,
    "start_time": "2024-02-10T10:13:32.687Z"
   },
   {
    "duration": 7234,
    "start_time": "2024-02-10T10:15:45.579Z"
   },
   {
    "duration": 1200,
    "start_time": "2024-02-10T10:15:52.816Z"
   },
   {
    "duration": 3,
    "start_time": "2024-02-10T10:15:54.017Z"
   },
   {
    "duration": 8,
    "start_time": "2024-02-10T10:15:54.021Z"
   },
   {
    "duration": 978,
    "start_time": "2024-02-10T10:15:54.030Z"
   },
   {
    "duration": 123,
    "start_time": "2024-02-10T10:15:55.010Z"
   },
   {
    "duration": 283,
    "start_time": "2024-02-10T10:15:55.135Z"
   },
   {
    "duration": 334,
    "start_time": "2024-02-10T10:15:55.419Z"
   },
   {
    "duration": 39,
    "start_time": "2024-02-10T10:15:55.755Z"
   },
   {
    "duration": 34,
    "start_time": "2024-02-10T10:15:55.795Z"
   },
   {
    "duration": 50,
    "start_time": "2024-02-10T10:15:55.831Z"
   },
   {
    "duration": 36,
    "start_time": "2024-02-10T10:15:55.882Z"
   },
   {
    "duration": 51,
    "start_time": "2024-02-10T10:15:55.920Z"
   },
   {
    "duration": 2048,
    "start_time": "2024-02-10T10:15:55.975Z"
   },
   {
    "duration": 474,
    "start_time": "2024-02-10T10:15:58.025Z"
   },
   {
    "duration": 527,
    "start_time": "2024-02-10T10:15:58.500Z"
   },
   {
    "duration": 414,
    "start_time": "2024-02-10T10:15:59.028Z"
   },
   {
    "duration": 473,
    "start_time": "2024-02-10T10:15:59.444Z"
   },
   {
    "duration": 467,
    "start_time": "2024-02-10T10:15:59.918Z"
   },
   {
    "duration": 652,
    "start_time": "2024-02-10T10:16:00.387Z"
   },
   {
    "duration": 525,
    "start_time": "2024-02-10T10:16:01.041Z"
   },
   {
    "duration": 433,
    "start_time": "2024-02-10T10:16:01.567Z"
   },
   {
    "duration": 27,
    "start_time": "2024-02-10T10:16:02.001Z"
   },
   {
    "duration": 10,
    "start_time": "2024-02-10T10:16:02.030Z"
   },
   {
    "duration": 5663,
    "start_time": "2024-02-10T10:16:02.041Z"
   },
   {
    "duration": 16,
    "start_time": "2024-02-10T10:16:07.706Z"
   },
   {
    "duration": 259,
    "start_time": "2024-02-10T10:16:07.724Z"
   },
   {
    "duration": 57,
    "start_time": "2024-02-10T10:16:07.985Z"
   },
   {
    "duration": 9,
    "start_time": "2024-02-10T10:16:08.043Z"
   },
   {
    "duration": 7,
    "start_time": "2024-02-10T10:16:08.065Z"
   },
   {
    "duration": 78846,
    "start_time": "2024-02-10T10:16:08.073Z"
   },
   {
    "duration": 22,
    "start_time": "2024-02-10T10:17:26.920Z"
   },
   {
    "duration": 125,
    "start_time": "2024-02-10T10:19:51.466Z"
   },
   {
    "duration": 63,
    "start_time": "2024-02-10T10:21:52.038Z"
   },
   {
    "duration": 59,
    "start_time": "2024-02-10T10:22:18.451Z"
   },
   {
    "duration": 3,
    "start_time": "2024-02-10T10:23:41.906Z"
   },
   {
    "duration": 10,
    "start_time": "2024-02-10T10:24:00.425Z"
   },
   {
    "duration": 10,
    "start_time": "2024-02-10T10:24:16.745Z"
   },
   {
    "duration": 21,
    "start_time": "2024-02-10T10:24:53.714Z"
   },
   {
    "duration": 24,
    "start_time": "2024-02-10T10:26:12.587Z"
   },
   {
    "duration": 24,
    "start_time": "2024-02-10T10:27:03.772Z"
   },
   {
    "duration": 21,
    "start_time": "2024-02-10T10:27:17.350Z"
   },
   {
    "duration": 11,
    "start_time": "2024-02-10T10:31:40.262Z"
   },
   {
    "duration": 473,
    "start_time": "2024-02-10T10:32:27.333Z"
   },
   {
    "duration": 453,
    "start_time": "2024-02-10T10:32:47.325Z"
   },
   {
    "duration": 433,
    "start_time": "2024-02-10T10:35:04.917Z"
   },
   {
    "duration": 452,
    "start_time": "2024-02-10T10:35:33.990Z"
   },
   {
    "duration": 466,
    "start_time": "2024-02-10T10:35:53.292Z"
   },
   {
    "duration": 10,
    "start_time": "2024-02-10T10:36:16.251Z"
   },
   {
    "duration": 57,
    "start_time": "2024-02-10T10:36:18.993Z"
   },
   {
    "duration": 51,
    "start_time": "2024-02-10T10:37:06.468Z"
   },
   {
    "duration": 7282,
    "start_time": "2024-02-10T10:37:22.809Z"
   },
   {
    "duration": 1265,
    "start_time": "2024-02-10T10:37:30.093Z"
   },
   {
    "duration": 2,
    "start_time": "2024-02-10T10:37:31.360Z"
   },
   {
    "duration": 38,
    "start_time": "2024-02-10T10:37:31.364Z"
   },
   {
    "duration": 1010,
    "start_time": "2024-02-10T10:37:31.404Z"
   },
   {
    "duration": 126,
    "start_time": "2024-02-10T10:37:32.415Z"
   },
   {
    "duration": 296,
    "start_time": "2024-02-10T10:37:32.542Z"
   },
   {
    "duration": 333,
    "start_time": "2024-02-10T10:37:32.840Z"
   },
   {
    "duration": 35,
    "start_time": "2024-02-10T10:37:33.174Z"
   },
   {
    "duration": 35,
    "start_time": "2024-02-10T10:37:33.211Z"
   },
   {
    "duration": 35,
    "start_time": "2024-02-10T10:37:33.265Z"
   },
   {
    "duration": 36,
    "start_time": "2024-02-10T10:37:33.302Z"
   },
   {
    "duration": 49,
    "start_time": "2024-02-10T10:37:33.340Z"
   },
   {
    "duration": 2073,
    "start_time": "2024-02-10T10:37:33.393Z"
   },
   {
    "duration": 477,
    "start_time": "2024-02-10T10:37:35.468Z"
   },
   {
    "duration": 504,
    "start_time": "2024-02-10T10:37:35.947Z"
   },
   {
    "duration": 447,
    "start_time": "2024-02-10T10:37:36.452Z"
   },
   {
    "duration": 499,
    "start_time": "2024-02-10T10:37:36.901Z"
   },
   {
    "duration": 472,
    "start_time": "2024-02-10T10:37:37.402Z"
   },
   {
    "duration": 606,
    "start_time": "2024-02-10T10:37:37.875Z"
   },
   {
    "duration": 498,
    "start_time": "2024-02-10T10:37:38.482Z"
   },
   {
    "duration": 414,
    "start_time": "2024-02-10T10:37:38.981Z"
   },
   {
    "duration": 26,
    "start_time": "2024-02-10T10:37:39.397Z"
   },
   {
    "duration": 10,
    "start_time": "2024-02-10T10:37:39.425Z"
   },
   {
    "duration": 5688,
    "start_time": "2024-02-10T10:37:39.436Z"
   },
   {
    "duration": 16,
    "start_time": "2024-02-10T10:37:45.125Z"
   },
   {
    "duration": 288,
    "start_time": "2024-02-10T10:37:45.142Z"
   },
   {
    "duration": 68,
    "start_time": "2024-02-10T10:37:45.431Z"
   },
   {
    "duration": 597,
    "start_time": "2024-02-10T10:37:45.500Z"
   },
   {
    "duration": 0,
    "start_time": "2024-02-10T10:37:46.099Z"
   },
   {
    "duration": 53,
    "start_time": "2024-02-10T10:38:35.382Z"
   },
   {
    "duration": 21,
    "start_time": "2024-02-10T10:49:10.323Z"
   },
   {
    "duration": 7215,
    "start_time": "2024-02-10T10:49:34.321Z"
   },
   {
    "duration": 1290,
    "start_time": "2024-02-10T10:49:41.538Z"
   },
   {
    "duration": 3,
    "start_time": "2024-02-10T10:49:42.829Z"
   },
   {
    "duration": 8,
    "start_time": "2024-02-10T10:49:42.833Z"
   },
   {
    "duration": 967,
    "start_time": "2024-02-10T10:49:42.842Z"
   },
   {
    "duration": 125,
    "start_time": "2024-02-10T10:49:43.811Z"
   },
   {
    "duration": 284,
    "start_time": "2024-02-10T10:49:43.938Z"
   },
   {
    "duration": 329,
    "start_time": "2024-02-10T10:49:44.224Z"
   },
   {
    "duration": 37,
    "start_time": "2024-02-10T10:49:44.554Z"
   },
   {
    "duration": 34,
    "start_time": "2024-02-10T10:49:44.592Z"
   },
   {
    "duration": 50,
    "start_time": "2024-02-10T10:49:44.627Z"
   },
   {
    "duration": 36,
    "start_time": "2024-02-10T10:49:44.678Z"
   },
   {
    "duration": 50,
    "start_time": "2024-02-10T10:49:44.716Z"
   },
   {
    "duration": 2071,
    "start_time": "2024-02-10T10:49:44.768Z"
   },
   {
    "duration": 492,
    "start_time": "2024-02-10T10:49:46.840Z"
   },
   {
    "duration": 491,
    "start_time": "2024-02-10T10:49:47.334Z"
   },
   {
    "duration": 403,
    "start_time": "2024-02-10T10:49:47.827Z"
   },
   {
    "duration": 469,
    "start_time": "2024-02-10T10:49:48.232Z"
   },
   {
    "duration": 429,
    "start_time": "2024-02-10T10:49:48.702Z"
   },
   {
    "duration": 587,
    "start_time": "2024-02-10T10:49:49.133Z"
   },
   {
    "duration": 486,
    "start_time": "2024-02-10T10:49:49.722Z"
   },
   {
    "duration": 395,
    "start_time": "2024-02-10T10:49:50.210Z"
   },
   {
    "duration": 28,
    "start_time": "2024-02-10T10:49:50.607Z"
   },
   {
    "duration": 10,
    "start_time": "2024-02-10T10:49:50.636Z"
   },
   {
    "duration": 5602,
    "start_time": "2024-02-10T10:49:50.666Z"
   },
   {
    "duration": 12,
    "start_time": "2024-02-10T10:49:56.269Z"
   },
   {
    "duration": 235,
    "start_time": "2024-02-10T10:49:56.283Z"
   },
   {
    "duration": 127,
    "start_time": "2024-02-10T10:50:41.440Z"
   },
   {
    "duration": 747,
    "start_time": "2024-02-10T10:51:41.137Z"
   },
   {
    "duration": 31,
    "start_time": "2024-02-10T10:51:54.367Z"
   },
   {
    "duration": 18,
    "start_time": "2024-02-10T10:52:14.394Z"
   },
   {
    "duration": 12,
    "start_time": "2024-02-10T10:52:26.818Z"
   },
   {
    "duration": 29,
    "start_time": "2024-02-10T10:52:34.059Z"
   },
   {
    "duration": 690,
    "start_time": "2024-02-10T10:52:58.252Z"
   },
   {
    "duration": 31,
    "start_time": "2024-02-10T10:53:00.200Z"
   },
   {
    "duration": 4,
    "start_time": "2024-02-10T10:53:44.330Z"
   },
   {
    "duration": 9,
    "start_time": "2024-02-10T10:54:45.382Z"
   },
   {
    "duration": 655,
    "start_time": "2024-02-10T10:54:58.935Z"
   },
   {
    "duration": 395,
    "start_time": "2024-02-10T10:54:59.592Z"
   },
   {
    "duration": 15,
    "start_time": "2024-02-10T10:55:06.679Z"
   },
   {
    "duration": 24,
    "start_time": "2024-02-10T10:55:27.501Z"
   },
   {
    "duration": 16,
    "start_time": "2024-02-10T10:55:40.754Z"
   },
   {
    "duration": 15,
    "start_time": "2024-02-10T10:55:50.325Z"
   },
   {
    "duration": 16,
    "start_time": "2024-02-10T10:55:56.962Z"
   },
   {
    "duration": 87,
    "start_time": "2024-02-10T10:56:27.901Z"
   },
   {
    "duration": 4,
    "start_time": "2024-02-10T10:56:49.523Z"
   },
   {
    "duration": 74331,
    "start_time": "2024-02-10T10:57:11.943Z"
   },
   {
    "duration": 11,
    "start_time": "2024-02-10T10:58:56.039Z"
   },
   {
    "duration": 186,
    "start_time": "2024-02-10T10:59:23.376Z"
   },
   {
    "duration": 7577,
    "start_time": "2024-02-10T14:47:53.654Z"
   },
   {
    "duration": 1331,
    "start_time": "2024-02-10T14:48:01.234Z"
   },
   {
    "duration": 3,
    "start_time": "2024-02-10T14:48:02.566Z"
   },
   {
    "duration": 9,
    "start_time": "2024-02-10T14:48:02.570Z"
   },
   {
    "duration": 1143,
    "start_time": "2024-02-10T14:48:02.581Z"
   },
   {
    "duration": 143,
    "start_time": "2024-02-10T14:48:03.725Z"
   },
   {
    "duration": 327,
    "start_time": "2024-02-10T14:48:03.870Z"
   },
   {
    "duration": 356,
    "start_time": "2024-02-10T14:48:04.199Z"
   },
   {
    "duration": 39,
    "start_time": "2024-02-10T14:48:04.556Z"
   },
   {
    "duration": 35,
    "start_time": "2024-02-10T14:48:04.598Z"
   },
   {
    "duration": 56,
    "start_time": "2024-02-10T14:48:04.635Z"
   },
   {
    "duration": 38,
    "start_time": "2024-02-10T14:48:04.693Z"
   },
   {
    "duration": 68,
    "start_time": "2024-02-10T14:48:04.733Z"
   },
   {
    "duration": 2196,
    "start_time": "2024-02-10T14:48:04.802Z"
   },
   {
    "duration": 520,
    "start_time": "2024-02-10T14:48:07.000Z"
   },
   {
    "duration": 534,
    "start_time": "2024-02-10T14:48:07.522Z"
   },
   {
    "duration": 448,
    "start_time": "2024-02-10T14:48:08.058Z"
   },
   {
    "duration": 512,
    "start_time": "2024-02-10T14:48:08.508Z"
   },
   {
    "duration": 532,
    "start_time": "2024-02-10T14:48:09.022Z"
   },
   {
    "duration": 626,
    "start_time": "2024-02-10T14:48:09.556Z"
   },
   {
    "duration": 541,
    "start_time": "2024-02-10T14:48:10.183Z"
   },
   {
    "duration": 457,
    "start_time": "2024-02-10T14:48:10.726Z"
   },
   {
    "duration": 31,
    "start_time": "2024-02-10T14:48:11.185Z"
   },
   {
    "duration": 13,
    "start_time": "2024-02-10T14:48:11.218Z"
   },
   {
    "duration": 6646,
    "start_time": "2024-02-10T14:48:11.233Z"
   },
   {
    "duration": 13,
    "start_time": "2024-02-10T14:48:17.881Z"
   },
   {
    "duration": 260,
    "start_time": "2024-02-10T14:48:17.896Z"
   },
   {
    "duration": 898,
    "start_time": "2024-02-10T14:48:18.159Z"
   },
   {
    "duration": 384,
    "start_time": "2024-02-10T14:48:19.059Z"
   },
   {
    "duration": 7373,
    "start_time": "2024-02-10T15:00:39.985Z"
   },
   {
    "duration": 1292,
    "start_time": "2024-02-10T15:00:47.360Z"
   },
   {
    "duration": 2,
    "start_time": "2024-02-10T15:00:51.050Z"
   },
   {
    "duration": 8,
    "start_time": "2024-02-10T15:00:51.555Z"
   },
   {
    "duration": 999,
    "start_time": "2024-02-10T15:00:51.802Z"
   },
   {
    "duration": 130,
    "start_time": "2024-02-10T15:00:52.802Z"
   },
   {
    "duration": 301,
    "start_time": "2024-02-10T15:00:52.934Z"
   },
   {
    "duration": 338,
    "start_time": "2024-02-10T15:00:53.238Z"
   },
   {
    "duration": 39,
    "start_time": "2024-02-10T15:00:53.578Z"
   },
   {
    "duration": 52,
    "start_time": "2024-02-10T15:00:53.618Z"
   },
   {
    "duration": 38,
    "start_time": "2024-02-10T15:00:53.672Z"
   },
   {
    "duration": 62,
    "start_time": "2024-02-10T15:00:53.712Z"
   },
   {
    "duration": 47,
    "start_time": "2024-02-10T15:00:53.776Z"
   },
   {
    "duration": 2123,
    "start_time": "2024-02-10T15:00:53.825Z"
   },
   {
    "duration": 486,
    "start_time": "2024-02-10T15:00:55.950Z"
   },
   {
    "duration": 511,
    "start_time": "2024-02-10T15:00:56.439Z"
   },
   {
    "duration": 434,
    "start_time": "2024-02-10T15:00:56.951Z"
   },
   {
    "duration": 481,
    "start_time": "2024-02-10T15:00:57.386Z"
   },
   {
    "duration": 465,
    "start_time": "2024-02-10T15:00:57.868Z"
   },
   {
    "duration": 609,
    "start_time": "2024-02-10T15:00:58.335Z"
   },
   {
    "duration": 545,
    "start_time": "2024-02-10T15:00:58.947Z"
   },
   {
    "duration": 417,
    "start_time": "2024-02-10T15:00:59.493Z"
   },
   {
    "duration": 30,
    "start_time": "2024-02-10T15:00:59.912Z"
   },
   {
    "duration": 25,
    "start_time": "2024-02-10T15:00:59.944Z"
   },
   {
    "duration": 5703,
    "start_time": "2024-02-10T15:01:05.186Z"
   },
   {
    "duration": 19,
    "start_time": "2024-02-10T15:01:17.895Z"
   },
   {
    "duration": 263,
    "start_time": "2024-02-10T15:01:18.921Z"
   },
   {
    "duration": 778,
    "start_time": "2024-02-10T15:01:23.922Z"
   },
   {
    "duration": 380,
    "start_time": "2024-02-10T15:01:24.702Z"
   },
   {
    "duration": 109,
    "start_time": "2024-02-10T15:02:10.218Z"
   },
   {
    "duration": 4,
    "start_time": "2024-02-10T15:02:43.796Z"
   },
   {
    "duration": 61310,
    "start_time": "2024-02-10T15:02:49.458Z"
   },
   {
    "duration": 102264,
    "start_time": "2024-02-10T15:05:55.713Z"
   },
   {
    "duration": 72385,
    "start_time": "2024-02-10T17:40:05.988Z"
   },
   {
    "duration": 64,
    "start_time": "2024-02-10T17:49:19.792Z"
   },
   {
    "duration": 7,
    "start_time": "2024-02-10T17:50:01.211Z"
   },
   {
    "duration": 7,
    "start_time": "2024-02-10T17:50:02.667Z"
   },
   {
    "duration": 4,
    "start_time": "2024-02-10T17:50:03.608Z"
   },
   {
    "duration": 7399,
    "start_time": "2024-02-10T17:50:08.857Z"
   },
   {
    "duration": 1294,
    "start_time": "2024-02-10T17:50:16.258Z"
   },
   {
    "duration": 2,
    "start_time": "2024-02-10T17:50:17.554Z"
   },
   {
    "duration": 9,
    "start_time": "2024-02-10T17:50:17.558Z"
   },
   {
    "duration": 1080,
    "start_time": "2024-02-10T17:50:17.568Z"
   },
   {
    "duration": 147,
    "start_time": "2024-02-10T17:50:18.649Z"
   },
   {
    "duration": 333,
    "start_time": "2024-02-10T17:50:18.798Z"
   },
   {
    "duration": 368,
    "start_time": "2024-02-10T17:50:19.133Z"
   },
   {
    "duration": 36,
    "start_time": "2024-02-10T17:50:19.502Z"
   },
   {
    "duration": 64,
    "start_time": "2024-02-10T17:50:19.540Z"
   },
   {
    "duration": 40,
    "start_time": "2024-02-10T17:50:19.606Z"
   },
   {
    "duration": 59,
    "start_time": "2024-02-10T17:50:19.648Z"
   },
   {
    "duration": 40,
    "start_time": "2024-02-10T17:50:19.709Z"
   },
   {
    "duration": 2375,
    "start_time": "2024-02-10T17:50:19.751Z"
   },
   {
    "duration": 510,
    "start_time": "2024-02-10T17:50:22.128Z"
   },
   {
    "duration": 540,
    "start_time": "2024-02-10T17:50:22.639Z"
   },
   {
    "duration": 445,
    "start_time": "2024-02-10T17:50:23.181Z"
   },
   {
    "duration": 503,
    "start_time": "2024-02-10T17:50:23.628Z"
   },
   {
    "duration": 521,
    "start_time": "2024-02-10T17:50:24.133Z"
   },
   {
    "duration": 682,
    "start_time": "2024-02-10T17:50:24.655Z"
   },
   {
    "duration": 561,
    "start_time": "2024-02-10T17:50:25.339Z"
   },
   {
    "duration": 427,
    "start_time": "2024-02-10T17:50:25.901Z"
   },
   {
    "duration": 26,
    "start_time": "2024-02-10T17:50:26.330Z"
   },
   {
    "duration": 18,
    "start_time": "2024-02-10T17:50:26.358Z"
   },
   {
    "duration": 6182,
    "start_time": "2024-02-10T17:50:26.378Z"
   },
   {
    "duration": 21,
    "start_time": "2024-02-10T17:50:32.561Z"
   },
   {
    "duration": 284,
    "start_time": "2024-02-10T17:50:32.583Z"
   },
   {
    "duration": 62,
    "start_time": "2024-02-10T17:50:32.871Z"
   },
   {
    "duration": 14,
    "start_time": "2024-02-10T17:50:38.814Z"
   },
   {
    "duration": 10,
    "start_time": "2024-02-10T17:51:26.253Z"
   },
   {
    "duration": 113,
    "start_time": "2024-02-10T17:57:25.335Z"
   },
   {
    "duration": 5,
    "start_time": "2024-02-10T17:58:11.151Z"
   },
   {
    "duration": 86,
    "start_time": "2024-02-10T17:59:38.955Z"
   },
   {
    "duration": 9,
    "start_time": "2024-02-10T17:59:44.308Z"
   },
   {
    "duration": 9,
    "start_time": "2024-02-10T17:59:54.294Z"
   },
   {
    "duration": 11,
    "start_time": "2024-02-10T18:00:24.722Z"
   },
   {
    "duration": 5,
    "start_time": "2024-02-10T18:00:52.753Z"
   },
   {
    "duration": 9,
    "start_time": "2024-02-10T18:00:58.732Z"
   },
   {
    "duration": 90134,
    "start_time": "2024-02-10T18:01:05.675Z"
   },
   {
    "duration": 10,
    "start_time": "2024-02-10T18:02:59.652Z"
   },
   {
    "duration": 28,
    "start_time": "2024-02-10T18:03:05.752Z"
   },
   {
    "duration": 6,
    "start_time": "2024-02-10T18:03:43.329Z"
   },
   {
    "duration": 978,
    "start_time": "2024-02-10T18:03:43.870Z"
   },
   {
    "duration": 5,
    "start_time": "2024-02-10T18:04:32.835Z"
   },
   {
    "duration": 78399,
    "start_time": "2024-02-10T18:04:33.854Z"
   },
   {
    "duration": 18,
    "start_time": "2024-02-10T18:05:52.255Z"
   },
   {
    "duration": 5,
    "start_time": "2024-02-10T18:07:06.771Z"
   },
   {
    "duration": 78899,
    "start_time": "2024-02-10T18:07:07.189Z"
   },
   {
    "duration": 18,
    "start_time": "2024-02-10T18:08:26.090Z"
   },
   {
    "duration": 12,
    "start_time": "2024-02-10T18:17:54.815Z"
   },
   {
    "duration": 10,
    "start_time": "2024-02-10T18:17:58.737Z"
   },
   {
    "duration": 337,
    "start_time": "2024-02-10T18:18:04.649Z"
   },
   {
    "duration": 357,
    "start_time": "2024-02-10T18:18:26.056Z"
   },
   {
    "duration": 10,
    "start_time": "2024-02-10T18:18:27.180Z"
   },
   {
    "duration": 150,
    "start_time": "2024-02-10T18:18:57.409Z"
   },
   {
    "duration": 15,
    "start_time": "2024-02-10T18:19:05.290Z"
   },
   {
    "duration": 16,
    "start_time": "2024-02-10T18:19:12.941Z"
   },
   {
    "duration": 44,
    "start_time": "2024-02-10T18:19:24.282Z"
   },
   {
    "duration": 25,
    "start_time": "2024-02-10T18:20:05.885Z"
   },
   {
    "duration": 15,
    "start_time": "2024-02-10T18:20:21.247Z"
   },
   {
    "duration": 12,
    "start_time": "2024-02-10T18:21:10.416Z"
   },
   {
    "duration": 9,
    "start_time": "2024-02-10T18:24:04.642Z"
   },
   {
    "duration": 9,
    "start_time": "2024-02-10T18:24:33.489Z"
   },
   {
    "duration": 12,
    "start_time": "2024-02-10T18:24:56.530Z"
   },
   {
    "duration": 10,
    "start_time": "2024-02-10T18:25:45.560Z"
   },
   {
    "duration": 9212,
    "start_time": "2024-02-10T18:26:07.459Z"
   },
   {
    "duration": 9,
    "start_time": "2024-02-10T18:26:39.083Z"
   },
   {
    "duration": 647,
    "start_time": "2024-02-10T18:27:26.523Z"
   },
   {
    "duration": 4,
    "start_time": "2024-02-10T18:27:37.464Z"
   },
   {
    "duration": 5,
    "start_time": "2024-02-10T18:27:57.981Z"
   },
   {
    "duration": 17,
    "start_time": "2024-02-10T18:29:08.486Z"
   },
   {
    "duration": 12440,
    "start_time": "2024-02-10T18:40:46.242Z"
   },
   {
    "duration": 635,
    "start_time": "2024-02-10T18:41:01.935Z"
   },
   {
    "duration": 5,
    "start_time": "2024-02-10T18:41:03.068Z"
   },
   {
    "duration": 12073,
    "start_time": "2024-02-11T09:35:55.591Z"
   },
   {
    "duration": 1538,
    "start_time": "2024-02-11T09:36:07.666Z"
   },
   {
    "duration": 3,
    "start_time": "2024-02-11T09:36:09.205Z"
   },
   {
    "duration": 9,
    "start_time": "2024-02-11T09:36:09.210Z"
   },
   {
    "duration": 3049,
    "start_time": "2024-02-11T09:36:09.220Z"
   },
   {
    "duration": 143,
    "start_time": "2024-02-11T09:36:12.271Z"
   },
   {
    "duration": 333,
    "start_time": "2024-02-11T09:36:12.416Z"
   },
   {
    "duration": 364,
    "start_time": "2024-02-11T09:36:12.750Z"
   },
   {
    "duration": 39,
    "start_time": "2024-02-11T09:36:13.116Z"
   },
   {
    "duration": 64,
    "start_time": "2024-02-11T09:36:13.158Z"
   },
   {
    "duration": 68,
    "start_time": "2024-02-11T09:36:13.223Z"
   },
   {
    "duration": 58,
    "start_time": "2024-02-11T09:36:13.293Z"
   },
   {
    "duration": 65,
    "start_time": "2024-02-11T09:36:13.353Z"
   },
   {
    "duration": 2287,
    "start_time": "2024-02-11T09:36:13.420Z"
   },
   {
    "duration": 519,
    "start_time": "2024-02-11T09:36:15.708Z"
   },
   {
    "duration": 578,
    "start_time": "2024-02-11T09:36:16.229Z"
   },
   {
    "duration": 449,
    "start_time": "2024-02-11T09:36:16.809Z"
   },
   {
    "duration": 494,
    "start_time": "2024-02-11T09:36:17.259Z"
   },
   {
    "duration": 503,
    "start_time": "2024-02-11T09:36:17.755Z"
   },
   {
    "duration": 625,
    "start_time": "2024-02-11T09:36:18.259Z"
   },
   {
    "duration": 541,
    "start_time": "2024-02-11T09:36:18.885Z"
   },
   {
    "duration": 451,
    "start_time": "2024-02-11T09:36:19.428Z"
   },
   {
    "duration": 40,
    "start_time": "2024-02-11T09:36:19.881Z"
   },
   {
    "duration": 6023,
    "start_time": "2024-02-11T09:36:19.923Z"
   },
   {
    "duration": 17,
    "start_time": "2024-02-11T09:36:25.947Z"
   },
   {
    "duration": 297,
    "start_time": "2024-02-11T09:36:25.966Z"
   },
   {
    "duration": 439,
    "start_time": "2024-02-11T09:36:26.264Z"
   },
   {
    "duration": 147,
    "start_time": "2024-02-11T09:36:26.708Z"
   },
   {
    "duration": 267,
    "start_time": "2024-02-11T09:39:57.727Z"
   },
   {
    "duration": 3335,
    "start_time": "2024-02-11T09:41:55.060Z"
   },
   {
    "duration": 3132,
    "start_time": "2024-02-11T09:42:43.963Z"
   },
   {
    "duration": 3254,
    "start_time": "2024-02-11T09:45:36.548Z"
   },
   {
    "duration": 3454,
    "start_time": "2024-02-11T09:45:50.240Z"
   },
   {
    "duration": 4,
    "start_time": "2024-02-11T09:49:17.734Z"
   },
   {
    "duration": 4434,
    "start_time": "2024-02-11T09:50:29.971Z"
   },
   {
    "duration": 86,
    "start_time": "2024-02-11T09:52:49.970Z"
   },
   {
    "duration": 74,
    "start_time": "2024-02-11T09:53:14.430Z"
   },
   {
    "duration": 4075,
    "start_time": "2024-02-11T09:53:39.548Z"
   },
   {
    "duration": 30560,
    "start_time": "2024-02-11T09:55:13.625Z"
   },
   {
    "duration": 4086,
    "start_time": "2024-02-11T09:56:41.845Z"
   },
   {
    "duration": 30316,
    "start_time": "2024-02-11T09:56:49.605Z"
   },
   {
    "duration": 7366,
    "start_time": "2024-02-11T10:10:02.871Z"
   },
   {
    "duration": 1243,
    "start_time": "2024-02-11T10:10:10.239Z"
   },
   {
    "duration": 3,
    "start_time": "2024-02-11T10:10:11.484Z"
   },
   {
    "duration": 8,
    "start_time": "2024-02-11T10:10:11.493Z"
   },
   {
    "duration": 968,
    "start_time": "2024-02-11T10:10:11.502Z"
   },
   {
    "duration": 126,
    "start_time": "2024-02-11T10:10:12.472Z"
   },
   {
    "duration": 289,
    "start_time": "2024-02-11T10:10:12.600Z"
   },
   {
    "duration": 322,
    "start_time": "2024-02-11T10:10:12.891Z"
   },
   {
    "duration": 36,
    "start_time": "2024-02-11T10:10:13.214Z"
   },
   {
    "duration": 44,
    "start_time": "2024-02-11T10:10:13.252Z"
   },
   {
    "duration": 34,
    "start_time": "2024-02-11T10:10:13.298Z"
   },
   {
    "duration": 38,
    "start_time": "2024-02-11T10:10:13.334Z"
   },
   {
    "duration": 65,
    "start_time": "2024-02-11T10:10:13.373Z"
   },
   {
    "duration": 2077,
    "start_time": "2024-02-11T10:10:13.439Z"
   },
   {
    "duration": 477,
    "start_time": "2024-02-11T10:10:15.518Z"
   },
   {
    "duration": 487,
    "start_time": "2024-02-11T10:10:15.996Z"
   },
   {
    "duration": 430,
    "start_time": "2024-02-11T10:10:16.485Z"
   },
   {
    "duration": 483,
    "start_time": "2024-02-11T10:10:16.917Z"
   },
   {
    "duration": 451,
    "start_time": "2024-02-11T10:10:17.402Z"
   },
   {
    "duration": 604,
    "start_time": "2024-02-11T10:10:17.854Z"
   },
   {
    "duration": 488,
    "start_time": "2024-02-11T10:10:18.460Z"
   },
   {
    "duration": 416,
    "start_time": "2024-02-11T10:10:18.949Z"
   },
   {
    "duration": 45,
    "start_time": "2024-02-11T10:10:19.366Z"
   },
   {
    "duration": 5625,
    "start_time": "2024-02-11T10:10:19.413Z"
   },
   {
    "duration": 17,
    "start_time": "2024-02-11T10:10:25.039Z"
   },
   {
    "duration": 249,
    "start_time": "2024-02-11T10:10:25.058Z"
   },
   {
    "duration": 376,
    "start_time": "2024-02-11T10:10:25.308Z"
   },
   {
    "duration": 135,
    "start_time": "2024-02-11T10:10:25.687Z"
   },
   {
    "duration": 4695,
    "start_time": "2024-02-11T10:10:25.823Z"
   },
   {
    "duration": 0,
    "start_time": "2024-02-11T10:10:30.519Z"
   },
   {
    "duration": 4409,
    "start_time": "2024-02-11T10:10:55.520Z"
   },
   {
    "duration": 4674,
    "start_time": "2024-02-11T10:11:17.448Z"
   },
   {
    "duration": 28466,
    "start_time": "2024-02-11T10:11:25.527Z"
   },
   {
    "duration": 1105929,
    "start_time": "2024-02-11T10:12:01.296Z"
   },
   {
    "duration": 85828,
    "start_time": "2024-02-11T10:30:56.491Z"
   },
   {
    "duration": 311392,
    "start_time": "2024-02-11T10:32:50.235Z"
   },
   {
    "duration": 8,
    "start_time": "2024-02-11T10:38:38.718Z"
   },
   {
    "duration": 40766,
    "start_time": "2024-02-11T10:38:49.067Z"
   },
   {
    "duration": 23873,
    "start_time": "2024-02-11T10:39:54.141Z"
   },
   {
    "duration": 251,
    "start_time": "2024-02-11T10:40:47.597Z"
   },
   {
    "duration": 135108,
    "start_time": "2024-02-11T10:41:28.318Z"
   },
   {
    "duration": 58522,
    "start_time": "2024-02-11T10:43:46.599Z"
   },
   {
    "duration": 14,
    "start_time": "2024-02-11T10:44:48.611Z"
   },
   {
    "duration": 18,
    "start_time": "2024-02-11T10:45:20.145Z"
   },
   {
    "duration": 103038,
    "start_time": "2024-02-11T10:45:48.867Z"
   },
   {
    "duration": 10406,
    "start_time": "2024-02-11T10:50:56.581Z"
   },
   {
    "duration": 1280,
    "start_time": "2024-02-11T10:51:06.990Z"
   },
   {
    "duration": 2,
    "start_time": "2024-02-11T10:51:08.272Z"
   },
   {
    "duration": 8,
    "start_time": "2024-02-11T10:51:08.276Z"
   },
   {
    "duration": 1026,
    "start_time": "2024-02-11T10:51:08.286Z"
   },
   {
    "duration": 160,
    "start_time": "2024-02-11T10:51:09.314Z"
   },
   {
    "duration": 289,
    "start_time": "2024-02-11T10:51:09.476Z"
   },
   {
    "duration": 339,
    "start_time": "2024-02-11T10:51:09.766Z"
   },
   {
    "duration": 42,
    "start_time": "2024-02-11T10:51:10.107Z"
   },
   {
    "duration": 47,
    "start_time": "2024-02-11T10:51:10.150Z"
   },
   {
    "duration": 55,
    "start_time": "2024-02-11T10:51:10.200Z"
   },
   {
    "duration": 70,
    "start_time": "2024-02-11T10:51:10.256Z"
   },
   {
    "duration": 36,
    "start_time": "2024-02-11T10:51:10.328Z"
   },
   {
    "duration": 2341,
    "start_time": "2024-02-11T10:51:10.367Z"
   },
   {
    "duration": 488,
    "start_time": "2024-02-11T10:51:12.710Z"
   },
   {
    "duration": 537,
    "start_time": "2024-02-11T10:51:13.200Z"
   },
   {
    "duration": 418,
    "start_time": "2024-02-11T10:51:13.738Z"
   },
   {
    "duration": 500,
    "start_time": "2024-02-11T10:51:14.158Z"
   },
   {
    "duration": 527,
    "start_time": "2024-02-11T10:51:14.659Z"
   },
   {
    "duration": 661,
    "start_time": "2024-02-11T10:51:15.188Z"
   },
   {
    "duration": 527,
    "start_time": "2024-02-11T10:51:15.851Z"
   },
   {
    "duration": 451,
    "start_time": "2024-02-11T10:51:16.379Z"
   },
   {
    "duration": 26,
    "start_time": "2024-02-11T10:51:16.832Z"
   },
   {
    "duration": 5954,
    "start_time": "2024-02-11T10:51:16.860Z"
   },
   {
    "duration": 19,
    "start_time": "2024-02-11T10:51:22.816Z"
   },
   {
    "duration": 242,
    "start_time": "2024-02-11T10:51:22.836Z"
   },
   {
    "duration": 401,
    "start_time": "2024-02-11T10:51:23.080Z"
   },
   {
    "duration": 147,
    "start_time": "2024-02-11T10:51:23.484Z"
   },
   {
    "duration": 4192,
    "start_time": "2024-02-11T10:51:23.633Z"
   },
   {
    "duration": 31722,
    "start_time": "2024-02-11T10:51:27.902Z"
   },
   {
    "duration": 6,
    "start_time": "2024-02-11T10:51:59.625Z"
   },
   {
    "duration": 543,
    "start_time": "2024-02-11T10:51:59.632Z"
   },
   {
    "duration": 80074,
    "start_time": "2024-02-11T10:53:00.246Z"
   },
   {
    "duration": 19,
    "start_time": "2024-02-11T10:54:48.571Z"
   },
   {
    "duration": 152029,
    "start_time": "2024-02-11T10:56:00.385Z"
   },
   {
    "duration": 7747,
    "start_time": "2024-02-11T10:58:47.082Z"
   },
   {
    "duration": 1243,
    "start_time": "2024-02-11T10:58:54.831Z"
   },
   {
    "duration": 2,
    "start_time": "2024-02-11T10:58:56.076Z"
   },
   {
    "duration": 30,
    "start_time": "2024-02-11T10:58:56.079Z"
   },
   {
    "duration": 1021,
    "start_time": "2024-02-11T10:58:56.111Z"
   },
   {
    "duration": 125,
    "start_time": "2024-02-11T10:58:57.133Z"
   },
   {
    "duration": 305,
    "start_time": "2024-02-11T10:58:57.259Z"
   },
   {
    "duration": 357,
    "start_time": "2024-02-11T10:58:57.565Z"
   },
   {
    "duration": 36,
    "start_time": "2024-02-11T10:58:57.923Z"
   },
   {
    "duration": 46,
    "start_time": "2024-02-11T10:58:57.960Z"
   },
   {
    "duration": 36,
    "start_time": "2024-02-11T10:58:58.008Z"
   },
   {
    "duration": 48,
    "start_time": "2024-02-11T10:58:58.046Z"
   },
   {
    "duration": 52,
    "start_time": "2024-02-11T10:58:58.096Z"
   },
   {
    "duration": 2303,
    "start_time": "2024-02-11T10:58:58.152Z"
   },
   {
    "duration": 498,
    "start_time": "2024-02-11T10:59:00.457Z"
   },
   {
    "duration": 532,
    "start_time": "2024-02-11T10:59:00.956Z"
   },
   {
    "duration": 463,
    "start_time": "2024-02-11T10:59:01.490Z"
   },
   {
    "duration": 508,
    "start_time": "2024-02-11T10:59:01.954Z"
   },
   {
    "duration": 510,
    "start_time": "2024-02-11T10:59:02.463Z"
   },
   {
    "duration": 605,
    "start_time": "2024-02-11T10:59:02.975Z"
   },
   {
    "duration": 543,
    "start_time": "2024-02-11T10:59:03.581Z"
   },
   {
    "duration": 427,
    "start_time": "2024-02-11T10:59:04.125Z"
   },
   {
    "duration": 29,
    "start_time": "2024-02-11T10:59:04.553Z"
   },
   {
    "duration": 5903,
    "start_time": "2024-02-11T10:59:04.583Z"
   },
   {
    "duration": 23,
    "start_time": "2024-02-11T10:59:10.488Z"
   },
   {
    "duration": 266,
    "start_time": "2024-02-11T10:59:10.513Z"
   },
   {
    "duration": 378,
    "start_time": "2024-02-11T10:59:10.781Z"
   },
   {
    "duration": 141,
    "start_time": "2024-02-11T10:59:11.160Z"
   },
   {
    "duration": 4322,
    "start_time": "2024-02-11T10:59:11.303Z"
   },
   {
    "duration": 30279,
    "start_time": "2024-02-11T10:59:15.696Z"
   },
   {
    "duration": 7833,
    "start_time": "2024-02-11T10:59:45.976Z"
   },
   {
    "duration": 10806,
    "start_time": "2024-02-11T11:02:34.502Z"
   },
   {
    "duration": 380193,
    "start_time": "2024-02-11T11:03:34.030Z"
   },
   {
    "duration": 7233,
    "start_time": "2024-02-11T11:10:35.356Z"
   },
   {
    "duration": 1259,
    "start_time": "2024-02-11T11:10:42.591Z"
   },
   {
    "duration": 2,
    "start_time": "2024-02-11T11:10:43.852Z"
   },
   {
    "duration": 20,
    "start_time": "2024-02-11T11:10:43.855Z"
   },
   {
    "duration": 970,
    "start_time": "2024-02-11T11:10:43.877Z"
   },
   {
    "duration": 130,
    "start_time": "2024-02-11T11:10:44.849Z"
   },
   {
    "duration": 320,
    "start_time": "2024-02-11T11:10:44.980Z"
   },
   {
    "duration": 333,
    "start_time": "2024-02-11T11:10:45.301Z"
   },
   {
    "duration": 35,
    "start_time": "2024-02-11T11:10:45.636Z"
   },
   {
    "duration": 48,
    "start_time": "2024-02-11T11:10:45.672Z"
   },
   {
    "duration": 36,
    "start_time": "2024-02-11T11:10:45.721Z"
   },
   {
    "duration": 49,
    "start_time": "2024-02-11T11:10:45.758Z"
   },
   {
    "duration": 35,
    "start_time": "2024-02-11T11:10:45.809Z"
   },
   {
    "duration": 2046,
    "start_time": "2024-02-11T11:10:45.848Z"
   },
   {
    "duration": 466,
    "start_time": "2024-02-11T11:10:47.895Z"
   },
   {
    "duration": 504,
    "start_time": "2024-02-11T11:10:48.362Z"
   },
   {
    "duration": 453,
    "start_time": "2024-02-11T11:10:48.867Z"
   },
   {
    "duration": 486,
    "start_time": "2024-02-11T11:10:49.321Z"
   },
   {
    "duration": 448,
    "start_time": "2024-02-11T11:10:49.809Z"
   },
   {
    "duration": 585,
    "start_time": "2024-02-11T11:10:50.258Z"
   },
   {
    "duration": 469,
    "start_time": "2024-02-11T11:10:50.844Z"
   },
   {
    "duration": 405,
    "start_time": "2024-02-11T11:10:51.314Z"
   },
   {
    "duration": 28,
    "start_time": "2024-02-11T11:10:51.721Z"
   },
   {
    "duration": 5572,
    "start_time": "2024-02-11T11:10:51.750Z"
   },
   {
    "duration": 18,
    "start_time": "2024-02-11T11:10:57.323Z"
   },
   {
    "duration": 252,
    "start_time": "2024-02-11T11:10:57.342Z"
   },
   {
    "duration": 381,
    "start_time": "2024-02-11T11:10:57.595Z"
   },
   {
    "duration": 152,
    "start_time": "2024-02-11T11:10:57.977Z"
   },
   {
    "duration": 4289,
    "start_time": "2024-02-11T11:10:58.131Z"
   },
   {
    "duration": 28857,
    "start_time": "2024-02-11T11:11:02.495Z"
   },
   {
    "duration": 16660,
    "start_time": "2024-02-11T11:11:31.354Z"
   },
   {
    "duration": 10709,
    "start_time": "2024-02-11T11:11:48.094Z"
   },
   {
    "duration": 56496,
    "start_time": "2024-02-11T11:11:58.805Z"
   },
   {
    "duration": 73,
    "start_time": "2024-02-11T11:20:32.381Z"
   },
   {
    "duration": 57069,
    "start_time": "2024-02-11T11:20:48.442Z"
   },
   {
    "duration": 120,
    "start_time": "2024-02-11T11:29:29.306Z"
   },
   {
    "duration": 4,
    "start_time": "2024-02-11T11:29:35.858Z"
   },
   {
    "duration": 10,
    "start_time": "2024-02-11T11:29:41.375Z"
   },
   {
    "duration": 21,
    "start_time": "2024-02-11T11:32:32.172Z"
   },
   {
    "duration": 9395,
    "start_time": "2024-02-11T11:32:34.258Z"
   },
   {
    "duration": 5,
    "start_time": "2024-02-11T11:32:44.587Z"
   },
   {
    "duration": 9563,
    "start_time": "2024-02-11T11:37:52.321Z"
   },
   {
    "duration": 1288,
    "start_time": "2024-02-11T11:38:01.886Z"
   },
   {
    "duration": 3,
    "start_time": "2024-02-11T11:38:03.176Z"
   },
   {
    "duration": 78,
    "start_time": "2024-02-11T11:38:03.181Z"
   },
   {
    "duration": 1025,
    "start_time": "2024-02-11T11:38:03.261Z"
   },
   {
    "duration": 126,
    "start_time": "2024-02-11T11:38:04.288Z"
   },
   {
    "duration": 284,
    "start_time": "2024-02-11T11:38:04.416Z"
   },
   {
    "duration": 337,
    "start_time": "2024-02-11T11:38:04.702Z"
   },
   {
    "duration": 40,
    "start_time": "2024-02-11T11:38:05.040Z"
   },
   {
    "duration": 56,
    "start_time": "2024-02-11T11:38:05.082Z"
   },
   {
    "duration": 71,
    "start_time": "2024-02-11T11:38:05.140Z"
   },
   {
    "duration": 56,
    "start_time": "2024-02-11T11:38:05.213Z"
   },
   {
    "duration": 45,
    "start_time": "2024-02-11T11:38:05.270Z"
   },
   {
    "duration": 2079,
    "start_time": "2024-02-11T11:38:05.316Z"
   },
   {
    "duration": 477,
    "start_time": "2024-02-11T11:38:07.396Z"
   },
   {
    "duration": 494,
    "start_time": "2024-02-11T11:38:07.874Z"
   },
   {
    "duration": 443,
    "start_time": "2024-02-11T11:38:08.369Z"
   },
   {
    "duration": 505,
    "start_time": "2024-02-11T11:38:08.813Z"
   },
   {
    "duration": 539,
    "start_time": "2024-02-11T11:38:09.319Z"
   },
   {
    "duration": 500,
    "start_time": "2024-02-11T11:38:09.859Z"
   },
   {
    "duration": 471,
    "start_time": "2024-02-11T11:38:10.360Z"
   },
   {
    "duration": 401,
    "start_time": "2024-02-11T11:38:10.833Z"
   },
   {
    "duration": 28,
    "start_time": "2024-02-11T11:38:11.235Z"
   },
   {
    "duration": 5773,
    "start_time": "2024-02-11T11:38:11.265Z"
   },
   {
    "duration": 17,
    "start_time": "2024-02-11T11:38:17.039Z"
   },
   {
    "duration": 243,
    "start_time": "2024-02-11T11:38:17.058Z"
   },
   {
    "duration": 377,
    "start_time": "2024-02-11T11:38:17.303Z"
   },
   {
    "duration": 90,
    "start_time": "2024-02-11T11:38:17.682Z"
   },
   {
    "duration": 4247,
    "start_time": "2024-02-11T11:38:17.773Z"
   },
   {
    "duration": 17210,
    "start_time": "2024-02-11T11:38:22.022Z"
   },
   {
    "duration": 47071,
    "start_time": "2024-02-11T11:38:39.234Z"
   },
   {
    "duration": 222748,
    "start_time": "2024-02-11T11:39:26.307Z"
   },
   {
    "duration": 0,
    "start_time": "2024-02-11T11:43:09.057Z"
   },
   {
    "duration": 9801,
    "start_time": "2024-02-11T11:43:40.017Z"
   },
   {
    "duration": 1238,
    "start_time": "2024-02-11T11:43:49.820Z"
   },
   {
    "duration": 3,
    "start_time": "2024-02-11T11:43:51.059Z"
   },
   {
    "duration": 25,
    "start_time": "2024-02-11T11:43:51.064Z"
   },
   {
    "duration": 1001,
    "start_time": "2024-02-11T11:43:51.091Z"
   },
   {
    "duration": 129,
    "start_time": "2024-02-11T11:43:52.094Z"
   },
   {
    "duration": 295,
    "start_time": "2024-02-11T11:43:52.224Z"
   },
   {
    "duration": 341,
    "start_time": "2024-02-11T11:43:52.523Z"
   },
   {
    "duration": 42,
    "start_time": "2024-02-11T11:43:52.865Z"
   },
   {
    "duration": 34,
    "start_time": "2024-02-11T11:43:52.910Z"
   },
   {
    "duration": 62,
    "start_time": "2024-02-11T11:43:52.945Z"
   },
   {
    "duration": 35,
    "start_time": "2024-02-11T11:43:53.009Z"
   },
   {
    "duration": 37,
    "start_time": "2024-02-11T11:43:53.046Z"
   },
   {
    "duration": 2186,
    "start_time": "2024-02-11T11:43:53.084Z"
   },
   {
    "duration": 478,
    "start_time": "2024-02-11T11:43:55.272Z"
   },
   {
    "duration": 518,
    "start_time": "2024-02-11T11:43:55.752Z"
   },
   {
    "duration": 414,
    "start_time": "2024-02-11T11:43:56.271Z"
   },
   {
    "duration": 453,
    "start_time": "2024-02-11T11:43:56.686Z"
   },
   {
    "duration": 561,
    "start_time": "2024-02-11T11:43:57.141Z"
   },
   {
    "duration": 513,
    "start_time": "2024-02-11T11:43:57.704Z"
   },
   {
    "duration": 490,
    "start_time": "2024-02-11T11:43:58.218Z"
   },
   {
    "duration": 422,
    "start_time": "2024-02-11T11:43:58.710Z"
   },
   {
    "duration": 27,
    "start_time": "2024-02-11T11:43:59.134Z"
   },
   {
    "duration": 5627,
    "start_time": "2024-02-11T11:43:59.163Z"
   },
   {
    "duration": 17,
    "start_time": "2024-02-11T11:44:04.792Z"
   },
   {
    "duration": 252,
    "start_time": "2024-02-11T11:44:04.810Z"
   },
   {
    "duration": 394,
    "start_time": "2024-02-11T11:44:05.064Z"
   },
   {
    "duration": 96,
    "start_time": "2024-02-11T11:44:05.461Z"
   },
   {
    "duration": 4374,
    "start_time": "2024-02-11T11:44:05.558Z"
   },
   {
    "duration": 17141,
    "start_time": "2024-02-11T11:44:09.995Z"
   },
   {
    "duration": 53268,
    "start_time": "2024-02-11T11:44:27.138Z"
   },
   {
    "duration": 112040,
    "start_time": "2024-02-11T11:45:20.408Z"
   },
   {
    "duration": 0,
    "start_time": "2024-02-11T11:47:12.450Z"
   },
   {
    "duration": 123,
    "start_time": "2024-02-11T11:47:21.682Z"
   },
   {
    "duration": 15,
    "start_time": "2024-02-11T11:47:26.050Z"
   },
   {
    "duration": 947,
    "start_time": "2024-02-11T11:48:05.135Z"
   },
   {
    "duration": 746,
    "start_time": "2024-02-11T11:48:09.096Z"
   },
   {
    "duration": 17,
    "start_time": "2024-02-11T11:48:09.844Z"
   },
   {
    "duration": 15062,
    "start_time": "2024-02-11T11:48:31.771Z"
   },
   {
    "duration": 9729,
    "start_time": "2024-02-11T11:48:58.098Z"
   },
   {
    "duration": 1344,
    "start_time": "2024-02-11T11:49:07.829Z"
   },
   {
    "duration": 2,
    "start_time": "2024-02-11T11:49:09.175Z"
   },
   {
    "duration": 15,
    "start_time": "2024-02-11T11:49:09.179Z"
   },
   {
    "duration": 1036,
    "start_time": "2024-02-11T11:49:09.196Z"
   },
   {
    "duration": 137,
    "start_time": "2024-02-11T11:49:10.233Z"
   },
   {
    "duration": 331,
    "start_time": "2024-02-11T11:49:10.371Z"
   },
   {
    "duration": 354,
    "start_time": "2024-02-11T11:49:10.703Z"
   },
   {
    "duration": 42,
    "start_time": "2024-02-11T11:49:11.059Z"
   },
   {
    "duration": 41,
    "start_time": "2024-02-11T11:49:11.102Z"
   },
   {
    "duration": 49,
    "start_time": "2024-02-11T11:49:11.145Z"
   },
   {
    "duration": 36,
    "start_time": "2024-02-11T11:49:11.195Z"
   },
   {
    "duration": 63,
    "start_time": "2024-02-11T11:49:11.233Z"
   },
   {
    "duration": 2238,
    "start_time": "2024-02-11T11:49:11.301Z"
   },
   {
    "duration": 483,
    "start_time": "2024-02-11T11:49:13.541Z"
   },
   {
    "duration": 539,
    "start_time": "2024-02-11T11:49:14.025Z"
   },
   {
    "duration": 442,
    "start_time": "2024-02-11T11:49:14.566Z"
   },
   {
    "duration": 527,
    "start_time": "2024-02-11T11:49:15.010Z"
   },
   {
    "duration": 557,
    "start_time": "2024-02-11T11:49:15.538Z"
   },
   {
    "duration": 534,
    "start_time": "2024-02-11T11:49:16.097Z"
   },
   {
    "duration": 482,
    "start_time": "2024-02-11T11:49:16.633Z"
   },
   {
    "duration": 420,
    "start_time": "2024-02-11T11:49:17.116Z"
   },
   {
    "duration": 26,
    "start_time": "2024-02-11T11:49:17.537Z"
   },
   {
    "duration": 5674,
    "start_time": "2024-02-11T11:49:17.564Z"
   },
   {
    "duration": 15,
    "start_time": "2024-02-11T11:49:23.239Z"
   },
   {
    "duration": 247,
    "start_time": "2024-02-11T11:49:23.256Z"
   },
   {
    "duration": 823,
    "start_time": "2024-02-11T11:49:23.505Z"
   },
   {
    "duration": 387,
    "start_time": "2024-02-11T11:49:24.330Z"
   },
   {
    "duration": 9926,
    "start_time": "2024-02-11T11:52:28.167Z"
   },
   {
    "duration": 1284,
    "start_time": "2024-02-11T11:52:38.095Z"
   },
   {
    "duration": 3,
    "start_time": "2024-02-11T11:52:39.380Z"
   },
   {
    "duration": 35,
    "start_time": "2024-02-11T11:52:39.384Z"
   },
   {
    "duration": 995,
    "start_time": "2024-02-11T11:52:39.421Z"
   },
   {
    "duration": 122,
    "start_time": "2024-02-11T11:52:40.418Z"
   },
   {
    "duration": 308,
    "start_time": "2024-02-11T11:52:40.541Z"
   },
   {
    "duration": 342,
    "start_time": "2024-02-11T11:52:40.850Z"
   },
   {
    "duration": 37,
    "start_time": "2024-02-11T11:52:41.194Z"
   },
   {
    "duration": 34,
    "start_time": "2024-02-11T11:52:41.233Z"
   },
   {
    "duration": 51,
    "start_time": "2024-02-11T11:52:41.269Z"
   },
   {
    "duration": 35,
    "start_time": "2024-02-11T11:52:41.322Z"
   },
   {
    "duration": 52,
    "start_time": "2024-02-11T11:52:41.359Z"
   },
   {
    "duration": 2186,
    "start_time": "2024-02-11T11:52:41.414Z"
   },
   {
    "duration": 471,
    "start_time": "2024-02-11T11:52:43.601Z"
   },
   {
    "duration": 507,
    "start_time": "2024-02-11T11:52:44.073Z"
   },
   {
    "duration": 446,
    "start_time": "2024-02-11T11:52:44.582Z"
   },
   {
    "duration": 500,
    "start_time": "2024-02-11T11:52:45.030Z"
   },
   {
    "duration": 529,
    "start_time": "2024-02-11T11:52:45.531Z"
   },
   {
    "duration": 497,
    "start_time": "2024-02-11T11:52:46.061Z"
   },
   {
    "duration": 519,
    "start_time": "2024-02-11T11:52:46.560Z"
   },
   {
    "duration": 453,
    "start_time": "2024-02-11T11:52:47.080Z"
   },
   {
    "duration": 24,
    "start_time": "2024-02-11T11:52:47.534Z"
   },
   {
    "duration": 5822,
    "start_time": "2024-02-11T11:52:47.560Z"
   },
   {
    "duration": 17,
    "start_time": "2024-02-11T11:52:53.383Z"
   },
   {
    "duration": 261,
    "start_time": "2024-02-11T11:52:53.401Z"
   },
   {
    "duration": 827,
    "start_time": "2024-02-11T11:52:53.664Z"
   },
   {
    "duration": 383,
    "start_time": "2024-02-11T11:52:54.492Z"
   },
   {
    "duration": 119234,
    "start_time": "2024-02-11T11:52:54.877Z"
   },
   {
    "duration": 0,
    "start_time": "2024-02-11T11:54:54.112Z"
   },
   {
    "duration": 0,
    "start_time": "2024-02-11T11:54:54.113Z"
   },
   {
    "duration": 0,
    "start_time": "2024-02-11T11:54:54.114Z"
   },
   {
    "duration": 0,
    "start_time": "2024-02-11T11:54:54.115Z"
   },
   {
    "duration": 64273,
    "start_time": "2024-02-11T11:54:59.819Z"
   },
   {
    "duration": 9764,
    "start_time": "2024-02-11T11:56:09.896Z"
   },
   {
    "duration": 1315,
    "start_time": "2024-02-11T11:56:19.662Z"
   },
   {
    "duration": 3,
    "start_time": "2024-02-11T11:56:20.979Z"
   },
   {
    "duration": 36,
    "start_time": "2024-02-11T11:56:20.983Z"
   },
   {
    "duration": 996,
    "start_time": "2024-02-11T11:56:21.022Z"
   },
   {
    "duration": 131,
    "start_time": "2024-02-11T11:56:22.019Z"
   },
   {
    "duration": 317,
    "start_time": "2024-02-11T11:56:22.152Z"
   },
   {
    "duration": 341,
    "start_time": "2024-02-11T11:56:22.471Z"
   },
   {
    "duration": 41,
    "start_time": "2024-02-11T11:56:22.813Z"
   },
   {
    "duration": 50,
    "start_time": "2024-02-11T11:56:22.855Z"
   },
   {
    "duration": 37,
    "start_time": "2024-02-11T11:56:22.907Z"
   },
   {
    "duration": 51,
    "start_time": "2024-02-11T11:56:22.946Z"
   },
   {
    "duration": 38,
    "start_time": "2024-02-11T11:56:22.998Z"
   },
   {
    "duration": 2221,
    "start_time": "2024-02-11T11:56:23.039Z"
   },
   {
    "duration": 501,
    "start_time": "2024-02-11T11:56:25.262Z"
   },
   {
    "duration": 504,
    "start_time": "2024-02-11T11:56:25.764Z"
   },
   {
    "duration": 433,
    "start_time": "2024-02-11T11:56:26.270Z"
   },
   {
    "duration": 519,
    "start_time": "2024-02-11T11:56:26.705Z"
   },
   {
    "duration": 527,
    "start_time": "2024-02-11T11:56:27.225Z"
   },
   {
    "duration": 527,
    "start_time": "2024-02-11T11:56:27.754Z"
   },
   {
    "duration": 504,
    "start_time": "2024-02-11T11:56:28.283Z"
   },
   {
    "duration": 444,
    "start_time": "2024-02-11T11:56:28.789Z"
   },
   {
    "duration": 28,
    "start_time": "2024-02-11T11:56:29.235Z"
   },
   {
    "duration": 5673,
    "start_time": "2024-02-11T11:56:29.265Z"
   },
   {
    "duration": 22,
    "start_time": "2024-02-11T11:56:34.939Z"
   },
   {
    "duration": 275,
    "start_time": "2024-02-11T11:56:34.962Z"
   },
   {
    "duration": 387,
    "start_time": "2024-02-11T11:56:35.239Z"
   },
   {
    "duration": 147,
    "start_time": "2024-02-11T11:56:35.628Z"
   },
   {
    "duration": 4818,
    "start_time": "2024-02-11T11:56:35.777Z"
   },
   {
    "duration": 18201,
    "start_time": "2024-02-11T11:56:40.598Z"
   },
   {
    "duration": 372,
    "start_time": "2024-02-11T11:56:58.801Z"
   },
   {
    "duration": 0,
    "start_time": "2024-02-11T11:56:59.175Z"
   },
   {
    "duration": 0,
    "start_time": "2024-02-11T11:56:59.177Z"
   },
   {
    "duration": 45568,
    "start_time": "2024-02-11T11:57:20.841Z"
   },
   {
    "duration": 9654,
    "start_time": "2024-02-11T11:58:53.068Z"
   },
   {
    "duration": 1275,
    "start_time": "2024-02-11T11:59:02.725Z"
   },
   {
    "duration": 2,
    "start_time": "2024-02-11T11:59:04.001Z"
   },
   {
    "duration": 34,
    "start_time": "2024-02-11T11:59:04.005Z"
   },
   {
    "duration": 1032,
    "start_time": "2024-02-11T11:59:04.041Z"
   },
   {
    "duration": 128,
    "start_time": "2024-02-11T11:59:05.074Z"
   },
   {
    "duration": 303,
    "start_time": "2024-02-11T11:59:05.204Z"
   },
   {
    "duration": 359,
    "start_time": "2024-02-11T11:59:05.509Z"
   },
   {
    "duration": 37,
    "start_time": "2024-02-11T11:59:05.870Z"
   },
   {
    "duration": 58,
    "start_time": "2024-02-11T11:59:05.908Z"
   },
   {
    "duration": 52,
    "start_time": "2024-02-11T11:59:05.967Z"
   },
   {
    "duration": 44,
    "start_time": "2024-02-11T11:59:06.020Z"
   },
   {
    "duration": 57,
    "start_time": "2024-02-11T11:59:06.066Z"
   },
   {
    "duration": 2158,
    "start_time": "2024-02-11T11:59:06.126Z"
   },
   {
    "duration": 489,
    "start_time": "2024-02-11T11:59:08.285Z"
   },
   {
    "duration": 497,
    "start_time": "2024-02-11T11:59:08.775Z"
   },
   {
    "duration": 446,
    "start_time": "2024-02-11T11:59:09.274Z"
   },
   {
    "duration": 492,
    "start_time": "2024-02-11T11:59:09.726Z"
   },
   {
    "duration": 512,
    "start_time": "2024-02-11T11:59:10.220Z"
   },
   {
    "duration": 529,
    "start_time": "2024-02-11T11:59:10.733Z"
   },
   {
    "duration": 490,
    "start_time": "2024-02-11T11:59:11.264Z"
   },
   {
    "duration": 402,
    "start_time": "2024-02-11T11:59:11.756Z"
   },
   {
    "duration": 40,
    "start_time": "2024-02-11T11:59:12.160Z"
   },
   {
    "duration": 5752,
    "start_time": "2024-02-11T11:59:12.202Z"
   },
   {
    "duration": 19,
    "start_time": "2024-02-11T11:59:17.956Z"
   },
   {
    "duration": 295,
    "start_time": "2024-02-11T11:59:17.976Z"
   },
   {
    "duration": 370,
    "start_time": "2024-02-11T11:59:18.272Z"
   },
   {
    "duration": 91,
    "start_time": "2024-02-11T11:59:18.644Z"
   },
   {
    "duration": 4359,
    "start_time": "2024-02-11T11:59:18.736Z"
   },
   {
    "duration": 17159,
    "start_time": "2024-02-11T11:59:23.097Z"
   },
   {
    "duration": 52447,
    "start_time": "2024-02-11T11:59:40.258Z"
   },
   {
    "duration": 9,
    "start_time": "2024-02-11T12:00:32.706Z"
   },
   {
    "duration": 9703,
    "start_time": "2024-02-11T12:28:22.218Z"
   },
   {
    "duration": 1259,
    "start_time": "2024-02-11T12:28:31.923Z"
   },
   {
    "duration": 3,
    "start_time": "2024-02-11T12:28:33.184Z"
   },
   {
    "duration": 21,
    "start_time": "2024-02-11T12:28:33.188Z"
   },
   {
    "duration": 1004,
    "start_time": "2024-02-11T12:28:33.210Z"
   },
   {
    "duration": 134,
    "start_time": "2024-02-11T12:28:34.216Z"
   },
   {
    "duration": 293,
    "start_time": "2024-02-11T12:28:34.352Z"
   },
   {
    "duration": 326,
    "start_time": "2024-02-11T12:28:34.647Z"
   },
   {
    "duration": 40,
    "start_time": "2024-02-11T12:28:34.974Z"
   },
   {
    "duration": 46,
    "start_time": "2024-02-11T12:28:35.018Z"
   },
   {
    "duration": 45,
    "start_time": "2024-02-11T12:28:35.065Z"
   },
   {
    "duration": 59,
    "start_time": "2024-02-11T12:28:35.112Z"
   },
   {
    "duration": 48,
    "start_time": "2024-02-11T12:28:35.172Z"
   },
   {
    "duration": 2185,
    "start_time": "2024-02-11T12:28:35.222Z"
   },
   {
    "duration": 467,
    "start_time": "2024-02-11T12:28:37.408Z"
   },
   {
    "duration": 520,
    "start_time": "2024-02-11T12:28:37.876Z"
   },
   {
    "duration": 449,
    "start_time": "2024-02-11T12:28:38.398Z"
   },
   {
    "duration": 473,
    "start_time": "2024-02-11T12:28:38.848Z"
   },
   {
    "duration": 508,
    "start_time": "2024-02-11T12:28:39.323Z"
   },
   {
    "duration": 528,
    "start_time": "2024-02-11T12:28:39.832Z"
   },
   {
    "duration": 505,
    "start_time": "2024-02-11T12:28:40.362Z"
   },
   {
    "duration": 404,
    "start_time": "2024-02-11T12:28:40.869Z"
   },
   {
    "duration": 38,
    "start_time": "2024-02-11T12:28:41.275Z"
   },
   {
    "duration": 5927,
    "start_time": "2024-02-11T12:28:41.315Z"
   },
   {
    "duration": 15,
    "start_time": "2024-02-11T12:28:47.244Z"
   },
   {
    "duration": 259,
    "start_time": "2024-02-11T12:28:47.260Z"
   },
   {
    "duration": 380,
    "start_time": "2024-02-11T12:28:47.521Z"
   },
   {
    "duration": 96,
    "start_time": "2024-02-11T12:28:47.904Z"
   },
   {
    "duration": 4292,
    "start_time": "2024-02-11T12:28:48.002Z"
   },
   {
    "duration": 17607,
    "start_time": "2024-02-11T12:28:52.297Z"
   },
   {
    "duration": 54904,
    "start_time": "2024-02-11T12:29:09.906Z"
   },
   {
    "duration": 9,
    "start_time": "2024-02-11T12:30:04.812Z"
   },
   {
    "duration": 55,
    "start_time": "2024-02-11T17:28:57.662Z"
   },
   {
    "duration": 13108,
    "start_time": "2024-02-11T17:29:12.166Z"
   },
   {
    "duration": 1415,
    "start_time": "2024-02-11T17:29:25.276Z"
   },
   {
    "duration": 2,
    "start_time": "2024-02-11T17:29:26.693Z"
   },
   {
    "duration": 7,
    "start_time": "2024-02-11T17:29:26.697Z"
   },
   {
    "duration": 1268,
    "start_time": "2024-02-11T17:29:26.706Z"
   },
   {
    "duration": 131,
    "start_time": "2024-02-11T17:29:27.975Z"
   },
   {
    "duration": 296,
    "start_time": "2024-02-11T17:29:28.108Z"
   },
   {
    "duration": 322,
    "start_time": "2024-02-11T17:29:28.406Z"
   },
   {
    "duration": 37,
    "start_time": "2024-02-11T17:29:28.730Z"
   },
   {
    "duration": 61,
    "start_time": "2024-02-11T17:29:28.769Z"
   },
   {
    "duration": 39,
    "start_time": "2024-02-11T17:29:28.832Z"
   },
   {
    "duration": 50,
    "start_time": "2024-02-11T17:29:28.872Z"
   },
   {
    "duration": 42,
    "start_time": "2024-02-11T17:29:28.923Z"
   },
   {
    "duration": 2067,
    "start_time": "2024-02-11T17:29:28.966Z"
   },
   {
    "duration": 517,
    "start_time": "2024-02-11T17:29:31.035Z"
   },
   {
    "duration": 477,
    "start_time": "2024-02-11T17:29:31.553Z"
   },
   {
    "duration": 458,
    "start_time": "2024-02-11T17:29:32.031Z"
   },
   {
    "duration": 502,
    "start_time": "2024-02-11T17:29:32.490Z"
   },
   {
    "duration": 542,
    "start_time": "2024-02-11T17:29:32.993Z"
   },
   {
    "duration": 501,
    "start_time": "2024-02-11T17:29:33.536Z"
   },
   {
    "duration": 496,
    "start_time": "2024-02-11T17:29:34.039Z"
   },
   {
    "duration": 437,
    "start_time": "2024-02-11T17:29:34.536Z"
   },
   {
    "duration": 29,
    "start_time": "2024-02-11T17:30:35.692Z"
   },
   {
    "duration": 5,
    "start_time": "2024-02-11T17:30:36.474Z"
   },
   {
    "duration": 5245,
    "start_time": "2024-02-11T17:31:03.387Z"
   },
   {
    "duration": 15,
    "start_time": "2024-02-11T17:35:42.244Z"
   },
   {
    "duration": 232,
    "start_time": "2024-02-11T17:35:43.327Z"
   },
   {
    "duration": 11,
    "start_time": "2024-02-11T17:35:56.247Z"
   },
   {
    "duration": 57,
    "start_time": "2024-02-11T17:36:46.747Z"
   },
   {
    "duration": 17,
    "start_time": "2024-02-11T17:38:49.350Z"
   },
   {
    "duration": 4,
    "start_time": "2024-02-11T17:38:53.948Z"
   },
   {
    "duration": 9,
    "start_time": "2024-02-11T17:39:09.972Z"
   },
   {
    "duration": 2,
    "start_time": "2024-02-11T17:39:53.160Z"
   },
   {
    "duration": 106,
    "start_time": "2024-02-11T17:40:17.055Z"
   },
   {
    "duration": 879,
    "start_time": "2024-02-11T17:40:45.742Z"
   },
   {
    "duration": 1129,
    "start_time": "2024-02-11T17:41:24.568Z"
   },
   {
    "duration": 154,
    "start_time": "2024-02-11T17:41:33.155Z"
   },
   {
    "duration": 2451,
    "start_time": "2024-02-11T17:42:03.045Z"
   },
   {
    "duration": 131,
    "start_time": "2024-02-11T17:42:11.659Z"
   },
   {
    "duration": 71,
    "start_time": "2024-02-11T17:42:49.921Z"
   },
   {
    "duration": 12,
    "start_time": "2024-02-11T17:47:14.705Z"
   },
   {
    "duration": 42819,
    "start_time": "2024-02-11T17:47:35.643Z"
   },
   {
    "duration": 47388,
    "start_time": "2024-02-11T17:49:43.807Z"
   },
   {
    "duration": 56005,
    "start_time": "2024-02-11T17:51:19.463Z"
   },
   {
    "duration": 55984,
    "start_time": "2024-02-11T17:53:22.869Z"
   },
   {
    "duration": 11,
    "start_time": "2024-02-11T17:55:05.468Z"
   },
   {
    "duration": 125109,
    "start_time": "2024-02-11T17:55:29.561Z"
   },
   {
    "duration": 12,
    "start_time": "2024-02-11T18:02:47.459Z"
   },
   {
    "duration": 58879,
    "start_time": "2024-02-11T18:02:58.898Z"
   },
   {
    "duration": 89,
    "start_time": "2024-02-11T18:05:03.625Z"
   },
   {
    "duration": 25,
    "start_time": "2024-02-11T18:05:26.968Z"
   },
   {
    "duration": 130336,
    "start_time": "2024-02-11T18:05:42.031Z"
   },
   {
    "duration": 10,
    "start_time": "2024-02-11T18:10:33.415Z"
   },
   {
    "duration": 61239,
    "start_time": "2024-02-11T18:10:44.129Z"
   },
   {
    "duration": 129936,
    "start_time": "2024-02-11T18:14:19.445Z"
   },
   {
    "duration": 50,
    "start_time": "2024-02-11T18:23:33.341Z"
   },
   {
    "duration": 33074,
    "start_time": "2024-02-11T18:30:38.721Z"
   },
   {
    "duration": 131650,
    "start_time": "2024-02-11T18:32:38.262Z"
   },
   {
    "duration": 133992,
    "start_time": "2024-02-11T18:37:21.907Z"
   },
   {
    "duration": 521132,
    "start_time": "2024-02-11T18:42:13.044Z"
   },
   {
    "duration": 9419,
    "start_time": "2024-02-11T18:51:26.659Z"
   },
   {
    "duration": 1271,
    "start_time": "2024-02-11T18:51:36.080Z"
   },
   {
    "duration": 5,
    "start_time": "2024-02-11T18:51:37.352Z"
   },
   {
    "duration": 28,
    "start_time": "2024-02-11T18:51:37.358Z"
   },
   {
    "duration": 1048,
    "start_time": "2024-02-11T18:51:37.387Z"
   },
   {
    "duration": 139,
    "start_time": "2024-02-11T18:51:38.436Z"
   },
   {
    "duration": 291,
    "start_time": "2024-02-11T18:51:38.576Z"
   },
   {
    "duration": 333,
    "start_time": "2024-02-11T18:51:38.869Z"
   },
   {
    "duration": 55,
    "start_time": "2024-02-11T18:51:39.203Z"
   },
   {
    "duration": 35,
    "start_time": "2024-02-11T18:51:39.266Z"
   },
   {
    "duration": 58,
    "start_time": "2024-02-11T18:51:39.302Z"
   },
   {
    "duration": 45,
    "start_time": "2024-02-11T18:51:39.362Z"
   },
   {
    "duration": 42,
    "start_time": "2024-02-11T18:51:39.409Z"
   },
   {
    "duration": 2115,
    "start_time": "2024-02-11T18:51:39.461Z"
   },
   {
    "duration": 450,
    "start_time": "2024-02-11T18:51:41.577Z"
   },
   {
    "duration": 498,
    "start_time": "2024-02-11T18:51:42.028Z"
   },
   {
    "duration": 454,
    "start_time": "2024-02-11T18:51:42.528Z"
   },
   {
    "duration": 500,
    "start_time": "2024-02-11T18:51:42.984Z"
   },
   {
    "duration": 517,
    "start_time": "2024-02-11T18:51:43.485Z"
   },
   {
    "duration": 498,
    "start_time": "2024-02-11T18:51:44.003Z"
   },
   {
    "duration": 471,
    "start_time": "2024-02-11T18:51:44.502Z"
   },
   {
    "duration": 411,
    "start_time": "2024-02-11T18:51:44.974Z"
   },
   {
    "duration": 25,
    "start_time": "2024-02-11T18:51:45.386Z"
   },
   {
    "duration": 5573,
    "start_time": "2024-02-11T18:51:45.413Z"
   },
   {
    "duration": 24,
    "start_time": "2024-02-11T18:51:50.987Z"
   },
   {
    "duration": 246,
    "start_time": "2024-02-11T18:51:51.012Z"
   },
   {
    "duration": 45,
    "start_time": "2024-02-11T18:51:51.259Z"
   },
   {
    "duration": 117080,
    "start_time": "2024-02-11T18:51:51.306Z"
   },
   {
    "duration": 136011,
    "start_time": "2024-02-11T18:53:48.387Z"
   },
   {
    "duration": 324203,
    "start_time": "2024-02-11T18:56:04.400Z"
   },
   {
    "duration": 0,
    "start_time": "2024-02-11T19:01:28.605Z"
   },
   {
    "duration": 23,
    "start_time": "2024-02-11T19:02:13.337Z"
   },
   {
    "duration": 9986,
    "start_time": "2024-02-11T19:07:54.827Z"
   },
   {
    "duration": 1238,
    "start_time": "2024-02-11T19:08:04.815Z"
   },
   {
    "duration": 4,
    "start_time": "2024-02-11T19:08:06.054Z"
   },
   {
    "duration": 32,
    "start_time": "2024-02-11T19:08:06.059Z"
   },
   {
    "duration": 1114,
    "start_time": "2024-02-11T19:08:06.092Z"
   },
   {
    "duration": 170,
    "start_time": "2024-02-11T19:08:07.207Z"
   },
   {
    "duration": 327,
    "start_time": "2024-02-11T19:08:07.379Z"
   },
   {
    "duration": 375,
    "start_time": "2024-02-11T19:08:07.708Z"
   },
   {
    "duration": 51,
    "start_time": "2024-02-11T19:08:08.085Z"
   },
   {
    "duration": 74,
    "start_time": "2024-02-11T19:08:08.137Z"
   },
   {
    "duration": 50,
    "start_time": "2024-02-11T19:08:08.213Z"
   },
   {
    "duration": 54,
    "start_time": "2024-02-11T19:08:08.264Z"
   },
   {
    "duration": 63,
    "start_time": "2024-02-11T19:08:08.320Z"
   },
   {
    "duration": 2331,
    "start_time": "2024-02-11T19:08:08.386Z"
   },
   {
    "duration": 508,
    "start_time": "2024-02-11T19:08:10.719Z"
   },
   {
    "duration": 531,
    "start_time": "2024-02-11T19:08:11.229Z"
   },
   {
    "duration": 450,
    "start_time": "2024-02-11T19:08:11.761Z"
   },
   {
    "duration": 483,
    "start_time": "2024-02-11T19:08:12.213Z"
   },
   {
    "duration": 605,
    "start_time": "2024-02-11T19:08:12.697Z"
   },
   {
    "duration": 522,
    "start_time": "2024-02-11T19:08:13.303Z"
   },
   {
    "duration": 545,
    "start_time": "2024-02-11T19:08:13.827Z"
   },
   {
    "duration": 428,
    "start_time": "2024-02-11T19:08:14.374Z"
   },
   {
    "duration": 25,
    "start_time": "2024-02-11T19:08:14.804Z"
   },
   {
    "duration": 5999,
    "start_time": "2024-02-11T19:08:14.831Z"
   },
   {
    "duration": 33,
    "start_time": "2024-02-11T19:08:20.832Z"
   },
   {
    "duration": 275,
    "start_time": "2024-02-11T19:08:20.866Z"
   },
   {
    "duration": 138,
    "start_time": "2024-02-11T19:08:21.145Z"
   },
   {
    "duration": 0,
    "start_time": "2024-02-11T19:08:21.285Z"
   },
   {
    "duration": 0,
    "start_time": "2024-02-11T19:08:21.286Z"
   },
   {
    "duration": 0,
    "start_time": "2024-02-11T19:08:21.287Z"
   },
   {
    "duration": 60,
    "start_time": "2024-02-11T19:08:55.936Z"
   },
   {
    "duration": 15432,
    "start_time": "2024-02-11T19:08:59.307Z"
   },
   {
    "duration": 65,
    "start_time": "2024-02-11T19:09:25.133Z"
   },
   {
    "duration": 10050,
    "start_time": "2024-02-11T19:09:30.185Z"
   },
   {
    "duration": 1347,
    "start_time": "2024-02-11T19:09:40.237Z"
   },
   {
    "duration": 3,
    "start_time": "2024-02-11T19:09:41.585Z"
   },
   {
    "duration": 51,
    "start_time": "2024-02-11T19:09:41.589Z"
   },
   {
    "duration": 1079,
    "start_time": "2024-02-11T19:09:41.642Z"
   },
   {
    "duration": 151,
    "start_time": "2024-02-11T19:09:42.722Z"
   },
   {
    "duration": 330,
    "start_time": "2024-02-11T19:09:42.876Z"
   },
   {
    "duration": 361,
    "start_time": "2024-02-11T19:09:43.207Z"
   },
   {
    "duration": 36,
    "start_time": "2024-02-11T19:09:43.569Z"
   },
   {
    "duration": 43,
    "start_time": "2024-02-11T19:09:43.607Z"
   },
   {
    "duration": 43,
    "start_time": "2024-02-11T19:09:43.653Z"
   },
   {
    "duration": 36,
    "start_time": "2024-02-11T19:09:43.697Z"
   },
   {
    "duration": 58,
    "start_time": "2024-02-11T19:09:43.735Z"
   },
   {
    "duration": 2283,
    "start_time": "2024-02-11T19:09:43.796Z"
   },
   {
    "duration": 494,
    "start_time": "2024-02-11T19:09:46.081Z"
   },
   {
    "duration": 494,
    "start_time": "2024-02-11T19:09:46.576Z"
   },
   {
    "duration": 429,
    "start_time": "2024-02-11T19:09:47.073Z"
   },
   {
    "duration": 506,
    "start_time": "2024-02-11T19:09:47.504Z"
   },
   {
    "duration": 576,
    "start_time": "2024-02-11T19:09:48.012Z"
   },
   {
    "duration": 535,
    "start_time": "2024-02-11T19:09:48.589Z"
   },
   {
    "duration": 546,
    "start_time": "2024-02-11T19:09:49.125Z"
   },
   {
    "duration": 443,
    "start_time": "2024-02-11T19:09:49.672Z"
   },
   {
    "duration": 47,
    "start_time": "2024-02-11T19:09:50.116Z"
   },
   {
    "duration": 6118,
    "start_time": "2024-02-11T19:09:50.164Z"
   },
   {
    "duration": 16,
    "start_time": "2024-02-11T19:09:56.284Z"
   },
   {
    "duration": 272,
    "start_time": "2024-02-11T19:09:56.302Z"
   },
   {
    "duration": 52,
    "start_time": "2024-02-11T19:09:56.575Z"
   },
   {
    "duration": 767707,
    "start_time": "2024-02-11T19:09:56.629Z"
   },
   {
    "duration": 0,
    "start_time": "2024-02-11T19:22:44.337Z"
   },
   {
    "duration": 230535,
    "start_time": "2024-02-11T19:23:43.841Z"
   },
   {
    "duration": 22702,
    "start_time": "2024-02-11T19:27:56.671Z"
   },
   {
    "duration": 93543,
    "start_time": "2024-02-11T19:30:16.318Z"
   },
   {
    "duration": 9,
    "start_time": "2024-02-11T19:34:44.669Z"
   },
   {
    "duration": 64,
    "start_time": "2024-02-11T19:36:08.968Z"
   },
   {
    "duration": 14,
    "start_time": "2024-02-11T19:37:01.536Z"
   },
   {
    "duration": 10,
    "start_time": "2024-02-11T19:37:31.718Z"
   },
   {
    "duration": 4,
    "start_time": "2024-02-11T19:38:15.507Z"
   },
   {
    "duration": 6655,
    "start_time": "2024-02-11T19:38:52.540Z"
   },
   {
    "duration": 121052,
    "start_time": "2024-02-11T19:40:49.661Z"
   },
   {
    "duration": 132159,
    "start_time": "2024-02-11T19:43:10.067Z"
   },
   {
    "duration": 508753,
    "start_time": "2024-02-11T19:46:53.324Z"
   },
   {
    "duration": 106,
    "start_time": "2024-02-11T19:55:41.598Z"
   },
   {
    "duration": 35351,
    "start_time": "2024-02-11T19:56:01.029Z"
   },
   {
    "duration": 39037,
    "start_time": "2024-02-11T19:57:05.440Z"
   },
   {
    "duration": 7807,
    "start_time": "2024-02-11T19:57:57.764Z"
   },
   {
    "duration": 6691,
    "start_time": "2024-02-11T19:58:19.977Z"
   },
   {
    "duration": 235144,
    "start_time": "2024-02-11T19:59:56.916Z"
   },
   {
    "duration": 170746,
    "start_time": "2024-02-11T20:04:31.818Z"
   },
   {
    "duration": 10,
    "start_time": "2024-02-11T20:10:36.692Z"
   },
   {
    "duration": 9,
    "start_time": "2024-02-11T20:11:06.539Z"
   },
   {
    "duration": 1046,
    "start_time": "2024-02-11T20:16:54.115Z"
   },
   {
    "duration": 973,
    "start_time": "2024-02-11T20:17:28.700Z"
   },
   {
    "duration": 1020,
    "start_time": "2024-02-11T20:18:20.557Z"
   },
   {
    "duration": 2068,
    "start_time": "2024-02-11T20:18:39.578Z"
   },
   {
    "duration": 5,
    "start_time": "2024-02-11T20:21:14.103Z"
   },
   {
    "duration": 1060,
    "start_time": "2024-02-11T20:21:19.695Z"
   },
   {
    "duration": 6,
    "start_time": "2024-02-11T20:22:39.741Z"
   },
   {
    "duration": 6,
    "start_time": "2024-02-11T20:23:27.553Z"
   },
   {
    "duration": 5,
    "start_time": "2024-02-11T20:23:47.290Z"
   },
   {
    "duration": 9,
    "start_time": "2024-02-11T20:29:23.307Z"
   },
   {
    "duration": 51,
    "start_time": "2024-02-11T20:31:14.703Z"
   },
   {
    "duration": 4,
    "start_time": "2024-02-11T20:32:22.962Z"
   },
   {
    "duration": 14632,
    "start_time": "2024-02-12T16:46:40.958Z"
   },
   {
    "duration": 1514,
    "start_time": "2024-02-12T16:46:55.593Z"
   },
   {
    "duration": 3,
    "start_time": "2024-02-12T16:46:57.108Z"
   },
   {
    "duration": 18,
    "start_time": "2024-02-12T16:46:57.113Z"
   },
   {
    "duration": 1281,
    "start_time": "2024-02-12T16:46:57.132Z"
   },
   {
    "duration": 128,
    "start_time": "2024-02-12T16:46:58.414Z"
   },
   {
    "duration": 352,
    "start_time": "2024-02-12T16:46:58.545Z"
   },
   {
    "duration": 346,
    "start_time": "2024-02-12T16:46:58.898Z"
   },
   {
    "duration": 40,
    "start_time": "2024-02-12T16:46:59.246Z"
   },
   {
    "duration": 50,
    "start_time": "2024-02-12T16:46:59.288Z"
   },
   {
    "duration": 40,
    "start_time": "2024-02-12T16:46:59.340Z"
   },
   {
    "duration": 62,
    "start_time": "2024-02-12T16:46:59.382Z"
   },
   {
    "duration": 43,
    "start_time": "2024-02-12T16:46:59.447Z"
   },
   {
    "duration": 2272,
    "start_time": "2024-02-12T16:47:05.126Z"
   },
   {
    "duration": 586,
    "start_time": "2024-02-12T16:47:07.399Z"
   },
   {
    "duration": 548,
    "start_time": "2024-02-12T16:47:07.986Z"
   },
   {
    "duration": 547,
    "start_time": "2024-02-12T16:47:28.303Z"
   },
   {
    "duration": 5,
    "start_time": "2024-02-12T16:49:20.332Z"
   },
   {
    "duration": 129,
    "start_time": "2024-02-12T16:49:35.932Z"
   },
   {
    "duration": 79,
    "start_time": "2024-02-12T16:51:36.665Z"
   },
   {
    "duration": 530,
    "start_time": "2024-02-12T16:52:07.650Z"
   },
   {
    "duration": 529,
    "start_time": "2024-02-12T16:58:14.667Z"
   },
   {
    "duration": 36,
    "start_time": "2024-02-12T17:00:45.663Z"
   },
   {
    "duration": 29,
    "start_time": "2024-02-12T17:00:46.253Z"
   },
   {
    "duration": 33,
    "start_time": "2024-02-12T17:00:46.416Z"
   },
   {
    "duration": 31,
    "start_time": "2024-02-12T17:00:46.585Z"
   },
   {
    "duration": 31,
    "start_time": "2024-02-12T17:00:46.752Z"
   },
   {
    "duration": 2058,
    "start_time": "2024-02-12T17:00:47.184Z"
   },
   {
    "duration": 486,
    "start_time": "2024-02-12T17:00:49.244Z"
   },
   {
    "duration": 540,
    "start_time": "2024-02-12T17:00:49.731Z"
   },
   {
    "duration": 484,
    "start_time": "2024-02-12T17:00:50.274Z"
   },
   {
    "duration": 604,
    "start_time": "2024-02-12T17:00:50.760Z"
   },
   {
    "duration": 517,
    "start_time": "2024-02-12T17:00:51.365Z"
   },
   {
    "duration": 513,
    "start_time": "2024-02-12T17:00:51.884Z"
   },
   {
    "duration": 542,
    "start_time": "2024-02-12T17:00:52.398Z"
   },
   {
    "duration": 414,
    "start_time": "2024-02-12T17:00:52.942Z"
   },
   {
    "duration": 18,
    "start_time": "2024-02-12T17:00:54.973Z"
   },
   {
    "duration": 5322,
    "start_time": "2024-02-12T17:01:00.211Z"
   },
   {
    "duration": 16,
    "start_time": "2024-02-12T17:01:29.039Z"
   },
   {
    "duration": 216,
    "start_time": "2024-02-12T17:01:30.001Z"
   },
   {
    "duration": 45,
    "start_time": "2024-02-12T17:01:57.738Z"
   },
   {
    "duration": 106121,
    "start_time": "2024-02-12T17:04:20.414Z"
   },
   {
    "duration": 113492,
    "start_time": "2024-02-12T17:06:40.196Z"
   },
   {
    "duration": 417989,
    "start_time": "2024-02-12T17:09:23.950Z"
   },
   {
    "duration": 10640,
    "start_time": "2024-02-12T17:16:32.344Z"
   },
   {
    "duration": 1417,
    "start_time": "2024-02-12T17:16:42.986Z"
   },
   {
    "duration": 2,
    "start_time": "2024-02-12T17:16:44.405Z"
   },
   {
    "duration": 36,
    "start_time": "2024-02-12T17:16:44.409Z"
   },
   {
    "duration": 1112,
    "start_time": "2024-02-12T17:16:44.446Z"
   },
   {
    "duration": 140,
    "start_time": "2024-02-12T17:16:45.560Z"
   },
   {
    "duration": 339,
    "start_time": "2024-02-12T17:16:45.701Z"
   },
   {
    "duration": 367,
    "start_time": "2024-02-12T17:16:46.042Z"
   },
   {
    "duration": 54,
    "start_time": "2024-02-12T17:16:46.411Z"
   },
   {
    "duration": 38,
    "start_time": "2024-02-12T17:16:46.468Z"
   },
   {
    "duration": 45,
    "start_time": "2024-02-12T17:16:46.522Z"
   },
   {
    "duration": 96,
    "start_time": "2024-02-12T17:16:46.569Z"
   },
   {
    "duration": 40,
    "start_time": "2024-02-12T17:16:46.666Z"
   },
   {
    "duration": 2378,
    "start_time": "2024-02-12T17:16:46.721Z"
   },
   {
    "duration": 535,
    "start_time": "2024-02-12T17:16:49.101Z"
   },
   {
    "duration": 599,
    "start_time": "2024-02-12T17:16:49.637Z"
   },
   {
    "duration": 443,
    "start_time": "2024-02-12T17:16:50.238Z"
   },
   {
    "duration": 539,
    "start_time": "2024-02-12T17:16:50.683Z"
   },
   {
    "duration": 481,
    "start_time": "2024-02-12T17:16:51.224Z"
   },
   {
    "duration": 602,
    "start_time": "2024-02-12T17:16:51.706Z"
   },
   {
    "duration": 541,
    "start_time": "2024-02-12T17:16:52.320Z"
   },
   {
    "duration": 409,
    "start_time": "2024-02-12T17:16:52.863Z"
   },
   {
    "duration": 19,
    "start_time": "2024-02-12T17:16:53.274Z"
   },
   {
    "duration": 5519,
    "start_time": "2024-02-12T17:16:53.295Z"
   },
   {
    "duration": 18,
    "start_time": "2024-02-12T17:16:58.822Z"
   },
   {
    "duration": 229,
    "start_time": "2024-02-12T17:16:58.842Z"
   },
   {
    "duration": 62,
    "start_time": "2024-02-12T17:16:59.073Z"
   },
   {
    "duration": 110832,
    "start_time": "2024-02-12T17:16:59.138Z"
   },
   {
    "duration": 112570,
    "start_time": "2024-02-12T17:18:49.971Z"
   },
   {
    "duration": 599801,
    "start_time": "2024-02-12T17:20:42.542Z"
   },
   {
    "duration": 10,
    "start_time": "2024-02-12T17:30:42.344Z"
   },
   {
    "duration": 975,
    "start_time": "2024-02-12T17:30:42.355Z"
   },
   {
    "duration": 8,
    "start_time": "2024-02-12T17:30:43.331Z"
   }
  ],
  "kernelspec": {
   "display_name": "Python 3 (ipykernel)",
   "language": "python",
   "name": "python3"
  },
  "language_info": {
   "codemirror_mode": {
    "name": "ipython",
    "version": 3
   },
   "file_extension": ".py",
   "mimetype": "text/x-python",
   "name": "python",
   "nbconvert_exporter": "python",
   "pygments_lexer": "ipython3",
   "version": "3.9.5"
  },
  "toc": {
   "base_numbering": 1,
   "nav_menu": {},
   "number_sections": true,
   "sideBar": true,
   "skip_h1_title": true,
   "title_cell": "Table of Contents",
   "title_sidebar": "Contents",
   "toc_cell": false,
   "toc_position": {
    "height": "calc(100% - 180px)",
    "left": "10px",
    "top": "150px",
    "width": "270.391px"
   },
   "toc_section_display": true,
   "toc_window_display": true
  }
 },
 "nbformat": 4,
 "nbformat_minor": 2
}
