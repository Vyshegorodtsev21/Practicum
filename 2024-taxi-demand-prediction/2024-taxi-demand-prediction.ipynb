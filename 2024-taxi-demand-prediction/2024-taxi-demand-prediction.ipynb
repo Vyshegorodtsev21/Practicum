{
 "cells": [
  {
   "cell_type": "markdown",
   "metadata": {},
   "source": [
    "#  Прогнозирования количества заказов такси на следующий час."
   ]
  },
  {
   "cell_type": "markdown",
   "metadata": {},
   "source": [
    "**Описание данных:**\n",
    "\n",
    "**Признаки**\n",
    "- `datetime` — Дата и время\n",
    "\n",
    "**Целевой признак**\n",
    "- `num_orders` — Количество заказов такси"
   ]
  },
  {
   "cell_type": "markdown",
   "metadata": {},
   "source": [
    "**Этапы работы**\n",
    "\n",
    "1. [Подготовка данных](#Подготовка)\n",
    "2. [Анализ данных](#Анализ)\n",
    "3. [Обучение моделей](#Обучение)\n",
    "4. [Тестирование модели](#Тестирование)"
   ]
  },
  {
   "cell_type": "markdown",
   "metadata": {},
   "source": [
    "**Цель:**\n",
    "\n",
    "Разработка модели прогнозирования количества заказов такси на следующий час на основе исторических данных компании \"Чётенькое такси\". Основная задача - предсказание пиковой нагрузки на такси для оптимизации работы водителей и улучшения обслуживания клиентов. Метрика успешности модели - значение RMSE на тестовой выборке, которое не должно превышать 48."
   ]
  },
  {
   "cell_type": "code",
   "execution_count": 1,
   "metadata": {},
   "outputs": [],
   "source": [
    "import os\n",
    "import time\n",
    "import pandas as pd\n",
    "import numpy as np\n",
    "import seaborn as sns\n",
    "import matplotlib.pyplot as plt\n",
    "\n",
    "from statsmodels.tsa.stattools import adfuller\n",
    "\n",
    "from statsmodels.tsa.seasonal import seasonal_decompose\n",
    "\n",
    "from sklearn.model_selection import train_test_split\n",
    "from sklearn.model_selection import TimeSeriesSplit\n",
    "from sklearn.model_selection import train_test_split\n",
    "from sklearn.pipeline import Pipeline\n",
    "from sklearn.preprocessing import StandardScaler, RobustScaler\n",
    "from sklearn.preprocessing import FunctionTransformer\n",
    "from sklearn.compose import ColumnTransformer\n",
    "from sklearn.impute import SimpleImputer\n",
    "from sklearn.metrics import mean_squared_error\n",
    "from sklearn.model_selection import GridSearchCV\n",
    "from sklearn.model_selection import cross_val_score\n",
    "from sklearn.linear_model import LinearRegression\n",
    "from sklearn.tree import DecisionTreeRegressor\n",
    "from itertools import product\n",
    "\n",
    "from statsmodels.tsa.arima.model import ARIMA\n",
    "\n",
    "from lightgbm import LGBMRegressor\n",
    "\n",
    "from sklearn.dummy import DummyRegressor\n",
    "\n",
    "from catboost import CatBoostRegressor\n",
    "\n",
    "import warnings\n",
    "\n",
    "warnings.filterwarnings(\"ignore\")"
   ]
  },
  {
   "cell_type": "code",
   "execution_count": 2,
   "metadata": {},
   "outputs": [],
   "source": [
    "RANDOM_STATE = 17\n",
    "tss = TimeSeriesSplit(n_splits=5)"
   ]
  },
  {
   "cell_type": "code",
   "execution_count": 3,
   "metadata": {},
   "outputs": [],
   "source": [
    "def build_hist_box_plot(df, col, xlabel, title):\n",
    "    \"\"\"\n",
    "    Строит гистограмму и бокс-плот для анализа распределения числовой переменной.\n",
    "\n",
    "    Параметры:\n",
    "    - df: DataFrame, содержащий данные.\n",
    "    - col: Название столбца, для которого строится гистограмма и бокс-плот.\n",
    "    - xlabel: Подпись оси x.\n",
    "    - title: Название графика.\n",
    "\n",
    "    Пример:\n",
    "    ```\n",
    "    build_hist_box_plot(data, 'age', 'Возраст', 'Распределение возраста в компании')\n",
    "    ```\n",
    "\n",
    "    \"\"\"\n",
    "    plt.figure(figsize=(13, 7))\n",
    "    \n",
    "    \n",
    "    plt.subplot(1, 2, 1)\n",
    "    sns.histplot(x=df[col], kde=False, bins=30)\n",
    "    plt.xlabel(xlabel)\n",
    "    \n",
    "    \n",
    "    plt.subplot(1, 2, 2)\n",
    "    sns.boxplot(x=df[col])\n",
    "    plt.ylabel('')\n",
    "    plt.xlabel(xlabel)\n",
    "    \n",
    "    plt.suptitle(title)\n",
    "    plt.tight_layout()\n",
    "    plt.show()\n",
    "    \n",
    "    display(df[col].describe())\n",
    "    \n",
    "\n",
    "    \n",
    "    \n",
    "def make_features(data, max_lag, rolling_mean_size):\n",
    "    \"\"\"\n",
    "    Добавляет новые признаки к DataFrame для анализа временных данных.\n",
    "\n",
    "    Параметры:\n",
    "    - data: DataFrame, содержащий временные данные.\n",
    "    - max_lag: Максимальная задержка (lag) для создания отстающих признаков.\n",
    "    - rolling_mean_size: Размер окна скользящего среднего для создания признака скользящего среднего.\n",
    "\n",
    "    Результат:\n",
    "    - Исходный DataFrame с добавленными признаками:\n",
    "        - 'month': Месяц из индекса.\n",
    "        - 'day': День месяца из индекса.\n",
    "        - 'hour': Час из индекса.\n",
    "        - 'dayofweek': День недели из индекса.\n",
    "        - 'lag_{lag}': Отстающий признак для количества заказов с задержкой в {lag} временных единиц.\n",
    "        - 'rolling_mean': Скользящее среднее для количества заказов.\n",
    "\n",
    "    Пример вызова:\n",
    "    ```\n",
    "    make_features(data, 7, 1)\n",
    "    ```\n",
    "\n",
    "    \"\"\"\n",
    "    improved_data = data.copy()\n",
    "    improved_data['day'] = improved_data.index.day\n",
    "    improved_data['hour'] = improved_data.index.hour\n",
    "    improved_data['dayofweek'] = improved_data.index.dayofweek\n",
    "    \n",
    "    for lag in range(1, max_lag + 1):\n",
    "        improved_data['lag_{}'.format(lag)] = improved_data['num_orders'].shift(lag)\n",
    "\n",
    "    improved_data['rolling_mean'] = improved_data['num_orders'].shift().rolling(rolling_mean_size).mean()\n",
    "    return improved_data"
   ]
  },
  {
   "cell_type": "markdown",
   "metadata": {},
   "source": [
    "## Подготовка"
   ]
  },
  {
   "cell_type": "markdown",
   "metadata": {},
   "source": [
    "### Загрузка данных"
   ]
  },
  {
   "cell_type": "code",
   "execution_count": 4,
   "metadata": {},
   "outputs": [],
   "source": [
    "pth1 = '/datasets/taxi.csv'\n",
    "\n",
    "if os.path.exists(pth1):\n",
    "    taxi = pd.read_csv(pth1, index_col=[0], parse_dates=[0])\n",
    "else:\n",
    "    print('There is no such file')\n",
    "    \n",
    "taxi.sort_index(inplace=True)"
   ]
  },
  {
   "cell_type": "code",
   "execution_count": 5,
   "metadata": {},
   "outputs": [
    {
     "data": {
      "text/html": [
       "<div>\n",
       "<style scoped>\n",
       "    .dataframe tbody tr th:only-of-type {\n",
       "        vertical-align: middle;\n",
       "    }\n",
       "\n",
       "    .dataframe tbody tr th {\n",
       "        vertical-align: top;\n",
       "    }\n",
       "\n",
       "    .dataframe thead th {\n",
       "        text-align: right;\n",
       "    }\n",
       "</style>\n",
       "<table border=\"1\" class=\"dataframe\">\n",
       "  <thead>\n",
       "    <tr style=\"text-align: right;\">\n",
       "      <th></th>\n",
       "      <th>num_orders</th>\n",
       "    </tr>\n",
       "    <tr>\n",
       "      <th>datetime</th>\n",
       "      <th></th>\n",
       "    </tr>\n",
       "  </thead>\n",
       "  <tbody>\n",
       "    <tr>\n",
       "      <th>2018-08-03 18:30:00</th>\n",
       "      <td>19</td>\n",
       "    </tr>\n",
       "    <tr>\n",
       "      <th>2018-05-08 08:40:00</th>\n",
       "      <td>15</td>\n",
       "    </tr>\n",
       "    <tr>\n",
       "      <th>2018-05-12 14:20:00</th>\n",
       "      <td>18</td>\n",
       "    </tr>\n",
       "    <tr>\n",
       "      <th>2018-08-15 15:40:00</th>\n",
       "      <td>18</td>\n",
       "    </tr>\n",
       "    <tr>\n",
       "      <th>2018-03-20 17:00:00</th>\n",
       "      <td>15</td>\n",
       "    </tr>\n",
       "  </tbody>\n",
       "</table>\n",
       "</div>"
      ],
      "text/plain": [
       "                     num_orders\n",
       "datetime                       \n",
       "2018-08-03 18:30:00          19\n",
       "2018-05-08 08:40:00          15\n",
       "2018-05-12 14:20:00          18\n",
       "2018-08-15 15:40:00          18\n",
       "2018-03-20 17:00:00          15"
      ]
     },
     "metadata": {},
     "output_type": "display_data"
    },
    {
     "name": "stdout",
     "output_type": "stream",
     "text": [
      "<class 'pandas.core.frame.DataFrame'>\n",
      "DatetimeIndex: 26496 entries, 2018-03-01 00:00:00 to 2018-08-31 23:50:00\n",
      "Data columns (total 1 columns):\n",
      " #   Column      Non-Null Count  Dtype\n",
      "---  ------      --------------  -----\n",
      " 0   num_orders  26496 non-null  int64\n",
      "dtypes: int64(1)\n",
      "memory usage: 414.0 KB\n"
     ]
    }
   ],
   "source": [
    "display(taxi.sample(5))\n",
    "taxi.info()"
   ]
  },
  {
   "cell_type": "markdown",
   "metadata": {},
   "source": [
    "Данные успешно загружены, пропущенных значений не обнаружено."
   ]
  },
  {
   "cell_type": "markdown",
   "metadata": {},
   "source": [
    "### Ресемплирование"
   ]
  },
  {
   "cell_type": "code",
   "execution_count": 6,
   "metadata": {},
   "outputs": [
    {
     "data": {
      "text/html": [
       "<div>\n",
       "<style scoped>\n",
       "    .dataframe tbody tr th:only-of-type {\n",
       "        vertical-align: middle;\n",
       "    }\n",
       "\n",
       "    .dataframe tbody tr th {\n",
       "        vertical-align: top;\n",
       "    }\n",
       "\n",
       "    .dataframe thead th {\n",
       "        text-align: right;\n",
       "    }\n",
       "</style>\n",
       "<table border=\"1\" class=\"dataframe\">\n",
       "  <thead>\n",
       "    <tr style=\"text-align: right;\">\n",
       "      <th></th>\n",
       "      <th>num_orders</th>\n",
       "    </tr>\n",
       "    <tr>\n",
       "      <th>datetime</th>\n",
       "      <th></th>\n",
       "    </tr>\n",
       "  </thead>\n",
       "  <tbody>\n",
       "    <tr>\n",
       "      <th>2018-03-01 00:00:00</th>\n",
       "      <td>124</td>\n",
       "    </tr>\n",
       "    <tr>\n",
       "      <th>2018-03-01 01:00:00</th>\n",
       "      <td>85</td>\n",
       "    </tr>\n",
       "    <tr>\n",
       "      <th>2018-03-01 02:00:00</th>\n",
       "      <td>71</td>\n",
       "    </tr>\n",
       "    <tr>\n",
       "      <th>2018-03-01 03:00:00</th>\n",
       "      <td>66</td>\n",
       "    </tr>\n",
       "    <tr>\n",
       "      <th>2018-03-01 04:00:00</th>\n",
       "      <td>43</td>\n",
       "    </tr>\n",
       "  </tbody>\n",
       "</table>\n",
       "</div>"
      ],
      "text/plain": [
       "                     num_orders\n",
       "datetime                       \n",
       "2018-03-01 00:00:00         124\n",
       "2018-03-01 01:00:00          85\n",
       "2018-03-01 02:00:00          71\n",
       "2018-03-01 03:00:00          66\n",
       "2018-03-01 04:00:00          43"
      ]
     },
     "execution_count": 6,
     "metadata": {},
     "output_type": "execute_result"
    }
   ],
   "source": [
    "taxi = taxi.resample('1H').sum()\n",
    "taxi.head(5)"
   ]
  },
  {
   "cell_type": "markdown",
   "metadata": {},
   "source": [
    "Ресемплирование выполнено успешно."
   ]
  },
  {
   "cell_type": "markdown",
   "metadata": {},
   "source": [
    "## Анализ"
   ]
  },
  {
   "cell_type": "markdown",
   "metadata": {},
   "source": [
    "### Временной промежуток исследования"
   ]
  },
  {
   "cell_type": "code",
   "execution_count": 7,
   "metadata": {},
   "outputs": [
    {
     "name": "stdout",
     "output_type": "stream",
     "text": [
      "Минимальная дата: 2018-03-01 00:00:00\n",
      "Максимальная дата: 2018-08-31 23:00:00\n"
     ]
    }
   ],
   "source": [
    "print(\"Минимальная дата:\", taxi.index.min())\n",
    "print(\"Максимальная дата:\", taxi.index.max())"
   ]
  },
  {
   "cell_type": "markdown",
   "metadata": {},
   "source": [
    "У нас имеются наблюдения с 1 марта по 31 августа 2018 года."
   ]
  },
  {
   "cell_type": "markdown",
   "metadata": {},
   "source": [
    "### Графики"
   ]
  },
  {
   "cell_type": "code",
   "execution_count": 8,
   "metadata": {},
   "outputs": [
    {
     "data": {
      "image/png": "[encoded data removed]",
      "text/plain": [
       "<Figure size 936x504 with 2 Axes>"
      ]
     },
     "metadata": {
      "needs_background": "light"
     },
     "output_type": "display_data"
    },
    {
     "data": {
      "text/plain": [
       "count    4416.000000\n",
       "mean       84.422781\n",
       "std        45.023853\n",
       "min         0.000000\n",
       "25%        54.000000\n",
       "50%        78.000000\n",
       "75%       107.000000\n",
       "max       462.000000\n",
       "Name: num_orders, dtype: float64"
      ]
     },
     "metadata": {},
     "output_type": "display_data"
    }
   ],
   "source": [
    "build_hist_box_plot(taxi, 'num_orders','Кол-во такси', 'Заказы такси в час')"
   ]
  },
  {
   "cell_type": "markdown",
   "metadata": {},
   "source": [
    "Минимальное количество заказов такси в час составляет 0, максимальное количество - 462, с медианным значением 78."
   ]
  },
  {
   "cell_type": "code",
   "execution_count": 9,
   "metadata": {},
   "outputs": [
    {
     "data": {
      "image/png": "[encoded data removed]",
      "text/plain": [
       "<Figure size 720x432 with 1 Axes>"
      ]
     },
     "metadata": {
      "needs_background": "light"
     },
     "output_type": "display_data"
    }
   ],
   "source": [
    "taxi['mean'] = taxi['num_orders'].shift().rolling(15).mean()\n",
    "taxi['std'] = taxi['num_orders'].shift().rolling(15).std()\n",
    "fig, ax = plt.subplots(figsize=(10, 6)) \n",
    "taxi.plot(ax=ax)\n",
    "ax.set_title('Заказы такси по периодам')\n",
    "ax.set_xlabel('Период')\n",
    "ax.set_ylabel('Кол-во такси')\n",
    "ax.grid(True)\n",
    "plt.show()\n",
    "taxi = taxi.drop(['mean', 'std'], axis = 1)"
   ]
  },
  {
   "cell_type": "markdown",
   "metadata": {},
   "source": [
    "По графику мы можем сделать вывод, что это нестационарный временной ряд, поскольку со временем меняются как среднее, так и стандартное отклонение. На протяжении всего наблюдаемого периода наблюдается рост среднего количества заказов такси в час от 10 до почти 30. Также наблюдается увеличение стандартного отклонения."
   ]
  },
  {
   "cell_type": "markdown",
   "metadata": {},
   "source": [
    "Проведем тест Дики — Фуллера\n",
    "- H_0: Ряд является нестационарным\n",
    "\n",
    "- H_1: Ряд является стационарным"
   ]
  },
  {
   "cell_type": "code",
   "execution_count": 10,
   "metadata": {},
   "outputs": [
    {
     "name": "stdout",
     "output_type": "stream",
     "text": [
      "p-значение: 0.028940051402612906\n",
      "\n",
      "Для alpha: 0.01\n",
      "Не отвергаем нулевую гипотезу, ряд нестационарен\n",
      "\n",
      "Для alpha: 0.05\n",
      "Отвергаем нулевую гипотезу, ряд стационарен\n"
     ]
    }
   ],
   "source": [
    "result = adfuller(taxi['num_orders'])\n",
    "p_value = result[1]\n",
    "\n",
    "print(\"p-значение:\", p_value)\n",
    "print()\n",
    "alpha = 0.01\n",
    "print(f'Для alpha: {alpha}')\n",
    "if p_value < alpha:\n",
    "    print(\"Отвергаем нулевую гипотезу, ряд стационарен\")\n",
    "else:\n",
    "    print(\"Не отвергаем нулевую гипотезу, ряд нестационарен\")\n",
    "print()\n",
    "alpha = 0.05\n",
    "print(f'Для alpha: {alpha}')\n",
    "if p_value < alpha:\n",
    "    print(\"Отвергаем нулевую гипотезу, ряд стационарен\")\n",
    "else:\n",
    "    print(\"Не отвергаем нулевую гипотезу, ряд нестационарен\")    "
   ]
  },
  {
   "cell_type": "markdown",
   "metadata": {},
   "source": [
    "При уровне значимости 1% ряд является нестационарным, а при уровне значимости 5% стационарным, это может означать, что у нас есть некоторые признаки стационарности, но они не настолько сильные, чтобы считать ряд стационарным при более высоком уровне значимости."
   ]
  },
  {
   "cell_type": "code",
   "execution_count": 11,
   "metadata": {},
   "outputs": [
    {
     "data": {
      "image/png": "[encoded data removed]",
      "text/plain": [
       "<Figure size 720x432 with 1 Axes>"
      ]
     },
     "metadata": {
      "needs_background": "light"
     },
     "output_type": "display_data"
    }
   ],
   "source": [
    "decomposed = seasonal_decompose(taxi) \n",
    "\n",
    "plt.figure(figsize=(10,6))\n",
    "decomposed.trend.plot()\n",
    "plt.xlabel('Период')\n",
    "plt.ylabel('Кол-во заказов такси')\n",
    "plt.title('Тренд');"
   ]
  },
  {
   "cell_type": "markdown",
   "metadata": {},
   "source": [
    "Наши предыдущие слова подтверждаются и графиком тренда. Мы можем наблюдать, что трендовая линия растет и достигает своего пика в конце августа. Можно предположить, что это связано с возвращением людей с отпусков."
   ]
  },
  {
   "cell_type": "markdown",
   "metadata": {},
   "source": [
    "Кроме того, следует отметить, что график сезонности за все время не выдаст ценной информации, так как у нас имеются данные за период менее одного года."
   ]
  },
  {
   "cell_type": "code",
   "execution_count": 12,
   "metadata": {},
   "outputs": [
    {
     "data": {
      "image/png": "[encoded data removed]",
      "text/plain": [
       "<Figure size 720x432 with 1 Axes>"
      ]
     },
     "metadata": {
      "needs_background": "light"
     },
     "output_type": "display_data"
    }
   ],
   "source": [
    "plt.figure(figsize=(10, 6))\n",
    "decomposed.seasonal['2018-03-01':'2018-03-15'].plot(ax=plt.gca())\n",
    "\n",
    "plt.xlabel('Дата')\n",
    "\n",
    "plt.title('Сезонность в разрезе 2х недель')\n",
    "plt.ylabel('Кол-во заказов такси')\n",
    "plt.show()"
   ]
  },
  {
   "cell_type": "markdown",
   "metadata": {},
   "source": [
    "По графику сезонности за две недели видно, что основные колебания происходят в течение дня. Изучим информацию в течение дня более подробно."
   ]
  },
  {
   "cell_type": "code",
   "execution_count": 13,
   "metadata": {},
   "outputs": [
    {
     "data": {
      "image/png": "[encoded data removed]",
      "text/plain": [
       "<Figure size 720x432 with 1 Axes>"
      ]
     },
     "metadata": {
      "needs_background": "light"
     },
     "output_type": "display_data"
    }
   ],
   "source": [
    "plt.figure(figsize=(10, 6))\n",
    "decomposed.seasonal['2018-05-01':'2018-05-02 00:00:00'].plot(ax=plt.gca())\n",
    "\n",
    "plt.xlabel('Часы')\n",
    "\n",
    "plt.title('Сезонность в разрезе одного дня')\n",
    "plt.ylabel('Кол-во заказов такси')\n",
    "plt.show()"
   ]
  },
  {
   "cell_type": "markdown",
   "metadata": {},
   "source": [
    "По графику видно, что пик заказов такси приходится на ночное время суток, а основной спад наблюдается в 6 утра. Вероятно, это связано с тем, что даже те, кто может рассчитывать на встречу со стороны родственников или друзкй, в определенные часы не в состоянии воспользоваться этой возможностью и вынуждены прибегнуть к заказу такси."
   ]
  },
  {
   "cell_type": "markdown",
   "metadata": {},
   "source": [
    "**Вывод:**\n",
    "- Наблюдения проводились с 1 марта по 31 августа 2018 года.\n",
    "- Минимальное количество заказов такси в час составляло 0, максимальное - 462, медианное - 78.\n",
    "- График показывает нестационарный временной ряд, с изменениями как в среднем, так и в стандартном отклонении.\n",
    "- Среднее количество заказов увеличивается со временем, достигая пика в конце августа, вероятно, связанного с возвращением людей с отпусков.\n",
    "- График сезонности за две недели показывает, что основные колебания происходят в течение дня, с пиком заказов в ночное время и спадом в 6 утра, что, вероятно, связано с ограничениями возможностей получить помощь от родственников или друзей."
   ]
  },
  {
   "cell_type": "markdown",
   "metadata": {},
   "source": [
    "## Обучение"
   ]
  },
  {
   "cell_type": "markdown",
   "metadata": {},
   "source": [
    "### Создание признаков"
   ]
  },
  {
   "cell_type": "code",
   "execution_count": 14,
   "metadata": {},
   "outputs": [
    {
     "data": {
      "text/html": [
       "<div>\n",
       "<style scoped>\n",
       "    .dataframe tbody tr th:only-of-type {\n",
       "        vertical-align: middle;\n",
       "    }\n",
       "\n",
       "    .dataframe tbody tr th {\n",
       "        vertical-align: top;\n",
       "    }\n",
       "\n",
       "    .dataframe thead th {\n",
       "        text-align: right;\n",
       "    }\n",
       "</style>\n",
       "<table border=\"1\" class=\"dataframe\">\n",
       "  <thead>\n",
       "    <tr style=\"text-align: right;\">\n",
       "      <th></th>\n",
       "      <th>num_orders</th>\n",
       "      <th>day</th>\n",
       "      <th>hour</th>\n",
       "      <th>dayofweek</th>\n",
       "      <th>lag_1</th>\n",
       "      <th>lag_2</th>\n",
       "      <th>lag_3</th>\n",
       "      <th>lag_4</th>\n",
       "      <th>lag_5</th>\n",
       "      <th>lag_6</th>\n",
       "      <th>...</th>\n",
       "      <th>lag_160</th>\n",
       "      <th>lag_161</th>\n",
       "      <th>lag_162</th>\n",
       "      <th>lag_163</th>\n",
       "      <th>lag_164</th>\n",
       "      <th>lag_165</th>\n",
       "      <th>lag_166</th>\n",
       "      <th>lag_167</th>\n",
       "      <th>lag_168</th>\n",
       "      <th>rolling_mean</th>\n",
       "    </tr>\n",
       "    <tr>\n",
       "      <th>datetime</th>\n",
       "      <th></th>\n",
       "      <th></th>\n",
       "      <th></th>\n",
       "      <th></th>\n",
       "      <th></th>\n",
       "      <th></th>\n",
       "      <th></th>\n",
       "      <th></th>\n",
       "      <th></th>\n",
       "      <th></th>\n",
       "      <th></th>\n",
       "      <th></th>\n",
       "      <th></th>\n",
       "      <th></th>\n",
       "      <th></th>\n",
       "      <th></th>\n",
       "      <th></th>\n",
       "      <th></th>\n",
       "      <th></th>\n",
       "      <th></th>\n",
       "      <th></th>\n",
       "    </tr>\n",
       "  </thead>\n",
       "  <tbody>\n",
       "    <tr>\n",
       "      <th>2018-03-01 00:00:00</th>\n",
       "      <td>124</td>\n",
       "      <td>1</td>\n",
       "      <td>0</td>\n",
       "      <td>3</td>\n",
       "      <td>NaN</td>\n",
       "      <td>NaN</td>\n",
       "      <td>NaN</td>\n",
       "      <td>NaN</td>\n",
       "      <td>NaN</td>\n",
       "      <td>NaN</td>\n",
       "      <td>...</td>\n",
       "      <td>NaN</td>\n",
       "      <td>NaN</td>\n",
       "      <td>NaN</td>\n",
       "      <td>NaN</td>\n",
       "      <td>NaN</td>\n",
       "      <td>NaN</td>\n",
       "      <td>NaN</td>\n",
       "      <td>NaN</td>\n",
       "      <td>NaN</td>\n",
       "      <td>NaN</td>\n",
       "    </tr>\n",
       "    <tr>\n",
       "      <th>2018-03-01 01:00:00</th>\n",
       "      <td>85</td>\n",
       "      <td>1</td>\n",
       "      <td>1</td>\n",
       "      <td>3</td>\n",
       "      <td>124.0</td>\n",
       "      <td>NaN</td>\n",
       "      <td>NaN</td>\n",
       "      <td>NaN</td>\n",
       "      <td>NaN</td>\n",
       "      <td>NaN</td>\n",
       "      <td>...</td>\n",
       "      <td>NaN</td>\n",
       "      <td>NaN</td>\n",
       "      <td>NaN</td>\n",
       "      <td>NaN</td>\n",
       "      <td>NaN</td>\n",
       "      <td>NaN</td>\n",
       "      <td>NaN</td>\n",
       "      <td>NaN</td>\n",
       "      <td>NaN</td>\n",
       "      <td>NaN</td>\n",
       "    </tr>\n",
       "    <tr>\n",
       "      <th>2018-03-01 02:00:00</th>\n",
       "      <td>71</td>\n",
       "      <td>1</td>\n",
       "      <td>2</td>\n",
       "      <td>3</td>\n",
       "      <td>85.0</td>\n",
       "      <td>124.0</td>\n",
       "      <td>NaN</td>\n",
       "      <td>NaN</td>\n",
       "      <td>NaN</td>\n",
       "      <td>NaN</td>\n",
       "      <td>...</td>\n",
       "      <td>NaN</td>\n",
       "      <td>NaN</td>\n",
       "      <td>NaN</td>\n",
       "      <td>NaN</td>\n",
       "      <td>NaN</td>\n",
       "      <td>NaN</td>\n",
       "      <td>NaN</td>\n",
       "      <td>NaN</td>\n",
       "      <td>NaN</td>\n",
       "      <td>NaN</td>\n",
       "    </tr>\n",
       "    <tr>\n",
       "      <th>2018-03-01 03:00:00</th>\n",
       "      <td>66</td>\n",
       "      <td>1</td>\n",
       "      <td>3</td>\n",
       "      <td>3</td>\n",
       "      <td>71.0</td>\n",
       "      <td>85.0</td>\n",
       "      <td>124.0</td>\n",
       "      <td>NaN</td>\n",
       "      <td>NaN</td>\n",
       "      <td>NaN</td>\n",
       "      <td>...</td>\n",
       "      <td>NaN</td>\n",
       "      <td>NaN</td>\n",
       "      <td>NaN</td>\n",
       "      <td>NaN</td>\n",
       "      <td>NaN</td>\n",
       "      <td>NaN</td>\n",
       "      <td>NaN</td>\n",
       "      <td>NaN</td>\n",
       "      <td>NaN</td>\n",
       "      <td>NaN</td>\n",
       "    </tr>\n",
       "    <tr>\n",
       "      <th>2018-03-01 04:00:00</th>\n",
       "      <td>43</td>\n",
       "      <td>1</td>\n",
       "      <td>4</td>\n",
       "      <td>3</td>\n",
       "      <td>66.0</td>\n",
       "      <td>71.0</td>\n",
       "      <td>85.0</td>\n",
       "      <td>124.0</td>\n",
       "      <td>NaN</td>\n",
       "      <td>NaN</td>\n",
       "      <td>...</td>\n",
       "      <td>NaN</td>\n",
       "      <td>NaN</td>\n",
       "      <td>NaN</td>\n",
       "      <td>NaN</td>\n",
       "      <td>NaN</td>\n",
       "      <td>NaN</td>\n",
       "      <td>NaN</td>\n",
       "      <td>NaN</td>\n",
       "      <td>NaN</td>\n",
       "      <td>NaN</td>\n",
       "    </tr>\n",
       "  </tbody>\n",
       "</table>\n",
       "<p>5 rows × 173 columns</p>\n",
       "</div>"
      ],
      "text/plain": [
       "                     num_orders  day  hour  dayofweek  lag_1  lag_2  lag_3  \\\n",
       "datetime                                                                     \n",
       "2018-03-01 00:00:00         124    1     0          3    NaN    NaN    NaN   \n",
       "2018-03-01 01:00:00          85    1     1          3  124.0    NaN    NaN   \n",
       "2018-03-01 02:00:00          71    1     2          3   85.0  124.0    NaN   \n",
       "2018-03-01 03:00:00          66    1     3          3   71.0   85.0  124.0   \n",
       "2018-03-01 04:00:00          43    1     4          3   66.0   71.0   85.0   \n",
       "\n",
       "                     lag_4  lag_5  lag_6  ...  lag_160  lag_161  lag_162  \\\n",
       "datetime                                  ...                              \n",
       "2018-03-01 00:00:00    NaN    NaN    NaN  ...      NaN      NaN      NaN   \n",
       "2018-03-01 01:00:00    NaN    NaN    NaN  ...      NaN      NaN      NaN   \n",
       "2018-03-01 02:00:00    NaN    NaN    NaN  ...      NaN      NaN      NaN   \n",
       "2018-03-01 03:00:00    NaN    NaN    NaN  ...      NaN      NaN      NaN   \n",
       "2018-03-01 04:00:00  124.0    NaN    NaN  ...      NaN      NaN      NaN   \n",
       "\n",
       "                     lag_163  lag_164  lag_165  lag_166  lag_167  lag_168  \\\n",
       "datetime                                                                    \n",
       "2018-03-01 00:00:00      NaN      NaN      NaN      NaN      NaN      NaN   \n",
       "2018-03-01 01:00:00      NaN      NaN      NaN      NaN      NaN      NaN   \n",
       "2018-03-01 02:00:00      NaN      NaN      NaN      NaN      NaN      NaN   \n",
       "2018-03-01 03:00:00      NaN      NaN      NaN      NaN      NaN      NaN   \n",
       "2018-03-01 04:00:00      NaN      NaN      NaN      NaN      NaN      NaN   \n",
       "\n",
       "                     rolling_mean  \n",
       "datetime                           \n",
       "2018-03-01 00:00:00           NaN  \n",
       "2018-03-01 01:00:00           NaN  \n",
       "2018-03-01 02:00:00           NaN  \n",
       "2018-03-01 03:00:00           NaN  \n",
       "2018-03-01 04:00:00           NaN  \n",
       "\n",
       "[5 rows x 173 columns]"
      ]
     },
     "execution_count": 14,
     "metadata": {},
     "output_type": "execute_result"
    }
   ],
   "source": [
    "taxi_featured = make_features(taxi, 168, 24)\n",
    "taxi_featured.head(5)"
   ]
  },
  {
   "cell_type": "markdown",
   "metadata": {},
   "source": [
    "### Деление на выборки"
   ]
  },
  {
   "cell_type": "code",
   "execution_count": 15,
   "metadata": {},
   "outputs": [],
   "source": [
    "train, test = train_test_split(taxi_featured, shuffle=False, test_size=0.1)\n",
    "train = train.dropna()\n",
    "\n",
    "features_train = train.drop('num_orders', axis = 1)\n",
    "target_train = train['num_orders']\n",
    "features_test = test.drop('num_orders', axis = 1)\n",
    "target_test = test['num_orders']"
   ]
  },
  {
   "cell_type": "markdown",
   "metadata": {},
   "source": [
    "### Подбор модели"
   ]
  },
  {
   "cell_type": "markdown",
   "metadata": {},
   "source": [
    "**LinearRegression**"
   ]
  },
  {
   "cell_type": "code",
   "execution_count": 16,
   "metadata": {},
   "outputs": [
    {
     "name": "stdout",
     "output_type": "stream",
     "text": [
      "Время обучения LinearRegression: 0.30522680282592773\n",
      "RMSE LinearRegression: 22.54896747652147\n",
      "Лучшая модель:\n",
      "Pipeline(steps=[('scaler', StandardScaler()),\n",
      "                ('regressor', LinearRegression())])\n"
     ]
    }
   ],
   "source": [
    "model_lr = LinearRegression()\n",
    "\n",
    "pipeline_lr = Pipeline([\n",
    "    ('scaler', StandardScaler()),\n",
    "    ('regressor', model_lr) \n",
    "])\n",
    "\n",
    "param_grid_lr = {\n",
    "     'scaler': [StandardScaler(), RobustScaler(), None]\n",
    "}\n",
    "\n",
    "grid_search_lr = GridSearchCV(pipeline_lr, param_grid_lr, cv=tss, scoring='neg_root_mean_squared_error')\n",
    "grid_search_lr.fit(features_train, target_train)\n",
    "\n",
    "best_pipeline_lr = grid_search_lr.best_estimator_\n",
    "target_predict_train = best_pipeline_lr.predict(features_train)\n",
    "rmse_score_lr = grid_search_lr.best_score_ * -1\n",
    "training_time_lr = grid_search_lr.refit_time_\n",
    "\n",
    "print(\"Время обучения LinearRegression:\", training_time_lr)\n",
    "print(\"RMSE LinearRegression:\", rmse_score_lr)\n",
    "print(\"Лучшая модель:\")\n",
    "print(best_pipeline_lr)"
   ]
  },
  {
   "cell_type": "markdown",
   "metadata": {},
   "source": [
    "**DecisionTreeRegressor**"
   ]
  },
  {
   "cell_type": "code",
   "execution_count": 17,
   "metadata": {},
   "outputs": [
    {
     "name": "stdout",
     "output_type": "stream",
     "text": [
      "Время обучения DecisionTreeRegressor: 0.18384075164794922\n",
      "RMSE DecisionTreeRegressor: 27.601654857465537\n",
      "Лучшая модель DecisionTreeRegressor:\n",
      "Pipeline(steps=[('scaler', None),\n",
      "                ('regressor',\n",
      "                 DecisionTreeRegressor(max_depth=5, random_state=17))])\n"
     ]
    }
   ],
   "source": [
    "model_dt = DecisionTreeRegressor(random_state=RANDOM_STATE)\n",
    "\n",
    "pipeline_dt = Pipeline([\n",
    "    ('scaler', StandardScaler()),\n",
    "    ('regressor', model_dt) \n",
    "])\n",
    "\n",
    "param_grid_dt = {\n",
    "    'scaler': [StandardScaler(), RobustScaler(), None],\n",
    "    'regressor__max_depth': [5, 10, 15]\n",
    "}\n",
    "\n",
    "grid_search_dt = GridSearchCV(pipeline_dt, param_grid_dt, cv=tss, scoring='neg_root_mean_squared_error')\n",
    "grid_search_dt.fit(features_train, target_train)\n",
    "\n",
    "best_pipeline_dt = grid_search_dt.best_estimator_\n",
    "target_predict_train = best_pipeline_dt.predict(features_train)\n",
    "rmse_score_dt = grid_search_dt.best_score_ * -1\n",
    "training_time_dt = grid_search_dt.refit_time_\n",
    "\n",
    "print(\"Время обучения DecisionTreeRegressor:\", training_time_dt)\n",
    "print(\"RMSE DecisionTreeRegressor:\", rmse_score_dt)\n",
    "print(\"Лучшая модель DecisionTreeRegressor:\")\n",
    "print(best_pipeline_dt)"
   ]
  },
  {
   "cell_type": "markdown",
   "metadata": {},
   "source": [
    "**LGBMRegressor**"
   ]
  },
  {
   "cell_type": "code",
   "execution_count": 18,
   "metadata": {},
   "outputs": [
    {
     "name": "stdout",
     "output_type": "stream",
     "text": [
      "Время обучения LGBMRegressor: 15.500266790390015\n",
      "RMSE LGBMRegressor: 23.12003652889625\n",
      "Лучшая модель LGBMRegressor:\n",
      "Pipeline(steps=[('scaler', StandardScaler(with_mean=False)),\n",
      "                ('regressor', LGBMRegressor(num_leaves=100, random_state=17))])\n"
     ]
    }
   ],
   "source": [
    "model_lgbm = LGBMRegressor(random_state=RANDOM_STATE)\n",
    "\n",
    "pipeline_lgbm = Pipeline([\n",
    "    ('scaler', StandardScaler(with_mean=False)),\n",
    "    ('regressor', model_lgbm)\n",
    "])\n",
    "\n",
    "param_grid_lgbm = {\n",
    "    'scaler': [StandardScaler(with_mean=False), None],\n",
    "    'regressor__num_leaves': [50, 100] \n",
    "}\n",
    "\n",
    "grid_search_lgbm = GridSearchCV(pipeline_lgbm, param_grid_lgbm, cv=tss, scoring='neg_root_mean_squared_error')\n",
    "grid_search_lgbm.fit(features_train, target_train)\n",
    "\n",
    "\n",
    "best_pipeline_lgbm = grid_search_lgbm.best_estimator_ \n",
    "target_predict_train_lgbm = best_pipeline_lgbm.predict(features_train)\n",
    "rmse_score_lgbm = grid_search_lgbm.best_score_ * -1\n",
    "training_time_lgbm = grid_search_lgbm.refit_time_\n",
    "\n",
    "print(\"Время обучения LGBMRegressor:\", training_time_lgbm)\n",
    "print(\"RMSE LGBMRegressor:\", rmse_score_lgbm)\n",
    "print(\"Лучшая модель LGBMRegressor:\")\n",
    "print(best_pipeline_lgbm)"
   ]
  },
  {
   "cell_type": "markdown",
   "metadata": {},
   "source": [
    "**CatBoostRegressor**"
   ]
  },
  {
   "cell_type": "code",
   "execution_count": 19,
   "metadata": {
    "scrolled": true
   },
   "outputs": [
    {
     "name": "stdout",
     "output_type": "stream",
     "text": [
      "Время обучения CatBoostRegressor: 2.0913965702056885\n",
      "RMSE CatBoostRegressor: 22.511762659284717\n",
      "Лучшая модель CatBoostRegressor:\n",
      "Pipeline(steps=[('scaler', StandardScaler(with_mean=False)),\n",
      "                ('regressor',\n",
      "                 <catboost.core.CatBoostRegressor object at 0x7ff0f963f730>)])\n"
     ]
    }
   ],
   "source": [
    "model_catboost = CatBoostRegressor(random_state=RANDOM_STATE, verbose=False)\n",
    "\n",
    "pipeline_catboost = Pipeline([\n",
    "    ('scaler', StandardScaler(with_mean=False)),\n",
    "    ('regressor', model_catboost)\n",
    "])\n",
    "\n",
    "param_grid_catboost = {\n",
    "    'scaler': [StandardScaler(with_mean=False), None],\n",
    "    'regressor__iterations': [100, 200], \n",
    "    'regressor__learning_rate': [0.01, 0.1],\n",
    "    'regressor__depth': [4, 6]\n",
    "}\n",
    "\n",
    "grid_search_catboost = GridSearchCV(pipeline_catboost, param_grid_catboost, cv=tss, scoring='neg_root_mean_squared_error')\n",
    "grid_search_catboost.fit(features_train, target_train)\n",
    "\n",
    "\n",
    "\n",
    "best_pipeline_catboost = grid_search_catboost.best_estimator_\n",
    "target_predict_train_catboost = best_pipeline_catboost.predict(features_train)\n",
    "rmse_score_catboost = grid_search_catboost.best_score_ * -1\n",
    "training_time_catboost = grid_search_catboost.refit_time_\n",
    "\n",
    "print(\"Время обучения CatBoostRegressor:\", training_time_catboost)\n",
    "print(\"RMSE CatBoostRegressor:\", rmse_score_catboost)\n",
    "print(\"Лучшая модель CatBoostRegressor:\")\n",
    "print(best_pipeline_catboost)"
   ]
  },
  {
   "cell_type": "markdown",
   "metadata": {},
   "source": [
    "**Arima**"
   ]
  },
  {
   "cell_type": "code",
   "execution_count": 20,
   "metadata": {},
   "outputs": [
    {
     "name": "stdout",
     "output_type": "stream",
     "text": [
      "Время обучения Arima: 4.779909610748291\n",
      "RMSE Arima: 35.984309086869644\n"
     ]
    }
   ],
   "source": [
    "train_a, test_a = train_test_split(taxi, shuffle=False, test_size=0.1)\n",
    "model = ARIMA(train['num_orders'], order=(2, 1, 2))\n",
    "rmse_list = []\n",
    "start_time = time.time()\n",
    "model_fit = model.fit()\n",
    "end_time = time.time()\n",
    "training_time_arima = end_time - start_time\n",
    "\n",
    "\n",
    "for train_index, test_index in tss.split(train_a):\n",
    "    train_cv, test_cv = train_a.iloc[train_index], train_a.iloc[test_index]\n",
    "    \n",
    "    model_cv = ARIMA(train_cv['num_orders'], order=(2, 1, 2))\n",
    "    model_cv_fit = model_cv.fit()\n",
    "    \n",
    "    predictions = model_cv_fit.forecast(steps=len(test_cv))\n",
    "\n",
    "    rmse_list.append(np.sqrt(mean_squared_error(test_cv['num_orders'], predictions)))\n",
    "rmse_score_arima = sum(rmse_list) / len(rmse_list)\n",
    "\n",
    "print(\"Время обучения Arima:\", training_time_arima)\n",
    "print(\"RMSE Arima:\", rmse_score_arima)"
   ]
  },
  {
   "cell_type": "markdown",
   "metadata": {},
   "source": [
    "### Анализ результатов"
   ]
  },
  {
   "cell_type": "code",
   "execution_count": 21,
   "metadata": {},
   "outputs": [
    {
     "data": {
      "text/html": [
       "<div>\n",
       "<style scoped>\n",
       "    .dataframe tbody tr th:only-of-type {\n",
       "        vertical-align: middle;\n",
       "    }\n",
       "\n",
       "    .dataframe tbody tr th {\n",
       "        vertical-align: top;\n",
       "    }\n",
       "\n",
       "    .dataframe thead th {\n",
       "        text-align: right;\n",
       "    }\n",
       "</style>\n",
       "<table border=\"1\" class=\"dataframe\">\n",
       "  <thead>\n",
       "    <tr style=\"text-align: right;\">\n",
       "      <th></th>\n",
       "      <th>RMSE</th>\n",
       "      <th>Время обучения модели</th>\n",
       "    </tr>\n",
       "  </thead>\n",
       "  <tbody>\n",
       "    <tr>\n",
       "      <th>CatBoost</th>\n",
       "      <td>22.511763</td>\n",
       "      <td>2.091397</td>\n",
       "    </tr>\n",
       "    <tr>\n",
       "      <th>LinearRegression</th>\n",
       "      <td>22.548967</td>\n",
       "      <td>0.305227</td>\n",
       "    </tr>\n",
       "    <tr>\n",
       "      <th>LGBMRegressor</th>\n",
       "      <td>23.120037</td>\n",
       "      <td>15.500267</td>\n",
       "    </tr>\n",
       "    <tr>\n",
       "      <th>DecisionTreeRegressor</th>\n",
       "      <td>27.601655</td>\n",
       "      <td>0.183841</td>\n",
       "    </tr>\n",
       "    <tr>\n",
       "      <th>Arima</th>\n",
       "      <td>35.984309</td>\n",
       "      <td>4.779910</td>\n",
       "    </tr>\n",
       "  </tbody>\n",
       "</table>\n",
       "</div>"
      ],
      "text/plain": [
       "                            RMSE  Время обучения модели\n",
       "CatBoost               22.511763               2.091397\n",
       "LinearRegression       22.548967               0.305227\n",
       "LGBMRegressor          23.120037              15.500267\n",
       "DecisionTreeRegressor  27.601655               0.183841\n",
       "Arima                  35.984309               4.779910"
      ]
     },
     "execution_count": 21,
     "metadata": {},
     "output_type": "execute_result"
    }
   ],
   "source": [
    "index = ['LinearRegression',\n",
    "         'DecisionTreeRegressor',\n",
    "         'LGBMRegressor',\n",
    "         'CatBoost',\n",
    "         'Arima']\n",
    "\n",
    "data = {'RMSE':[rmse_score_lr,\n",
    "                rmse_score_dt,\n",
    "                rmse_score_lgbm,\n",
    "                rmse_score_catboost,\n",
    "                rmse_score_arima],\n",
    "        \n",
    "        'Время обучения модели':[training_time_lr,\n",
    "                                 training_time_dt,\n",
    "                                 training_time_lgbm,\n",
    "                                 training_time_catboost,\n",
    "                                 training_time_arima]\n",
    "       }\n",
    "model_rating = pd.DataFrame(data=data, index=index)\n",
    "model_rating.sort_values(by=['RMSE'])"
   ]
  },
  {
   "cell_type": "markdown",
   "metadata": {},
   "source": [
    "**Вывод:**\n",
    "\n",
    "Обучив 5 моделей машинного обучения, можно сделать вывод, что модель CatBoost демонстрирует наилучшее качество по метрике RMSE, достигшее 22.51. Стоит отметить, что время обучения этой модели составляет 2 секунд, что не является лучшим показателем среди рассмотренных моделей. Однако, учитывая, что время обучения не является критическим фактором для заказчика, рекомендуется выбрать модель CatBoost для дальнейшего использования, поскольку она обеспечивает наилучшее качество прогнозирования."
   ]
  },
  {
   "cell_type": "markdown",
   "metadata": {},
   "source": [
    "## Тестирование"
   ]
  },
  {
   "cell_type": "markdown",
   "metadata": {},
   "source": [
    "### Проверка лучшей модели на тестовых данных"
   ]
  },
  {
   "cell_type": "code",
   "execution_count": 22,
   "metadata": {},
   "outputs": [
    {
     "name": "stdout",
     "output_type": "stream",
     "text": [
      "RMSE на тестовой выборке для CatBoost: 38.02186144757253\n"
     ]
    }
   ],
   "source": [
    "target_predict_test_catboost = best_pipeline_catboost.predict(features_test)\n",
    "rmse_test_catboost = mean_squared_error(target_test, target_predict_test_catboost, squared=False)\n",
    "\n",
    "print(\"RMSE на тестовой выборке для CatBoost:\", rmse_test_catboost)"
   ]
  },
  {
   "cell_type": "markdown",
   "metadata": {},
   "source": [
    "Мы успешно удовлетворили требование заказчика (RMSE < 48)."
   ]
  },
  {
   "cell_type": "markdown",
   "metadata": {},
   "source": [
    "### Сравнение предсказаний модели с реальными значениями"
   ]
  },
  {
   "cell_type": "code",
   "execution_count": 23,
   "metadata": {},
   "outputs": [
    {
     "data": {
      "image/png": "[encoded data removed]",
      "text/plain": [
       "<Figure size 1080x648 with 1 Axes>"
      ]
     },
     "metadata": {
      "needs_background": "light"
     },
     "output_type": "display_data"
    }
   ],
   "source": [
    "pivot = pd.DataFrame(target_test)\n",
    "pivot['pred'] = target_predict_test_catboost\n",
    "plt.figure(figsize=(15, 9))\n",
    "plt.plot(pivot['num_orders'], label='Реальные значения', color='blue')\n",
    "plt.plot(pivot['pred'], label='Предсказания модели', color='red')\n",
    "plt.title('Сравнение предсказаний модели с реальными значениями')\n",
    "plt.xlabel('Дата')\n",
    "plt.ylabel('Кол-во заказов')\n",
    "plt.legend()\n",
    "plt.grid(True)\n",
    "plt.show()"
   ]
  },
  {
   "cell_type": "markdown",
   "metadata": {},
   "source": [
    "Можно отметить, что модели наиболее затруднительно предсказывать экстремально высокие значения. Вероятно, это обусловлено ограниченным количеством таких случаев в обучающих данных."
   ]
  },
  {
   "cell_type": "markdown",
   "metadata": {},
   "source": [
    "### Сравнение лучшей модели с DummyRegressor"
   ]
  },
  {
   "cell_type": "code",
   "execution_count": 24,
   "metadata": {},
   "outputs": [
    {
     "name": "stdout",
     "output_type": "stream",
     "text": [
      "RMSE на тестовой выборке для DummyRegressor : 83.97941361168559\n"
     ]
    }
   ],
   "source": [
    "model_dummy = DummyRegressor(strategy=\"mean\")\n",
    "\n",
    "model_dummy.fit(features_train, target_train)\n",
    "\n",
    "target_predict_train_dummy = model_dummy.predict(features_train)\n",
    "\n",
    "target_predict_test_dummy = model_dummy.predict(features_test)\n",
    "rmse_test_dummy = mean_squared_error(target_test, target_predict_test_dummy, squared=False)\n",
    "print(\"RMSE на тестовой выборке для DummyRegressor :\", rmse_test_dummy)"
   ]
  },
  {
   "cell_type": "markdown",
   "metadata": {},
   "source": [
    "Кроме того, наша модель превосходит дамми-регрессор, что свидетельствует о ее качественной работе. Этот результат подчеркивает эффективность и точность нашей модели в сравнении с простыми базовыми методами предсказания."
   ]
  },
  {
   "cell_type": "markdown",
   "metadata": {},
   "source": [
    "## Вывод"
   ]
  },
  {
   "cell_type": "markdown",
   "metadata": {},
   "source": [
    "- Мы успешно загрузили и ресемплировали данные, а также провели исследовательский анализ. После обучения и оценки моделей регрессии мы выяснили, что наилучшую производительность продемонстрировала модель градиентного бустинга CatBoostRegressor. На тренировочных данных значение метрики RMSE составило 22.51, а на тестовых данных - 38.02. Эти результаты удовлетворяют требования заказчика.\n",
    "\n",
    "- Также мы сравнили нашу модель с дамми-регрессором, и наша модель превзошла дамми-регрессор, что подтверждает ее высокое качество.\n",
    "\n",
    "- Лучшая модель сохранена в переменной `best_pipeline_catboost`."
   ]
  },
  {
   "cell_type": "code",
   "execution_count": null,
   "metadata": {},
   "outputs": [],
   "source": []
  }
 ],
 "metadata": {
  "ExecuteTimeLog": [
   {
    "duration": 412,
    "start_time": "2024-02-15T11:46:02.012Z"
   },
   {
    "duration": 110,
    "start_time": "2024-02-15T11:46:28.421Z"
   },
   {
    "duration": 15,
    "start_time": "2024-02-15T11:46:33.091Z"
   },
   {
    "duration": 12,
    "start_time": "2024-02-15T11:48:04.370Z"
   },
   {
    "duration": 3,
    "start_time": "2024-02-15T11:59:02.071Z"
   },
   {
    "duration": 44,
    "start_time": "2024-02-15T11:59:24.765Z"
   },
   {
    "duration": 41,
    "start_time": "2024-02-15T12:00:00.303Z"
   },
   {
    "duration": 14,
    "start_time": "2024-02-15T12:00:00.627Z"
   },
   {
    "duration": 15,
    "start_time": "2024-02-15T12:12:00.941Z"
   },
   {
    "duration": 15,
    "start_time": "2024-02-15T12:12:08.595Z"
   },
   {
    "duration": 83,
    "start_time": "2024-02-15T12:17:34.994Z"
   },
   {
    "duration": 9,
    "start_time": "2024-02-15T12:17:46.865Z"
   },
   {
    "duration": 49,
    "start_time": "2024-02-15T12:18:20.912Z"
   },
   {
    "duration": 14,
    "start_time": "2024-02-15T12:18:21.345Z"
   },
   {
    "duration": 4,
    "start_time": "2024-02-15T12:18:30.960Z"
   },
   {
    "duration": 9,
    "start_time": "2024-02-15T12:18:45.353Z"
   },
   {
    "duration": 6,
    "start_time": "2024-02-15T12:18:58.611Z"
   },
   {
    "duration": 11,
    "start_time": "2024-02-15T12:19:02.421Z"
   },
   {
    "duration": 52,
    "start_time": "2024-02-15T12:19:29.747Z"
   },
   {
    "duration": 46,
    "start_time": "2024-02-15T12:19:34.020Z"
   },
   {
    "duration": 13,
    "start_time": "2024-02-15T12:19:35.647Z"
   },
   {
    "duration": 13,
    "start_time": "2024-02-15T12:19:38.073Z"
   },
   {
    "duration": 12,
    "start_time": "2024-02-15T12:20:26.067Z"
   },
   {
    "duration": 81,
    "start_time": "2024-02-15T12:21:57.763Z"
   },
   {
    "duration": 1254,
    "start_time": "2024-02-15T12:22:29.984Z"
   },
   {
    "duration": 6,
    "start_time": "2024-02-15T12:22:38.883Z"
   },
   {
    "duration": 4,
    "start_time": "2024-02-15T12:24:47.246Z"
   },
   {
    "duration": 7,
    "start_time": "2024-02-15T12:29:22.657Z"
   },
   {
    "duration": 12,
    "start_time": "2024-02-15T12:29:28.228Z"
   },
   {
    "duration": 79,
    "start_time": "2024-02-15T12:32:56.805Z"
   },
   {
    "duration": 673,
    "start_time": "2024-02-15T12:40:56.352Z"
   },
   {
    "duration": 291,
    "start_time": "2024-02-15T12:41:08.630Z"
   },
   {
    "duration": 273,
    "start_time": "2024-02-15T12:42:05.028Z"
   },
   {
    "duration": 16,
    "start_time": "2024-02-15T12:43:28.980Z"
   },
   {
    "duration": 554,
    "start_time": "2024-02-15T12:43:44.607Z"
   },
   {
    "duration": 268,
    "start_time": "2024-02-15T12:43:51.556Z"
   },
   {
    "duration": 285,
    "start_time": "2024-02-15T12:44:56.153Z"
   },
   {
    "duration": 263,
    "start_time": "2024-02-15T12:45:03.096Z"
   },
   {
    "duration": 339,
    "start_time": "2024-02-15T12:45:16.664Z"
   },
   {
    "duration": 317,
    "start_time": "2024-02-15T12:45:57.050Z"
   },
   {
    "duration": 91,
    "start_time": "2024-02-15T12:47:15.415Z"
   },
   {
    "duration": 289,
    "start_time": "2024-02-15T12:47:19.332Z"
   },
   {
    "duration": 327,
    "start_time": "2024-02-15T12:50:43.016Z"
   },
   {
    "duration": 39,
    "start_time": "2024-02-15T12:52:10.881Z"
   },
   {
    "duration": 24,
    "start_time": "2024-02-15T12:52:24.058Z"
   },
   {
    "duration": 15,
    "start_time": "2024-02-15T12:52:29.642Z"
   },
   {
    "duration": 11,
    "start_time": "2024-02-15T12:53:55.317Z"
   },
   {
    "duration": 10,
    "start_time": "2024-02-15T12:55:26.869Z"
   },
   {
    "duration": 10,
    "start_time": "2024-02-15T12:55:36.177Z"
   },
   {
    "duration": 10,
    "start_time": "2024-02-15T12:55:39.245Z"
   },
   {
    "duration": 4,
    "start_time": "2024-02-15T12:55:47.354Z"
   },
   {
    "duration": 791,
    "start_time": "2024-02-15T12:55:49.057Z"
   },
   {
    "duration": 191,
    "start_time": "2024-02-15T12:58:55.970Z"
   },
   {
    "duration": 259,
    "start_time": "2024-02-15T12:59:29.305Z"
   },
   {
    "duration": 201,
    "start_time": "2024-02-15T12:59:41.551Z"
   },
   {
    "duration": 272,
    "start_time": "2024-02-15T12:59:45.157Z"
   },
   {
    "duration": 298,
    "start_time": "2024-02-15T13:00:13.047Z"
   },
   {
    "duration": 314,
    "start_time": "2024-02-15T13:02:08.337Z"
   },
   {
    "duration": 12,
    "start_time": "2024-02-15T13:03:10.349Z"
   },
   {
    "duration": 3,
    "start_time": "2024-02-15T13:03:15.787Z"
   },
   {
    "duration": 212,
    "start_time": "2024-02-15T13:03:16.053Z"
   },
   {
    "duration": 212,
    "start_time": "2024-02-15T13:09:09.966Z"
   },
   {
    "duration": 271,
    "start_time": "2024-02-15T13:14:05.848Z"
   },
   {
    "duration": 177,
    "start_time": "2024-02-15T13:14:37.446Z"
   },
   {
    "duration": 205,
    "start_time": "2024-02-15T13:16:02.139Z"
   },
   {
    "duration": 195,
    "start_time": "2024-02-15T13:17:44.556Z"
   },
   {
    "duration": 222,
    "start_time": "2024-02-15T13:17:47.959Z"
   },
   {
    "duration": 177,
    "start_time": "2024-02-15T13:20:01.996Z"
   },
   {
    "duration": 180,
    "start_time": "2024-02-15T13:20:15.688Z"
   },
   {
    "duration": 157,
    "start_time": "2024-02-15T13:20:23.850Z"
   },
   {
    "duration": 168,
    "start_time": "2024-02-15T13:20:51.225Z"
   },
   {
    "duration": 165,
    "start_time": "2024-02-15T13:20:59.848Z"
   },
   {
    "duration": 167,
    "start_time": "2024-02-15T13:21:30.076Z"
   },
   {
    "duration": 168,
    "start_time": "2024-02-15T13:25:30.530Z"
   },
   {
    "duration": 170,
    "start_time": "2024-02-15T13:25:39.816Z"
   },
   {
    "duration": 1143,
    "start_time": "2024-02-15T13:27:00.035Z"
   },
   {
    "duration": 52,
    "start_time": "2024-02-15T13:27:01.180Z"
   },
   {
    "duration": 19,
    "start_time": "2024-02-15T13:27:01.234Z"
   },
   {
    "duration": 30,
    "start_time": "2024-02-15T13:27:01.254Z"
   },
   {
    "duration": 31,
    "start_time": "2024-02-15T13:27:01.286Z"
   },
   {
    "duration": 34,
    "start_time": "2024-02-15T13:27:01.319Z"
   },
   {
    "duration": 51,
    "start_time": "2024-02-15T13:27:01.355Z"
   },
   {
    "duration": 357,
    "start_time": "2024-02-15T13:27:01.408Z"
   },
   {
    "duration": 221,
    "start_time": "2024-02-15T13:27:01.796Z"
   },
   {
    "duration": 210,
    "start_time": "2024-02-15T13:27:02.019Z"
   },
   {
    "duration": 174,
    "start_time": "2024-02-15T13:27:02.231Z"
   },
   {
    "duration": 7,
    "start_time": "2024-02-15T13:28:19.528Z"
   },
   {
    "duration": 4,
    "start_time": "2024-02-15T13:29:42.563Z"
   },
   {
    "duration": 94,
    "start_time": "2024-02-15T13:42:14.597Z"
   },
   {
    "duration": 332,
    "start_time": "2024-02-15T13:42:32.090Z"
   },
   {
    "duration": 4,
    "start_time": "2024-02-15T13:42:36.485Z"
   },
   {
    "duration": 8,
    "start_time": "2024-02-15T13:42:41.662Z"
   },
   {
    "duration": 5,
    "start_time": "2024-02-15T13:49:56.304Z"
   },
   {
    "duration": 377,
    "start_time": "2024-02-15T13:50:38.262Z"
   },
   {
    "duration": 8,
    "start_time": "2024-02-15T13:51:49.522Z"
   },
   {
    "duration": 17,
    "start_time": "2024-02-15T13:55:18.228Z"
   },
   {
    "duration": 5,
    "start_time": "2024-02-15T13:55:31.189Z"
   },
   {
    "duration": 162,
    "start_time": "2024-02-15T13:55:36.380Z"
   },
   {
    "duration": 5,
    "start_time": "2024-02-15T13:56:03.331Z"
   },
   {
    "duration": 383,
    "start_time": "2024-02-15T13:56:22.875Z"
   },
   {
    "duration": 403,
    "start_time": "2024-02-15T13:56:40.392Z"
   },
   {
    "duration": 7,
    "start_time": "2024-02-15T13:58:11.539Z"
   },
   {
    "duration": 6,
    "start_time": "2024-02-15T14:00:36.781Z"
   },
   {
    "duration": 8,
    "start_time": "2024-02-15T14:01:14.746Z"
   },
   {
    "duration": 10,
    "start_time": "2024-02-15T14:01:26.899Z"
   },
   {
    "duration": 20,
    "start_time": "2024-02-15T14:01:32.403Z"
   },
   {
    "duration": 21,
    "start_time": "2024-02-15T14:02:27.618Z"
   },
   {
    "duration": 9,
    "start_time": "2024-02-15T14:03:16.186Z"
   },
   {
    "duration": 18,
    "start_time": "2024-02-15T14:03:21.778Z"
   },
   {
    "duration": 6,
    "start_time": "2024-02-15T14:03:29.777Z"
   },
   {
    "duration": 1405,
    "start_time": "2024-02-15T14:05:39.171Z"
   },
   {
    "duration": 7,
    "start_time": "2024-02-15T14:05:40.578Z"
   },
   {
    "duration": 77,
    "start_time": "2024-02-15T14:05:40.586Z"
   },
   {
    "duration": 17,
    "start_time": "2024-02-15T14:05:40.665Z"
   },
   {
    "duration": 18,
    "start_time": "2024-02-15T14:05:40.683Z"
   },
   {
    "duration": 30,
    "start_time": "2024-02-15T14:05:40.703Z"
   },
   {
    "duration": 419,
    "start_time": "2024-02-15T14:05:40.734Z"
   },
   {
    "duration": 328,
    "start_time": "2024-02-15T14:05:41.155Z"
   },
   {
    "duration": 279,
    "start_time": "2024-02-15T14:05:41.485Z"
   },
   {
    "duration": 200,
    "start_time": "2024-02-15T14:05:41.767Z"
   },
   {
    "duration": 167,
    "start_time": "2024-02-15T14:05:41.969Z"
   },
   {
    "duration": 29,
    "start_time": "2024-02-15T14:05:42.138Z"
   },
   {
    "duration": 9,
    "start_time": "2024-02-15T14:05:42.168Z"
   },
   {
    "duration": 1343,
    "start_time": "2024-02-15T14:11:31.852Z"
   },
   {
    "duration": 8,
    "start_time": "2024-02-15T14:11:33.197Z"
   },
   {
    "duration": 56,
    "start_time": "2024-02-15T14:11:33.207Z"
   },
   {
    "duration": 18,
    "start_time": "2024-02-15T14:11:33.265Z"
   },
   {
    "duration": 14,
    "start_time": "2024-02-15T14:11:33.284Z"
   },
   {
    "duration": 4,
    "start_time": "2024-02-15T14:11:33.300Z"
   },
   {
    "duration": 392,
    "start_time": "2024-02-15T14:11:33.305Z"
   },
   {
    "duration": 301,
    "start_time": "2024-02-15T14:11:33.699Z"
   },
   {
    "duration": 289,
    "start_time": "2024-02-15T14:11:34.015Z"
   },
   {
    "duration": 203,
    "start_time": "2024-02-15T14:11:34.314Z"
   },
   {
    "duration": 161,
    "start_time": "2024-02-15T14:11:34.519Z"
   },
   {
    "duration": 55,
    "start_time": "2024-02-15T14:11:34.682Z"
   },
   {
    "duration": 10,
    "start_time": "2024-02-15T14:11:34.738Z"
   },
   {
    "duration": 61,
    "start_time": "2024-02-15T14:17:30.224Z"
   },
   {
    "duration": 120,
    "start_time": "2024-02-15T14:18:27.875Z"
   },
   {
    "duration": 4,
    "start_time": "2024-02-15T14:18:43.862Z"
   },
   {
    "duration": 12,
    "start_time": "2024-02-15T14:18:51.752Z"
   },
   {
    "duration": 9,
    "start_time": "2024-02-15T14:19:13.035Z"
   },
   {
    "duration": 3154,
    "start_time": "2024-02-15T14:19:14.461Z"
   },
   {
    "duration": 2464,
    "start_time": "2024-02-15T14:20:07.052Z"
   },
   {
    "duration": 3028,
    "start_time": "2024-02-15T14:20:28.488Z"
   },
   {
    "duration": 2770,
    "start_time": "2024-02-15T14:21:22.546Z"
   },
   {
    "duration": 12,
    "start_time": "2024-02-15T14:22:45.003Z"
   },
   {
    "duration": 2,
    "start_time": "2024-02-15T14:22:59.079Z"
   },
   {
    "duration": 12,
    "start_time": "2024-02-15T14:23:02.828Z"
   },
   {
    "duration": 2366,
    "start_time": "2024-02-15T14:23:27.655Z"
   },
   {
    "duration": 93,
    "start_time": "2024-02-15T14:24:02.599Z"
   },
   {
    "duration": 64451,
    "start_time": "2024-02-15T14:24:27.271Z"
   },
   {
    "duration": 37,
    "start_time": "2024-02-15T14:36:43.818Z"
   },
   {
    "duration": 5,
    "start_time": "2024-02-15T14:37:51.375Z"
   },
   {
    "duration": 17,
    "start_time": "2024-02-15T14:38:06.054Z"
   },
   {
    "duration": 29,
    "start_time": "2024-02-15T14:38:52.139Z"
   },
   {
    "duration": 12,
    "start_time": "2024-02-15T14:39:34.923Z"
   },
   {
    "duration": 29,
    "start_time": "2024-02-15T14:40:12.477Z"
   },
   {
    "duration": 30,
    "start_time": "2024-02-15T14:46:26.995Z"
   },
   {
    "duration": 830,
    "start_time": "2024-02-15T14:47:16.712Z"
   },
   {
    "duration": 778,
    "start_time": "2024-02-15T14:47:28.655Z"
   },
   {
    "duration": 801,
    "start_time": "2024-02-15T14:48:06.657Z"
   },
   {
    "duration": 18,
    "start_time": "2024-02-15T19:15:51.071Z"
   },
   {
    "duration": 14,
    "start_time": "2024-02-15T19:16:58.117Z"
   },
   {
    "duration": 80803,
    "start_time": "2024-02-15T19:17:21.742Z"
   },
   {
    "duration": 1476,
    "start_time": "2024-02-15T19:19:13.122Z"
   },
   {
    "duration": 3,
    "start_time": "2024-02-15T19:19:14.599Z"
   },
   {
    "duration": 12,
    "start_time": "2024-02-15T19:19:14.603Z"
   },
   {
    "duration": 51,
    "start_time": "2024-02-15T19:19:14.616Z"
   },
   {
    "duration": 18,
    "start_time": "2024-02-15T19:19:14.669Z"
   },
   {
    "duration": 13,
    "start_time": "2024-02-15T19:19:14.688Z"
   },
   {
    "duration": 5,
    "start_time": "2024-02-15T19:19:14.702Z"
   },
   {
    "duration": 446,
    "start_time": "2024-02-15T19:19:14.709Z"
   },
   {
    "duration": 431,
    "start_time": "2024-02-15T19:19:15.156Z"
   },
   {
    "duration": 238,
    "start_time": "2024-02-15T19:19:15.589Z"
   },
   {
    "duration": 197,
    "start_time": "2024-02-15T19:19:15.829Z"
   },
   {
    "duration": 176,
    "start_time": "2024-02-15T19:19:16.028Z"
   },
   {
    "duration": 55,
    "start_time": "2024-02-15T19:19:16.206Z"
   },
   {
    "duration": 11,
    "start_time": "2024-02-15T19:19:16.264Z"
   },
   {
    "duration": 142140,
    "start_time": "2024-02-15T19:19:16.276Z"
   },
   {
    "duration": 455,
    "start_time": "2024-02-15T19:29:38.405Z"
   },
   {
    "duration": 239,
    "start_time": "2024-02-15T19:30:49.597Z"
   },
   {
    "duration": 255,
    "start_time": "2024-02-15T19:31:28.177Z"
   },
   {
    "duration": 24,
    "start_time": "2024-02-15T19:32:06.367Z"
   },
   {
    "duration": 141666,
    "start_time": "2024-02-15T19:33:08.658Z"
   },
   {
    "duration": 3317,
    "start_time": "2024-02-15T19:36:33.803Z"
   },
   {
    "duration": 2414,
    "start_time": "2024-02-15T19:36:43.493Z"
   },
   {
    "duration": 67,
    "start_time": "2024-02-15T19:37:03.368Z"
   },
   {
    "duration": 58846,
    "start_time": "2024-02-15T19:37:07.277Z"
   },
   {
    "duration": 152768,
    "start_time": "2024-02-15T19:39:46.561Z"
   },
   {
    "duration": 84812,
    "start_time": "2024-02-15T19:42:23.573Z"
   },
   {
    "duration": 45,
    "start_time": "2024-02-15T19:44:46.303Z"
   },
   {
    "duration": 8,
    "start_time": "2024-02-15T19:44:51.141Z"
   },
   {
    "duration": 48,
    "start_time": "2024-02-15T19:45:16.712Z"
   },
   {
    "duration": 8,
    "start_time": "2024-02-15T19:45:19.751Z"
   },
   {
    "duration": 6,
    "start_time": "2024-02-15T19:46:22.230Z"
   },
   {
    "duration": 29,
    "start_time": "2024-02-15T19:46:27.190Z"
   },
   {
    "duration": 6,
    "start_time": "2024-02-15T19:46:32.945Z"
   },
   {
    "duration": 29,
    "start_time": "2024-02-15T19:46:35.039Z"
   },
   {
    "duration": 6,
    "start_time": "2024-02-15T19:46:55.011Z"
   },
   {
    "duration": 10,
    "start_time": "2024-02-15T19:46:55.551Z"
   },
   {
    "duration": 80134,
    "start_time": "2024-02-15T19:47:39.669Z"
   },
   {
    "duration": 4,
    "start_time": "2024-02-15T19:54:33.282Z"
   },
   {
    "duration": 6,
    "start_time": "2024-02-15T19:54:50.149Z"
   },
   {
    "duration": 3,
    "start_time": "2024-02-15T19:55:21.590Z"
   },
   {
    "duration": 29,
    "start_time": "2024-02-15T19:55:57.644Z"
   },
   {
    "duration": 24,
    "start_time": "2024-02-15T20:00:05.835Z"
   },
   {
    "duration": 17,
    "start_time": "2024-02-15T20:01:00.969Z"
   },
   {
    "duration": 1498,
    "start_time": "2024-02-15T20:01:26.490Z"
   },
   {
    "duration": 3,
    "start_time": "2024-02-15T20:01:27.989Z"
   },
   {
    "duration": 7,
    "start_time": "2024-02-15T20:01:27.993Z"
   },
   {
    "duration": 51,
    "start_time": "2024-02-15T20:01:28.002Z"
   },
   {
    "duration": 17,
    "start_time": "2024-02-15T20:01:28.055Z"
   },
   {
    "duration": 15,
    "start_time": "2024-02-15T20:01:28.074Z"
   },
   {
    "duration": 4,
    "start_time": "2024-02-15T20:01:28.091Z"
   },
   {
    "duration": 449,
    "start_time": "2024-02-15T20:01:28.096Z"
   },
   {
    "duration": 370,
    "start_time": "2024-02-15T20:01:28.546Z"
   },
   {
    "duration": 212,
    "start_time": "2024-02-15T20:01:28.939Z"
   },
   {
    "duration": 196,
    "start_time": "2024-02-15T20:01:29.153Z"
   },
   {
    "duration": 154,
    "start_time": "2024-02-15T20:01:29.350Z"
   },
   {
    "duration": 56,
    "start_time": "2024-02-15T20:01:29.505Z"
   },
   {
    "duration": 10,
    "start_time": "2024-02-15T20:01:29.563Z"
   },
   {
    "duration": 2940,
    "start_time": "2024-02-15T20:01:29.575Z"
   },
   {
    "duration": 2474,
    "start_time": "2024-02-15T20:01:32.517Z"
   },
   {
    "duration": 59328,
    "start_time": "2024-02-15T20:01:34.992Z"
   },
   {
    "duration": 95846,
    "start_time": "2024-02-15T20:02:34.322Z"
   },
   {
    "duration": 134652,
    "start_time": "2024-02-15T20:04:10.170Z"
   },
   {
    "duration": 9,
    "start_time": "2024-02-15T20:08:39.148Z"
   },
   {
    "duration": 120,
    "start_time": "2024-02-15T20:18:41.115Z"
   },
   {
    "duration": 7,
    "start_time": "2024-02-15T20:18:46.651Z"
   },
   {
    "duration": 11,
    "start_time": "2024-02-15T20:19:20.275Z"
   },
   {
    "duration": 6,
    "start_time": "2024-02-15T20:22:22.839Z"
   },
   {
    "duration": 70,
    "start_time": "2024-02-15T20:25:01.262Z"
   },
   {
    "duration": 19,
    "start_time": "2024-02-15T20:31:09.447Z"
   },
   {
    "duration": 48,
    "start_time": "2024-02-15T20:34:05.224Z"
   },
   {
    "duration": 48,
    "start_time": "2024-02-15T20:34:27.403Z"
   },
   {
    "duration": 14,
    "start_time": "2024-02-15T20:34:28.790Z"
   },
   {
    "duration": 9,
    "start_time": "2024-02-15T20:41:23.896Z"
   },
   {
    "duration": 1526,
    "start_time": "2024-02-15T20:42:18.208Z"
   },
   {
    "duration": 3,
    "start_time": "2024-02-15T20:42:19.735Z"
   },
   {
    "duration": 9,
    "start_time": "2024-02-15T20:42:19.739Z"
   },
   {
    "duration": 53,
    "start_time": "2024-02-15T20:42:19.749Z"
   },
   {
    "duration": 17,
    "start_time": "2024-02-15T20:42:19.804Z"
   },
   {
    "duration": 14,
    "start_time": "2024-02-15T20:42:19.822Z"
   },
   {
    "duration": 3,
    "start_time": "2024-02-15T20:42:19.838Z"
   },
   {
    "duration": 494,
    "start_time": "2024-02-15T20:42:19.842Z"
   },
   {
    "duration": 817,
    "start_time": "2024-02-15T20:42:20.338Z"
   },
   {
    "duration": 418,
    "start_time": "2024-02-15T20:42:21.157Z"
   },
   {
    "duration": 202,
    "start_time": "2024-02-15T20:42:21.576Z"
   },
   {
    "duration": 173,
    "start_time": "2024-02-15T20:42:21.779Z"
   },
   {
    "duration": 48,
    "start_time": "2024-02-15T20:42:21.954Z"
   },
   {
    "duration": 12,
    "start_time": "2024-02-15T20:42:22.015Z"
   },
   {
    "duration": 3092,
    "start_time": "2024-02-15T20:42:22.029Z"
   },
   {
    "duration": 2490,
    "start_time": "2024-02-15T20:42:25.123Z"
   },
   {
    "duration": 70106,
    "start_time": "2024-02-15T20:42:27.615Z"
   },
   {
    "duration": 96641,
    "start_time": "2024-02-15T20:43:37.722Z"
   },
   {
    "duration": 124660,
    "start_time": "2024-02-15T20:45:14.364Z"
   },
   {
    "duration": 99,
    "start_time": "2024-02-15T20:47:19.026Z"
   },
   {
    "duration": 8,
    "start_time": "2024-02-15T20:47:19.215Z"
   },
   {
    "duration": 6,
    "start_time": "2024-02-15T20:47:19.224Z"
   },
   {
    "duration": 1820,
    "start_time": "2024-02-15T21:12:52.576Z"
   },
   {
    "duration": 3,
    "start_time": "2024-02-15T21:12:54.398Z"
   },
   {
    "duration": 6,
    "start_time": "2024-02-15T21:12:54.402Z"
   },
   {
    "duration": 6,
    "start_time": "2024-02-15T21:12:54.410Z"
   },
   {
    "duration": 139,
    "start_time": "2024-02-15T21:12:54.419Z"
   },
   {
    "duration": 17,
    "start_time": "2024-02-15T21:12:54.560Z"
   },
   {
    "duration": 13,
    "start_time": "2024-02-15T21:12:54.579Z"
   },
   {
    "duration": 4,
    "start_time": "2024-02-15T21:12:54.593Z"
   },
   {
    "duration": 438,
    "start_time": "2024-02-15T21:12:54.598Z"
   },
   {
    "duration": 7,
    "start_time": "2024-02-15T21:12:55.038Z"
   },
   {
    "duration": 388,
    "start_time": "2024-02-15T21:12:55.046Z"
   },
   {
    "duration": 230,
    "start_time": "2024-02-15T21:12:55.437Z"
   },
   {
    "duration": 200,
    "start_time": "2024-02-15T21:12:55.669Z"
   },
   {
    "duration": 180,
    "start_time": "2024-02-15T21:12:55.871Z"
   },
   {
    "duration": 1642,
    "start_time": "2024-02-16T13:10:58.349Z"
   },
   {
    "duration": 3,
    "start_time": "2024-02-16T13:10:59.992Z"
   },
   {
    "duration": 5,
    "start_time": "2024-02-16T13:10:59.996Z"
   },
   {
    "duration": 4,
    "start_time": "2024-02-16T13:15:54.699Z"
   },
   {
    "duration": 111,
    "start_time": "2024-02-16T13:17:46.512Z"
   },
   {
    "duration": 21,
    "start_time": "2024-02-16T13:17:47.570Z"
   },
   {
    "duration": 16,
    "start_time": "2024-02-16T13:17:57.703Z"
   },
   {
    "duration": 5,
    "start_time": "2024-02-16T13:18:04.579Z"
   },
   {
    "duration": 455,
    "start_time": "2024-02-16T13:19:39.934Z"
   },
   {
    "duration": 388,
    "start_time": "2024-02-16T13:21:48.246Z"
   },
   {
    "duration": 5,
    "start_time": "2024-02-16T13:28:52.541Z"
   },
   {
    "duration": 5,
    "start_time": "2024-02-16T13:28:55.030Z"
   },
   {
    "duration": 1837,
    "start_time": "2024-02-16T13:29:08.985Z"
   },
   {
    "duration": 1888,
    "start_time": "2024-02-16T13:29:16.932Z"
   },
   {
    "duration": 1750,
    "start_time": "2024-02-16T13:29:54.969Z"
   },
   {
    "duration": 1781,
    "start_time": "2024-02-16T13:31:35.946Z"
   },
   {
    "duration": 1768,
    "start_time": "2024-02-16T13:35:40.751Z"
   },
   {
    "duration": 1703,
    "start_time": "2024-02-16T13:35:52.319Z"
   },
   {
    "duration": 1783,
    "start_time": "2024-02-16T13:37:00.944Z"
   },
   {
    "duration": 1561,
    "start_time": "2024-02-16T13:37:19.760Z"
   },
   {
    "duration": 1543,
    "start_time": "2024-02-16T13:37:26.487Z"
   },
   {
    "duration": 2238,
    "start_time": "2024-02-16T13:37:30.887Z"
   },
   {
    "duration": 71,
    "start_time": "2024-02-16T13:41:29.825Z"
   },
   {
    "duration": 2005,
    "start_time": "2024-02-16T13:42:07.122Z"
   },
   {
    "duration": 94,
    "start_time": "2024-02-16T13:42:37.372Z"
   },
   {
    "duration": 83,
    "start_time": "2024-02-16T13:42:42.750Z"
   },
   {
    "duration": 1720,
    "start_time": "2024-02-16T13:42:45.899Z"
   },
   {
    "duration": 1668,
    "start_time": "2024-02-16T13:43:36.250Z"
   },
   {
    "duration": 1742,
    "start_time": "2024-02-16T13:43:42.476Z"
   },
   {
    "duration": 1995,
    "start_time": "2024-02-16T13:46:43.223Z"
   },
   {
    "duration": 1761,
    "start_time": "2024-02-16T13:46:59.065Z"
   },
   {
    "duration": 3134,
    "start_time": "2024-02-16T13:47:18.492Z"
   },
   {
    "duration": 230,
    "start_time": "2024-02-16T13:48:10.090Z"
   },
   {
    "duration": 232,
    "start_time": "2024-02-16T13:48:13.306Z"
   },
   {
    "duration": 172,
    "start_time": "2024-02-16T13:48:16.094Z"
   },
   {
    "duration": 47,
    "start_time": "2024-02-16T13:48:41.277Z"
   },
   {
    "duration": 9,
    "start_time": "2024-02-16T13:48:49.883Z"
   },
   {
    "duration": 12,
    "start_time": "2024-02-16T13:49:15.743Z"
   },
   {
    "duration": 31,
    "start_time": "2024-02-16T13:49:20.121Z"
   },
   {
    "duration": 5,
    "start_time": "2024-02-16T13:50:01.121Z"
   },
   {
    "duration": 3,
    "start_time": "2024-02-16T13:51:06.601Z"
   },
   {
    "duration": 2501,
    "start_time": "2024-02-16T13:51:07.518Z"
   },
   {
    "duration": 1519,
    "start_time": "2024-02-16T13:51:22.141Z"
   },
   {
    "duration": 54376,
    "start_time": "2024-02-16T13:52:00.348Z"
   },
   {
    "duration": 118,
    "start_time": "2024-02-16T13:55:46.939Z"
   },
   {
    "duration": 86604,
    "start_time": "2024-02-16T13:55:53.384Z"
   },
   {
    "duration": 15,
    "start_time": "2024-02-16T14:01:48.058Z"
   },
   {
    "duration": 12,
    "start_time": "2024-02-16T14:02:39.378Z"
   },
   {
    "duration": 3,
    "start_time": "2024-02-16T14:02:59.963Z"
   },
   {
    "duration": 894064,
    "start_time": "2024-02-16T14:03:00.255Z"
   },
   {
    "duration": 12,
    "start_time": "2024-02-16T14:18:50.817Z"
   },
   {
    "duration": 16,
    "start_time": "2024-02-16T14:18:59.095Z"
   },
   {
    "duration": 111938,
    "start_time": "2024-02-16T14:19:33.587Z"
   },
   {
    "duration": 36,
    "start_time": "2024-02-16T17:51:30.450Z"
   },
   {
    "duration": 12,
    "start_time": "2024-02-16T17:53:41.063Z"
   },
   {
    "duration": 14,
    "start_time": "2024-02-16T17:55:35.951Z"
   },
   {
    "duration": 353468,
    "start_time": "2024-02-16T17:57:24.067Z"
   },
   {
    "duration": 21,
    "start_time": "2024-02-16T18:04:20.727Z"
   },
   {
    "duration": 23,
    "start_time": "2024-02-16T18:04:43.823Z"
   },
   {
    "duration": 17483,
    "start_time": "2024-02-16T18:05:23.438Z"
   },
   {
    "duration": 26,
    "start_time": "2024-02-16T18:06:52.367Z"
   },
   {
    "duration": 54,
    "start_time": "2024-02-16T18:07:21.591Z"
   },
   {
    "duration": 16731,
    "start_time": "2024-02-16T18:10:50.011Z"
   },
   {
    "duration": 16588,
    "start_time": "2024-02-16T18:12:20.555Z"
   },
   {
    "duration": 9,
    "start_time": "2024-02-16T18:15:27.453Z"
   },
   {
    "duration": 10,
    "start_time": "2024-02-16T18:15:38.973Z"
   },
   {
    "duration": 282,
    "start_time": "2024-02-16T22:55:04.568Z"
   },
   {
    "duration": 8,
    "start_time": "2024-02-16T22:55:17.228Z"
   },
   {
    "duration": 169,
    "start_time": "2024-02-16T22:55:18.628Z"
   },
   {
    "duration": 6,
    "start_time": "2024-02-16T22:55:36.949Z"
   },
   {
    "duration": 8,
    "start_time": "2024-02-16T22:55:42.665Z"
   },
   {
    "duration": 5,
    "start_time": "2024-02-16T22:56:05.537Z"
   },
   {
    "duration": 11,
    "start_time": "2024-02-16T22:56:55.638Z"
   },
   {
    "duration": 5,
    "start_time": "2024-02-16T22:57:08.228Z"
   },
   {
    "duration": 8,
    "start_time": "2024-02-16T22:57:19.077Z"
   },
   {
    "duration": 8,
    "start_time": "2024-02-16T22:58:22.327Z"
   },
   {
    "duration": 13,
    "start_time": "2024-02-16T22:58:43.689Z"
   },
   {
    "duration": 3,
    "start_time": "2024-02-16T22:59:11.972Z"
   },
   {
    "duration": 12,
    "start_time": "2024-02-16T22:59:15.312Z"
   },
   {
    "duration": 12,
    "start_time": "2024-02-16T22:59:49.332Z"
   },
   {
    "duration": 4,
    "start_time": "2024-02-16T23:00:28.940Z"
   },
   {
    "duration": 5,
    "start_time": "2024-02-16T23:00:33.233Z"
   },
   {
    "duration": 7,
    "start_time": "2024-02-16T23:01:17.677Z"
   },
   {
    "duration": 6,
    "start_time": "2024-02-16T23:01:19.908Z"
   },
   {
    "duration": 14,
    "start_time": "2024-02-16T23:01:33.090Z"
   },
   {
    "duration": 10,
    "start_time": "2024-02-16T23:01:48.137Z"
   },
   {
    "duration": 91901,
    "start_time": "2024-02-16T23:01:54.856Z"
   },
   {
    "duration": 6,
    "start_time": "2024-02-16T23:03:33.341Z"
   },
   {
    "duration": 15,
    "start_time": "2024-02-16T23:03:43.424Z"
   },
   {
    "duration": 223,
    "start_time": "2024-02-16T23:04:33.671Z"
   },
   {
    "duration": 250,
    "start_time": "2024-02-16T23:05:18.318Z"
   },
   {
    "duration": 264,
    "start_time": "2024-02-16T23:06:01.383Z"
   },
   {
    "duration": 258,
    "start_time": "2024-02-16T23:07:03.947Z"
   },
   {
    "duration": 9,
    "start_time": "2024-02-16T23:10:44.416Z"
   },
   {
    "duration": 10,
    "start_time": "2024-02-16T23:10:57.830Z"
   },
   {
    "duration": 1522,
    "start_time": "2024-02-16T23:11:46.509Z"
   },
   {
    "duration": 3,
    "start_time": "2024-02-16T23:11:48.033Z"
   },
   {
    "duration": 20,
    "start_time": "2024-02-16T23:11:48.037Z"
   },
   {
    "duration": 21,
    "start_time": "2024-02-16T23:11:48.058Z"
   },
   {
    "duration": 69,
    "start_time": "2024-02-16T23:11:48.082Z"
   },
   {
    "duration": 16,
    "start_time": "2024-02-16T23:11:48.152Z"
   },
   {
    "duration": 11,
    "start_time": "2024-02-16T23:11:48.170Z"
   },
   {
    "duration": 26,
    "start_time": "2024-02-16T23:11:48.183Z"
   },
   {
    "duration": 454,
    "start_time": "2024-02-16T23:11:48.210Z"
   },
   {
    "duration": 429,
    "start_time": "2024-02-16T23:11:48.666Z"
   },
   {
    "duration": 2233,
    "start_time": "2024-02-16T23:11:49.096Z"
   },
   {
    "duration": 531,
    "start_time": "2024-02-16T23:11:51.419Z"
   },
   {
    "duration": 410,
    "start_time": "2024-02-16T23:11:51.952Z"
   },
   {
    "duration": 366,
    "start_time": "2024-02-16T23:11:52.364Z"
   },
   {
    "duration": 92,
    "start_time": "2024-02-16T23:11:52.732Z"
   },
   {
    "duration": 12,
    "start_time": "2024-02-16T23:11:52.825Z"
   },
   {
    "duration": 2,
    "start_time": "2024-02-16T23:11:52.839Z"
   },
   {
    "duration": 3276,
    "start_time": "2024-02-16T23:11:52.843Z"
   },
   {
    "duration": 186,
    "start_time": "2024-02-16T23:11:56.121Z"
   },
   {
    "duration": 0,
    "start_time": "2024-02-16T23:11:56.309Z"
   },
   {
    "duration": 0,
    "start_time": "2024-02-16T23:11:56.318Z"
   },
   {
    "duration": 0,
    "start_time": "2024-02-16T23:11:56.319Z"
   },
   {
    "duration": 0,
    "start_time": "2024-02-16T23:11:56.320Z"
   },
   {
    "duration": 0,
    "start_time": "2024-02-16T23:11:56.322Z"
   },
   {
    "duration": 0,
    "start_time": "2024-02-16T23:11:56.323Z"
   },
   {
    "duration": 0,
    "start_time": "2024-02-16T23:11:56.324Z"
   },
   {
    "duration": 1468,
    "start_time": "2024-02-16T23:13:13.763Z"
   },
   {
    "duration": 3,
    "start_time": "2024-02-16T23:13:15.233Z"
   },
   {
    "duration": 20,
    "start_time": "2024-02-16T23:13:15.237Z"
   },
   {
    "duration": 13,
    "start_time": "2024-02-16T23:13:15.259Z"
   },
   {
    "duration": 50,
    "start_time": "2024-02-16T23:13:15.273Z"
   },
   {
    "duration": 17,
    "start_time": "2024-02-16T23:13:15.324Z"
   },
   {
    "duration": 12,
    "start_time": "2024-02-16T23:13:15.342Z"
   },
   {
    "duration": 3,
    "start_time": "2024-02-16T23:13:15.356Z"
   },
   {
    "duration": 404,
    "start_time": "2024-02-16T23:13:15.360Z"
   },
   {
    "duration": 378,
    "start_time": "2024-02-16T23:13:15.765Z"
   },
   {
    "duration": 1955,
    "start_time": "2024-02-16T23:13:16.163Z"
   },
   {
    "duration": 311,
    "start_time": "2024-02-16T23:13:18.126Z"
   },
   {
    "duration": 220,
    "start_time": "2024-02-16T23:13:18.439Z"
   },
   {
    "duration": 170,
    "start_time": "2024-02-16T23:13:18.662Z"
   },
   {
    "duration": 40,
    "start_time": "2024-02-16T23:13:18.834Z"
   },
   {
    "duration": 12,
    "start_time": "2024-02-16T23:13:18.876Z"
   },
   {
    "duration": 3,
    "start_time": "2024-02-16T23:13:18.890Z"
   },
   {
    "duration": 2604,
    "start_time": "2024-02-16T23:13:18.918Z"
   },
   {
    "duration": 2323,
    "start_time": "2024-02-16T23:13:21.524Z"
   },
   {
    "duration": 72577,
    "start_time": "2024-02-16T23:13:23.848Z"
   },
   {
    "duration": 89636,
    "start_time": "2024-02-16T23:14:36.427Z"
   },
   {
    "duration": 16969,
    "start_time": "2024-02-16T23:16:06.064Z"
   },
   {
    "duration": 9,
    "start_time": "2024-02-16T23:16:23.035Z"
   },
   {
    "duration": 7,
    "start_time": "2024-02-16T23:16:23.117Z"
   },
   {
    "duration": 454,
    "start_time": "2024-02-16T23:16:23.126Z"
   },
   {
    "duration": 6,
    "start_time": "2024-02-16T23:16:23.582Z"
   },
   {
    "duration": 1649,
    "start_time": "2024-02-17T14:30:35.671Z"
   },
   {
    "duration": 3,
    "start_time": "2024-02-17T14:30:37.322Z"
   },
   {
    "duration": 5,
    "start_time": "2024-02-17T14:30:37.326Z"
   },
   {
    "duration": 10,
    "start_time": "2024-02-17T14:30:37.332Z"
   },
   {
    "duration": 119,
    "start_time": "2024-02-17T14:30:37.779Z"
   },
   {
    "duration": 17,
    "start_time": "2024-02-17T14:30:38.375Z"
   },
   {
    "duration": 12,
    "start_time": "2024-02-17T14:30:38.798Z"
   },
   {
    "duration": 4,
    "start_time": "2024-02-17T14:30:39.764Z"
   },
   {
    "duration": 471,
    "start_time": "2024-02-17T14:30:40.112Z"
   },
   {
    "duration": 405,
    "start_time": "2024-02-17T14:30:40.584Z"
   },
   {
    "duration": 2328,
    "start_time": "2024-02-17T14:30:40.992Z"
   },
   {
    "duration": 403,
    "start_time": "2024-02-17T14:30:43.323Z"
   },
   {
    "duration": 199,
    "start_time": "2024-02-17T14:30:43.728Z"
   },
   {
    "duration": 168,
    "start_time": "2024-02-17T14:30:43.929Z"
   },
   {
    "duration": 58,
    "start_time": "2024-02-17T14:30:44.098Z"
   },
   {
    "duration": 12,
    "start_time": "2024-02-17T14:30:44.158Z"
   },
   {
    "duration": 2151,
    "start_time": "2024-02-17T14:30:44.173Z"
   },
   {
    "duration": 1693,
    "start_time": "2024-02-17T14:30:46.416Z"
   },
   {
    "duration": 86,
    "start_time": "2024-02-17T14:38:44.543Z"
   },
   {
    "duration": 437329,
    "start_time": "2024-02-17T14:42:45.589Z"
   },
   {
    "duration": 5,
    "start_time": "2024-02-17T16:12:47.655Z"
   },
   {
    "duration": 7,
    "start_time": "2024-02-17T16:14:29.328Z"
   },
   {
    "duration": 5,
    "start_time": "2024-02-17T16:14:51.647Z"
   },
   {
    "duration": 6,
    "start_time": "2024-02-17T17:02:57.486Z"
   },
   {
    "duration": 13,
    "start_time": "2024-02-17T17:03:03.236Z"
   },
   {
    "duration": 5,
    "start_time": "2024-02-17T17:03:10.698Z"
   },
   {
    "duration": 4,
    "start_time": "2024-02-17T17:03:35.273Z"
   },
   {
    "duration": 13,
    "start_time": "2024-02-17T17:03:39.154Z"
   },
   {
    "duration": 7,
    "start_time": "2024-02-17T17:03:42.679Z"
   },
   {
    "duration": 215,
    "start_time": "2024-02-17T17:03:52.424Z"
   },
   {
    "duration": 18,
    "start_time": "2024-02-17T17:09:04.082Z"
   },
   {
    "duration": 14,
    "start_time": "2024-02-17T17:10:32.691Z"
   },
   {
    "duration": 5,
    "start_time": "2024-02-17T17:10:55.997Z"
   },
   {
    "duration": 12,
    "start_time": "2024-02-17T17:13:44.993Z"
   },
   {
    "duration": 19005,
    "start_time": "2024-02-17T17:14:00.227Z"
   },
   {
    "duration": 18489,
    "start_time": "2024-02-17T17:15:56.645Z"
   },
   {
    "duration": 19263,
    "start_time": "2024-02-17T17:17:49.377Z"
   },
   {
    "duration": 19005,
    "start_time": "2024-02-17T17:20:06.514Z"
   },
   {
    "duration": 19407,
    "start_time": "2024-02-17T17:21:29.809Z"
   },
   {
    "duration": 18839,
    "start_time": "2024-02-17T17:21:57.486Z"
   },
   {
    "duration": 18370,
    "start_time": "2024-02-17T17:24:28.249Z"
   },
   {
    "duration": 10951,
    "start_time": "2024-02-17T17:26:00.346Z"
   },
   {
    "duration": 18711,
    "start_time": "2024-02-17T17:26:14.405Z"
   },
   {
    "duration": 18472,
    "start_time": "2024-02-17T17:27:52.370Z"
   },
   {
    "duration": 11,
    "start_time": "2024-02-17T17:28:44.120Z"
   },
   {
    "duration": 1511,
    "start_time": "2024-02-17T17:29:14.909Z"
   },
   {
    "duration": 3,
    "start_time": "2024-02-17T17:29:16.422Z"
   },
   {
    "duration": 12,
    "start_time": "2024-02-17T17:29:16.427Z"
   },
   {
    "duration": 5,
    "start_time": "2024-02-17T17:29:16.441Z"
   },
   {
    "duration": 52,
    "start_time": "2024-02-17T17:29:16.448Z"
   },
   {
    "duration": 19,
    "start_time": "2024-02-17T17:29:16.501Z"
   },
   {
    "duration": 13,
    "start_time": "2024-02-17T17:29:16.522Z"
   },
   {
    "duration": 5,
    "start_time": "2024-02-17T17:29:16.536Z"
   },
   {
    "duration": 421,
    "start_time": "2024-02-17T17:29:16.543Z"
   },
   {
    "duration": 386,
    "start_time": "2024-02-17T17:29:16.966Z"
   },
   {
    "duration": 1861,
    "start_time": "2024-02-17T17:29:17.367Z"
   },
   {
    "duration": 326,
    "start_time": "2024-02-17T17:29:19.316Z"
   },
   {
    "duration": 212,
    "start_time": "2024-02-17T17:29:19.644Z"
   },
   {
    "duration": 171,
    "start_time": "2024-02-17T17:29:19.859Z"
   },
   {
    "duration": 36,
    "start_time": "2024-02-17T17:29:20.031Z"
   },
   {
    "duration": 10,
    "start_time": "2024-02-17T17:29:20.069Z"
   },
   {
    "duration": 2837,
    "start_time": "2024-02-17T17:29:20.080Z"
   },
   {
    "duration": 1623,
    "start_time": "2024-02-17T17:29:22.919Z"
   },
   {
    "duration": 1463,
    "start_time": "2024-02-17T17:35:00.055Z"
   },
   {
    "duration": 3,
    "start_time": "2024-02-17T17:35:01.521Z"
   },
   {
    "duration": 33,
    "start_time": "2024-02-17T17:35:01.526Z"
   },
   {
    "duration": 36,
    "start_time": "2024-02-17T17:35:01.561Z"
   },
   {
    "duration": 120,
    "start_time": "2024-02-17T17:35:01.599Z"
   },
   {
    "duration": 18,
    "start_time": "2024-02-17T17:35:01.721Z"
   },
   {
    "duration": 18,
    "start_time": "2024-02-17T17:35:01.741Z"
   },
   {
    "duration": 40,
    "start_time": "2024-02-17T17:35:01.761Z"
   },
   {
    "duration": 440,
    "start_time": "2024-02-17T17:35:01.802Z"
   },
   {
    "duration": 381,
    "start_time": "2024-02-17T17:35:02.244Z"
   },
   {
    "duration": 1660,
    "start_time": "2024-02-17T17:35:02.655Z"
   },
   {
    "duration": 313,
    "start_time": "2024-02-17T17:35:04.318Z"
   },
   {
    "duration": 237,
    "start_time": "2024-02-17T17:35:04.633Z"
   },
   {
    "duration": 163,
    "start_time": "2024-02-17T17:35:04.872Z"
   },
   {
    "duration": 39,
    "start_time": "2024-02-17T17:35:05.037Z"
   },
   {
    "duration": 11,
    "start_time": "2024-02-17T17:35:05.078Z"
   },
   {
    "duration": 2624,
    "start_time": "2024-02-17T17:35:05.091Z"
   },
   {
    "duration": 1746,
    "start_time": "2024-02-17T17:35:07.723Z"
   },
   {
    "duration": 395454,
    "start_time": "2024-02-17T17:35:09.471Z"
   },
   {
    "duration": 0,
    "start_time": "2024-02-17T17:41:44.927Z"
   },
   {
    "duration": 0,
    "start_time": "2024-02-17T17:41:44.928Z"
   },
   {
    "duration": 0,
    "start_time": "2024-02-17T17:41:44.929Z"
   },
   {
    "duration": 0,
    "start_time": "2024-02-17T17:41:44.930Z"
   },
   {
    "duration": 0,
    "start_time": "2024-02-17T17:41:44.931Z"
   },
   {
    "duration": 0,
    "start_time": "2024-02-17T17:41:44.933Z"
   },
   {
    "duration": 1585,
    "start_time": "2024-02-17T19:40:00.977Z"
   },
   {
    "duration": 2,
    "start_time": "2024-02-17T19:40:02.564Z"
   },
   {
    "duration": 14,
    "start_time": "2024-02-17T19:40:02.567Z"
   },
   {
    "duration": 35,
    "start_time": "2024-02-17T19:40:02.583Z"
   },
   {
    "duration": 63,
    "start_time": "2024-02-17T19:40:02.619Z"
   },
   {
    "duration": 18,
    "start_time": "2024-02-17T19:40:02.683Z"
   },
   {
    "duration": 20,
    "start_time": "2024-02-17T19:40:02.702Z"
   },
   {
    "duration": 8,
    "start_time": "2024-02-17T19:40:02.724Z"
   },
   {
    "duration": 423,
    "start_time": "2024-02-17T19:40:02.734Z"
   },
   {
    "duration": 384,
    "start_time": "2024-02-17T19:40:03.159Z"
   },
   {
    "duration": 2064,
    "start_time": "2024-02-17T19:40:03.559Z"
   },
   {
    "duration": 402,
    "start_time": "2024-02-17T19:40:05.626Z"
   },
   {
    "duration": 202,
    "start_time": "2024-02-17T19:40:06.029Z"
   },
   {
    "duration": 175,
    "start_time": "2024-02-17T19:40:06.233Z"
   },
   {
    "duration": 42,
    "start_time": "2024-02-17T19:40:06.409Z"
   },
   {
    "duration": 10,
    "start_time": "2024-02-17T19:40:06.452Z"
   },
   {
    "duration": 2853,
    "start_time": "2024-02-17T19:40:06.463Z"
   },
   {
    "duration": 1619,
    "start_time": "2024-02-17T19:40:09.317Z"
   },
   {
    "duration": 71386,
    "start_time": "2024-02-17T19:40:10.937Z"
   },
   {
    "duration": 86136,
    "start_time": "2024-02-17T19:41:22.325Z"
   },
   {
    "duration": 17871,
    "start_time": "2024-02-17T19:42:48.463Z"
   },
   {
    "duration": 82,
    "start_time": "2024-02-17T19:43:06.336Z"
   },
   {
    "duration": 8,
    "start_time": "2024-02-17T19:43:06.420Z"
   },
   {
    "duration": 443,
    "start_time": "2024-02-17T19:43:06.429Z"
   },
   {
    "duration": 6,
    "start_time": "2024-02-17T19:43:06.874Z"
   },
   {
    "duration": 128,
    "start_time": "2024-02-23T22:43:16.279Z"
   },
   {
    "duration": 1912,
    "start_time": "2024-02-23T22:48:04.468Z"
   },
   {
    "duration": 3,
    "start_time": "2024-02-23T22:48:06.382Z"
   },
   {
    "duration": 8,
    "start_time": "2024-02-23T22:48:06.391Z"
   },
   {
    "duration": 154,
    "start_time": "2024-02-23T22:48:06.400Z"
   },
   {
    "duration": 30,
    "start_time": "2024-02-23T22:48:06.557Z"
   },
   {
    "duration": 17,
    "start_time": "2024-02-23T22:48:06.589Z"
   },
   {
    "duration": 5,
    "start_time": "2024-02-23T22:48:06.608Z"
   },
   {
    "duration": 496,
    "start_time": "2024-02-23T22:48:06.615Z"
   },
   {
    "duration": 465,
    "start_time": "2024-02-23T22:48:07.113Z"
   },
   {
    "duration": 2118,
    "start_time": "2024-02-23T22:48:07.580Z"
   },
   {
    "duration": 449,
    "start_time": "2024-02-23T22:48:09.700Z"
   },
   {
    "duration": 259,
    "start_time": "2024-02-23T22:48:10.151Z"
   },
   {
    "duration": 195,
    "start_time": "2024-02-23T22:48:10.412Z"
   },
   {
    "duration": 149,
    "start_time": "2024-02-23T22:48:10.610Z"
   },
   {
    "duration": 36,
    "start_time": "2024-02-23T22:48:10.761Z"
   },
   {
    "duration": 7598,
    "start_time": "2024-02-23T22:48:10.799Z"
   },
   {
    "duration": 10003,
    "start_time": "2024-02-23T22:48:18.399Z"
   },
   {
    "duration": 195193,
    "start_time": "2024-02-23T22:48:28.404Z"
   },
   {
    "duration": 333718,
    "start_time": "2024-02-23T22:51:43.599Z"
   },
   {
    "duration": 27483,
    "start_time": "2024-02-23T22:57:17.319Z"
   },
   {
    "duration": 12,
    "start_time": "2024-02-23T22:57:44.804Z"
   },
   {
    "duration": 37,
    "start_time": "2024-02-23T22:57:44.818Z"
   },
   {
    "duration": 396,
    "start_time": "2024-02-23T22:57:44.857Z"
   },
   {
    "duration": 6,
    "start_time": "2024-02-23T22:57:45.255Z"
   },
   {
    "duration": 1737,
    "start_time": "2024-02-24T19:38:40.706Z"
   },
   {
    "duration": 2,
    "start_time": "2024-02-24T19:38:42.445Z"
   },
   {
    "duration": 25,
    "start_time": "2024-02-24T19:38:42.449Z"
   },
   {
    "duration": 124,
    "start_time": "2024-02-24T19:38:42.476Z"
   },
   {
    "duration": 19,
    "start_time": "2024-02-24T19:38:42.601Z"
   },
   {
    "duration": 13,
    "start_time": "2024-02-24T19:38:42.621Z"
   },
   {
    "duration": 4,
    "start_time": "2024-02-24T19:38:42.636Z"
   },
   {
    "duration": 494,
    "start_time": "2024-02-24T19:38:42.695Z"
   },
   {
    "duration": 417,
    "start_time": "2024-02-24T19:38:43.191Z"
   },
   {
    "duration": 1879,
    "start_time": "2024-02-24T19:38:43.610Z"
   },
   {
    "duration": 419,
    "start_time": "2024-02-24T19:38:45.493Z"
   },
   {
    "duration": 216,
    "start_time": "2024-02-24T19:38:45.914Z"
   },
   {
    "duration": 183,
    "start_time": "2024-02-24T19:38:46.131Z"
   },
   {
    "duration": 127,
    "start_time": "2024-02-24T19:38:46.909Z"
   },
   {
    "duration": 25,
    "start_time": "2024-02-24T19:38:48.566Z"
   },
   {
    "duration": 294012,
    "start_time": "2024-02-24T19:39:24.039Z"
   },
   {
    "duration": 1565,
    "start_time": "2024-02-24T19:44:41.699Z"
   },
   {
    "duration": 2,
    "start_time": "2024-02-24T19:44:43.266Z"
   },
   {
    "duration": 14,
    "start_time": "2024-02-24T19:44:43.270Z"
   },
   {
    "duration": 61,
    "start_time": "2024-02-24T19:44:43.285Z"
   },
   {
    "duration": 26,
    "start_time": "2024-02-24T19:44:43.348Z"
   },
   {
    "duration": 12,
    "start_time": "2024-02-24T19:44:43.376Z"
   },
   {
    "duration": 16,
    "start_time": "2024-02-24T19:44:43.390Z"
   },
   {
    "duration": 415,
    "start_time": "2024-02-24T19:44:43.408Z"
   },
   {
    "duration": 423,
    "start_time": "2024-02-24T19:44:43.825Z"
   },
   {
    "duration": 1914,
    "start_time": "2024-02-24T19:44:44.269Z"
   },
   {
    "duration": 334,
    "start_time": "2024-02-24T19:44:46.185Z"
   },
   {
    "duration": 219,
    "start_time": "2024-02-24T19:44:46.521Z"
   },
   {
    "duration": 179,
    "start_time": "2024-02-24T19:44:46.741Z"
   },
   {
    "duration": 135,
    "start_time": "2024-02-24T19:44:46.923Z"
   },
   {
    "duration": 26,
    "start_time": "2024-02-24T19:44:47.060Z"
   },
   {
    "duration": 5447,
    "start_time": "2024-02-24T19:44:47.088Z"
   },
   {
    "duration": 0,
    "start_time": "2024-02-24T19:44:52.537Z"
   },
   {
    "duration": 0,
    "start_time": "2024-02-24T19:44:52.540Z"
   },
   {
    "duration": 0,
    "start_time": "2024-02-24T19:44:52.541Z"
   },
   {
    "duration": 0,
    "start_time": "2024-02-24T19:44:52.542Z"
   },
   {
    "duration": 0,
    "start_time": "2024-02-24T19:44:52.544Z"
   },
   {
    "duration": 0,
    "start_time": "2024-02-24T19:44:52.545Z"
   },
   {
    "duration": 0,
    "start_time": "2024-02-24T19:44:52.546Z"
   },
   {
    "duration": 0,
    "start_time": "2024-02-24T19:44:52.548Z"
   },
   {
    "duration": 6659,
    "start_time": "2024-02-24T19:46:51.925Z"
   },
   {
    "duration": 6715,
    "start_time": "2024-02-24T19:49:13.476Z"
   },
   {
    "duration": 8909,
    "start_time": "2024-02-24T19:49:50.749Z"
   },
   {
    "duration": 164354,
    "start_time": "2024-02-24T19:50:28.932Z"
   },
   {
    "duration": 296632,
    "start_time": "2024-02-24T19:56:08.419Z"
   },
   {
    "duration": 1622,
    "start_time": "2024-02-24T20:03:25.662Z"
   },
   {
    "duration": 3,
    "start_time": "2024-02-24T20:03:27.286Z"
   },
   {
    "duration": 32,
    "start_time": "2024-02-24T20:03:27.291Z"
   },
   {
    "duration": 58,
    "start_time": "2024-02-24T20:03:27.324Z"
   },
   {
    "duration": 19,
    "start_time": "2024-02-24T20:03:27.384Z"
   },
   {
    "duration": 13,
    "start_time": "2024-02-24T20:03:27.404Z"
   },
   {
    "duration": 4,
    "start_time": "2024-02-24T20:03:27.418Z"
   },
   {
    "duration": 424,
    "start_time": "2024-02-24T20:03:27.424Z"
   },
   {
    "duration": 454,
    "start_time": "2024-02-24T20:03:27.850Z"
   },
   {
    "duration": 1877,
    "start_time": "2024-02-24T20:03:28.307Z"
   },
   {
    "duration": 349,
    "start_time": "2024-02-24T20:03:30.186Z"
   },
   {
    "duration": 222,
    "start_time": "2024-02-24T20:03:30.536Z"
   },
   {
    "duration": 191,
    "start_time": "2024-02-24T20:03:30.759Z"
   },
   {
    "duration": 142,
    "start_time": "2024-02-24T20:03:30.953Z"
   },
   {
    "duration": 27,
    "start_time": "2024-02-24T20:03:31.096Z"
   },
   {
    "duration": 6658,
    "start_time": "2024-02-24T20:03:31.125Z"
   },
   {
    "duration": 8989,
    "start_time": "2024-02-24T20:03:37.787Z"
   },
   {
    "duration": 188215,
    "start_time": "2024-02-24T20:03:46.781Z"
   },
   {
    "duration": 304220,
    "start_time": "2024-02-24T20:06:55.083Z"
   },
   {
    "duration": 26204,
    "start_time": "2024-02-24T20:11:59.306Z"
   },
   {
    "duration": 14,
    "start_time": "2024-02-24T20:12:25.581Z"
   },
   {
    "duration": 14,
    "start_time": "2024-02-24T20:12:25.597Z"
   },
   {
    "duration": 406,
    "start_time": "2024-02-24T20:12:25.613Z"
   },
   {
    "duration": 6,
    "start_time": "2024-02-24T20:12:26.021Z"
   },
   {
    "duration": 142,
    "start_time": "2024-02-24T20:24:44.682Z"
   },
   {
    "duration": 6234,
    "start_time": "2024-02-24T20:25:10.949Z"
   },
   {
    "duration": 10,
    "start_time": "2024-02-25T00:15:08.255Z"
   },
   {
    "duration": 10,
    "start_time": "2024-02-25T00:15:23.034Z"
   },
   {
    "duration": 1570,
    "start_time": "2024-02-25T00:16:08.867Z"
   },
   {
    "duration": 3,
    "start_time": "2024-02-25T00:16:10.439Z"
   },
   {
    "duration": 7,
    "start_time": "2024-02-25T00:16:10.445Z"
   },
   {
    "duration": 72,
    "start_time": "2024-02-25T00:16:10.454Z"
   },
   {
    "duration": 19,
    "start_time": "2024-02-25T00:16:10.528Z"
   },
   {
    "duration": 11,
    "start_time": "2024-02-25T00:16:10.549Z"
   },
   {
    "duration": 3,
    "start_time": "2024-02-25T00:16:10.562Z"
   },
   {
    "duration": 425,
    "start_time": "2024-02-25T00:16:10.567Z"
   },
   {
    "duration": 422,
    "start_time": "2024-02-25T00:16:10.994Z"
   },
   {
    "duration": 2163,
    "start_time": "2024-02-25T00:16:11.418Z"
   },
   {
    "duration": 340,
    "start_time": "2024-02-25T00:16:13.584Z"
   },
   {
    "duration": 212,
    "start_time": "2024-02-25T00:16:13.925Z"
   },
   {
    "duration": 176,
    "start_time": "2024-02-25T00:16:14.139Z"
   },
   {
    "duration": 135,
    "start_time": "2024-02-25T00:16:14.316Z"
   },
   {
    "duration": 36,
    "start_time": "2024-02-25T00:16:14.453Z"
   },
   {
    "duration": 6597,
    "start_time": "2024-02-25T00:16:14.491Z"
   },
   {
    "duration": 8974,
    "start_time": "2024-02-25T00:16:21.090Z"
   },
   {
    "duration": 160029,
    "start_time": "2024-02-25T00:16:30.065Z"
   },
   {
    "duration": 296703,
    "start_time": "2024-02-25T00:19:10.096Z"
   },
   {
    "duration": 18688,
    "start_time": "2024-02-25T00:24:06.800Z"
   },
   {
    "duration": 11,
    "start_time": "2024-02-25T00:24:25.490Z"
   },
   {
    "duration": 87,
    "start_time": "2024-02-25T00:24:25.502Z"
   },
   {
    "duration": 368,
    "start_time": "2024-02-25T00:24:25.591Z"
   },
   {
    "duration": 7,
    "start_time": "2024-02-25T00:24:25.961Z"
   }
  ],
  "kernelspec": {
   "display_name": "Python 3 (ipykernel)",
   "language": "python",
   "name": "python3"
  },
  "language_info": {
   "codemirror_mode": {
    "name": "ipython",
    "version": 3
   },
   "file_extension": ".py",
   "mimetype": "text/x-python",
   "name": "python",
   "nbconvert_exporter": "python",
   "pygments_lexer": "ipython3",
   "version": "3.9.5"
  },
  "toc": {
   "base_numbering": 1,
   "nav_menu": {},
   "number_sections": true,
   "sideBar": true,
   "skip_h1_title": true,
   "title_cell": "Содержание",
   "title_sidebar": "Contents",
   "toc_cell": true,
   "toc_position": {
    "height": "calc(100% - 180px)",
    "left": "10px",
    "top": "150px",
    "width": "364.391px"
   },
   "toc_section_display": true,
   "toc_window_display": true
  }
 },
 "nbformat": 4,
 "nbformat_minor": 2
}
