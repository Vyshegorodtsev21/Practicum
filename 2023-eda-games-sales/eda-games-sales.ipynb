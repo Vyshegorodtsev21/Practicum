{
 "cells": [
  {
   "cell_type": "markdown",
   "metadata": {},
   "source": [
    "# Исследование данных для прогнозирования успешности игр в интернет-магазине Стримчик"
   ]
  },
  {
   "cell_type": "markdown",
   "metadata": {},
   "source": [
    "Цель исследования заключается в анализе исторических данных о продажах компьютерных игр, оценках пользователей и экспертов, жанрах, платформах и возрастных рейтингах с целью выявления закономерностей, определяющих успешность игр. Эти выявленные закономерности будут использованы для разработки прогностических моделей, а также для планирования эффективных рекламных кампаний в интернет-магазине Стримчик."
   ]
  },
  {
   "cell_type": "markdown",
   "metadata": {},
   "source": [
    "**Описание данных**\n",
    "\n",
    "`Name` — название игры\n",
    "\n",
    "`Platform` — платформа\n",
    "\n",
    "`Year_of_Release` — год выпуска\n",
    "\n",
    "`Genre` — жанр игры\n",
    "\n",
    "`NA_sales` — продажи в Северной Америке \n",
    "\n",
    "`EU_sales` — продажи в Европе \n",
    "\n",
    "`JP_sales` — продажи в Японии\n",
    "\n",
    "`Other_sales` — продажи в других странах\n",
    "\n",
    "`Сritic_Score` — оценка критиков (от 0 до 100)\n",
    "\n",
    "`User_Score` — оценка пользователей (от 0 до 10)\n",
    "\n",
    "`Rating` — рейтинг от организации ESRB"
   ]
  },
  {
   "cell_type": "markdown",
   "metadata": {},
   "source": [
    "**План действий**\n",
    "1. [Загрузка данных](#Загрузка-данных)\n",
    "2. [Предобработка данных](#Предобработка-данных)\n",
    "3. [Исследовательский анализ данных](#Исследовательский-анализ-данных)\n",
    "4. [Портрет пользователя каждого региона](#Портрет-пользователя-каждого-региона)\n",
    "5. [Проверка гипотиз](#Проверка-гипотиз)\n",
    "6. [Вывод](#Вывод)"
   ]
  },
  {
   "cell_type": "code",
   "execution_count": 1,
   "metadata": {},
   "outputs": [],
   "source": [
    "#подключаем библиотеки\n",
    "import pandas as pd\n",
    "import matplotlib.pyplot as plt\n",
    "from scipy import stats as st\n",
    "import numpy as np"
   ]
  },
  {
   "cell_type": "markdown",
   "metadata": {},
   "source": [
    "## Загрузка данных"
   ]
  },
  {
   "cell_type": "markdown",
   "metadata": {},
   "source": [
    "### Загрузка данных из csv-файлов"
   ]
  },
  {
   "cell_type": "code",
   "execution_count": 2,
   "metadata": {},
   "outputs": [],
   "source": [
    "#считаем данные из csv файла games\n",
    "try:\n",
    "    data = pd.read_csv('/datasets/games.csv')\n",
    "except:\n",
    "    print('There is no such file')"
   ]
  },
  {
   "cell_type": "markdown",
   "metadata": {},
   "source": [
    "### Изучение общей информации о полученных датафреймах"
   ]
  },
  {
   "cell_type": "code",
   "execution_count": 3,
   "metadata": {},
   "outputs": [
    {
     "data": {
      "text/html": [
       "<div>\n",
       "<style scoped>\n",
       "    .dataframe tbody tr th:only-of-type {\n",
       "        vertical-align: middle;\n",
       "    }\n",
       "\n",
       "    .dataframe tbody tr th {\n",
       "        vertical-align: top;\n",
       "    }\n",
       "\n",
       "    .dataframe thead th {\n",
       "        text-align: right;\n",
       "    }\n",
       "</style>\n",
       "<table border=\"1\" class=\"dataframe\">\n",
       "  <thead>\n",
       "    <tr style=\"text-align: right;\">\n",
       "      <th></th>\n",
       "      <th>Name</th>\n",
       "      <th>Platform</th>\n",
       "      <th>Year_of_Release</th>\n",
       "      <th>Genre</th>\n",
       "      <th>NA_sales</th>\n",
       "      <th>EU_sales</th>\n",
       "      <th>JP_sales</th>\n",
       "      <th>Other_sales</th>\n",
       "      <th>Critic_Score</th>\n",
       "      <th>User_Score</th>\n",
       "      <th>Rating</th>\n",
       "    </tr>\n",
       "  </thead>\n",
       "  <tbody>\n",
       "    <tr>\n",
       "      <th>0</th>\n",
       "      <td>Wii Sports</td>\n",
       "      <td>Wii</td>\n",
       "      <td>2006.0</td>\n",
       "      <td>Sports</td>\n",
       "      <td>41.36</td>\n",
       "      <td>28.96</td>\n",
       "      <td>3.77</td>\n",
       "      <td>8.45</td>\n",
       "      <td>76.0</td>\n",
       "      <td>8</td>\n",
       "      <td>E</td>\n",
       "    </tr>\n",
       "    <tr>\n",
       "      <th>1</th>\n",
       "      <td>Super Mario Bros.</td>\n",
       "      <td>NES</td>\n",
       "      <td>1985.0</td>\n",
       "      <td>Platform</td>\n",
       "      <td>29.08</td>\n",
       "      <td>3.58</td>\n",
       "      <td>6.81</td>\n",
       "      <td>0.77</td>\n",
       "      <td>NaN</td>\n",
       "      <td>NaN</td>\n",
       "      <td>NaN</td>\n",
       "    </tr>\n",
       "    <tr>\n",
       "      <th>2</th>\n",
       "      <td>Mario Kart Wii</td>\n",
       "      <td>Wii</td>\n",
       "      <td>2008.0</td>\n",
       "      <td>Racing</td>\n",
       "      <td>15.68</td>\n",
       "      <td>12.76</td>\n",
       "      <td>3.79</td>\n",
       "      <td>3.29</td>\n",
       "      <td>82.0</td>\n",
       "      <td>8.3</td>\n",
       "      <td>E</td>\n",
       "    </tr>\n",
       "    <tr>\n",
       "      <th>3</th>\n",
       "      <td>Wii Sports Resort</td>\n",
       "      <td>Wii</td>\n",
       "      <td>2009.0</td>\n",
       "      <td>Sports</td>\n",
       "      <td>15.61</td>\n",
       "      <td>10.93</td>\n",
       "      <td>3.28</td>\n",
       "      <td>2.95</td>\n",
       "      <td>80.0</td>\n",
       "      <td>8</td>\n",
       "      <td>E</td>\n",
       "    </tr>\n",
       "    <tr>\n",
       "      <th>4</th>\n",
       "      <td>Pokemon Red/Pokemon Blue</td>\n",
       "      <td>GB</td>\n",
       "      <td>1996.0</td>\n",
       "      <td>Role-Playing</td>\n",
       "      <td>11.27</td>\n",
       "      <td>8.89</td>\n",
       "      <td>10.22</td>\n",
       "      <td>1.00</td>\n",
       "      <td>NaN</td>\n",
       "      <td>NaN</td>\n",
       "      <td>NaN</td>\n",
       "    </tr>\n",
       "    <tr>\n",
       "      <th>...</th>\n",
       "      <td>...</td>\n",
       "      <td>...</td>\n",
       "      <td>...</td>\n",
       "      <td>...</td>\n",
       "      <td>...</td>\n",
       "      <td>...</td>\n",
       "      <td>...</td>\n",
       "      <td>...</td>\n",
       "      <td>...</td>\n",
       "      <td>...</td>\n",
       "      <td>...</td>\n",
       "    </tr>\n",
       "    <tr>\n",
       "      <th>16710</th>\n",
       "      <td>Samurai Warriors: Sanada Maru</td>\n",
       "      <td>PS3</td>\n",
       "      <td>2016.0</td>\n",
       "      <td>Action</td>\n",
       "      <td>0.00</td>\n",
       "      <td>0.00</td>\n",
       "      <td>0.01</td>\n",
       "      <td>0.00</td>\n",
       "      <td>NaN</td>\n",
       "      <td>NaN</td>\n",
       "      <td>NaN</td>\n",
       "    </tr>\n",
       "    <tr>\n",
       "      <th>16711</th>\n",
       "      <td>LMA Manager 2007</td>\n",
       "      <td>X360</td>\n",
       "      <td>2006.0</td>\n",
       "      <td>Sports</td>\n",
       "      <td>0.00</td>\n",
       "      <td>0.01</td>\n",
       "      <td>0.00</td>\n",
       "      <td>0.00</td>\n",
       "      <td>NaN</td>\n",
       "      <td>NaN</td>\n",
       "      <td>NaN</td>\n",
       "    </tr>\n",
       "    <tr>\n",
       "      <th>16712</th>\n",
       "      <td>Haitaka no Psychedelica</td>\n",
       "      <td>PSV</td>\n",
       "      <td>2016.0</td>\n",
       "      <td>Adventure</td>\n",
       "      <td>0.00</td>\n",
       "      <td>0.00</td>\n",
       "      <td>0.01</td>\n",
       "      <td>0.00</td>\n",
       "      <td>NaN</td>\n",
       "      <td>NaN</td>\n",
       "      <td>NaN</td>\n",
       "    </tr>\n",
       "    <tr>\n",
       "      <th>16713</th>\n",
       "      <td>Spirits &amp; Spells</td>\n",
       "      <td>GBA</td>\n",
       "      <td>2003.0</td>\n",
       "      <td>Platform</td>\n",
       "      <td>0.01</td>\n",
       "      <td>0.00</td>\n",
       "      <td>0.00</td>\n",
       "      <td>0.00</td>\n",
       "      <td>NaN</td>\n",
       "      <td>NaN</td>\n",
       "      <td>NaN</td>\n",
       "    </tr>\n",
       "    <tr>\n",
       "      <th>16714</th>\n",
       "      <td>Winning Post 8 2016</td>\n",
       "      <td>PSV</td>\n",
       "      <td>2016.0</td>\n",
       "      <td>Simulation</td>\n",
       "      <td>0.00</td>\n",
       "      <td>0.00</td>\n",
       "      <td>0.01</td>\n",
       "      <td>0.00</td>\n",
       "      <td>NaN</td>\n",
       "      <td>NaN</td>\n",
       "      <td>NaN</td>\n",
       "    </tr>\n",
       "  </tbody>\n",
       "</table>\n",
       "<p>16715 rows × 11 columns</p>\n",
       "</div>"
      ],
      "text/plain": [
       "                                Name Platform  Year_of_Release         Genre  \\\n",
       "0                         Wii Sports      Wii           2006.0        Sports   \n",
       "1                  Super Mario Bros.      NES           1985.0      Platform   \n",
       "2                     Mario Kart Wii      Wii           2008.0        Racing   \n",
       "3                  Wii Sports Resort      Wii           2009.0        Sports   \n",
       "4           Pokemon Red/Pokemon Blue       GB           1996.0  Role-Playing   \n",
       "...                              ...      ...              ...           ...   \n",
       "16710  Samurai Warriors: Sanada Maru      PS3           2016.0        Action   \n",
       "16711               LMA Manager 2007     X360           2006.0        Sports   \n",
       "16712        Haitaka no Psychedelica      PSV           2016.0     Adventure   \n",
       "16713               Spirits & Spells      GBA           2003.0      Platform   \n",
       "16714            Winning Post 8 2016      PSV           2016.0    Simulation   \n",
       "\n",
       "       NA_sales  EU_sales  JP_sales  Other_sales  Critic_Score User_Score  \\\n",
       "0         41.36     28.96      3.77         8.45          76.0          8   \n",
       "1         29.08      3.58      6.81         0.77           NaN        NaN   \n",
       "2         15.68     12.76      3.79         3.29          82.0        8.3   \n",
       "3         15.61     10.93      3.28         2.95          80.0          8   \n",
       "4         11.27      8.89     10.22         1.00           NaN        NaN   \n",
       "...         ...       ...       ...          ...           ...        ...   \n",
       "16710      0.00      0.00      0.01         0.00           NaN        NaN   \n",
       "16711      0.00      0.01      0.00         0.00           NaN        NaN   \n",
       "16712      0.00      0.00      0.01         0.00           NaN        NaN   \n",
       "16713      0.01      0.00      0.00         0.00           NaN        NaN   \n",
       "16714      0.00      0.00      0.01         0.00           NaN        NaN   \n",
       "\n",
       "      Rating  \n",
       "0          E  \n",
       "1        NaN  \n",
       "2          E  \n",
       "3          E  \n",
       "4        NaN  \n",
       "...      ...  \n",
       "16710    NaN  \n",
       "16711    NaN  \n",
       "16712    NaN  \n",
       "16713    NaN  \n",
       "16714    NaN  \n",
       "\n",
       "[16715 rows x 11 columns]"
      ]
     },
     "metadata": {},
     "output_type": "display_data"
    },
    {
     "name": "stdout",
     "output_type": "stream",
     "text": [
      "<class 'pandas.core.frame.DataFrame'>\n",
      "RangeIndex: 16715 entries, 0 to 16714\n",
      "Data columns (total 11 columns):\n",
      " #   Column           Non-Null Count  Dtype  \n",
      "---  ------           --------------  -----  \n",
      " 0   Name             16713 non-null  object \n",
      " 1   Platform         16715 non-null  object \n",
      " 2   Year_of_Release  16446 non-null  float64\n",
      " 3   Genre            16713 non-null  object \n",
      " 4   NA_sales         16715 non-null  float64\n",
      " 5   EU_sales         16715 non-null  float64\n",
      " 6   JP_sales         16715 non-null  float64\n",
      " 7   Other_sales      16715 non-null  float64\n",
      " 8   Critic_Score     8137 non-null   float64\n",
      " 9   User_Score       10014 non-null  object \n",
      " 10  Rating           9949 non-null   object \n",
      "dtypes: float64(6), object(5)\n",
      "memory usage: 1.4+ MB\n"
     ]
    }
   ],
   "source": [
    "#выведем основную информацию о датафрейме\n",
    "display(data)\n",
    "data.info()"
   ]
  },
  {
   "cell_type": "code",
   "execution_count": 4,
   "metadata": {},
   "outputs": [
    {
     "data": {
      "text/plain": [
       "Name                  2\n",
       "Platform              0\n",
       "Year_of_Release     269\n",
       "Genre                 2\n",
       "NA_sales              0\n",
       "EU_sales              0\n",
       "JP_sales              0\n",
       "Other_sales           0\n",
       "Critic_Score       8578\n",
       "User_Score         6701\n",
       "Rating             6766\n",
       "dtype: int64"
      ]
     },
     "execution_count": 4,
     "metadata": {},
     "output_type": "execute_result"
    }
   ],
   "source": [
    "#посмотрим в каких колонках содержатся пропущенные значения\n",
    "data.isna().sum()"
   ]
  },
  {
   "cell_type": "markdown",
   "metadata": {},
   "source": [
    "**Вывод: Исходя из предоставленной информации о датафрейме, основное внимание следует уделить обработке пропущенных или отсутствующих значений, а также требуется изменить типы данных колонок `Year_of_Release`, `User_Score`**"
   ]
  },
  {
   "cell_type": "markdown",
   "metadata": {},
   "source": [
    "## Предобработка данных"
   ]
  },
  {
   "cell_type": "markdown",
   "metadata": {},
   "source": [
    "### Приведение названий столбцов к нижнему регистру "
   ]
  },
  {
   "cell_type": "code",
   "execution_count": 5,
   "metadata": {},
   "outputs": [],
   "source": [
    "data.columns = data.columns.str.lower()"
   ]
  },
  {
   "cell_type": "code",
   "execution_count": 6,
   "metadata": {},
   "outputs": [
    {
     "data": {
      "text/plain": [
       "Index(['name', 'platform', 'year_of_release', 'genre', 'na_sales', 'eu_sales',\n",
       "       'jp_sales', 'other_sales', 'critic_score', 'user_score', 'rating'],\n",
       "      dtype='object')"
      ]
     },
     "execution_count": 6,
     "metadata": {},
     "output_type": "execute_result"
    }
   ],
   "source": [
    "#проверим\n",
    "data.columns"
   ]
  },
  {
   "cell_type": "markdown",
   "metadata": {},
   "source": [
    "### Преобразование данных в нужные типы"
   ]
  },
  {
   "cell_type": "code",
   "execution_count": 7,
   "metadata": {},
   "outputs": [
    {
     "data": {
      "text/plain": [
       "1.609332934489979"
      ]
     },
     "execution_count": 7,
     "metadata": {},
     "output_type": "execute_result"
    }
   ],
   "source": [
    "#рассчитаем процент пропущенных значений от общего колличества записей в колонке 'year_of_release'\n",
    "data['year_of_release'].isna().sum() / data.shape[0] * 100"
   ]
  },
  {
   "cell_type": "markdown",
   "metadata": {},
   "source": [
    "Поскольку объем данных с пропущенными значениями составляет менее 2%, мы можем безболезненно удалить их."
   ]
  },
  {
   "cell_type": "code",
   "execution_count": 8,
   "metadata": {},
   "outputs": [],
   "source": [
    "data = data.dropna(subset = ['year_of_release'])"
   ]
  },
  {
   "cell_type": "code",
   "execution_count": 9,
   "metadata": {},
   "outputs": [],
   "source": [
    "#изменим тип данных в колонке year_of_release\n",
    "data['year_of_release'] = pd.to_datetime(data['year_of_release'], format='%Y').dt.year"
   ]
  },
  {
   "cell_type": "code",
   "execution_count": 10,
   "metadata": {},
   "outputs": [
    {
     "data": {
      "text/plain": [
       "array(['8', nan, '8.3', '8.5', '6.6', '8.4', '8.6', '7.7', '6.3', '7.4',\n",
       "       '8.2', '9', '7.9', '8.1', '8.7', '7.1', '3.4', '5.3', '4.8', '3.2',\n",
       "       '8.9', '6.4', '7.8', '7.5', '2.6', '7.2', '9.2', '7', '7.3', '4.3',\n",
       "       '7.6', '5.7', '5', '9.1', '6.5', 'tbd', '8.8', '6.9', '9.4', '6.8',\n",
       "       '6.1', '6.7', '5.4', '4', '4.9', '4.5', '9.3', '6.2', '4.2', '6',\n",
       "       '3.7', '4.1', '5.8', '5.6', '5.5', '4.4', '4.6', '5.9', '3.9',\n",
       "       '3.1', '2.9', '5.2', '3.3', '4.7', '5.1', '3.5', '2.5', '1.9', '3',\n",
       "       '2.7', '2.2', '2', '9.5', '2.1', '3.6', '2.8', '1.8', '3.8', '0',\n",
       "       '1.6', '9.6', '2.4', '1.7', '1.1', '0.3', '1.5', '0.7', '1.2',\n",
       "       '2.3', '0.5', '1.3', '0.2', '0.6', '1.4', '0.9', '1', '9.7'],\n",
       "      dtype=object)"
      ]
     },
     "execution_count": 10,
     "metadata": {},
     "output_type": "execute_result"
    }
   ],
   "source": [
    "data.user_score.unique()"
   ]
  },
  {
   "cell_type": "markdown",
   "metadata": {},
   "source": [
    "Исходя из того, что \"TBD\" означает \"To Be Determined\" (англ. \"будет определено\") и указывает на отсутствие информации или неопределенные детали, мы можем заменять \"TBD\" на значение NaN в наших данных."
   ]
  },
  {
   "cell_type": "code",
   "execution_count": 11,
   "metadata": {},
   "outputs": [],
   "source": [
    "#изменим тип данных в колонке user_score\n",
    "data['user_score'] = pd.to_numeric(data['user_score'], errors='coerce')"
   ]
  },
  {
   "cell_type": "code",
   "execution_count": 12,
   "metadata": {},
   "outputs": [
    {
     "name": "stdout",
     "output_type": "stream",
     "text": [
      "<class 'pandas.core.frame.DataFrame'>\n",
      "Int64Index: 16446 entries, 0 to 16714\n",
      "Data columns (total 11 columns):\n",
      " #   Column           Non-Null Count  Dtype  \n",
      "---  ------           --------------  -----  \n",
      " 0   name             16444 non-null  object \n",
      " 1   platform         16446 non-null  object \n",
      " 2   year_of_release  16446 non-null  int64  \n",
      " 3   genre            16444 non-null  object \n",
      " 4   na_sales         16446 non-null  float64\n",
      " 5   eu_sales         16446 non-null  float64\n",
      " 6   jp_sales         16446 non-null  float64\n",
      " 7   other_sales      16446 non-null  float64\n",
      " 8   critic_score     7983 non-null   float64\n",
      " 9   user_score       7463 non-null   float64\n",
      " 10  rating           9768 non-null   object \n",
      "dtypes: float64(6), int64(1), object(4)\n",
      "memory usage: 1.5+ MB\n"
     ]
    }
   ],
   "source": [
    "data.info()"
   ]
  },
  {
   "cell_type": "markdown",
   "metadata": {},
   "source": [
    "*Мы успешно преобразовали типы данных в столбцах `year_of_release` и `user_score`, а также обработали значения \"TBD\". Кроме того, мы избавились от строк с пропущенными значениями в столбце `date_release`.*"
   ]
  },
  {
   "cell_type": "markdown",
   "metadata": {},
   "source": [
    "### Обработка пропусков"
   ]
  },
  {
   "cell_type": "code",
   "execution_count": 13,
   "metadata": {},
   "outputs": [
    {
     "data": {
      "text/plain": [
       "name                  2\n",
       "platform              0\n",
       "year_of_release       0\n",
       "genre                 2\n",
       "na_sales              0\n",
       "eu_sales              0\n",
       "jp_sales              0\n",
       "other_sales           0\n",
       "critic_score       8463\n",
       "user_score         8983\n",
       "rating             6678\n",
       "dtype: int64"
      ]
     },
     "execution_count": 13,
     "metadata": {},
     "output_type": "execute_result"
    }
   ],
   "source": [
    "#посмотрим в каких колонках содержатся пропущенные значения\n",
    "data.isna().sum()"
   ]
  },
  {
   "cell_type": "markdown",
   "metadata": {},
   "source": [
    "Из-за небольшого объема пропущенных значений в колонках `name` и `genre`, мы можем безопасно удалить соответствующие строки из нашего датафрейма."
   ]
  },
  {
   "cell_type": "code",
   "execution_count": 14,
   "metadata": {},
   "outputs": [],
   "source": [
    "#удалим строчки с пропусками\n",
    "data = data.dropna(subset = ['name', 'genre'])"
   ]
  },
  {
   "cell_type": "markdown",
   "metadata": {},
   "source": [
    "Поскольку оценка игры является субъективным параметром, мы оставим пропущенные значения в соответствующих столбцах без изменений. Для дальнейшей оценки зависимости рейтинга, пропуски в этом столбце мы заполним единым значением 'no rating'."
   ]
  },
  {
   "cell_type": "code",
   "execution_count": 15,
   "metadata": {},
   "outputs": [],
   "source": [
    "data['rating'] = data['rating'].fillna('no rating')"
   ]
  },
  {
   "cell_type": "markdown",
   "metadata": {},
   "source": [
    "### Cуммарные продажи во всех регионах"
   ]
  },
  {
   "cell_type": "code",
   "execution_count": 16,
   "metadata": {},
   "outputs": [],
   "source": [
    "#добавим столбец total_sales\n",
    "data['total_sales'] = data[['na_sales', 'eu_sales', 'jp_sales', 'other_sales']].sum(axis=1)"
   ]
  },
  {
   "cell_type": "code",
   "execution_count": 17,
   "metadata": {},
   "outputs": [
    {
     "data": {
      "text/html": [
       "<div>\n",
       "<style scoped>\n",
       "    .dataframe tbody tr th:only-of-type {\n",
       "        vertical-align: middle;\n",
       "    }\n",
       "\n",
       "    .dataframe tbody tr th {\n",
       "        vertical-align: top;\n",
       "    }\n",
       "\n",
       "    .dataframe thead th {\n",
       "        text-align: right;\n",
       "    }\n",
       "</style>\n",
       "<table border=\"1\" class=\"dataframe\">\n",
       "  <thead>\n",
       "    <tr style=\"text-align: right;\">\n",
       "      <th></th>\n",
       "      <th>name</th>\n",
       "      <th>platform</th>\n",
       "      <th>year_of_release</th>\n",
       "      <th>genre</th>\n",
       "      <th>na_sales</th>\n",
       "      <th>eu_sales</th>\n",
       "      <th>jp_sales</th>\n",
       "      <th>other_sales</th>\n",
       "      <th>critic_score</th>\n",
       "      <th>user_score</th>\n",
       "      <th>rating</th>\n",
       "      <th>total_sales</th>\n",
       "    </tr>\n",
       "  </thead>\n",
       "  <tbody>\n",
       "    <tr>\n",
       "      <th>0</th>\n",
       "      <td>Wii Sports</td>\n",
       "      <td>Wii</td>\n",
       "      <td>2006</td>\n",
       "      <td>Sports</td>\n",
       "      <td>41.36</td>\n",
       "      <td>28.96</td>\n",
       "      <td>3.77</td>\n",
       "      <td>8.45</td>\n",
       "      <td>76.0</td>\n",
       "      <td>8.0</td>\n",
       "      <td>E</td>\n",
       "      <td>82.54</td>\n",
       "    </tr>\n",
       "    <tr>\n",
       "      <th>1</th>\n",
       "      <td>Super Mario Bros.</td>\n",
       "      <td>NES</td>\n",
       "      <td>1985</td>\n",
       "      <td>Platform</td>\n",
       "      <td>29.08</td>\n",
       "      <td>3.58</td>\n",
       "      <td>6.81</td>\n",
       "      <td>0.77</td>\n",
       "      <td>NaN</td>\n",
       "      <td>NaN</td>\n",
       "      <td>no rating</td>\n",
       "      <td>40.24</td>\n",
       "    </tr>\n",
       "    <tr>\n",
       "      <th>2</th>\n",
       "      <td>Mario Kart Wii</td>\n",
       "      <td>Wii</td>\n",
       "      <td>2008</td>\n",
       "      <td>Racing</td>\n",
       "      <td>15.68</td>\n",
       "      <td>12.76</td>\n",
       "      <td>3.79</td>\n",
       "      <td>3.29</td>\n",
       "      <td>82.0</td>\n",
       "      <td>8.3</td>\n",
       "      <td>E</td>\n",
       "      <td>35.52</td>\n",
       "    </tr>\n",
       "    <tr>\n",
       "      <th>3</th>\n",
       "      <td>Wii Sports Resort</td>\n",
       "      <td>Wii</td>\n",
       "      <td>2009</td>\n",
       "      <td>Sports</td>\n",
       "      <td>15.61</td>\n",
       "      <td>10.93</td>\n",
       "      <td>3.28</td>\n",
       "      <td>2.95</td>\n",
       "      <td>80.0</td>\n",
       "      <td>8.0</td>\n",
       "      <td>E</td>\n",
       "      <td>32.77</td>\n",
       "    </tr>\n",
       "    <tr>\n",
       "      <th>4</th>\n",
       "      <td>Pokemon Red/Pokemon Blue</td>\n",
       "      <td>GB</td>\n",
       "      <td>1996</td>\n",
       "      <td>Role-Playing</td>\n",
       "      <td>11.27</td>\n",
       "      <td>8.89</td>\n",
       "      <td>10.22</td>\n",
       "      <td>1.00</td>\n",
       "      <td>NaN</td>\n",
       "      <td>NaN</td>\n",
       "      <td>no rating</td>\n",
       "      <td>31.38</td>\n",
       "    </tr>\n",
       "  </tbody>\n",
       "</table>\n",
       "</div>"
      ],
      "text/plain": [
       "                       name platform  year_of_release         genre  na_sales  \\\n",
       "0                Wii Sports      Wii             2006        Sports     41.36   \n",
       "1         Super Mario Bros.      NES             1985      Platform     29.08   \n",
       "2            Mario Kart Wii      Wii             2008        Racing     15.68   \n",
       "3         Wii Sports Resort      Wii             2009        Sports     15.61   \n",
       "4  Pokemon Red/Pokemon Blue       GB             1996  Role-Playing     11.27   \n",
       "\n",
       "   eu_sales  jp_sales  other_sales  critic_score  user_score     rating  \\\n",
       "0     28.96      3.77         8.45          76.0         8.0          E   \n",
       "1      3.58      6.81         0.77           NaN         NaN  no rating   \n",
       "2     12.76      3.79         3.29          82.0         8.3          E   \n",
       "3     10.93      3.28         2.95          80.0         8.0          E   \n",
       "4      8.89     10.22         1.00           NaN         NaN  no rating   \n",
       "\n",
       "   total_sales  \n",
       "0        82.54  \n",
       "1        40.24  \n",
       "2        35.52  \n",
       "3        32.77  \n",
       "4        31.38  "
      ]
     },
     "execution_count": 17,
     "metadata": {},
     "output_type": "execute_result"
    }
   ],
   "source": [
    "data.head()"
   ]
  },
  {
   "cell_type": "markdown",
   "metadata": {},
   "source": [
    "### Проверка на дубликаты"
   ]
  },
  {
   "cell_type": "code",
   "execution_count": 18,
   "metadata": {},
   "outputs": [
    {
     "name": "stdout",
     "output_type": "stream",
     "text": [
      "Размер df до удаления дубликатов - 16444\n"
     ]
    }
   ],
   "source": [
    "print(f'Размер df до удаления дубликатов - {data.shape[0]}')"
   ]
  },
  {
   "cell_type": "markdown",
   "metadata": {},
   "source": [
    "**Явные дубликаты**"
   ]
  },
  {
   "cell_type": "code",
   "execution_count": 19,
   "metadata": {},
   "outputs": [
    {
     "data": {
      "text/plain": [
       "0"
      ]
     },
     "execution_count": 19,
     "metadata": {},
     "output_type": "execute_result"
    }
   ],
   "source": [
    "data.duplicated().sum()"
   ]
  },
  {
   "cell_type": "markdown",
   "metadata": {},
   "source": [
    "Явных дубликатов не обнаружено "
   ]
  },
  {
   "cell_type": "markdown",
   "metadata": {},
   "source": [
    "**Неявные дубликаты**\n",
    "\n",
    "Для дальнейшего поиска дубликатов, приведем столбцы `name` и `platform` к нижнему регистру."
   ]
  },
  {
   "cell_type": "code",
   "execution_count": 20,
   "metadata": {},
   "outputs": [
    {
     "name": "stdout",
     "output_type": "stream",
     "text": [
      "Размер df после удаления дубликатов - 16443\n"
     ]
    }
   ],
   "source": [
    "data[['name', 'platform']] = data[['name', 'platform']].applymap(str.lower)\n",
    "data.drop_duplicates(subset=['name', 'platform', 'year_of_release'], keep='first', inplace=True)\n",
    "print(f'Размер df после удаления дубликатов - {data.shape[0]}')"
   ]
  },
  {
   "cell_type": "markdown",
   "metadata": {},
   "source": [
    "**Вывод: Мы привели названия столбцов к нижнему регистру, изменили типы данных для столбцов `year_of_release` и `user_score`. Мы также удалили строки с пропущенными значениями в столбцах `name` и `genre` из-за их небольшого количества. Пропуски в столбцах `critic_score`, `user_score` и `rating` оставили без изменений из-за субъективности данных параметров. Вероятные причины пропусков в указанных столбцах могут включать технические проблемы при загрузке данных, а также возможность того, что рейтинги еще не были назначены для некоторых игр из-за их недавнего выпуска. Добавили новый столбец, в котором подсчитали суммарные продажи во всех регионах. Мы также проверили данные на наличие дубликатов и успешно от них избавились.**"
   ]
  },
  {
   "cell_type": "markdown",
   "metadata": {},
   "source": [
    "##  Исследовательский анализ данных"
   ]
  },
  {
   "cell_type": "markdown",
   "metadata": {},
   "source": [
    "### Колличество игр по годам\n",
    "Изучим сколько игр выпускалось в разные годы. Важны ли данные за все периоды?"
   ]
  },
  {
   "cell_type": "code",
   "execution_count": 21,
   "metadata": {},
   "outputs": [
    {
     "data": {
      "image/png": "[encoded data removed]",
      "text/plain": [
       "<Figure size 864x432 with 1 Axes>"
      ]
     },
     "metadata": {
      "needs_background": "light"
     },
     "output_type": "display_data"
    }
   ],
   "source": [
    "data.groupby('year_of_release')['name'].count().plot(\n",
    "                         kind='bar',\n",
    "                         xlabel='Год',\n",
    "                         ylabel='Кол-во игр',\n",
    "                         title='Кол-во по годам',\n",
    "                         figsize = (12,6));"
   ]
  },
  {
   "cell_type": "markdown",
   "metadata": {},
   "source": [
    "Заметно, что рост количества выпускаемых игр начался с 1994 года, с резким скачком в 2002 году. Наивысшая точка достигнута в 2008-2009 годах, когда ежегодное количество выпущенных игр превышало 1400. После этого произошел спад, вероятно, вызванный развитием мобильных технологий, что снизило интерес к традиционным играм."
   ]
  },
  {
   "cell_type": "markdown",
   "metadata": {},
   "source": [
    "### Динамика продаж по платформам\n",
    "Как менялись продажи по платформам. За какой характерный срок появляются новые и исчезают старые платформы?"
   ]
  },
  {
   "cell_type": "code",
   "execution_count": 22,
   "metadata": {},
   "outputs": [
    {
     "data": {
      "image/png": "[encoded data removed]",
      "text/plain": [
       "<Figure size 864x720 with 1 Axes>"
      ]
     },
     "metadata": {
      "needs_background": "light"
     },
     "output_type": "display_data"
    }
   ],
   "source": [
    "data.groupby('platform')['total_sales'].sum().sort_values(ascending=True).plot(\n",
    "                         kind='barh',\n",
    "                         xlabel='Платформа',\n",
    "                         ylabel='Кол-во игр',\n",
    "                         title='Продажи по платформам',\n",
    "                         figsize = (12,10));"
   ]
  },
  {
   "cell_type": "markdown",
   "metadata": {},
   "source": [
    "Из графика видно, что самыми популярными игровыми платформми за весь период являются: PS2, X360, PS3, Wii, DS, PS."
   ]
  },
  {
   "cell_type": "code",
   "execution_count": 23,
   "metadata": {},
   "outputs": [
    {
     "data": {
      "text/plain": [
       "['ps2', 'x360', 'ps3', 'wii', 'ds', 'ps']"
      ]
     },
     "execution_count": 23,
     "metadata": {},
     "output_type": "execute_result"
    }
   ],
   "source": [
    "# код ревьюера\n",
    "data.groupby('platform').agg({'total_sales': 'sum'}).sort_values(by='total_sales', ascending=False).head(6).index.to_list()\n"
   ]
  },
  {
   "cell_type": "code",
   "execution_count": 24,
   "metadata": {
    "scrolled": false
   },
   "outputs": [
    {
     "data": {
      "image/png": "[encoded data removed]",
      "text/plain": [
       "<Figure size 864x288 with 1 Axes>"
      ]
     },
     "metadata": {
      "needs_background": "light"
     },
     "output_type": "display_data"
    },
    {
     "data": {
      "image/png": "[encoded data removed]",
      "text/plain": [
       "<Figure size 864x288 with 1 Axes>"
      ]
     },
     "metadata": {
      "needs_background": "light"
     },
     "output_type": "display_data"
    },
    {
     "data": {
      "image/png": "[encoded data removed]",
      "text/plain": [
       "<Figure size 864x288 with 1 Axes>"
      ]
     },
     "metadata": {
      "needs_background": "light"
     },
     "output_type": "display_data"
    },
    {
     "data": {
      "image/png": "[encoded data removed]",
      "text/plain": [
       "<Figure size 864x288 with 1 Axes>"
      ]
     },
     "metadata": {
      "needs_background": "light"
     },
     "output_type": "display_data"
    },
    {
     "data": {
      "image/png": "[encoded data removed]",
      "text/plain": [
       "<Figure size 864x288 with 1 Axes>"
      ]
     },
     "metadata": {
      "needs_background": "light"
     },
     "output_type": "display_data"
    },
    {
     "data": {
      "image/png": "[encoded data removed]",
      "text/plain": [
       "<Figure size 864x288 with 1 Axes>"
      ]
     },
     "metadata": {
      "needs_background": "light"
     },
     "output_type": "display_data"
    }
   ],
   "source": [
    "top_platforms = data.groupby('platform')['total_sales'].sum().sort_values(ascending=False).head(6).index.to_list()\n",
    "for platform in top_platforms:\n",
    "    data[data['platform'] == platform].pivot_table(index='year_of_release', values='total_sales', aggfunc='sum').plot(\n",
    "        kind='bar', xlabel='Год', ylabel='Продажи', title = platform, figsize=(12,4))"
   ]
  },
  {
   "cell_type": "markdown",
   "metadata": {},
   "source": [
    "Мы получили аномальную запись для приставки DS, избавимся от нее"
   ]
  },
  {
   "cell_type": "code",
   "execution_count": 25,
   "metadata": {},
   "outputs": [
    {
     "data": {
      "text/html": [
       "<div>\n",
       "<style scoped>\n",
       "    .dataframe tbody tr th:only-of-type {\n",
       "        vertical-align: middle;\n",
       "    }\n",
       "\n",
       "    .dataframe tbody tr th {\n",
       "        vertical-align: top;\n",
       "    }\n",
       "\n",
       "    .dataframe thead th {\n",
       "        text-align: right;\n",
       "    }\n",
       "</style>\n",
       "<table border=\"1\" class=\"dataframe\">\n",
       "  <thead>\n",
       "    <tr style=\"text-align: right;\">\n",
       "      <th></th>\n",
       "      <th>name</th>\n",
       "      <th>platform</th>\n",
       "      <th>year_of_release</th>\n",
       "      <th>genre</th>\n",
       "      <th>na_sales</th>\n",
       "      <th>eu_sales</th>\n",
       "      <th>jp_sales</th>\n",
       "      <th>other_sales</th>\n",
       "      <th>critic_score</th>\n",
       "      <th>user_score</th>\n",
       "      <th>rating</th>\n",
       "      <th>total_sales</th>\n",
       "    </tr>\n",
       "  </thead>\n",
       "  <tbody>\n",
       "    <tr>\n",
       "      <th>15957</th>\n",
       "      <td>strongest tokyo university shogi ds</td>\n",
       "      <td>ds</td>\n",
       "      <td>1985</td>\n",
       "      <td>Action</td>\n",
       "      <td>0.0</td>\n",
       "      <td>0.0</td>\n",
       "      <td>0.02</td>\n",
       "      <td>0.0</td>\n",
       "      <td>NaN</td>\n",
       "      <td>NaN</td>\n",
       "      <td>no rating</td>\n",
       "      <td>0.02</td>\n",
       "    </tr>\n",
       "  </tbody>\n",
       "</table>\n",
       "</div>"
      ],
      "text/plain": [
       "                                      name platform  year_of_release   genre  \\\n",
       "15957  strongest tokyo university shogi ds       ds             1985  Action   \n",
       "\n",
       "       na_sales  eu_sales  jp_sales  other_sales  critic_score  user_score  \\\n",
       "15957       0.0       0.0      0.02          0.0           NaN         NaN   \n",
       "\n",
       "          rating  total_sales  \n",
       "15957  no rating         0.02  "
      ]
     },
     "execution_count": 25,
     "metadata": {},
     "output_type": "execute_result"
    }
   ],
   "source": [
    "data.query('platform == \"ds\" and year_of_release < 2004')"
   ]
  },
  {
   "cell_type": "code",
   "execution_count": 26,
   "metadata": {},
   "outputs": [],
   "source": [
    "data = data.drop(data.query('platform == \"ds\" and year_of_release < 2004').index).reset_index(drop=True)"
   ]
  },
  {
   "cell_type": "code",
   "execution_count": 27,
   "metadata": {},
   "outputs": [
    {
     "name": "stdout",
     "output_type": "stream",
     "text": [
      "Продолжительность жизни ps2 - 11\n",
      "Продолжительность жизни x360 - 11\n",
      "Продолжительность жизни ps3 - 10\n",
      "Продолжительность жизни wii - 10\n",
      "Продолжительность жизни ds - 9\n",
      "Продолжительность жизни ps - 9\n"
     ]
    }
   ],
   "source": [
    "for platform in top_platforms:\n",
    "    print(f'Продолжительность жизни {platform} - {data[data[\"platform\"] == platform][\"year_of_release\"].max() - data[data[\"platform\"] == platform][\"year_of_release\"].min()}')"
   ]
  },
  {
   "cell_type": "markdown",
   "metadata": {},
   "source": [
    "Исходя из полученных данных, мы можем сказать, что средняя продолжительность жизни игровой платформы составляет примерно 10 лет."
   ]
  },
  {
   "cell_type": "markdown",
   "metadata": {},
   "source": [
    "### Определение актуального периода для анализа"
   ]
  },
  {
   "cell_type": "markdown",
   "metadata": {},
   "source": [
    "Из анализа графика 3.2 видно, что даже самые популярные игровые платформы переживают спад. Этот спад, вероятно, связан с тем, что они постепенно уступают место более новым и продвинутым платформам. Поэтому логично ориентироваться на годы, когда происходит резкое снижение продаж среди самых новых консолей из нашего топа.\n",
    "\n",
    "Если рассмотреть, например, платформы PS3 и Xbox 360, то можно заметить резкий спад в продажах в районе 2014 года, что, вероятно, свидетельствует о выходе более нового поколения консолей. Поэтому для дальнейшего анализа и прогнозирования стоит рассматривать данные, начиная с 2014 года."
   ]
  },
  {
   "cell_type": "code",
   "execution_count": 28,
   "metadata": {},
   "outputs": [
    {
     "data": {
      "text/html": [
       "<div>\n",
       "<style scoped>\n",
       "    .dataframe tbody tr th:only-of-type {\n",
       "        vertical-align: middle;\n",
       "    }\n",
       "\n",
       "    .dataframe tbody tr th {\n",
       "        vertical-align: top;\n",
       "    }\n",
       "\n",
       "    .dataframe thead th {\n",
       "        text-align: right;\n",
       "    }\n",
       "</style>\n",
       "<table border=\"1\" class=\"dataframe\">\n",
       "  <thead>\n",
       "    <tr style=\"text-align: right;\">\n",
       "      <th></th>\n",
       "      <th>name</th>\n",
       "      <th>platform</th>\n",
       "      <th>year_of_release</th>\n",
       "      <th>genre</th>\n",
       "      <th>na_sales</th>\n",
       "      <th>eu_sales</th>\n",
       "      <th>jp_sales</th>\n",
       "      <th>other_sales</th>\n",
       "      <th>critic_score</th>\n",
       "      <th>user_score</th>\n",
       "      <th>rating</th>\n",
       "      <th>total_sales</th>\n",
       "    </tr>\n",
       "  </thead>\n",
       "  <tbody>\n",
       "    <tr>\n",
       "      <th>31</th>\n",
       "      <td>call of duty: black ops 3</td>\n",
       "      <td>ps4</td>\n",
       "      <td>2015</td>\n",
       "      <td>Shooter</td>\n",
       "      <td>6.03</td>\n",
       "      <td>5.86</td>\n",
       "      <td>0.36</td>\n",
       "      <td>2.38</td>\n",
       "      <td>NaN</td>\n",
       "      <td>NaN</td>\n",
       "      <td>no rating</td>\n",
       "      <td>14.63</td>\n",
       "    </tr>\n",
       "    <tr>\n",
       "      <th>42</th>\n",
       "      <td>grand theft auto v</td>\n",
       "      <td>ps4</td>\n",
       "      <td>2014</td>\n",
       "      <td>Action</td>\n",
       "      <td>3.96</td>\n",
       "      <td>6.31</td>\n",
       "      <td>0.38</td>\n",
       "      <td>1.97</td>\n",
       "      <td>97.0</td>\n",
       "      <td>8.3</td>\n",
       "      <td>M</td>\n",
       "      <td>12.62</td>\n",
       "    </tr>\n",
       "    <tr>\n",
       "      <th>47</th>\n",
       "      <td>pokemon omega ruby/pokemon alpha sapphire</td>\n",
       "      <td>3ds</td>\n",
       "      <td>2014</td>\n",
       "      <td>Role-Playing</td>\n",
       "      <td>4.35</td>\n",
       "      <td>3.49</td>\n",
       "      <td>3.10</td>\n",
       "      <td>0.74</td>\n",
       "      <td>NaN</td>\n",
       "      <td>NaN</td>\n",
       "      <td>no rating</td>\n",
       "      <td>11.68</td>\n",
       "    </tr>\n",
       "    <tr>\n",
       "      <th>77</th>\n",
       "      <td>fifa 16</td>\n",
       "      <td>ps4</td>\n",
       "      <td>2015</td>\n",
       "      <td>Sports</td>\n",
       "      <td>1.12</td>\n",
       "      <td>6.12</td>\n",
       "      <td>0.06</td>\n",
       "      <td>1.28</td>\n",
       "      <td>82.0</td>\n",
       "      <td>4.3</td>\n",
       "      <td>E</td>\n",
       "      <td>8.58</td>\n",
       "    </tr>\n",
       "    <tr>\n",
       "      <th>87</th>\n",
       "      <td>star wars battlefront (2015)</td>\n",
       "      <td>ps4</td>\n",
       "      <td>2015</td>\n",
       "      <td>Shooter</td>\n",
       "      <td>2.99</td>\n",
       "      <td>3.49</td>\n",
       "      <td>0.22</td>\n",
       "      <td>1.28</td>\n",
       "      <td>NaN</td>\n",
       "      <td>NaN</td>\n",
       "      <td>no rating</td>\n",
       "      <td>7.98</td>\n",
       "    </tr>\n",
       "  </tbody>\n",
       "</table>\n",
       "</div>"
      ],
      "text/plain": [
       "                                         name platform  year_of_release  \\\n",
       "31                  call of duty: black ops 3      ps4             2015   \n",
       "42                         grand theft auto v      ps4             2014   \n",
       "47  pokemon omega ruby/pokemon alpha sapphire      3ds             2014   \n",
       "77                                    fifa 16      ps4             2015   \n",
       "87               star wars battlefront (2015)      ps4             2015   \n",
       "\n",
       "           genre  na_sales  eu_sales  jp_sales  other_sales  critic_score  \\\n",
       "31       Shooter      6.03      5.86      0.36         2.38           NaN   \n",
       "42        Action      3.96      6.31      0.38         1.97          97.0   \n",
       "47  Role-Playing      4.35      3.49      3.10         0.74           NaN   \n",
       "77        Sports      1.12      6.12      0.06         1.28          82.0   \n",
       "87       Shooter      2.99      3.49      0.22         1.28           NaN   \n",
       "\n",
       "    user_score     rating  total_sales  \n",
       "31         NaN  no rating        14.63  \n",
       "42         8.3          M        12.62  \n",
       "47         NaN  no rating        11.68  \n",
       "77         4.3          E         8.58  \n",
       "87         NaN  no rating         7.98  "
      ]
     },
     "execution_count": 28,
     "metadata": {},
     "output_type": "execute_result"
    }
   ],
   "source": [
    "actual_data = data[data['year_of_release'] > 2013]\n",
    "actual_data.head()"
   ]
  },
  {
   "cell_type": "code",
   "execution_count": 29,
   "metadata": {},
   "outputs": [
    {
     "name": "stdout",
     "output_type": "stream",
     "text": [
      "Новый размер df - 1689 строк\n"
     ]
    }
   ],
   "source": [
    "print(f'Новый размер df - {actual_data.shape[0]} строк')"
   ]
  },
  {
   "cell_type": "markdown",
   "metadata": {},
   "source": [
    "*В нашем исследовании мы удаляем все данные, датирующиеся до 2014 года, с целью работы с более актуальной информацией. Это позволило нам избавиться от устаревших данных и сосредоточиться на актуальных.*"
   ]
  },
  {
   "cell_type": "markdown",
   "metadata": {},
   "source": [
    "### Потенциально прибыльные платформы."
   ]
  },
  {
   "cell_type": "code",
   "execution_count": 30,
   "metadata": {},
   "outputs": [
    {
     "data": {
      "image/png": "[encoded data removed]",
      "text/plain": [
       "<Figure size 864x720 with 1 Axes>"
      ]
     },
     "metadata": {
      "needs_background": "light"
     },
     "output_type": "display_data"
    }
   ],
   "source": [
    "actual_data.groupby('platform')['total_sales'].sum().sort_values(ascending=True).plot(\n",
    "                         kind='barh',\n",
    "                         xlabel='Платформа',\n",
    "                         ylabel='Кол-во игр',\n",
    "                         title='Продажи по платформам',\n",
    "                         figsize = (12,10));"
   ]
  },
  {
   "cell_type": "markdown",
   "metadata": {},
   "source": [
    "После обновления данных и среза до 2014 года, наш топ игровых платформ изменился. Теперь лидирующие платформы включают PS4, Xbox One, 3DS, PS3, Xbox 360 и WiiU. Давайте более детально изучим их характеристики и динамику, чтобы лучше понять, какие платформы наиболее актуальны и перспективны для дальнейшего анализа."
   ]
  },
  {
   "cell_type": "code",
   "execution_count": 31,
   "metadata": {
    "scrolled": false
   },
   "outputs": [
    {
     "data": {
      "image/png": "[encoded data removed]",
      "text/plain": [
       "<Figure size 864x288 with 1 Axes>"
      ]
     },
     "metadata": {
      "needs_background": "light"
     },
     "output_type": "display_data"
    },
    {
     "data": {
      "image/png": "[encoded data removed]",
      "text/plain": [
       "<Figure size 864x288 with 1 Axes>"
      ]
     },
     "metadata": {
      "needs_background": "light"
     },
     "output_type": "display_data"
    },
    {
     "data": {
      "image/png": "[encoded data removed]",
      "text/plain": [
       "<Figure size 864x288 with 1 Axes>"
      ]
     },
     "metadata": {
      "needs_background": "light"
     },
     "output_type": "display_data"
    },
    {
     "data": {
      "image/png": "[encoded data removed]",
      "text/plain": [
       "<Figure size 864x288 with 1 Axes>"
      ]
     },
     "metadata": {
      "needs_background": "light"
     },
     "output_type": "display_data"
    },
    {
     "data": {
      "image/png": "[encoded data removed]",
      "text/plain": [
       "<Figure size 864x288 with 1 Axes>"
      ]
     },
     "metadata": {
      "needs_background": "light"
     },
     "output_type": "display_data"
    },
    {
     "data": {
      "image/png": "[encoded data removed]",
      "text/plain": [
       "<Figure size 864x288 with 1 Axes>"
      ]
     },
     "metadata": {
      "needs_background": "light"
     },
     "output_type": "display_data"
    }
   ],
   "source": [
    "top_platforms = actual_data.groupby('platform')['total_sales'].sum().sort_values(ascending=False).head(6).index.to_list()\n",
    "for platform in top_platforms:\n",
    "    actual_data[actual_data['platform'] == platform].pivot_table(index='year_of_release', values='total_sales', aggfunc='sum').plot(\n",
    "        kind='bar', xlabel='Год', ylabel='Продажи', title = platform, figsize=(12,4))"
   ]
  },
  {
   "cell_type": "markdown",
   "metadata": {},
   "source": [
    "*Из анализа видно, что такие платформы как PS3, Xbox 360 и WiiU, к 2016 году почти исчезли с рынка из-за своего технического устаревания, а платформа 3DS, хотя и продолжает существовать, также показывает заметный спад. С другой стороны, платформы PS4 и Xbox One, являющиеся последними версиями своих предшественников, удерживают свои позиции. Можно сказать, что платформы PS4 и Xbox One обладают высоким потенциалом и перспективами на рост, что делает их потенциально прибыльными на рассматриваемом периоде.*"
   ]
  },
  {
   "cell_type": "markdown",
   "metadata": {},
   "source": [
    "###  График box-plot по глобальным продажам игр в разбивке по платформам"
   ]
  },
  {
   "cell_type": "code",
   "execution_count": 32,
   "metadata": {},
   "outputs": [
    {
     "data": {
      "text/html": [
       "<div>\n",
       "<style scoped>\n",
       "    .dataframe tbody tr th:only-of-type {\n",
       "        vertical-align: middle;\n",
       "    }\n",
       "\n",
       "    .dataframe tbody tr th {\n",
       "        vertical-align: top;\n",
       "    }\n",
       "\n",
       "    .dataframe thead th {\n",
       "        text-align: right;\n",
       "    }\n",
       "</style>\n",
       "<table border=\"1\" class=\"dataframe\">\n",
       "  <thead>\n",
       "    <tr style=\"text-align: right;\">\n",
       "      <th></th>\n",
       "      <th>count</th>\n",
       "      <th>mean</th>\n",
       "      <th>std</th>\n",
       "      <th>min</th>\n",
       "      <th>25%</th>\n",
       "      <th>50%</th>\n",
       "      <th>75%</th>\n",
       "      <th>max</th>\n",
       "    </tr>\n",
       "    <tr>\n",
       "      <th>platform</th>\n",
       "      <th></th>\n",
       "      <th></th>\n",
       "      <th></th>\n",
       "      <th></th>\n",
       "      <th></th>\n",
       "      <th></th>\n",
       "      <th></th>\n",
       "      <th></th>\n",
       "    </tr>\n",
       "  </thead>\n",
       "  <tbody>\n",
       "    <tr>\n",
       "      <th>3ds</th>\n",
       "      <td>212.0</td>\n",
       "      <td>0.408868</td>\n",
       "      <td>1.188368</td>\n",
       "      <td>0.01</td>\n",
       "      <td>0.0300</td>\n",
       "      <td>0.090</td>\n",
       "      <td>0.2500</td>\n",
       "      <td>11.68</td>\n",
       "    </tr>\n",
       "    <tr>\n",
       "      <th>pc</th>\n",
       "      <td>151.0</td>\n",
       "      <td>0.179139</td>\n",
       "      <td>0.329359</td>\n",
       "      <td>0.01</td>\n",
       "      <td>0.0200</td>\n",
       "      <td>0.060</td>\n",
       "      <td>0.2000</td>\n",
       "      <td>3.05</td>\n",
       "    </tr>\n",
       "    <tr>\n",
       "      <th>ps3</th>\n",
       "      <td>219.0</td>\n",
       "      <td>0.311324</td>\n",
       "      <td>0.633059</td>\n",
       "      <td>0.01</td>\n",
       "      <td>0.0400</td>\n",
       "      <td>0.110</td>\n",
       "      <td>0.3250</td>\n",
       "      <td>5.27</td>\n",
       "    </tr>\n",
       "    <tr>\n",
       "      <th>ps4</th>\n",
       "      <td>376.0</td>\n",
       "      <td>0.766356</td>\n",
       "      <td>1.614969</td>\n",
       "      <td>0.01</td>\n",
       "      <td>0.0575</td>\n",
       "      <td>0.185</td>\n",
       "      <td>0.6900</td>\n",
       "      <td>14.63</td>\n",
       "    </tr>\n",
       "    <tr>\n",
       "      <th>psp</th>\n",
       "      <td>13.0</td>\n",
       "      <td>0.027692</td>\n",
       "      <td>0.027735</td>\n",
       "      <td>0.01</td>\n",
       "      <td>0.0100</td>\n",
       "      <td>0.020</td>\n",
       "      <td>0.0200</td>\n",
       "      <td>0.09</td>\n",
       "    </tr>\n",
       "    <tr>\n",
       "      <th>psv</th>\n",
       "      <td>295.0</td>\n",
       "      <td>0.075932</td>\n",
       "      <td>0.141591</td>\n",
       "      <td>0.01</td>\n",
       "      <td>0.0200</td>\n",
       "      <td>0.040</td>\n",
       "      <td>0.0900</td>\n",
       "      <td>1.96</td>\n",
       "    </tr>\n",
       "    <tr>\n",
       "      <th>wii</th>\n",
       "      <td>11.0</td>\n",
       "      <td>0.460909</td>\n",
       "      <td>0.625451</td>\n",
       "      <td>0.01</td>\n",
       "      <td>0.0350</td>\n",
       "      <td>0.180</td>\n",
       "      <td>0.7550</td>\n",
       "      <td>2.01</td>\n",
       "    </tr>\n",
       "    <tr>\n",
       "      <th>wiiu</th>\n",
       "      <td>73.0</td>\n",
       "      <td>0.588767</td>\n",
       "      <td>1.161467</td>\n",
       "      <td>0.01</td>\n",
       "      <td>0.0500</td>\n",
       "      <td>0.190</td>\n",
       "      <td>0.5700</td>\n",
       "      <td>7.09</td>\n",
       "    </tr>\n",
       "    <tr>\n",
       "      <th>x360</th>\n",
       "      <td>111.0</td>\n",
       "      <td>0.434414</td>\n",
       "      <td>0.628967</td>\n",
       "      <td>0.01</td>\n",
       "      <td>0.0700</td>\n",
       "      <td>0.180</td>\n",
       "      <td>0.5050</td>\n",
       "      <td>4.28</td>\n",
       "    </tr>\n",
       "    <tr>\n",
       "      <th>xone</th>\n",
       "      <td>228.0</td>\n",
       "      <td>0.615614</td>\n",
       "      <td>1.046513</td>\n",
       "      <td>0.01</td>\n",
       "      <td>0.0500</td>\n",
       "      <td>0.205</td>\n",
       "      <td>0.6325</td>\n",
       "      <td>7.39</td>\n",
       "    </tr>\n",
       "  </tbody>\n",
       "</table>\n",
       "</div>"
      ],
      "text/plain": [
       "          count      mean       std   min     25%    50%     75%    max\n",
       "platform                                                               \n",
       "3ds       212.0  0.408868  1.188368  0.01  0.0300  0.090  0.2500  11.68\n",
       "pc        151.0  0.179139  0.329359  0.01  0.0200  0.060  0.2000   3.05\n",
       "ps3       219.0  0.311324  0.633059  0.01  0.0400  0.110  0.3250   5.27\n",
       "ps4       376.0  0.766356  1.614969  0.01  0.0575  0.185  0.6900  14.63\n",
       "psp        13.0  0.027692  0.027735  0.01  0.0100  0.020  0.0200   0.09\n",
       "psv       295.0  0.075932  0.141591  0.01  0.0200  0.040  0.0900   1.96\n",
       "wii        11.0  0.460909  0.625451  0.01  0.0350  0.180  0.7550   2.01\n",
       "wiiu       73.0  0.588767  1.161467  0.01  0.0500  0.190  0.5700   7.09\n",
       "x360      111.0  0.434414  0.628967  0.01  0.0700  0.180  0.5050   4.28\n",
       "xone      228.0  0.615614  1.046513  0.01  0.0500  0.205  0.6325   7.39"
      ]
     },
     "execution_count": 32,
     "metadata": {},
     "output_type": "execute_result"
    }
   ],
   "source": [
    "actual_data.groupby('platform')['total_sales'].describe()"
   ]
  },
  {
   "cell_type": "code",
   "execution_count": 33,
   "metadata": {},
   "outputs": [
    {
     "data": {
      "image/png": "[encoded data removed]",
      "text/plain": [
       "<Figure size 576x432 with 1 Axes>"
      ]
     },
     "metadata": {
      "needs_background": "light"
     },
     "output_type": "display_data"
    }
   ],
   "source": [
    "actual_data.boxplot(column='total_sales', by='platform', figsize=(8,6))\n",
    "plt.title('Глобальные продажи игр по платформам')\n",
    "plt.xlabel('Платформы')  # Подпись оси X\n",
    "plt.ylabel('Глобальные продажи')\n",
    "plt.ylim(0, 1.8);"
   ]
  },
  {
   "cell_type": "markdown",
   "metadata": {},
   "source": [
    "*Анализируя графики box plot, мы можем выделить явных лидеров среди игровых платформ по медианным продажам, а также по максимальным значениям, которые не входят в выбросы. Лидирами в данном контексте можно считать PS4, Wii, Xbox 360 и Xbox One, а также WiiU. Важно отметить, что позиция Xbox One и PlayStation 4 объясняется их относительно более поздним появлением на рынке, и, вероятнее всего, их показатели будут продолжать расти в будущем.*\n",
    "\n",
    "*Интересно, что почти каждая из перечисленных платформ имеет большое количество выбросов, что, вероятно, связано с эксклюзивами для конкретной платформы, успешностью определенных игр или другими факторами, способствующими выдающимся продажам.*"
   ]
  },
  {
   "cell_type": "markdown",
   "metadata": {},
   "source": [
    "### Влияние отзывов на продажи"
   ]
  },
  {
   "cell_type": "markdown",
   "metadata": {},
   "source": [
    "Анализ влияния отзывов на продажи будет проводиться на примере наиболее популярной консоли нового поколения, PS4."
   ]
  },
  {
   "cell_type": "code",
   "execution_count": 34,
   "metadata": {},
   "outputs": [],
   "source": [
    "def create_scatter(platform, score, score_name):\n",
    "    actual_data[actual_data.platform == platform].plot(x='total_sales', y=score, kind='scatter', alpha=0.6, figsize=(9, 6))\n",
    "    plt.xlabel('Продажи (млн)')\n",
    "    plt.ylabel('Оценка критиков')\n",
    "    plt.title(f'График зависимости продаж и оценки {score_name} для платформы {platform}')\n",
    "    plt.show()"
   ]
  },
  {
   "cell_type": "code",
   "execution_count": 35,
   "metadata": {},
   "outputs": [
    {
     "data": {
      "image/png": "[encoded data removed]",
      "text/plain": [
       "<Figure size 648x432 with 1 Axes>"
      ]
     },
     "metadata": {
      "needs_background": "light"
     },
     "output_type": "display_data"
    }
   ],
   "source": [
    "#построим граффик рассеивания\n",
    "create_scatter('ps4', 'critic_score', 'критиков')"
   ]
  },
  {
   "cell_type": "code",
   "execution_count": 36,
   "metadata": {},
   "outputs": [
    {
     "data": {
      "text/plain": [
       "0.40266141068104083"
      ]
     },
     "execution_count": 36,
     "metadata": {},
     "output_type": "execute_result"
    }
   ],
   "source": [
    "#Рассчитаем процент корреляции Пирсона\n",
    "actual_data[actual_data.platform == \"ps4\"]['total_sales'].corr(actual_data[actual_data.platform == \"ps4\"]['critic_score'])"
   ]
  },
  {
   "cell_type": "markdown",
   "metadata": {},
   "source": [
    "*Мы получили умеренный коэффициент корреляции*"
   ]
  },
  {
   "cell_type": "code",
   "execution_count": 37,
   "metadata": {},
   "outputs": [
    {
     "data": {
      "image/png": "[encoded data removed]",
      "text/plain": [
       "<Figure size 648x432 with 1 Axes>"
      ]
     },
     "metadata": {
      "needs_background": "light"
     },
     "output_type": "display_data"
    }
   ],
   "source": [
    "create_scatter('ps4', 'user_score', 'пользователей')"
   ]
  },
  {
   "cell_type": "code",
   "execution_count": 38,
   "metadata": {},
   "outputs": [
    {
     "data": {
      "text/plain": [
       "-0.040131589472697356"
      ]
     },
     "execution_count": 38,
     "metadata": {},
     "output_type": "execute_result"
    }
   ],
   "source": [
    "#Рассчитаем процент корреляции Пирсона\n",
    "actual_data[actual_data.platform == \"ps4\"]['total_sales'].corr(actual_data[actual_data.platform == \"ps4\"]['user_score'])"
   ]
  },
  {
   "cell_type": "markdown",
   "metadata": {},
   "source": [
    "*Корреляция отсутствует*"
   ]
  },
  {
   "cell_type": "markdown",
   "metadata": {},
   "source": [
    "*Из анализа данный граффиков можно выделить следующую закономерность: с увеличением оценок критиков, общие продажи игр также увеличиваются. Эту тенденцию подтверждает и коэффициент корреляции Пирсона, равный 0.4, который указывает на положительную корреляцию между оценками критиков и общими продажами. Корреляции между общими продажами и оценкой пользователей нет.*"
   ]
  },
  {
   "cell_type": "markdown",
   "metadata": {},
   "source": [
    "### Проведем анализ аналогичных закономерностей для других игровых платформ, входящих в наш топ, с целью подтвердить установленные зависимости и оценить их общность на популярных платформах."
   ]
  },
  {
   "cell_type": "code",
   "execution_count": 39,
   "metadata": {
    "scrolled": false
   },
   "outputs": [
    {
     "name": "stdout",
     "output_type": "stream",
     "text": [
      "      Корреляция отзывов критиков для платформы xone: 0.43\n",
      "      Корреляция отзывов пользователей для платформы xone: -0.07\n"
     ]
    },
    {
     "data": {
      "image/png": "[encoded data removed]",
      "text/plain": [
       "<Figure size 648x432 with 1 Axes>"
      ]
     },
     "metadata": {
      "needs_background": "light"
     },
     "output_type": "display_data"
    },
    {
     "data": {
      "image/png": "[encoded data removed]",
      "text/plain": [
       "<Figure size 648x432 with 1 Axes>"
      ]
     },
     "metadata": {
      "needs_background": "light"
     },
     "output_type": "display_data"
    },
    {
     "name": "stdout",
     "output_type": "stream",
     "text": [
      "\n",
      "\n",
      "\n",
      "      Корреляция отзывов критиков для платформы 3ds: 0.31\n",
      "      Корреляция отзывов пользователей для платформы 3ds: 0.22\n"
     ]
    },
    {
     "data": {
      "image/png": "[encoded data removed]",
      "text/plain": [
       "<Figure size 648x432 with 1 Axes>"
      ]
     },
     "metadata": {
      "needs_background": "light"
     },
     "output_type": "display_data"
    },
    {
     "data": {
      "image/png": "[encoded data removed]",
      "text/plain": [
       "<Figure size 648x432 with 1 Axes>"
      ]
     },
     "metadata": {
      "needs_background": "light"
     },
     "output_type": "display_data"
    },
    {
     "name": "stdout",
     "output_type": "stream",
     "text": [
      "\n",
      "\n",
      "\n",
      "      Корреляция отзывов критиков для платформы ps3: 0.45\n",
      "      Корреляция отзывов пользователей для платформы ps3: -0.17\n"
     ]
    },
    {
     "data": {
      "image/png": "[encoded data removed]",
      "text/plain": [
       "<Figure size 648x432 with 1 Axes>"
      ]
     },
     "metadata": {
      "needs_background": "light"
     },
     "output_type": "display_data"
    },
    {
     "data": {
      "image/png": "[encoded data removed]",
      "text/plain": [
       "<Figure size 648x432 with 1 Axes>"
      ]
     },
     "metadata": {
      "needs_background": "light"
     },
     "output_type": "display_data"
    },
    {
     "name": "stdout",
     "output_type": "stream",
     "text": [
      "\n",
      "\n",
      "\n",
      "      Корреляция отзывов критиков для платформы x360: 0.53\n",
      "      Корреляция отзывов пользователей для платформы x360: -0.14\n"
     ]
    },
    {
     "data": {
      "image/png": "[encoded data removed]",
      "text/plain": [
       "<Figure size 648x432 with 1 Axes>"
      ]
     },
     "metadata": {
      "needs_background": "light"
     },
     "output_type": "display_data"
    },
    {
     "data": {
      "image/png": "[encoded data removed]",
      "text/plain": [
       "<Figure size 648x432 with 1 Axes>"
      ]
     },
     "metadata": {
      "needs_background": "light"
     },
     "output_type": "display_data"
    },
    {
     "name": "stdout",
     "output_type": "stream",
     "text": [
      "\n",
      "\n",
      "\n",
      "      Корреляция отзывов критиков для платформы wiiu: 0.37\n",
      "      Корреляция отзывов пользователей для платформы wiiu: 0.41\n"
     ]
    },
    {
     "data": {
      "image/png": "[encoded data removed]",
      "text/plain": [
       "<Figure size 648x432 with 1 Axes>"
      ]
     },
     "metadata": {
      "needs_background": "light"
     },
     "output_type": "display_data"
    },
    {
     "data": {
      "image/png": "[encoded data removed]",
      "text/plain": [
       "<Figure size 648x432 with 1 Axes>"
      ]
     },
     "metadata": {
      "needs_background": "light"
     },
     "output_type": "display_data"
    },
    {
     "name": "stdout",
     "output_type": "stream",
     "text": [
      "\n",
      "\n",
      "\n"
     ]
    }
   ],
   "source": [
    "for platform in top_platforms[1:]:\n",
    "    correlation = round(actual_data[actual_data['platform'] == platform]['total_sales'].corr(actual_data[actual_data['platform'] == platform]['critic_score']), 2)\n",
    "    print(f\"      Корреляция отзывов критиков для платформы {platform}: {correlation}\")\n",
    "    correlation = round(actual_data[actual_data['platform'] == platform]['total_sales'].corr(actual_data[actual_data['platform'] == platform]['user_score']), 2)\n",
    "    print(f\"      Корреляция отзывов пользователей для платформы {platform}: {correlation}\")\n",
    "    create_scatter(platform, 'critic_score', 'критиков')\n",
    "    create_scatter(platform, 'user_score', 'пользователей')\n",
    "    print()\n",
    "    print()\n",
    "    print()"
   ]
  },
  {
   "cell_type": "markdown",
   "metadata": {},
   "source": [
    "*Полученные результаты подтверждают данную тенденцию для других популярных игровых платформ, за исключением таких платформ как Wii U и 3DS, у которых коэффициент корреляции Пирсона для отзывов пользователей составляет 0.41 и 0.22 соответсвенно, что указывает на умеренную степень корреляции.*"
   ]
  },
  {
   "cell_type": "markdown",
   "metadata": {},
   "source": [
    "### Общее распределение игр по жанрам"
   ]
  },
  {
   "cell_type": "code",
   "execution_count": 40,
   "metadata": {},
   "outputs": [
    {
     "data": {
      "image/png": "[encoded data removed]",
      "text/plain": [
       "<Figure size 576x432 with 1 Axes>"
      ]
     },
     "metadata": {
      "needs_background": "light"
     },
     "output_type": "display_data"
    }
   ],
   "source": [
    "actual_data.groupby('genre')['total_sales'].median().sort_values(ascending=True).plot(\n",
    "                         kind='barh',\n",
    "                         xlabel='Жанр',\n",
    "                         ylabel='Продажи',\n",
    "                         title='Продажи по жанрам',\n",
    "                         figsize = (8,6));"
   ]
  },
  {
   "cell_type": "code",
   "execution_count": 41,
   "metadata": {},
   "outputs": [
    {
     "data": {
      "text/html": [
       "<div>\n",
       "<style scoped>\n",
       "    .dataframe tbody tr th:only-of-type {\n",
       "        vertical-align: middle;\n",
       "    }\n",
       "\n",
       "    .dataframe tbody tr th {\n",
       "        vertical-align: top;\n",
       "    }\n",
       "\n",
       "    .dataframe thead th {\n",
       "        text-align: right;\n",
       "    }\n",
       "</style>\n",
       "<table border=\"1\" class=\"dataframe\">\n",
       "  <thead>\n",
       "    <tr style=\"text-align: right;\">\n",
       "      <th></th>\n",
       "      <th>total_sales</th>\n",
       "    </tr>\n",
       "    <tr>\n",
       "      <th>genre</th>\n",
       "      <th></th>\n",
       "    </tr>\n",
       "  </thead>\n",
       "  <tbody>\n",
       "    <tr>\n",
       "      <th>Shooter</th>\n",
       "      <td>0.515</td>\n",
       "    </tr>\n",
       "    <tr>\n",
       "      <th>Sports</th>\n",
       "      <td>0.180</td>\n",
       "    </tr>\n",
       "    <tr>\n",
       "      <th>Platform</th>\n",
       "      <td>0.140</td>\n",
       "    </tr>\n",
       "    <tr>\n",
       "      <th>Fighting</th>\n",
       "      <td>0.125</td>\n",
       "    </tr>\n",
       "    <tr>\n",
       "      <th>Role-Playing</th>\n",
       "      <td>0.110</td>\n",
       "    </tr>\n",
       "    <tr>\n",
       "      <th>Simulation</th>\n",
       "      <td>0.100</td>\n",
       "    </tr>\n",
       "    <tr>\n",
       "      <th>Action</th>\n",
       "      <td>0.090</td>\n",
       "    </tr>\n",
       "    <tr>\n",
       "      <th>Misc</th>\n",
       "      <td>0.090</td>\n",
       "    </tr>\n",
       "    <tr>\n",
       "      <th>Racing</th>\n",
       "      <td>0.090</td>\n",
       "    </tr>\n",
       "    <tr>\n",
       "      <th>Strategy</th>\n",
       "      <td>0.060</td>\n",
       "    </tr>\n",
       "    <tr>\n",
       "      <th>Puzzle</th>\n",
       "      <td>0.045</td>\n",
       "    </tr>\n",
       "    <tr>\n",
       "      <th>Adventure</th>\n",
       "      <td>0.030</td>\n",
       "    </tr>\n",
       "  </tbody>\n",
       "</table>\n",
       "</div>"
      ],
      "text/plain": [
       "              total_sales\n",
       "genre                    \n",
       "Shooter             0.515\n",
       "Sports              0.180\n",
       "Platform            0.140\n",
       "Fighting            0.125\n",
       "Role-Playing        0.110\n",
       "Simulation          0.100\n",
       "Action              0.090\n",
       "Misc                0.090\n",
       "Racing              0.090\n",
       "Strategy            0.060\n",
       "Puzzle              0.045\n",
       "Adventure           0.030"
      ]
     },
     "execution_count": 41,
     "metadata": {},
     "output_type": "execute_result"
    }
   ],
   "source": [
    "actual_data.pivot_table(index='genre', values = 'total_sales', aggfunc='median').sort_values(\n",
    "    by='total_sales', ascending=False)"
   ]
  },
  {
   "cell_type": "markdown",
   "metadata": {},
   "source": [
    "*Из анализа можно сделать выводы, что определенные жанры, такие как шутеры (с медианными продажами 500 тыс.), спортивные игры (180 тыс.) и платформеры (140 тыс.), являются яркими лидерами. В то время как приключенческие игры (30 тыс.), стратегии (45 тыс.) и головоломки (60 тыс.) демонстрируют значительно более низкие результаты.\n",
    "Этот анализ подчеркивает, что существует выраженное различие по продажам между различными жанрами. На рынке игровой индустрии имеются как яркие лидеры, так и категории, которые не пользуются большой популярностью среди покупателей.*"
   ]
  },
  {
   "cell_type": "markdown",
   "metadata": {},
   "source": [
    "**Вывод: Из граффика видно, что рост количества выпускаемых игр начался с 1994 года, с резким скачком в 2002 году, достигая пика в 2008-2009 годах, когда количество выпущенных игр в год превышало 1400. Затем наступил спад, вероятно, вызванный развитием мобильных технологий, что снизило интерес к традиционным играм.**\n",
    "\n",
    "**Анализ платформ показал, что средняя продолжительность жизни игровой платформы составляет приблизительно 10 лет. В нашем исследовании мы удалили все данные, датированные до 2014 года, чтобы работать с более актуальной информацией, что позволило сосредоточиться на актуальных данных.** \n",
    "\n",
    "**После обновления данных и среза до 2014 года, наш топ игровых платформ изменился, и теперь лидирующими платформами являются PS4, Xbox One, 3DS, PS3, Xbox 360 и WiiU. Эти платформы обладают потенциалом для дальнейшего роста.** \n",
    "\n",
    "**Анализ box plot показал, что такие платформы как PS4, Wii, Xbox 360 и Xbox One, а также WiiU имеют наивысшие медианные продажи, а также значительное количество выбросов, что свидетельствует о успешности отдельных игр и эксклюзивах для этих платформ. Позиция Xbox One и PlayStation 4 объясняется их более поздним появлением на рынке, и их показатели склонны к росту.** \n",
    "\n",
    "**Анализ влияния оценок на продажи показал, что с увеличением оценок критиков, общие продажи игр также увеличиваются, и это подтверждается коэффициентом корреляции Пирсона.** \n",
    "\n",
    "**Из анализа жанров можно сделать выводы, что определенные жанры, такие как шутеры (с медианными продажами 500 тыс.), спортивные игры (180 тыс.) и платформеры (140 тыс.), являются яркими лидерами. В то время как приключенческие игры (30 тыс.), стратегии (60 тыс.) и головоломки (45 тыс.) демонстрируют значительно более низкие результаты.**"
   ]
  },
  {
   "cell_type": "markdown",
   "metadata": {},
   "source": [
    "## Портрет пользователя каждого региона\n",
    "Определим самые популярные платформы, жанры и выясним влияет ли рейтинг ESRB на продажи для пользователя каждого региона (NA, EU, JP)."
   ]
  },
  {
   "cell_type": "code",
   "execution_count": 42,
   "metadata": {},
   "outputs": [],
   "source": [
    "def create_bar(groupby, region, xlable, title):\n",
    "    actual_data.groupby(groupby)[region].sum().sort_values(ascending=False)[:5].plot(\n",
    "                         kind='bar',\n",
    "                         xlabel=xlable,\n",
    "                         ylabel='Продажи',\n",
    "                         title=title,\n",
    "                         figsize = (12,6));"
   ]
  },
  {
   "cell_type": "markdown",
   "metadata": {},
   "source": [
    "### Популярные платформы по регионам"
   ]
  },
  {
   "cell_type": "code",
   "execution_count": 43,
   "metadata": {},
   "outputs": [
    {
     "data": {
      "image/png": "[encoded data removed]",
      "text/plain": [
       "<Figure size 864x432 with 1 Axes>"
      ]
     },
     "metadata": {
      "needs_background": "light"
     },
     "output_type": "display_data"
    }
   ],
   "source": [
    "create_bar('platform', 'na_sales', 'Платформа', 'Популярные платформы в NA')"
   ]
  },
  {
   "cell_type": "code",
   "execution_count": 44,
   "metadata": {},
   "outputs": [
    {
     "data": {
      "image/png": "[encoded data removed]",
      "text/plain": [
       "<Figure size 864x432 with 1 Axes>"
      ]
     },
     "metadata": {
      "needs_background": "light"
     },
     "output_type": "display_data"
    }
   ],
   "source": [
    "create_bar('platform', 'eu_sales', 'Платформа', 'Популярные платформы в EU')"
   ]
  },
  {
   "cell_type": "code",
   "execution_count": 45,
   "metadata": {},
   "outputs": [
    {
     "data": {
      "image/png": "[encoded data removed]",
      "text/plain": [
       "<Figure size 864x432 with 1 Axes>"
      ]
     },
     "metadata": {
      "needs_background": "light"
     },
     "output_type": "display_data"
    }
   ],
   "source": [
    "create_bar('platform', 'jp_sales', 'Платформа', 'Популярные платформы в JP')"
   ]
  },
  {
   "cell_type": "markdown",
   "metadata": {},
   "source": [
    "Из анализа графиков видно, что рейтинги популярных платформ в Северной Америке и Европе очень похожи. Однако c Японией наблюдается значительное различие.\n",
    "- NA: PS4, Xbox One, Xbox 360, 3DS, PS3\n",
    "- EU: PS4, Xbox One, PS3, PC, 3DS \n",
    "- JP: 3DS, PS4, PSV, PS3, WiiU"
   ]
  },
  {
   "cell_type": "markdown",
   "metadata": {},
   "source": [
    "### Популярные жанры по регионам"
   ]
  },
  {
   "cell_type": "code",
   "execution_count": 46,
   "metadata": {},
   "outputs": [
    {
     "data": {
      "image/png": "[encoded data removed]",
      "text/plain": [
       "<Figure size 864x432 with 1 Axes>"
      ]
     },
     "metadata": {
      "needs_background": "light"
     },
     "output_type": "display_data"
    }
   ],
   "source": [
    "create_bar('genre', 'na_sales', 'Жанр', 'Популярные жанры в NA')"
   ]
  },
  {
   "cell_type": "code",
   "execution_count": 47,
   "metadata": {},
   "outputs": [
    {
     "data": {
      "image/png": "[encoded data removed]",
      "text/plain": [
       "<Figure size 864x432 with 1 Axes>"
      ]
     },
     "metadata": {
      "needs_background": "light"
     },
     "output_type": "display_data"
    }
   ],
   "source": [
    "create_bar('genre', 'eu_sales', 'Жанр', 'Популярные жанры в EU')"
   ]
  },
  {
   "cell_type": "code",
   "execution_count": 48,
   "metadata": {},
   "outputs": [
    {
     "data": {
      "image/png": "[encoded data removed]",
      "text/plain": [
       "<Figure size 864x432 with 1 Axes>"
      ]
     },
     "metadata": {
      "needs_background": "light"
     },
     "output_type": "display_data"
    }
   ],
   "source": [
    "create_bar('genre', 'jp_sales', 'Жанр', 'Популярные жанры в JP')"
   ]
  },
  {
   "cell_type": "markdown",
   "metadata": {},
   "source": [
    "Анализ жанров по регионам также показывает значительные различия Европы и Северной Америки с Японией. В Европе и Северной Америке наиболее популярными жанрами являются экшн и шутеры, однако в Японии лидирующее место занимает ролевая игра, в то время как в Европе и Северной Америке она находится лишь на 4 месте."
   ]
  },
  {
   "cell_type": "markdown",
   "metadata": {},
   "source": [
    "- NA: Shooter, Action, Sports, Role-Playing, Misc\n",
    "- EU: Action, Shooter, Sports, Role-Playing, Racing\n",
    "- JP: Role-Playing, Action, Fighting, Misc, Shooter"
   ]
  },
  {
   "cell_type": "markdown",
   "metadata": {},
   "source": [
    "### Влияние рейтинга ESRB на продажи"
   ]
  },
  {
   "cell_type": "code",
   "execution_count": 49,
   "metadata": {},
   "outputs": [
    {
     "data": {
      "image/png": "[encoded data removed]",
      "text/plain": [
       "<Figure size 864x432 with 1 Axes>"
      ]
     },
     "metadata": {
      "needs_background": "light"
     },
     "output_type": "display_data"
    }
   ],
   "source": [
    "create_bar('rating', 'na_sales', 'Рейтинг', 'Популярные рейтинги в NA')"
   ]
  },
  {
   "cell_type": "code",
   "execution_count": 50,
   "metadata": {},
   "outputs": [
    {
     "data": {
      "image/png": "[encoded data removed]",
      "text/plain": [
       "<Figure size 864x432 with 1 Axes>"
      ]
     },
     "metadata": {
      "needs_background": "light"
     },
     "output_type": "display_data"
    }
   ],
   "source": [
    "create_bar('rating', 'eu_sales', 'Рейтинг', 'Популярные рейтинги в EU')"
   ]
  },
  {
   "cell_type": "code",
   "execution_count": 51,
   "metadata": {},
   "outputs": [
    {
     "data": {
      "image/png": "[encoded data removed]",
      "text/plain": [
       "<Figure size 864x432 with 1 Axes>"
      ]
     },
     "metadata": {
      "needs_background": "light"
     },
     "output_type": "display_data"
    }
   ],
   "source": [
    "create_bar('rating', 'jp_sales', 'Рейтинг', 'Популярные рейтинги в JP')"
   ]
  },
  {
   "cell_type": "markdown",
   "metadata": {},
   "source": [
    "В анализе рейтингов та же ситуация: предпочтительные рейтинги в Европе и Северной Америке идентичны, но весомо отличаются от предпочтений в Японии.\n",
    "Интересной особенностью является тот факт, что игры без рейтинга занимают лидирующие позиции в каждом из регионов, и это явление наиболее выражено в Японии."
   ]
  },
  {
   "cell_type": "markdown",
   "metadata": {},
   "source": [
    "- NA: M, No rating, E, T, E10+\n",
    "- EU: M, No rating, E, T, E10+\n",
    "- JP: No rating, T, E, M, E10+"
   ]
  },
  {
   "cell_type": "markdown",
   "metadata": {},
   "source": [
    "**После изучения данных по платформам, жанрам и рейтингам в регионах Европа, Северная Америка и Япония мы пришли к выводу, что ситуация в Европе и Северной Америке очень схожа по всем аспектам, однако, с Японией наблюдаются значительные различия. Эти различия вероятнее всего вызваны культурными особенностями и ценностями в каждом регионе.**"
   ]
  },
  {
   "cell_type": "markdown",
   "metadata": {},
   "source": [
    "## Проверка гипотиз "
   ]
  },
  {
   "cell_type": "markdown",
   "metadata": {},
   "source": [
    "### Средние пользовательские рейтинги платформ Xbox One и PC одинаковые\n",
    "- H_0: Средние пользовательские рейтинги на платформе Xbox One = Средние пользовательские рейтинги на платформе PC\n",
    "- H_1: Средние пользовательские рейтинги на платформе Xbox One != Средние пользовательские рейтинги на платформе PC"
   ]
  },
  {
   "cell_type": "code",
   "execution_count": 52,
   "metadata": {},
   "outputs": [
    {
     "name": "stdout",
     "output_type": "stream",
     "text": [
      "228 151\n"
     ]
    }
   ],
   "source": [
    "xbox_users = actual_data.query('platform == \"xone\"')['user_score']\n",
    "pc_users = actual_data.query('platform == \"pc\"')['user_score']\n",
    "print(len(xbox_users), len(pc_users))"
   ]
  },
  {
   "cell_type": "code",
   "execution_count": 53,
   "metadata": {},
   "outputs": [
    {
     "data": {
      "text/plain": [
       "455      3.9\n",
       "1515     5.4\n",
       "1658     NaN\n",
       "1710     7.9\n",
       "2273     5.7\n",
       "        ... \n",
       "16237    7.9\n",
       "16246    1.4\n",
       "16344    NaN\n",
       "16358    NaN\n",
       "16419    7.6\n",
       "Name: user_score, Length: 151, dtype: float64"
      ]
     },
     "execution_count": 53,
     "metadata": {},
     "output_type": "execute_result"
    }
   ],
   "source": [
    "pc_users"
   ]
  },
  {
   "cell_type": "markdown",
   "metadata": {},
   "source": [
    "*Из-за существенных различий в размерах выборок, мы используем параметр equal_var=False.*"
   ]
  },
  {
   "cell_type": "code",
   "execution_count": 54,
   "metadata": {},
   "outputs": [
    {
     "name": "stdout",
     "output_type": "stream",
     "text": [
      "p-значение: 0.11601398086668943\n",
      "Не получилось отвергнуть нулевую гипотезу\n"
     ]
    }
   ],
   "source": [
    "alpha = .05 \n",
    "            \n",
    "results = st.ttest_ind(\n",
    "    xbox_users, \n",
    "    pc_users,\n",
    "    nan_policy = 'omit',\n",
    "    equal_var = False)\n",
    "\n",
    "print('p-значение:', results.pvalue)\n",
    "\n",
    "if (results.pvalue < alpha): # код ревьюера\n",
    "    print(\"Отвергаем нулевую гипотезу\")\n",
    "else:\n",
    "    print(\"Не получилось отвергнуть нулевую гипотезу\") "
   ]
  },
  {
   "cell_type": "markdown",
   "metadata": {},
   "source": [
    "С большой долей вероятности средние пользовательские рейтинги платформ XOne и PC не имеют статистически значимых отличий."
   ]
  },
  {
   "cell_type": "markdown",
   "metadata": {},
   "source": [
    "### Средние пользовательские рейтинги жанров Action и  Sports не равны\n",
    "- H_0: Средние пользовательские рейтинги Action = Средние пользовательские рейтинги Sports\n",
    "- H_1: Средние пользовательские рейтинги Action != Средние пользовательские рейтинги Sports"
   ]
  },
  {
   "cell_type": "code",
   "execution_count": 55,
   "metadata": {},
   "outputs": [
    {
     "name": "stdout",
     "output_type": "stream",
     "text": [
      "619 161\n"
     ]
    }
   ],
   "source": [
    "action_genre = actual_data.query('genre == \"Action\"')['user_score']\n",
    "sports_genre = actual_data.query('genre == \"Sports\"')['user_score']\n",
    "print(len(action_genre), len(sports_genre))"
   ]
  },
  {
   "cell_type": "code",
   "execution_count": 56,
   "metadata": {},
   "outputs": [
    {
     "name": "stdout",
     "output_type": "stream",
     "text": [
      "p-значение: 1.182555038264477e-14\n",
      "Отвергаем нулевую гипотезу\n"
     ]
    }
   ],
   "source": [
    "alpha = .05 \n",
    "            \n",
    "results = st.ttest_ind(\n",
    "    action_genre, \n",
    "    sports_genre,\n",
    "    nan_policy = 'omit',\n",
    "    equal_var = False)\n",
    "\n",
    "print('p-значение:', results.pvalue)\n",
    "\n",
    "if (results.pvalue < alpha): # код ревьюера\n",
    "    print(\"Отвергаем нулевую гипотезу\")\n",
    "else:\n",
    "    print(\"Не получилось отвергнуть нулевую гипотезу\") "
   ]
  },
  {
   "cell_type": "markdown",
   "metadata": {},
   "source": [
    "С большой долей вероятности средние пользовательские рейтинги жанров Action и Sports имеют статистически значимые отличия"
   ]
  },
  {
   "cell_type": "markdown",
   "metadata": {},
   "source": [
    "**Вывод:**\n",
    "\n",
    "**Проведя проверку гипотиз мы можем утвержать следующее**\n",
    "- Средние пользовательские рейтинги на платформах Xbox One и PC равны\n",
    "- Средние пользовательские рейтинги жанров Action и Sports не равны\n"
   ]
  },
  {
   "cell_type": "markdown",
   "metadata": {},
   "source": [
    "## Вывод"
   ]
  },
  {
   "cell_type": "markdown",
   "metadata": {},
   "source": [
    "**Загрузка данных** \n",
    "\n",
    "После успешной загрузки датафрейма стало очевидным, что основное внимание следует уделить обработке отсутствующих значений и изменению типов данных в следующих столбцах: `Year_of_Release` и `User_Score`.\n",
    "\n",
    "**Предобработка данных**\n",
    "\n",
    "Мы привели названия столбцов к нижнему регистру, изменили типы данных для столбцов `year_of_release` и `user_score`. Также мы удалили строки с пропущенными значениями в столбцах `name`, `genre`, и `year_of_release` из-за их небольшого количества. Пропуски в столбцах `critic_score`, `user_score` оставили без изменений из-за субъективности данных параметров. Пропуски  в столбце `rating` заполнили значением 'No rating'. Вероятные причины пропусков в указанных столбцах могут включать технические проблемы при загрузке данных, а также возможность того, что рейтинги еще не были назначены для некоторых игр из-за их недавнего выпуска. Добавили новый столбец, в котором подсчитали суммарные продажи во всех регионах. Мы также проверили наличие дубликатов в данных и обнаружили, что они отсутствуют.\n",
    "\n",
    "**Исследовательский анализ данных**\n",
    "\n",
    "- Рост количества выпускаемых игр начался с 1994 года, с резким скачком в 2002 году, достигая пика в 2008-2009 годах, когда количество выпущенных игр в год превышало 1400. Затем наступил спад, вероятно, вызванный развитием мобильных технологий, что снизило интерес к традиционным играм.\n",
    "- Средняя продолжительность жизни игровой платформы составляет около 10 лет. В нашем исследовании мы удалили все данные, датированные до 2014 года, чтобы сосредоточиться на актуальных данных.\n",
    "- После обновления данных и среза до 2014 года, топ игровых платформ изменился, и теперь лидирующими платформами являются PS4, Xbox One, 3DS, PS3, Xbox 360 и WiiU. Эти платформы обладают потенциалом для дальнейшего роста.\n",
    "- Анализ box plot показал, что платформы PS4, Wii, Xbox 360 и Xbox One, а также WiiU имеют наивысшие медианные продажи, а также значительное количество выбросов, что свидетельствует о успешности отдельных игр и эксклюзивах для этих платформ. Позиция Xbox One и PlayStation 4 объясняется их более поздним появлением на рынке, и их показатели склонны к росту.\n",
    "- Анализ влияния оценок на продажи показал, что с увеличением оценок критиков, общие продажи игр также увеличиваются, и это подтверждается коэффициентом корреляции Пирсона.\n",
    "- Жанры шутеры, спорт и платформеры являются наиболее успешными, в то время как медианные продажи стратегий, головоломок и приключений сильно меньше. Это свидетельствует о наличии четко выделенных жанров с разными уровнями продаж.\n",
    "\n",
    "\n",
    "**Портрет пользователя каждого региона**\n",
    "        \n",
    "   **Платформы**\n",
    "   \n",
    "    NA: PS4, Xbox One, Xbox 360, 3DS, PS3\n",
    "    EU: PS4, Xbox One, PS3, PC, 3DS\n",
    "    JP: 3DS, PS4, PSV, PS3, WiiU\n",
    "    \n",
    "   **Жанры**\n",
    "   \n",
    "    NA: Shooter, Action, Sports, Role-Playing, Misc\n",
    "    EU: Action, Shooter, Sports, Role-Playing, Racing\n",
    "    JP: Role-Playing, Action, Fighting, Misc, Shooter\n",
    "    \n",
    "   **Возростной рейтинг**\n",
    "   \n",
    "    NA: M, No rating, E, T, E10+\n",
    "    EU: M, No rating, E, T, E10+\n",
    "    JP: No rating, T, E, M, E10+\n",
    "    \n",
    "\n",
    "После анализа данных о платформах, жанрах и рейтингах в регионах Европы, Северной Америки и Японии, мы пришли к выводу, что сходство между Европой и Северной Америкой во всех аспектах довольно высоко, в то время как Япония проявляет существенные отличия. Эти различия, вероятно, обусловлены культурными особенностями и ценностями, характерными для региона.\n",
    "    \n",
    "**Проверка гипотиз**\n",
    "\n",
    "- С большой долей вероятности средние пользовательские рейтинги платформ XOne и PC не имеют статистически значимых отличий.\n",
    "- С большой долей вероятности средние пользовательские рейтинги жанров Action и Sports имеют статистически значимые отличия.\n",
    "\n",
    "    Обе гипотизы подтвердились.\n",
    "\n",
    "\n",
    "**Заключение основанное на проведенном анализе данных предполагает, что в будущем целесообразно уделить внимание приставкам нового поколения, таким как PS4 и Xbox One, ввиду их технической продвинутости и популярности на рынке. Эти платформы предоставляют потенциал для привлечения аудитории.\n",
    "Также стоит отметить, что жанры, такие как экшн, шутеры и спортивные игры, демонстрируют высокие объемы продаж, что делает их привлекательными для разработчиков. Ориентирование на эти жанры может способствовать коммерческому успеху в игровой индустрии.\n",
    "Однако, важно помнить, что игровой рынок подвержен быстрым изменениям и модификациям, и успешное продвижение продукции также зависит от множества других факторов**"
   ]
  }
 ],
 "metadata": {
  "ExecuteTimeLog": [
   {
    "duration": 1363,
    "start_time": "2023-10-16T14:53:13.215Z"
   },
   {
    "duration": 102,
    "start_time": "2023-10-16T14:54:18.290Z"
   },
   {
    "duration": 42,
    "start_time": "2023-10-16T14:55:16.998Z"
   },
   {
    "duration": 10,
    "start_time": "2023-10-16T14:57:03.827Z"
   },
   {
    "duration": 10,
    "start_time": "2023-10-16T15:02:07.027Z"
   },
   {
    "duration": 2,
    "start_time": "2023-10-16T15:10:41.238Z"
   },
   {
    "duration": 3,
    "start_time": "2023-10-16T15:11:06.575Z"
   },
   {
    "duration": 4,
    "start_time": "2023-10-16T15:11:18.225Z"
   },
   {
    "duration": 1709,
    "start_time": "2023-10-16T15:18:31.326Z"
   },
   {
    "duration": 16,
    "start_time": "2023-10-16T15:18:56.773Z"
   },
   {
    "duration": 15,
    "start_time": "2023-10-16T15:20:21.761Z"
   },
   {
    "duration": 64,
    "start_time": "2023-10-16T15:21:05.909Z"
   },
   {
    "duration": 32,
    "start_time": "2023-10-16T15:21:06.980Z"
   },
   {
    "duration": 11,
    "start_time": "2023-10-16T15:21:10.115Z"
   },
   {
    "duration": 56,
    "start_time": "2023-10-16T15:21:37.370Z"
   },
   {
    "duration": 31,
    "start_time": "2023-10-16T15:21:38.551Z"
   },
   {
    "duration": 10,
    "start_time": "2023-10-16T15:21:41.518Z"
   },
   {
    "duration": 4,
    "start_time": "2023-10-16T15:21:42.576Z"
   },
   {
    "duration": 34,
    "start_time": "2023-10-16T15:21:45.569Z"
   },
   {
    "duration": 13,
    "start_time": "2023-10-16T15:23:29.513Z"
   },
   {
    "duration": 1283,
    "start_time": "2023-10-16T23:13:34.743Z"
   },
   {
    "duration": 98,
    "start_time": "2023-10-16T23:13:36.029Z"
   },
   {
    "duration": 45,
    "start_time": "2023-10-16T23:13:36.132Z"
   },
   {
    "duration": 9,
    "start_time": "2023-10-16T23:13:36.179Z"
   },
   {
    "duration": 26,
    "start_time": "2023-10-16T23:13:36.189Z"
   },
   {
    "duration": 16,
    "start_time": "2023-10-16T23:13:36.217Z"
   },
   {
    "duration": 125,
    "start_time": "2023-10-16T23:13:36.234Z"
   },
   {
    "duration": 13,
    "start_time": "2023-10-16T23:16:25.117Z"
   },
   {
    "duration": 31,
    "start_time": "2023-10-16T23:17:09.528Z"
   },
   {
    "duration": 4,
    "start_time": "2023-10-16T23:17:53.756Z"
   },
   {
    "duration": 17,
    "start_time": "2023-10-16T23:21:38.750Z"
   },
   {
    "duration": 4,
    "start_time": "2023-10-16T23:22:02.116Z"
   },
   {
    "duration": 9,
    "start_time": "2023-10-16T23:22:02.339Z"
   },
   {
    "duration": 1095,
    "start_time": "2023-10-16T23:22:08.510Z"
   },
   {
    "duration": 56,
    "start_time": "2023-10-16T23:22:09.607Z"
   },
   {
    "duration": 36,
    "start_time": "2023-10-16T23:22:09.664Z"
   },
   {
    "duration": 9,
    "start_time": "2023-10-16T23:22:09.702Z"
   },
   {
    "duration": 30,
    "start_time": "2023-10-16T23:22:09.713Z"
   },
   {
    "duration": 35,
    "start_time": "2023-10-16T23:22:09.745Z"
   },
   {
    "duration": 13,
    "start_time": "2023-10-16T23:22:09.782Z"
   },
   {
    "duration": 23,
    "start_time": "2023-10-16T23:22:09.796Z"
   },
   {
    "duration": 4,
    "start_time": "2023-10-16T23:23:10.532Z"
   },
   {
    "duration": 1078,
    "start_time": "2023-10-16T23:23:19.731Z"
   },
   {
    "duration": 55,
    "start_time": "2023-10-16T23:23:20.811Z"
   },
   {
    "duration": 35,
    "start_time": "2023-10-16T23:23:20.868Z"
   },
   {
    "duration": 17,
    "start_time": "2023-10-16T23:23:20.905Z"
   },
   {
    "duration": 20,
    "start_time": "2023-10-16T23:23:20.924Z"
   },
   {
    "duration": 45,
    "start_time": "2023-10-16T23:23:20.946Z"
   },
   {
    "duration": 25,
    "start_time": "2023-10-16T23:23:20.992Z"
   },
   {
    "duration": 112,
    "start_time": "2023-10-16T23:23:21.018Z"
   },
   {
    "duration": 9,
    "start_time": "2023-10-16T23:25:00.947Z"
   },
   {
    "duration": 7,
    "start_time": "2023-10-16T23:25:11.965Z"
   },
   {
    "duration": 4,
    "start_time": "2023-10-16T23:25:20.145Z"
   },
   {
    "duration": 5,
    "start_time": "2023-10-16T23:25:50.814Z"
   },
   {
    "duration": 5,
    "start_time": "2023-10-16T23:33:14.220Z"
   },
   {
    "duration": 4,
    "start_time": "2023-10-16T23:33:31.813Z"
   },
   {
    "duration": 1146,
    "start_time": "2023-10-16T23:33:38.466Z"
   },
   {
    "duration": 56,
    "start_time": "2023-10-16T23:33:39.614Z"
   },
   {
    "duration": 38,
    "start_time": "2023-10-16T23:33:39.672Z"
   },
   {
    "duration": 12,
    "start_time": "2023-10-16T23:33:39.711Z"
   },
   {
    "duration": 20,
    "start_time": "2023-10-16T23:33:39.725Z"
   },
   {
    "duration": 23,
    "start_time": "2023-10-16T23:33:39.747Z"
   },
   {
    "duration": 16,
    "start_time": "2023-10-16T23:33:39.772Z"
   },
   {
    "duration": 12,
    "start_time": "2023-10-16T23:33:39.790Z"
   },
   {
    "duration": 45,
    "start_time": "2023-10-16T23:33:39.803Z"
   },
   {
    "duration": 5,
    "start_time": "2023-10-16T23:33:46.441Z"
   },
   {
    "duration": 5,
    "start_time": "2023-10-16T23:36:13.415Z"
   },
   {
    "duration": 95,
    "start_time": "2023-10-16T23:37:29.207Z"
   },
   {
    "duration": 10,
    "start_time": "2023-10-16T23:37:42.855Z"
   },
   {
    "duration": 8,
    "start_time": "2023-10-16T23:38:15.622Z"
   },
   {
    "duration": 5,
    "start_time": "2023-10-16T23:38:28.663Z"
   },
   {
    "duration": 4,
    "start_time": "2023-10-16T23:38:50.446Z"
   },
   {
    "duration": 10,
    "start_time": "2023-10-16T23:40:12.988Z"
   },
   {
    "duration": 4,
    "start_time": "2023-10-16T23:40:42.536Z"
   },
   {
    "duration": 1141,
    "start_time": "2023-10-16T23:40:49.563Z"
   },
   {
    "duration": 54,
    "start_time": "2023-10-16T23:40:50.706Z"
   },
   {
    "duration": 72,
    "start_time": "2023-10-16T23:40:50.762Z"
   },
   {
    "duration": 158,
    "start_time": "2023-10-16T23:40:50.836Z"
   },
   {
    "duration": 19,
    "start_time": "2023-10-16T23:40:50.996Z"
   },
   {
    "duration": 62,
    "start_time": "2023-10-16T23:40:51.016Z"
   },
   {
    "duration": 112,
    "start_time": "2023-10-16T23:40:51.079Z"
   },
   {
    "duration": 0,
    "start_time": "2023-10-16T23:40:51.193Z"
   },
   {
    "duration": 15,
    "start_time": "2023-10-16T23:42:20.966Z"
   },
   {
    "duration": 5,
    "start_time": "2023-10-16T23:42:31.799Z"
   },
   {
    "duration": 8,
    "start_time": "2023-10-16T23:42:50.205Z"
   },
   {
    "duration": 671,
    "start_time": "2023-10-16T23:44:32.957Z"
   },
   {
    "duration": 5,
    "start_time": "2023-10-16T23:47:03.427Z"
   },
   {
    "duration": 8,
    "start_time": "2023-10-16T23:48:01.721Z"
   },
   {
    "duration": 1148,
    "start_time": "2023-10-16T23:48:49.865Z"
   },
   {
    "duration": 59,
    "start_time": "2023-10-16T23:48:51.015Z"
   },
   {
    "duration": 34,
    "start_time": "2023-10-16T23:48:51.075Z"
   },
   {
    "duration": 23,
    "start_time": "2023-10-16T23:48:51.111Z"
   },
   {
    "duration": 55,
    "start_time": "2023-10-16T23:48:51.136Z"
   },
   {
    "duration": 41,
    "start_time": "2023-10-16T23:48:51.193Z"
   },
   {
    "duration": 47,
    "start_time": "2023-10-16T23:48:51.236Z"
   },
   {
    "duration": 25,
    "start_time": "2023-10-16T23:48:51.285Z"
   },
   {
    "duration": 42,
    "start_time": "2023-10-16T23:48:51.311Z"
   },
   {
    "duration": 56,
    "start_time": "2023-10-16T23:48:51.355Z"
   },
   {
    "duration": 33,
    "start_time": "2023-10-16T23:48:51.413Z"
   },
   {
    "duration": 6,
    "start_time": "2023-10-16T23:49:40.659Z"
   },
   {
    "duration": 1092,
    "start_time": "2023-10-16T23:50:25.315Z"
   },
   {
    "duration": 59,
    "start_time": "2023-10-16T23:50:26.409Z"
   },
   {
    "duration": 36,
    "start_time": "2023-10-16T23:50:26.469Z"
   },
   {
    "duration": 9,
    "start_time": "2023-10-16T23:50:26.507Z"
   },
   {
    "duration": 25,
    "start_time": "2023-10-16T23:50:26.519Z"
   },
   {
    "duration": 9,
    "start_time": "2023-10-16T23:50:26.545Z"
   },
   {
    "duration": 9,
    "start_time": "2023-10-16T23:50:26.555Z"
   },
   {
    "duration": 17,
    "start_time": "2023-10-16T23:50:26.566Z"
   },
   {
    "duration": 14,
    "start_time": "2023-10-16T23:50:26.584Z"
   },
   {
    "duration": 4,
    "start_time": "2023-10-16T23:50:26.599Z"
   },
   {
    "duration": 22,
    "start_time": "2023-10-16T23:50:26.604Z"
   },
   {
    "duration": 17,
    "start_time": "2023-10-16T23:50:38.079Z"
   },
   {
    "duration": 5,
    "start_time": "2023-10-16T23:51:51.956Z"
   },
   {
    "duration": 12,
    "start_time": "2023-10-16T23:53:27.041Z"
   },
   {
    "duration": 1165,
    "start_time": "2023-10-16T23:55:58.338Z"
   },
   {
    "duration": 54,
    "start_time": "2023-10-16T23:55:59.505Z"
   },
   {
    "duration": 35,
    "start_time": "2023-10-16T23:55:59.560Z"
   },
   {
    "duration": 10,
    "start_time": "2023-10-16T23:55:59.596Z"
   },
   {
    "duration": 4,
    "start_time": "2023-10-16T23:55:59.608Z"
   },
   {
    "duration": 32,
    "start_time": "2023-10-16T23:55:59.614Z"
   },
   {
    "duration": 21,
    "start_time": "2023-10-16T23:55:59.648Z"
   },
   {
    "duration": 30,
    "start_time": "2023-10-16T23:55:59.671Z"
   },
   {
    "duration": 27,
    "start_time": "2023-10-16T23:55:59.703Z"
   },
   {
    "duration": 10,
    "start_time": "2023-10-16T23:55:59.732Z"
   },
   {
    "duration": 111,
    "start_time": "2023-10-16T23:55:59.744Z"
   },
   {
    "duration": 16,
    "start_time": "2023-10-16T23:56:14.306Z"
   },
   {
    "duration": 7,
    "start_time": "2023-10-16T23:57:09.272Z"
   },
   {
    "duration": 6,
    "start_time": "2023-10-16T23:57:15.804Z"
   },
   {
    "duration": 12,
    "start_time": "2023-10-17T00:00:15.714Z"
   },
   {
    "duration": 14,
    "start_time": "2023-10-17T00:02:44.257Z"
   },
   {
    "duration": 9,
    "start_time": "2023-10-17T00:04:00.419Z"
   },
   {
    "duration": 10,
    "start_time": "2023-10-17T00:04:09.514Z"
   },
   {
    "duration": 10,
    "start_time": "2023-10-17T00:07:03.398Z"
   },
   {
    "duration": 3,
    "start_time": "2023-10-17T00:16:46.822Z"
   },
   {
    "duration": 232,
    "start_time": "2023-10-17T00:17:34.983Z"
   },
   {
    "duration": 13,
    "start_time": "2023-10-17T00:17:41.320Z"
   },
   {
    "duration": 16,
    "start_time": "2023-10-17T00:17:43.945Z"
   },
   {
    "duration": 23,
    "start_time": "2023-10-17T00:27:28.393Z"
   },
   {
    "duration": 8,
    "start_time": "2023-10-17T00:29:12.929Z"
   },
   {
    "duration": 9,
    "start_time": "2023-10-17T00:29:48.378Z"
   },
   {
    "duration": 23,
    "start_time": "2023-10-17T00:30:43.907Z"
   },
   {
    "duration": 16,
    "start_time": "2023-10-17T00:46:38.002Z"
   },
   {
    "duration": 3,
    "start_time": "2023-10-17T00:47:19.371Z"
   },
   {
    "duration": 15,
    "start_time": "2023-10-17T00:47:27.487Z"
   },
   {
    "duration": 161,
    "start_time": "2023-10-17T00:47:37.277Z"
   },
   {
    "duration": 4,
    "start_time": "2023-10-17T00:53:54.651Z"
   },
   {
    "duration": 18,
    "start_time": "2023-10-17T00:54:13.466Z"
   },
   {
    "duration": 4,
    "start_time": "2023-10-17T00:55:44.549Z"
   },
   {
    "duration": 16,
    "start_time": "2023-10-17T00:55:59.327Z"
   },
   {
    "duration": 7,
    "start_time": "2023-10-17T00:57:25.956Z"
   },
   {
    "duration": 1101,
    "start_time": "2023-10-17T01:02:10.308Z"
   },
   {
    "duration": 54,
    "start_time": "2023-10-17T01:02:11.411Z"
   },
   {
    "duration": 34,
    "start_time": "2023-10-17T01:02:11.467Z"
   },
   {
    "duration": 9,
    "start_time": "2023-10-17T01:02:11.503Z"
   },
   {
    "duration": 7,
    "start_time": "2023-10-17T01:02:11.514Z"
   },
   {
    "duration": 23,
    "start_time": "2023-10-17T01:02:11.522Z"
   },
   {
    "duration": 5,
    "start_time": "2023-10-17T01:02:11.546Z"
   },
   {
    "duration": 35,
    "start_time": "2023-10-17T01:02:11.552Z"
   },
   {
    "duration": 19,
    "start_time": "2023-10-17T01:02:11.589Z"
   },
   {
    "duration": 15,
    "start_time": "2023-10-17T01:02:11.609Z"
   },
   {
    "duration": 16,
    "start_time": "2023-10-17T01:02:11.626Z"
   },
   {
    "duration": 20,
    "start_time": "2023-10-17T01:02:11.644Z"
   },
   {
    "duration": 12,
    "start_time": "2023-10-17T01:02:11.666Z"
   },
   {
    "duration": 8,
    "start_time": "2023-10-17T01:02:11.681Z"
   },
   {
    "duration": 9,
    "start_time": "2023-10-17T01:02:11.690Z"
   },
   {
    "duration": 19,
    "start_time": "2023-10-17T01:02:11.701Z"
   },
   {
    "duration": 48,
    "start_time": "2023-10-17T01:02:11.722Z"
   },
   {
    "duration": 8,
    "start_time": "2023-10-17T01:02:11.772Z"
   },
   {
    "duration": 90,
    "start_time": "2023-10-17T01:05:22.850Z"
   },
   {
    "duration": 293,
    "start_time": "2023-10-17T01:05:27.152Z"
   },
   {
    "duration": 97,
    "start_time": "2023-10-17T01:07:07.947Z"
   },
   {
    "duration": 118,
    "start_time": "2023-10-17T01:07:14.576Z"
   },
   {
    "duration": 276,
    "start_time": "2023-10-17T01:07:54.820Z"
   },
   {
    "duration": 289,
    "start_time": "2023-10-17T01:08:05.860Z"
   },
   {
    "duration": 84,
    "start_time": "2023-10-17T01:09:08.191Z"
   },
   {
    "duration": 284,
    "start_time": "2023-10-17T01:09:15.688Z"
   },
   {
    "duration": 372,
    "start_time": "2023-10-17T01:09:22.422Z"
   },
   {
    "duration": 298,
    "start_time": "2023-10-17T01:15:10.992Z"
   },
   {
    "duration": 255,
    "start_time": "2023-10-17T01:32:39.637Z"
   },
   {
    "duration": 235,
    "start_time": "2023-10-17T01:34:32.377Z"
   },
   {
    "duration": 251,
    "start_time": "2023-10-17T01:34:42.418Z"
   },
   {
    "duration": 275,
    "start_time": "2023-10-17T01:35:37.946Z"
   },
   {
    "duration": 340,
    "start_time": "2023-10-17T01:35:46.535Z"
   },
   {
    "duration": 266,
    "start_time": "2023-10-17T01:36:18.053Z"
   },
   {
    "duration": 266,
    "start_time": "2023-10-17T01:39:07.779Z"
   },
   {
    "duration": 561,
    "start_time": "2023-10-17T01:43:27.924Z"
   },
   {
    "duration": 550,
    "start_time": "2023-10-17T01:44:29.704Z"
   },
   {
    "duration": 1152,
    "start_time": "2023-10-17T01:45:08.615Z"
   },
   {
    "duration": 1043,
    "start_time": "2023-10-17T01:46:28.599Z"
   },
   {
    "duration": 1028,
    "start_time": "2023-10-17T01:47:47.849Z"
   },
   {
    "duration": 16,
    "start_time": "2023-10-17T01:48:16.261Z"
   },
   {
    "duration": 11,
    "start_time": "2023-10-17T01:48:34.784Z"
   },
   {
    "duration": 15,
    "start_time": "2023-10-17T01:48:40.774Z"
   },
   {
    "duration": 1483,
    "start_time": "2023-10-17T11:40:29.389Z"
   },
   {
    "duration": 139,
    "start_time": "2023-10-17T11:40:30.874Z"
   },
   {
    "duration": 57,
    "start_time": "2023-10-17T11:40:31.015Z"
   },
   {
    "duration": 10,
    "start_time": "2023-10-17T11:40:31.074Z"
   },
   {
    "duration": 27,
    "start_time": "2023-10-17T11:40:31.086Z"
   },
   {
    "duration": 43,
    "start_time": "2023-10-17T11:40:31.115Z"
   },
   {
    "duration": 66,
    "start_time": "2023-10-17T11:40:31.160Z"
   },
   {
    "duration": 56,
    "start_time": "2023-10-17T11:40:31.228Z"
   },
   {
    "duration": 69,
    "start_time": "2023-10-17T11:40:31.286Z"
   },
   {
    "duration": 29,
    "start_time": "2023-10-17T11:40:31.357Z"
   },
   {
    "duration": 82,
    "start_time": "2023-10-17T11:40:31.387Z"
   },
   {
    "duration": 116,
    "start_time": "2023-10-17T11:40:31.470Z"
   },
   {
    "duration": 48,
    "start_time": "2023-10-17T11:40:31.588Z"
   },
   {
    "duration": 58,
    "start_time": "2023-10-17T11:40:31.644Z"
   },
   {
    "duration": 33,
    "start_time": "2023-10-17T11:40:31.704Z"
   },
   {
    "duration": 64,
    "start_time": "2023-10-17T11:40:31.739Z"
   },
   {
    "duration": 96,
    "start_time": "2023-10-17T11:40:31.805Z"
   },
   {
    "duration": 405,
    "start_time": "2023-10-17T11:40:31.903Z"
   },
   {
    "duration": 321,
    "start_time": "2023-10-17T11:40:32.310Z"
   },
   {
    "duration": 1328,
    "start_time": "2023-10-17T11:40:32.637Z"
   },
   {
    "duration": 17,
    "start_time": "2023-10-17T11:57:40.703Z"
   },
   {
    "duration": 23,
    "start_time": "2023-10-17T11:59:53.470Z"
   },
   {
    "duration": 4,
    "start_time": "2023-10-17T12:01:16.773Z"
   },
   {
    "duration": 4,
    "start_time": "2023-10-17T12:01:23.655Z"
   },
   {
    "duration": 7,
    "start_time": "2023-10-17T12:02:22.836Z"
   },
   {
    "duration": 19,
    "start_time": "2023-10-17T12:02:37.327Z"
   },
   {
    "duration": 205,
    "start_time": "2023-10-17T12:19:25.361Z"
   },
   {
    "duration": 1145,
    "start_time": "2023-10-17T12:25:04.435Z"
   },
   {
    "duration": 297,
    "start_time": "2023-10-17T12:53:41.751Z"
   },
   {
    "duration": 304,
    "start_time": "2023-10-17T12:55:08.016Z"
   },
   {
    "duration": 280,
    "start_time": "2023-10-17T12:55:43.705Z"
   },
   {
    "duration": 330,
    "start_time": "2023-10-17T12:55:59.014Z"
   },
   {
    "duration": 371,
    "start_time": "2023-10-17T12:56:05.289Z"
   },
   {
    "duration": 55,
    "start_time": "2023-10-17T12:56:56.301Z"
   },
   {
    "duration": 51,
    "start_time": "2023-10-17T13:12:52.730Z"
   },
   {
    "duration": 325,
    "start_time": "2023-10-17T13:12:55.690Z"
   },
   {
    "duration": 261,
    "start_time": "2023-10-17T13:13:17.292Z"
   },
   {
    "duration": 279,
    "start_time": "2023-10-17T13:14:29.093Z"
   },
   {
    "duration": 259,
    "start_time": "2023-10-17T13:14:34.335Z"
   },
   {
    "duration": 379,
    "start_time": "2023-10-17T13:15:48.393Z"
   },
   {
    "duration": 236,
    "start_time": "2023-10-17T13:16:08.804Z"
   },
   {
    "duration": 413,
    "start_time": "2023-10-17T13:17:13.710Z"
   },
   {
    "duration": 278,
    "start_time": "2023-10-17T13:17:29.392Z"
   },
   {
    "duration": 313,
    "start_time": "2023-10-17T13:17:47.700Z"
   },
   {
    "duration": 122,
    "start_time": "2023-10-17T13:18:38.581Z"
   },
   {
    "duration": 285,
    "start_time": "2023-10-17T13:18:46.988Z"
   },
   {
    "duration": 484,
    "start_time": "2023-10-17T13:19:10.489Z"
   },
   {
    "duration": 650,
    "start_time": "2023-10-17T14:01:58.718Z"
   },
   {
    "duration": 679,
    "start_time": "2023-10-17T14:02:35.571Z"
   },
   {
    "duration": 693,
    "start_time": "2023-10-17T14:05:03.983Z"
   },
   {
    "duration": 13,
    "start_time": "2023-10-17T14:05:25.155Z"
   },
   {
    "duration": 20,
    "start_time": "2023-10-17T14:24:43.291Z"
   },
   {
    "duration": 19,
    "start_time": "2023-10-17T14:25:11.086Z"
   },
   {
    "duration": 15,
    "start_time": "2023-10-17T14:25:59.759Z"
   },
   {
    "duration": 9,
    "start_time": "2023-10-17T14:26:09.689Z"
   },
   {
    "duration": 21,
    "start_time": "2023-10-17T14:26:15.097Z"
   },
   {
    "duration": 18,
    "start_time": "2023-10-17T14:26:27.100Z"
   },
   {
    "duration": 22,
    "start_time": "2023-10-17T14:26:51.890Z"
   },
   {
    "duration": 18,
    "start_time": "2023-10-17T14:27:24.149Z"
   },
   {
    "duration": 10,
    "start_time": "2023-10-17T14:28:54.236Z"
   },
   {
    "duration": 1776,
    "start_time": "2023-10-17T14:29:10.112Z"
   },
   {
    "duration": 3606,
    "start_time": "2023-10-17T14:30:01.178Z"
   },
   {
    "duration": 19,
    "start_time": "2023-10-17T14:30:46.182Z"
   },
   {
    "duration": 20,
    "start_time": "2023-10-17T14:33:13.282Z"
   },
   {
    "duration": 23,
    "start_time": "2023-10-17T14:33:56.121Z"
   },
   {
    "duration": 32,
    "start_time": "2023-10-17T14:34:57.856Z"
   },
   {
    "duration": 32,
    "start_time": "2023-10-17T14:35:29.737Z"
   },
   {
    "duration": 32,
    "start_time": "2023-10-17T14:35:58.172Z"
   },
   {
    "duration": 207,
    "start_time": "2023-10-17T14:44:30.010Z"
   },
   {
    "duration": 203,
    "start_time": "2023-10-17T14:45:09.790Z"
   },
   {
    "duration": 235,
    "start_time": "2023-10-17T14:45:14.208Z"
   },
   {
    "duration": 191,
    "start_time": "2023-10-17T14:45:17.451Z"
   },
   {
    "duration": 36,
    "start_time": "2023-10-17T14:45:55.449Z"
   },
   {
    "duration": 18,
    "start_time": "2023-10-17T14:48:44.514Z"
   },
   {
    "duration": 14,
    "start_time": "2023-10-17T14:49:20.986Z"
   },
   {
    "duration": 18,
    "start_time": "2023-10-17T14:50:05.398Z"
   },
   {
    "duration": 14,
    "start_time": "2023-10-17T14:50:22.701Z"
   },
   {
    "duration": 18,
    "start_time": "2023-10-17T14:50:33.988Z"
   },
   {
    "duration": 14,
    "start_time": "2023-10-17T14:50:43.684Z"
   },
   {
    "duration": 25,
    "start_time": "2023-10-17T14:51:01.106Z"
   },
   {
    "duration": 15,
    "start_time": "2023-10-17T14:53:16.641Z"
   },
   {
    "duration": 1421,
    "start_time": "2023-10-17T18:31:47.842Z"
   },
   {
    "duration": 186,
    "start_time": "2023-10-17T18:31:49.265Z"
   },
   {
    "duration": 38,
    "start_time": "2023-10-17T18:31:49.453Z"
   },
   {
    "duration": 10,
    "start_time": "2023-10-17T18:31:49.493Z"
   },
   {
    "duration": 13,
    "start_time": "2023-10-17T18:31:49.505Z"
   },
   {
    "duration": 24,
    "start_time": "2023-10-17T18:31:49.520Z"
   },
   {
    "duration": 34,
    "start_time": "2023-10-17T18:31:49.545Z"
   },
   {
    "duration": 33,
    "start_time": "2023-10-17T18:31:49.581Z"
   },
   {
    "duration": 37,
    "start_time": "2023-10-17T18:31:49.616Z"
   },
   {
    "duration": 10,
    "start_time": "2023-10-17T18:31:49.654Z"
   },
   {
    "duration": 27,
    "start_time": "2023-10-17T18:31:49.666Z"
   },
   {
    "duration": 44,
    "start_time": "2023-10-17T18:31:49.695Z"
   },
   {
    "duration": 9,
    "start_time": "2023-10-17T18:31:49.741Z"
   },
   {
    "duration": 19,
    "start_time": "2023-10-17T18:31:49.753Z"
   },
   {
    "duration": 11,
    "start_time": "2023-10-17T18:31:49.774Z"
   },
   {
    "duration": 47,
    "start_time": "2023-10-17T18:31:49.787Z"
   },
   {
    "duration": 23,
    "start_time": "2023-10-17T18:31:49.836Z"
   },
   {
    "duration": 346,
    "start_time": "2023-10-17T18:31:49.860Z"
   },
   {
    "duration": 290,
    "start_time": "2023-10-17T18:31:50.208Z"
   },
   {
    "duration": 1146,
    "start_time": "2023-10-17T18:31:50.501Z"
   },
   {
    "duration": 26,
    "start_time": "2023-10-17T18:31:51.649Z"
   },
   {
    "duration": 5,
    "start_time": "2023-10-17T18:31:51.677Z"
   },
   {
    "duration": 218,
    "start_time": "2023-10-17T18:31:51.683Z"
   },
   {
    "duration": 1076,
    "start_time": "2023-10-17T18:31:51.903Z"
   },
   {
    "duration": 43,
    "start_time": "2023-10-17T18:31:52.981Z"
   },
   {
    "duration": 329,
    "start_time": "2023-10-17T18:31:53.026Z"
   },
   {
    "duration": 733,
    "start_time": "2023-10-17T18:31:53.356Z"
   },
   {
    "duration": 12,
    "start_time": "2023-10-17T18:31:54.091Z"
   },
   {
    "duration": 54,
    "start_time": "2023-10-17T18:31:54.105Z"
   },
   {
    "duration": 192,
    "start_time": "2023-10-17T18:31:54.161Z"
   },
   {
    "duration": 16,
    "start_time": "2023-10-17T18:31:54.355Z"
   },
   {
    "duration": 33,
    "start_time": "2023-10-17T18:31:54.373Z"
   },
   {
    "duration": 7,
    "start_time": "2023-10-17T18:50:06.113Z"
   },
   {
    "duration": 98,
    "start_time": "2023-10-17T18:50:32.640Z"
   },
   {
    "duration": 7,
    "start_time": "2023-10-17T18:50:39.733Z"
   },
   {
    "duration": 10,
    "start_time": "2023-10-17T18:51:27.852Z"
   },
   {
    "duration": 8,
    "start_time": "2023-10-17T18:51:37.865Z"
   },
   {
    "duration": 9,
    "start_time": "2023-10-17T18:51:43.514Z"
   },
   {
    "duration": 116,
    "start_time": "2023-10-17T18:53:50.224Z"
   },
   {
    "duration": 16,
    "start_time": "2023-10-17T18:54:07.182Z"
   },
   {
    "duration": 9,
    "start_time": "2023-10-17T18:54:13.498Z"
   },
   {
    "duration": 6,
    "start_time": "2023-10-17T19:01:00.532Z"
   },
   {
    "duration": 9,
    "start_time": "2023-10-17T19:01:04.789Z"
   },
   {
    "duration": 234,
    "start_time": "2023-10-17T21:16:42.410Z"
   },
   {
    "duration": 148,
    "start_time": "2023-10-17T21:18:05.051Z"
   },
   {
    "duration": 149,
    "start_time": "2023-10-17T21:18:18.984Z"
   },
   {
    "duration": 16,
    "start_time": "2023-10-17T21:18:52.755Z"
   },
   {
    "duration": 150,
    "start_time": "2023-10-17T21:19:25.546Z"
   },
   {
    "duration": 133,
    "start_time": "2023-10-17T21:19:52.985Z"
   },
   {
    "duration": 4,
    "start_time": "2023-10-17T21:36:20.877Z"
   },
   {
    "duration": 159,
    "start_time": "2023-10-17T21:36:40.722Z"
   },
   {
    "duration": 142,
    "start_time": "2023-10-17T21:36:50.142Z"
   },
   {
    "duration": 146,
    "start_time": "2023-10-17T21:37:05.310Z"
   },
   {
    "duration": 145,
    "start_time": "2023-10-17T21:37:15.526Z"
   },
   {
    "duration": 141,
    "start_time": "2023-10-17T21:53:48.932Z"
   },
   {
    "duration": 143,
    "start_time": "2023-10-17T21:54:13.077Z"
   },
   {
    "duration": 233,
    "start_time": "2023-10-17T21:54:13.659Z"
   },
   {
    "duration": 3,
    "start_time": "2023-10-17T22:13:43.169Z"
   },
   {
    "duration": 18,
    "start_time": "2023-10-17T22:14:24.987Z"
   },
   {
    "duration": 154,
    "start_time": "2023-10-17T22:14:30.131Z"
   },
   {
    "duration": 147,
    "start_time": "2023-10-17T22:14:47.076Z"
   },
   {
    "duration": 158,
    "start_time": "2023-10-17T22:15:03.821Z"
   },
   {
    "duration": 4,
    "start_time": "2023-10-17T22:17:29.453Z"
   },
   {
    "duration": 148,
    "start_time": "2023-10-17T22:17:31.730Z"
   },
   {
    "duration": 153,
    "start_time": "2023-10-17T22:17:32.771Z"
   },
   {
    "duration": 133,
    "start_time": "2023-10-17T22:17:33.366Z"
   },
   {
    "duration": 152,
    "start_time": "2023-10-17T22:18:32.936Z"
   },
   {
    "duration": 4,
    "start_time": "2023-10-17T22:18:44.344Z"
   },
   {
    "duration": 152,
    "start_time": "2023-10-17T22:18:45.068Z"
   },
   {
    "duration": 148,
    "start_time": "2023-10-17T22:19:00.475Z"
   },
   {
    "duration": 131,
    "start_time": "2023-10-17T22:19:07.933Z"
   },
   {
    "duration": 9,
    "start_time": "2023-10-17T22:21:15.209Z"
   },
   {
    "duration": 3,
    "start_time": "2023-10-17T22:21:18.102Z"
   },
   {
    "duration": 241,
    "start_time": "2023-10-17T22:21:18.832Z"
   },
   {
    "duration": 143,
    "start_time": "2023-10-17T22:21:49.442Z"
   },
   {
    "duration": 132,
    "start_time": "2023-10-17T22:21:50.262Z"
   },
   {
    "duration": 147,
    "start_time": "2023-10-17T22:25:01.831Z"
   },
   {
    "duration": 153,
    "start_time": "2023-10-17T22:25:02.557Z"
   },
   {
    "duration": 148,
    "start_time": "2023-10-17T22:25:03.203Z"
   },
   {
    "duration": 139,
    "start_time": "2023-10-17T22:25:19.692Z"
   },
   {
    "duration": 4,
    "start_time": "2023-10-17T22:25:32.483Z"
   },
   {
    "duration": 4,
    "start_time": "2023-10-17T22:25:41.495Z"
   },
   {
    "duration": 146,
    "start_time": "2023-10-17T22:25:42.000Z"
   },
   {
    "duration": 148,
    "start_time": "2023-10-17T22:25:42.595Z"
   },
   {
    "duration": 144,
    "start_time": "2023-10-17T22:25:43.100Z"
   },
   {
    "duration": 144,
    "start_time": "2023-10-17T22:25:45.449Z"
   },
   {
    "duration": 223,
    "start_time": "2023-10-17T22:25:46.333Z"
   },
   {
    "duration": 9,
    "start_time": "2023-10-17T22:25:46.956Z"
   },
   {
    "duration": 147,
    "start_time": "2023-10-17T22:26:00.020Z"
   },
   {
    "duration": 154,
    "start_time": "2023-10-17T22:27:20.106Z"
   },
   {
    "duration": 146,
    "start_time": "2023-10-17T22:27:21.310Z"
   },
   {
    "duration": 136,
    "start_time": "2023-10-17T22:27:21.970Z"
   },
   {
    "duration": 1259,
    "start_time": "2023-10-18T08:28:39.376Z"
   },
   {
    "duration": 94,
    "start_time": "2023-10-18T08:28:40.636Z"
   },
   {
    "duration": 31,
    "start_time": "2023-10-18T08:28:40.732Z"
   },
   {
    "duration": 8,
    "start_time": "2023-10-18T08:28:40.765Z"
   },
   {
    "duration": 6,
    "start_time": "2023-10-18T08:28:40.774Z"
   },
   {
    "duration": 7,
    "start_time": "2023-10-18T08:28:40.781Z"
   },
   {
    "duration": 12,
    "start_time": "2023-10-18T08:28:40.790Z"
   },
   {
    "duration": 21,
    "start_time": "2023-10-18T08:28:40.803Z"
   },
   {
    "duration": 11,
    "start_time": "2023-10-18T08:28:40.825Z"
   },
   {
    "duration": 13,
    "start_time": "2023-10-18T08:28:40.839Z"
   },
   {
    "duration": 15,
    "start_time": "2023-10-18T08:28:40.854Z"
   },
   {
    "duration": 16,
    "start_time": "2023-10-18T08:28:40.871Z"
   },
   {
    "duration": 11,
    "start_time": "2023-10-18T08:28:40.888Z"
   },
   {
    "duration": 16,
    "start_time": "2023-10-18T08:28:40.901Z"
   },
   {
    "duration": 8,
    "start_time": "2023-10-18T08:28:40.919Z"
   },
   {
    "duration": 24,
    "start_time": "2023-10-18T08:28:40.929Z"
   },
   {
    "duration": 27,
    "start_time": "2023-10-18T08:28:40.955Z"
   },
   {
    "duration": 289,
    "start_time": "2023-10-18T08:28:40.983Z"
   },
   {
    "duration": 249,
    "start_time": "2023-10-18T08:28:41.274Z"
   },
   {
    "duration": 1117,
    "start_time": "2023-10-18T08:28:41.525Z"
   },
   {
    "duration": 15,
    "start_time": "2023-10-18T08:28:42.644Z"
   },
   {
    "duration": 4,
    "start_time": "2023-10-18T08:28:42.661Z"
   },
   {
    "duration": 176,
    "start_time": "2023-10-18T08:28:42.666Z"
   },
   {
    "duration": 854,
    "start_time": "2023-10-18T08:28:42.844Z"
   },
   {
    "duration": 40,
    "start_time": "2023-10-18T08:28:43.700Z"
   },
   {
    "duration": 229,
    "start_time": "2023-10-18T08:28:43.741Z"
   },
   {
    "duration": 542,
    "start_time": "2023-10-18T08:28:43.971Z"
   },
   {
    "duration": 9,
    "start_time": "2023-10-18T08:28:44.516Z"
   },
   {
    "duration": 27,
    "start_time": "2023-10-18T08:28:44.526Z"
   },
   {
    "duration": 150,
    "start_time": "2023-10-18T08:28:44.554Z"
   },
   {
    "duration": 14,
    "start_time": "2023-10-18T08:28:44.706Z"
   },
   {
    "duration": 30,
    "start_time": "2023-10-18T08:28:44.722Z"
   },
   {
    "duration": 3,
    "start_time": "2023-10-18T08:28:44.754Z"
   },
   {
    "duration": 151,
    "start_time": "2023-10-18T08:28:44.758Z"
   },
   {
    "duration": 193,
    "start_time": "2023-10-18T08:28:44.910Z"
   },
   {
    "duration": 136,
    "start_time": "2023-10-18T08:28:45.105Z"
   },
   {
    "duration": 132,
    "start_time": "2023-10-18T08:28:45.243Z"
   },
   {
    "duration": 131,
    "start_time": "2023-10-18T08:28:45.376Z"
   },
   {
    "duration": 145,
    "start_time": "2023-10-18T08:28:45.509Z"
   },
   {
    "duration": 128,
    "start_time": "2023-10-18T08:28:45.655Z"
   },
   {
    "duration": 122,
    "start_time": "2023-10-18T08:28:45.785Z"
   },
   {
    "duration": 120,
    "start_time": "2023-10-18T08:28:45.909Z"
   },
   {
    "duration": 21,
    "start_time": "2023-10-18T08:41:36.793Z"
   },
   {
    "duration": 13,
    "start_time": "2023-10-18T08:41:48.349Z"
   },
   {
    "duration": 102,
    "start_time": "2023-10-18T08:42:33.387Z"
   },
   {
    "duration": 15,
    "start_time": "2023-10-18T08:43:00.896Z"
   },
   {
    "duration": 6,
    "start_time": "2023-10-18T08:43:49.565Z"
   },
   {
    "duration": 11,
    "start_time": "2023-10-18T08:44:06.161Z"
   },
   {
    "duration": 7,
    "start_time": "2023-10-18T08:44:22.737Z"
   },
   {
    "duration": 5,
    "start_time": "2023-10-18T08:47:22.496Z"
   },
   {
    "duration": 4,
    "start_time": "2023-10-18T08:48:17.303Z"
   },
   {
    "duration": 8,
    "start_time": "2023-10-18T08:48:35.078Z"
   },
   {
    "duration": 4,
    "start_time": "2023-10-18T08:48:37.477Z"
   },
   {
    "duration": 1091,
    "start_time": "2023-10-18T09:28:16.220Z"
   },
   {
    "duration": 50,
    "start_time": "2023-10-18T09:28:17.313Z"
   },
   {
    "duration": 33,
    "start_time": "2023-10-18T09:28:17.365Z"
   },
   {
    "duration": 9,
    "start_time": "2023-10-18T09:28:17.400Z"
   },
   {
    "duration": 29,
    "start_time": "2023-10-18T09:28:17.410Z"
   },
   {
    "duration": 16,
    "start_time": "2023-10-18T09:28:17.441Z"
   },
   {
    "duration": 39,
    "start_time": "2023-10-18T09:28:17.459Z"
   },
   {
    "duration": 26,
    "start_time": "2023-10-18T09:28:17.500Z"
   },
   {
    "duration": 28,
    "start_time": "2023-10-18T09:28:17.527Z"
   },
   {
    "duration": 8,
    "start_time": "2023-10-18T09:28:17.559Z"
   },
   {
    "duration": 38,
    "start_time": "2023-10-18T09:28:17.569Z"
   },
   {
    "duration": 13,
    "start_time": "2023-10-18T09:28:17.608Z"
   },
   {
    "duration": 9,
    "start_time": "2023-10-18T09:28:17.623Z"
   },
   {
    "duration": 18,
    "start_time": "2023-10-18T09:28:17.634Z"
   },
   {
    "duration": 30,
    "start_time": "2023-10-18T09:28:17.653Z"
   },
   {
    "duration": 21,
    "start_time": "2023-10-18T09:28:17.685Z"
   },
   {
    "duration": 16,
    "start_time": "2023-10-18T09:28:17.707Z"
   },
   {
    "duration": 265,
    "start_time": "2023-10-18T09:28:17.725Z"
   },
   {
    "duration": 249,
    "start_time": "2023-10-18T09:28:17.992Z"
   },
   {
    "duration": 945,
    "start_time": "2023-10-18T09:28:18.242Z"
   },
   {
    "duration": 15,
    "start_time": "2023-10-18T09:28:19.189Z"
   },
   {
    "duration": 4,
    "start_time": "2023-10-18T09:28:19.205Z"
   },
   {
    "duration": 184,
    "start_time": "2023-10-18T09:28:19.210Z"
   },
   {
    "duration": 857,
    "start_time": "2023-10-18T09:28:19.395Z"
   },
   {
    "duration": 31,
    "start_time": "2023-10-18T09:28:20.253Z"
   },
   {
    "duration": 261,
    "start_time": "2023-10-18T09:28:20.286Z"
   },
   {
    "duration": 507,
    "start_time": "2023-10-18T09:28:20.549Z"
   },
   {
    "duration": 10,
    "start_time": "2023-10-18T09:28:21.058Z"
   },
   {
    "duration": 36,
    "start_time": "2023-10-18T09:28:21.069Z"
   },
   {
    "duration": 168,
    "start_time": "2023-10-18T09:28:21.107Z"
   },
   {
    "duration": 12,
    "start_time": "2023-10-18T09:28:21.276Z"
   },
   {
    "duration": 30,
    "start_time": "2023-10-18T09:28:21.289Z"
   },
   {
    "duration": 23,
    "start_time": "2023-10-18T09:28:21.321Z"
   },
   {
    "duration": 138,
    "start_time": "2023-10-18T09:28:21.346Z"
   },
   {
    "duration": 198,
    "start_time": "2023-10-18T09:28:21.485Z"
   },
   {
    "duration": 128,
    "start_time": "2023-10-18T09:28:21.684Z"
   },
   {
    "duration": 135,
    "start_time": "2023-10-18T09:28:21.813Z"
   },
   {
    "duration": 139,
    "start_time": "2023-10-18T09:28:21.950Z"
   },
   {
    "duration": 134,
    "start_time": "2023-10-18T09:28:22.091Z"
   },
   {
    "duration": 139,
    "start_time": "2023-10-18T09:28:22.227Z"
   },
   {
    "duration": 170,
    "start_time": "2023-10-18T09:28:22.369Z"
   },
   {
    "duration": 164,
    "start_time": "2023-10-18T09:28:22.544Z"
   },
   {
    "duration": 7,
    "start_time": "2023-10-18T09:28:22.710Z"
   },
   {
    "duration": 106,
    "start_time": "2023-10-18T09:28:22.719Z"
   },
   {
    "duration": 4,
    "start_time": "2023-10-18T09:28:40.157Z"
   },
   {
    "duration": 8,
    "start_time": "2023-10-18T09:35:10.271Z"
   },
   {
    "duration": 9,
    "start_time": "2023-10-18T09:36:44.129Z"
   },
   {
    "duration": 4,
    "start_time": "2023-10-18T09:36:52.800Z"
   },
   {
    "duration": 9,
    "start_time": "2023-10-18T09:47:21.440Z"
   },
   {
    "duration": 4,
    "start_time": "2023-10-18T09:47:22.273Z"
   },
   {
    "duration": 10,
    "start_time": "2023-10-18T09:47:22.873Z"
   },
   {
    "duration": 5,
    "start_time": "2023-10-18T09:47:23.012Z"
   },
   {
    "duration": 1056,
    "start_time": "2023-10-18T10:53:57.407Z"
   },
   {
    "duration": 54,
    "start_time": "2023-10-18T10:53:58.465Z"
   },
   {
    "duration": 41,
    "start_time": "2023-10-18T10:53:58.521Z"
   },
   {
    "duration": 9,
    "start_time": "2023-10-18T10:53:58.564Z"
   },
   {
    "duration": 3,
    "start_time": "2023-10-18T10:53:58.575Z"
   },
   {
    "duration": 5,
    "start_time": "2023-10-18T10:53:58.580Z"
   },
   {
    "duration": 7,
    "start_time": "2023-10-18T10:53:58.587Z"
   },
   {
    "duration": 45,
    "start_time": "2023-10-18T10:53:58.595Z"
   },
   {
    "duration": 7,
    "start_time": "2023-10-18T10:53:58.642Z"
   },
   {
    "duration": 6,
    "start_time": "2023-10-18T10:53:58.652Z"
   },
   {
    "duration": 8,
    "start_time": "2023-10-18T10:53:58.659Z"
   },
   {
    "duration": 16,
    "start_time": "2023-10-18T10:53:58.668Z"
   },
   {
    "duration": 8,
    "start_time": "2023-10-18T10:53:58.685Z"
   },
   {
    "duration": 47,
    "start_time": "2023-10-18T10:53:58.695Z"
   },
   {
    "duration": 6,
    "start_time": "2023-10-18T10:53:58.743Z"
   },
   {
    "duration": 19,
    "start_time": "2023-10-18T10:53:58.750Z"
   },
   {
    "duration": 20,
    "start_time": "2023-10-18T10:53:58.771Z"
   },
   {
    "duration": 327,
    "start_time": "2023-10-18T10:53:58.792Z"
   },
   {
    "duration": 283,
    "start_time": "2023-10-18T10:53:59.120Z"
   },
   {
    "duration": 1079,
    "start_time": "2023-10-18T10:53:59.405Z"
   },
   {
    "duration": 13,
    "start_time": "2023-10-18T10:54:00.486Z"
   },
   {
    "duration": 13,
    "start_time": "2023-10-18T10:54:00.500Z"
   },
   {
    "duration": 244,
    "start_time": "2023-10-18T10:54:00.540Z"
   },
   {
    "duration": 921,
    "start_time": "2023-10-18T10:54:00.785Z"
   },
   {
    "duration": 58,
    "start_time": "2023-10-18T10:54:01.707Z"
   },
   {
    "duration": 250,
    "start_time": "2023-10-18T10:54:01.767Z"
   },
   {
    "duration": 583,
    "start_time": "2023-10-18T10:54:02.018Z"
   },
   {
    "duration": 14,
    "start_time": "2023-10-18T10:54:02.604Z"
   },
   {
    "duration": 128,
    "start_time": "2023-10-18T10:54:02.620Z"
   },
   {
    "duration": 160,
    "start_time": "2023-10-18T10:54:02.750Z"
   },
   {
    "duration": 30,
    "start_time": "2023-10-18T10:54:02.912Z"
   },
   {
    "duration": 114,
    "start_time": "2023-10-18T10:54:02.944Z"
   },
   {
    "duration": 6,
    "start_time": "2023-10-18T10:54:03.060Z"
   },
   {
    "duration": 137,
    "start_time": "2023-10-18T10:54:03.067Z"
   },
   {
    "duration": 234,
    "start_time": "2023-10-18T10:54:03.205Z"
   },
   {
    "duration": 140,
    "start_time": "2023-10-18T10:54:03.441Z"
   },
   {
    "duration": 148,
    "start_time": "2023-10-18T10:54:03.582Z"
   },
   {
    "duration": 137,
    "start_time": "2023-10-18T10:54:03.732Z"
   },
   {
    "duration": 147,
    "start_time": "2023-10-18T10:54:03.871Z"
   },
   {
    "duration": 145,
    "start_time": "2023-10-18T10:54:04.019Z"
   },
   {
    "duration": 138,
    "start_time": "2023-10-18T10:54:04.165Z"
   },
   {
    "duration": 127,
    "start_time": "2023-10-18T10:54:04.305Z"
   },
   {
    "duration": 8,
    "start_time": "2023-10-18T10:54:04.440Z"
   },
   {
    "duration": 26,
    "start_time": "2023-10-18T10:54:04.450Z"
   },
   {
    "duration": 11,
    "start_time": "2023-10-18T10:54:04.478Z"
   },
   {
    "duration": 6,
    "start_time": "2023-10-18T10:54:04.491Z"
   },
   {
    "duration": 1191,
    "start_time": "2023-10-18T15:31:24.426Z"
   },
   {
    "duration": 183,
    "start_time": "2023-10-18T15:31:25.619Z"
   },
   {
    "duration": 38,
    "start_time": "2023-10-18T15:31:25.804Z"
   },
   {
    "duration": 10,
    "start_time": "2023-10-18T15:31:25.845Z"
   },
   {
    "duration": 4,
    "start_time": "2023-10-18T15:31:25.857Z"
   },
   {
    "duration": 6,
    "start_time": "2023-10-18T15:31:25.863Z"
   },
   {
    "duration": 6,
    "start_time": "2023-10-18T15:31:25.871Z"
   },
   {
    "duration": 10,
    "start_time": "2023-10-18T15:31:25.879Z"
   },
   {
    "duration": 9,
    "start_time": "2023-10-18T15:31:25.892Z"
   },
   {
    "duration": 44,
    "start_time": "2023-10-18T15:31:25.905Z"
   },
   {
    "duration": 10,
    "start_time": "2023-10-18T15:31:25.951Z"
   },
   {
    "duration": 20,
    "start_time": "2023-10-18T15:31:25.962Z"
   },
   {
    "duration": 9,
    "start_time": "2023-10-18T15:31:25.983Z"
   },
   {
    "duration": 9,
    "start_time": "2023-10-18T15:31:25.994Z"
   },
   {
    "duration": 5,
    "start_time": "2023-10-18T15:31:26.005Z"
   },
   {
    "duration": 46,
    "start_time": "2023-10-18T15:31:26.011Z"
   },
   {
    "duration": 22,
    "start_time": "2023-10-18T15:31:26.059Z"
   },
   {
    "duration": 395,
    "start_time": "2023-10-18T15:31:26.082Z"
   },
   {
    "duration": 313,
    "start_time": "2023-10-18T15:31:26.479Z"
   },
   {
    "duration": 1209,
    "start_time": "2023-10-18T15:31:26.793Z"
   },
   {
    "duration": 16,
    "start_time": "2023-10-18T15:31:28.004Z"
   },
   {
    "duration": 7,
    "start_time": "2023-10-18T15:31:28.022Z"
   },
   {
    "duration": 204,
    "start_time": "2023-10-18T15:31:28.044Z"
   },
   {
    "duration": 1089,
    "start_time": "2023-10-18T15:31:28.250Z"
   },
   {
    "duration": 42,
    "start_time": "2023-10-18T15:31:29.345Z"
   },
   {
    "duration": 317,
    "start_time": "2023-10-18T15:31:29.389Z"
   },
   {
    "duration": 658,
    "start_time": "2023-10-18T15:31:29.708Z"
   },
   {
    "duration": 12,
    "start_time": "2023-10-18T15:31:30.370Z"
   },
   {
    "duration": 74,
    "start_time": "2023-10-18T15:31:30.383Z"
   },
   {
    "duration": 198,
    "start_time": "2023-10-18T15:31:30.459Z"
   },
   {
    "duration": 14,
    "start_time": "2023-10-18T15:31:30.660Z"
   },
   {
    "duration": 68,
    "start_time": "2023-10-18T15:31:30.676Z"
   },
   {
    "duration": 49,
    "start_time": "2023-10-18T15:31:30.747Z"
   },
   {
    "duration": 306,
    "start_time": "2023-10-18T15:31:30.798Z"
   },
   {
    "duration": 297,
    "start_time": "2023-10-18T15:31:31.107Z"
   },
   {
    "duration": 151,
    "start_time": "2023-10-18T15:31:31.406Z"
   },
   {
    "duration": 352,
    "start_time": "2023-10-18T15:31:31.559Z"
   },
   {
    "duration": 163,
    "start_time": "2023-10-18T15:31:31.913Z"
   },
   {
    "duration": 170,
    "start_time": "2023-10-18T15:31:32.079Z"
   },
   {
    "duration": 190,
    "start_time": "2023-10-18T15:31:32.251Z"
   },
   {
    "duration": 181,
    "start_time": "2023-10-18T15:31:32.444Z"
   },
   {
    "duration": 152,
    "start_time": "2023-10-18T15:31:32.627Z"
   },
   {
    "duration": 9,
    "start_time": "2023-10-18T15:31:32.781Z"
   },
   {
    "duration": 16,
    "start_time": "2023-10-18T15:31:32.791Z"
   },
   {
    "duration": 33,
    "start_time": "2023-10-18T15:31:32.809Z"
   },
   {
    "duration": 28,
    "start_time": "2023-10-18T15:31:32.844Z"
   },
   {
    "duration": 10,
    "start_time": "2023-10-18T15:35:46.152Z"
   },
   {
    "duration": 1178,
    "start_time": "2023-10-18T15:43:16.366Z"
   },
   {
    "duration": 59,
    "start_time": "2023-10-18T15:43:17.546Z"
   },
   {
    "duration": 40,
    "start_time": "2023-10-18T15:43:17.606Z"
   },
   {
    "duration": 10,
    "start_time": "2023-10-18T15:43:17.648Z"
   },
   {
    "duration": 4,
    "start_time": "2023-10-18T15:43:17.660Z"
   },
   {
    "duration": 7,
    "start_time": "2023-10-18T15:43:17.666Z"
   },
   {
    "duration": 5,
    "start_time": "2023-10-18T15:43:17.675Z"
   },
   {
    "duration": 10,
    "start_time": "2023-10-18T15:43:17.681Z"
   },
   {
    "duration": 7,
    "start_time": "2023-10-18T15:43:17.693Z"
   },
   {
    "duration": 14,
    "start_time": "2023-10-18T15:43:17.703Z"
   },
   {
    "duration": 19,
    "start_time": "2023-10-18T15:43:17.719Z"
   },
   {
    "duration": 16,
    "start_time": "2023-10-18T15:43:17.740Z"
   },
   {
    "duration": 10,
    "start_time": "2023-10-18T15:43:17.757Z"
   },
   {
    "duration": 8,
    "start_time": "2023-10-18T15:43:17.768Z"
   },
   {
    "duration": 4,
    "start_time": "2023-10-18T15:43:17.778Z"
   },
   {
    "duration": 73,
    "start_time": "2023-10-18T15:43:17.783Z"
   },
   {
    "duration": 23,
    "start_time": "2023-10-18T15:43:17.859Z"
   },
   {
    "duration": 500,
    "start_time": "2023-10-18T15:43:17.883Z"
   },
   {
    "duration": 316,
    "start_time": "2023-10-18T15:43:18.385Z"
   },
   {
    "duration": 11,
    "start_time": "2023-10-18T15:43:18.703Z"
   },
   {
    "duration": 1264,
    "start_time": "2023-10-18T15:43:18.716Z"
   },
   {
    "duration": 17,
    "start_time": "2023-10-18T15:43:19.982Z"
   },
   {
    "duration": 4,
    "start_time": "2023-10-18T15:43:20.001Z"
   },
   {
    "duration": 223,
    "start_time": "2023-10-18T15:43:20.006Z"
   },
   {
    "duration": 1107,
    "start_time": "2023-10-18T15:43:20.230Z"
   },
   {
    "duration": 45,
    "start_time": "2023-10-18T15:43:21.344Z"
   },
   {
    "duration": 336,
    "start_time": "2023-10-18T15:43:21.390Z"
   },
   {
    "duration": 642,
    "start_time": "2023-10-18T15:43:21.731Z"
   },
   {
    "duration": 13,
    "start_time": "2023-10-18T15:43:22.376Z"
   },
   {
    "duration": 71,
    "start_time": "2023-10-18T15:43:22.391Z"
   },
   {
    "duration": 247,
    "start_time": "2023-10-18T15:43:22.464Z"
   },
   {
    "duration": 16,
    "start_time": "2023-10-18T15:43:22.713Z"
   },
   {
    "duration": 41,
    "start_time": "2023-10-18T15:43:22.731Z"
   },
   {
    "duration": 6,
    "start_time": "2023-10-18T15:43:22.774Z"
   },
   {
    "duration": 184,
    "start_time": "2023-10-18T15:43:22.782Z"
   },
   {
    "duration": 366,
    "start_time": "2023-10-18T15:43:22.969Z"
   },
   {
    "duration": 177,
    "start_time": "2023-10-18T15:43:23.337Z"
   },
   {
    "duration": 181,
    "start_time": "2023-10-18T15:43:23.515Z"
   },
   {
    "duration": 242,
    "start_time": "2023-10-18T15:43:23.698Z"
   },
   {
    "duration": 199,
    "start_time": "2023-10-18T15:43:23.949Z"
   },
   {
    "duration": 258,
    "start_time": "2023-10-18T15:43:24.150Z"
   },
   {
    "duration": 235,
    "start_time": "2023-10-18T15:43:24.411Z"
   },
   {
    "duration": 232,
    "start_time": "2023-10-18T15:43:24.649Z"
   },
   {
    "duration": 15,
    "start_time": "2023-10-18T15:43:24.883Z"
   },
   {
    "duration": 14,
    "start_time": "2023-10-18T15:43:24.901Z"
   },
   {
    "duration": 27,
    "start_time": "2023-10-18T15:43:24.917Z"
   },
   {
    "duration": 39,
    "start_time": "2023-10-18T15:43:24.947Z"
   },
   {
    "duration": 93,
    "start_time": "2023-10-18T22:18:39.545Z"
   },
   {
    "duration": 1294,
    "start_time": "2023-10-18T22:34:49.722Z"
   },
   {
    "duration": 103,
    "start_time": "2023-10-18T22:34:51.018Z"
   },
   {
    "duration": 38,
    "start_time": "2023-10-18T22:34:51.122Z"
   },
   {
    "duration": 31,
    "start_time": "2023-10-18T22:34:51.162Z"
   },
   {
    "duration": 31,
    "start_time": "2023-10-18T22:34:51.195Z"
   },
   {
    "duration": 35,
    "start_time": "2023-10-18T22:34:51.228Z"
   },
   {
    "duration": 62,
    "start_time": "2023-10-18T22:34:51.265Z"
   },
   {
    "duration": 70,
    "start_time": "2023-10-18T22:34:51.329Z"
   },
   {
    "duration": 42,
    "start_time": "2023-10-18T22:34:51.401Z"
   },
   {
    "duration": 34,
    "start_time": "2023-10-18T22:34:51.445Z"
   },
   {
    "duration": 45,
    "start_time": "2023-10-18T22:34:51.481Z"
   },
   {
    "duration": 38,
    "start_time": "2023-10-18T22:34:51.528Z"
   },
   {
    "duration": 15,
    "start_time": "2023-10-18T22:34:51.567Z"
   },
   {
    "duration": 33,
    "start_time": "2023-10-18T22:34:51.585Z"
   },
   {
    "duration": 21,
    "start_time": "2023-10-18T22:34:51.619Z"
   },
   {
    "duration": 31,
    "start_time": "2023-10-18T22:34:51.642Z"
   },
   {
    "duration": 54,
    "start_time": "2023-10-18T22:34:51.674Z"
   },
   {
    "duration": 321,
    "start_time": "2023-10-18T22:34:51.730Z"
   },
   {
    "duration": 293,
    "start_time": "2023-10-18T22:34:52.053Z"
   },
   {
    "duration": 9,
    "start_time": "2023-10-18T22:34:52.347Z"
   },
   {
    "duration": 1107,
    "start_time": "2023-10-18T22:34:52.358Z"
   },
   {
    "duration": 17,
    "start_time": "2023-10-18T22:34:53.466Z"
   },
   {
    "duration": 42,
    "start_time": "2023-10-18T22:34:53.485Z"
   },
   {
    "duration": 246,
    "start_time": "2023-10-18T22:34:53.529Z"
   },
   {
    "duration": 981,
    "start_time": "2023-10-18T22:34:53.777Z"
   },
   {
    "duration": 45,
    "start_time": "2023-10-18T22:34:54.760Z"
   },
   {
    "duration": 270,
    "start_time": "2023-10-18T22:34:54.806Z"
   },
   {
    "duration": 564,
    "start_time": "2023-10-18T22:34:55.078Z"
   },
   {
    "duration": 11,
    "start_time": "2023-10-18T22:34:55.644Z"
   },
   {
    "duration": 137,
    "start_time": "2023-10-18T22:34:55.656Z"
   },
   {
    "duration": 183,
    "start_time": "2023-10-18T22:34:55.794Z"
   },
   {
    "duration": 26,
    "start_time": "2023-10-18T22:34:55.979Z"
   },
   {
    "duration": 16,
    "start_time": "2023-10-18T22:34:56.007Z"
   },
   {
    "duration": 3,
    "start_time": "2023-10-18T22:34:56.025Z"
   },
   {
    "duration": 157,
    "start_time": "2023-10-18T22:34:56.030Z"
   },
   {
    "duration": 150,
    "start_time": "2023-10-18T22:34:56.189Z"
   },
   {
    "duration": 137,
    "start_time": "2023-10-18T22:34:56.341Z"
   },
   {
    "duration": 153,
    "start_time": "2023-10-18T22:34:56.480Z"
   },
   {
    "duration": 144,
    "start_time": "2023-10-18T22:34:56.634Z"
   },
   {
    "duration": 139,
    "start_time": "2023-10-18T22:34:56.780Z"
   },
   {
    "duration": 157,
    "start_time": "2023-10-18T22:34:56.923Z"
   },
   {
    "duration": 147,
    "start_time": "2023-10-18T22:34:57.082Z"
   },
   {
    "duration": 142,
    "start_time": "2023-10-18T22:34:57.231Z"
   },
   {
    "duration": 9,
    "start_time": "2023-10-18T22:34:57.375Z"
   },
   {
    "duration": 23,
    "start_time": "2023-10-18T22:34:57.386Z"
   },
   {
    "duration": 10,
    "start_time": "2023-10-18T22:34:57.411Z"
   },
   {
    "duration": 6,
    "start_time": "2023-10-18T22:34:57.423Z"
   },
   {
    "duration": 5,
    "start_time": "2023-10-18T22:35:55.185Z"
   },
   {
    "duration": 15,
    "start_time": "2023-10-18T22:35:55.935Z"
   },
   {
    "duration": 14,
    "start_time": "2023-10-18T22:46:40.320Z"
   },
   {
    "duration": 15,
    "start_time": "2023-10-18T22:46:43.388Z"
   },
   {
    "duration": 12,
    "start_time": "2023-10-18T22:48:20.665Z"
   },
   {
    "duration": 11,
    "start_time": "2023-10-18T22:48:48.256Z"
   },
   {
    "duration": 96,
    "start_time": "2023-10-18T22:48:53.105Z"
   },
   {
    "duration": 14,
    "start_time": "2023-10-18T22:49:05.861Z"
   },
   {
    "duration": 15,
    "start_time": "2023-10-18T22:49:14.467Z"
   },
   {
    "duration": 18,
    "start_time": "2023-10-18T22:49:57.284Z"
   },
   {
    "duration": 4,
    "start_time": "2023-10-18T22:51:59.020Z"
   },
   {
    "duration": 10,
    "start_time": "2023-10-18T22:52:01.132Z"
   },
   {
    "duration": 4,
    "start_time": "2023-10-18T22:52:06.583Z"
   },
   {
    "duration": 4,
    "start_time": "2023-10-18T22:52:32.320Z"
   },
   {
    "duration": 28,
    "start_time": "2023-10-18T22:53:04.222Z"
   },
   {
    "duration": 78,
    "start_time": "2023-10-18T22:53:25.708Z"
   },
   {
    "duration": 78,
    "start_time": "2023-10-18T22:54:56.714Z"
   },
   {
    "duration": 4,
    "start_time": "2023-10-18T22:55:07.803Z"
   },
   {
    "duration": 4,
    "start_time": "2023-10-18T22:55:24.076Z"
   },
   {
    "duration": 21,
    "start_time": "2023-10-18T22:55:35.870Z"
   },
   {
    "duration": 30,
    "start_time": "2023-10-18T23:03:44.586Z"
   },
   {
    "duration": 5307,
    "start_time": "2023-10-18T23:04:00.405Z"
   },
   {
    "duration": 856,
    "start_time": "2023-10-18T23:04:37.648Z"
   },
   {
    "duration": 1290,
    "start_time": "2023-10-18T23:04:52.782Z"
   },
   {
    "duration": 13,
    "start_time": "2023-10-18T23:06:14.415Z"
   },
   {
    "duration": 6,
    "start_time": "2023-10-18T23:08:27.025Z"
   },
   {
    "duration": 7,
    "start_time": "2023-10-18T23:08:41.456Z"
   },
   {
    "duration": 1140,
    "start_time": "2023-10-18T23:09:58.521Z"
   },
   {
    "duration": 1155,
    "start_time": "2023-10-18T23:10:32.846Z"
   },
   {
    "duration": 1227,
    "start_time": "2023-10-18T23:10:49.268Z"
   },
   {
    "duration": 21,
    "start_time": "2023-10-18T23:12:22.867Z"
   },
   {
    "duration": 7,
    "start_time": "2023-10-18T23:13:02.311Z"
   },
   {
    "duration": 8,
    "start_time": "2023-10-18T23:13:16.059Z"
   },
   {
    "duration": 17,
    "start_time": "2023-10-18T23:13:40.752Z"
   },
   {
    "duration": 19,
    "start_time": "2023-10-18T23:13:54.007Z"
   },
   {
    "duration": 8,
    "start_time": "2023-10-18T23:14:15.849Z"
   },
   {
    "duration": 1139,
    "start_time": "2023-10-18T23:14:27.739Z"
   },
   {
    "duration": 1200,
    "start_time": "2023-10-18T23:15:15.504Z"
   },
   {
    "duration": 275,
    "start_time": "2023-10-18T23:15:35.146Z"
   },
   {
    "duration": 1224,
    "start_time": "2023-10-18T23:16:06.816Z"
   },
   {
    "duration": 1170,
    "start_time": "2023-10-18T23:16:26.400Z"
   },
   {
    "duration": 56,
    "start_time": "2023-10-18T23:16:27.572Z"
   },
   {
    "duration": 36,
    "start_time": "2023-10-18T23:16:27.630Z"
   },
   {
    "duration": 10,
    "start_time": "2023-10-18T23:16:27.667Z"
   },
   {
    "duration": 29,
    "start_time": "2023-10-18T23:16:27.679Z"
   },
   {
    "duration": 24,
    "start_time": "2023-10-18T23:16:27.710Z"
   },
   {
    "duration": 20,
    "start_time": "2023-10-18T23:16:27.737Z"
   },
   {
    "duration": 20,
    "start_time": "2023-10-18T23:16:27.759Z"
   },
   {
    "duration": 26,
    "start_time": "2023-10-18T23:16:27.781Z"
   },
   {
    "duration": 10,
    "start_time": "2023-10-18T23:16:27.809Z"
   },
   {
    "duration": 30,
    "start_time": "2023-10-18T23:16:27.820Z"
   },
   {
    "duration": 51,
    "start_time": "2023-10-18T23:16:27.852Z"
   },
   {
    "duration": 24,
    "start_time": "2023-10-18T23:16:27.905Z"
   },
   {
    "duration": 31,
    "start_time": "2023-10-18T23:16:27.932Z"
   },
   {
    "duration": 29,
    "start_time": "2023-10-18T23:16:27.964Z"
   },
   {
    "duration": 35,
    "start_time": "2023-10-18T23:16:27.995Z"
   },
   {
    "duration": 16,
    "start_time": "2023-10-18T23:16:28.032Z"
   },
   {
    "duration": 103,
    "start_time": "2023-10-18T23:16:28.050Z"
   },
   {
    "duration": 59,
    "start_time": "2023-10-18T23:16:28.155Z"
   },
   {
    "duration": 365,
    "start_time": "2023-10-18T23:16:28.216Z"
   },
   {
    "duration": 321,
    "start_time": "2023-10-18T23:16:28.583Z"
   },
   {
    "duration": 11,
    "start_time": "2023-10-18T23:16:28.906Z"
   },
   {
    "duration": 1167,
    "start_time": "2023-10-18T23:16:28.919Z"
   },
   {
    "duration": 107,
    "start_time": "2023-10-18T23:16:30.088Z"
   },
   {
    "duration": 0,
    "start_time": "2023-10-18T23:16:30.197Z"
   },
   {
    "duration": 0,
    "start_time": "2023-10-18T23:16:30.201Z"
   },
   {
    "duration": 0,
    "start_time": "2023-10-18T23:16:30.202Z"
   },
   {
    "duration": 0,
    "start_time": "2023-10-18T23:16:30.203Z"
   },
   {
    "duration": 0,
    "start_time": "2023-10-18T23:16:30.204Z"
   },
   {
    "duration": 0,
    "start_time": "2023-10-18T23:16:30.205Z"
   },
   {
    "duration": 0,
    "start_time": "2023-10-18T23:16:30.207Z"
   },
   {
    "duration": 0,
    "start_time": "2023-10-18T23:16:30.208Z"
   },
   {
    "duration": 0,
    "start_time": "2023-10-18T23:16:30.209Z"
   },
   {
    "duration": 0,
    "start_time": "2023-10-18T23:16:30.211Z"
   },
   {
    "duration": 0,
    "start_time": "2023-10-18T23:16:30.212Z"
   },
   {
    "duration": 0,
    "start_time": "2023-10-18T23:16:30.213Z"
   },
   {
    "duration": 0,
    "start_time": "2023-10-18T23:16:30.214Z"
   },
   {
    "duration": 0,
    "start_time": "2023-10-18T23:16:30.214Z"
   },
   {
    "duration": 0,
    "start_time": "2023-10-18T23:16:30.216Z"
   },
   {
    "duration": 0,
    "start_time": "2023-10-18T23:16:30.217Z"
   },
   {
    "duration": 0,
    "start_time": "2023-10-18T23:16:30.217Z"
   },
   {
    "duration": 0,
    "start_time": "2023-10-18T23:16:30.219Z"
   },
   {
    "duration": 0,
    "start_time": "2023-10-18T23:16:30.220Z"
   },
   {
    "duration": 0,
    "start_time": "2023-10-18T23:16:30.221Z"
   },
   {
    "duration": 0,
    "start_time": "2023-10-18T23:16:30.222Z"
   },
   {
    "duration": 0,
    "start_time": "2023-10-18T23:16:30.223Z"
   },
   {
    "duration": 0,
    "start_time": "2023-10-18T23:16:30.224Z"
   },
   {
    "duration": 0,
    "start_time": "2023-10-18T23:16:30.225Z"
   },
   {
    "duration": 0,
    "start_time": "2023-10-18T23:16:30.226Z"
   },
   {
    "duration": 0,
    "start_time": "2023-10-18T23:16:30.227Z"
   },
   {
    "duration": 13,
    "start_time": "2023-10-18T23:17:10.875Z"
   },
   {
    "duration": 28,
    "start_time": "2023-10-18T23:17:31.798Z"
   },
   {
    "duration": 122,
    "start_time": "2023-10-18T23:18:40.045Z"
   },
   {
    "duration": 185,
    "start_time": "2023-10-18T23:19:04.452Z"
   },
   {
    "duration": 106,
    "start_time": "2023-10-18T23:20:23.048Z"
   },
   {
    "duration": 86,
    "start_time": "2023-10-18T23:20:31.559Z"
   },
   {
    "duration": 95,
    "start_time": "2023-10-18T23:20:40.121Z"
   },
   {
    "duration": 114,
    "start_time": "2023-10-18T23:21:48.918Z"
   },
   {
    "duration": 160,
    "start_time": "2023-10-18T23:22:00.062Z"
   },
   {
    "duration": 32,
    "start_time": "2023-10-18T23:22:19.847Z"
   },
   {
    "duration": 95,
    "start_time": "2023-10-18T23:23:12.395Z"
   },
   {
    "duration": 139,
    "start_time": "2023-10-18T23:23:20.200Z"
   },
   {
    "duration": 104,
    "start_time": "2023-10-18T23:23:24.915Z"
   },
   {
    "duration": 136,
    "start_time": "2023-10-18T23:24:01.047Z"
   },
   {
    "duration": 86,
    "start_time": "2023-10-18T23:24:07.097Z"
   },
   {
    "duration": 82,
    "start_time": "2023-10-18T23:24:55.524Z"
   },
   {
    "duration": 29,
    "start_time": "2023-10-18T23:25:31.596Z"
   },
   {
    "duration": 26,
    "start_time": "2023-10-18T23:29:13.706Z"
   },
   {
    "duration": 11,
    "start_time": "2023-10-18T23:29:42.672Z"
   },
   {
    "duration": 24,
    "start_time": "2023-10-18T23:30:00.493Z"
   },
   {
    "duration": 17,
    "start_time": "2023-10-18T23:31:31.998Z"
   },
   {
    "duration": 16,
    "start_time": "2023-10-18T23:31:48.992Z"
   },
   {
    "duration": 16,
    "start_time": "2023-10-18T23:32:37.414Z"
   },
   {
    "duration": 182,
    "start_time": "2023-10-18T23:32:48.087Z"
   },
   {
    "duration": 4,
    "start_time": "2023-10-18T23:35:42.195Z"
   },
   {
    "duration": 21,
    "start_time": "2023-10-18T23:36:03.351Z"
   },
   {
    "duration": 16,
    "start_time": "2023-10-18T23:36:18.841Z"
   },
   {
    "duration": 17,
    "start_time": "2023-10-18T23:36:47.987Z"
   },
   {
    "duration": 12,
    "start_time": "2023-10-18T23:38:21.221Z"
   },
   {
    "duration": 12,
    "start_time": "2023-10-18T23:38:47.790Z"
   },
   {
    "duration": 28,
    "start_time": "2023-10-18T23:38:48.162Z"
   },
   {
    "duration": 19,
    "start_time": "2023-10-18T23:40:05.085Z"
   },
   {
    "duration": 13,
    "start_time": "2023-10-18T23:40:37.270Z"
   },
   {
    "duration": 29,
    "start_time": "2023-10-18T23:40:39.811Z"
   },
   {
    "duration": 1100,
    "start_time": "2023-10-18T23:40:49.067Z"
   },
   {
    "duration": 57,
    "start_time": "2023-10-18T23:40:50.169Z"
   },
   {
    "duration": 37,
    "start_time": "2023-10-18T23:40:50.228Z"
   },
   {
    "duration": 9,
    "start_time": "2023-10-18T23:40:50.266Z"
   },
   {
    "duration": 25,
    "start_time": "2023-10-18T23:40:50.276Z"
   },
   {
    "duration": 22,
    "start_time": "2023-10-18T23:40:50.303Z"
   },
   {
    "duration": 10,
    "start_time": "2023-10-18T23:40:50.326Z"
   },
   {
    "duration": 15,
    "start_time": "2023-10-18T23:40:50.338Z"
   },
   {
    "duration": 13,
    "start_time": "2023-10-18T23:40:50.354Z"
   },
   {
    "duration": 7,
    "start_time": "2023-10-18T23:40:50.370Z"
   },
   {
    "duration": 22,
    "start_time": "2023-10-18T23:40:50.379Z"
   },
   {
    "duration": 38,
    "start_time": "2023-10-18T23:40:50.402Z"
   },
   {
    "duration": 9,
    "start_time": "2023-10-18T23:40:50.442Z"
   },
   {
    "duration": 31,
    "start_time": "2023-10-18T23:40:50.453Z"
   },
   {
    "duration": 17,
    "start_time": "2023-10-18T23:40:50.486Z"
   },
   {
    "duration": 22,
    "start_time": "2023-10-18T23:40:50.505Z"
   },
   {
    "duration": 7,
    "start_time": "2023-10-18T23:40:50.529Z"
   },
   {
    "duration": 34,
    "start_time": "2023-10-18T23:40:50.538Z"
   },
   {
    "duration": 30,
    "start_time": "2023-10-18T23:40:50.574Z"
   },
   {
    "duration": 333,
    "start_time": "2023-10-18T23:40:50.606Z"
   },
   {
    "duration": 304,
    "start_time": "2023-10-18T23:40:50.942Z"
   },
   {
    "duration": 12,
    "start_time": "2023-10-18T23:40:51.248Z"
   },
   {
    "duration": 1142,
    "start_time": "2023-10-18T23:40:51.262Z"
   },
   {
    "duration": 17,
    "start_time": "2023-10-18T23:40:52.405Z"
   },
   {
    "duration": 9,
    "start_time": "2023-10-18T23:40:52.424Z"
   },
   {
    "duration": 35,
    "start_time": "2023-10-18T23:40:52.434Z"
   },
   {
    "duration": 43,
    "start_time": "2023-10-18T23:40:52.471Z"
   },
   {
    "duration": 35,
    "start_time": "2023-10-18T23:40:52.517Z"
   },
   {
    "duration": 202,
    "start_time": "2023-10-18T23:40:52.554Z"
   },
   {
    "duration": 118,
    "start_time": "2023-10-18T23:40:52.758Z"
   },
   {
    "duration": 0,
    "start_time": "2023-10-18T23:40:52.878Z"
   },
   {
    "duration": 0,
    "start_time": "2023-10-18T23:40:52.880Z"
   },
   {
    "duration": 0,
    "start_time": "2023-10-18T23:40:52.881Z"
   },
   {
    "duration": 0,
    "start_time": "2023-10-18T23:40:52.882Z"
   },
   {
    "duration": 0,
    "start_time": "2023-10-18T23:40:52.883Z"
   },
   {
    "duration": 0,
    "start_time": "2023-10-18T23:40:52.884Z"
   },
   {
    "duration": 0,
    "start_time": "2023-10-18T23:40:52.901Z"
   },
   {
    "duration": 0,
    "start_time": "2023-10-18T23:40:52.902Z"
   },
   {
    "duration": 0,
    "start_time": "2023-10-18T23:40:52.904Z"
   },
   {
    "duration": 0,
    "start_time": "2023-10-18T23:40:52.905Z"
   },
   {
    "duration": 0,
    "start_time": "2023-10-18T23:40:52.906Z"
   },
   {
    "duration": 0,
    "start_time": "2023-10-18T23:40:52.907Z"
   },
   {
    "duration": 0,
    "start_time": "2023-10-18T23:40:52.908Z"
   },
   {
    "duration": 0,
    "start_time": "2023-10-18T23:40:52.909Z"
   },
   {
    "duration": 0,
    "start_time": "2023-10-18T23:40:52.910Z"
   },
   {
    "duration": 0,
    "start_time": "2023-10-18T23:40:52.911Z"
   },
   {
    "duration": 0,
    "start_time": "2023-10-18T23:40:52.912Z"
   },
   {
    "duration": 0,
    "start_time": "2023-10-18T23:40:52.913Z"
   },
   {
    "duration": 0,
    "start_time": "2023-10-18T23:40:53.053Z"
   },
   {
    "duration": 0,
    "start_time": "2023-10-18T23:40:53.055Z"
   },
   {
    "duration": 0,
    "start_time": "2023-10-18T23:40:53.056Z"
   },
   {
    "duration": 0,
    "start_time": "2023-10-18T23:40:53.057Z"
   },
   {
    "duration": 15,
    "start_time": "2023-10-18T23:48:34.740Z"
   },
   {
    "duration": 4,
    "start_time": "2023-10-18T23:48:50.354Z"
   },
   {
    "duration": 4,
    "start_time": "2023-10-18T23:51:05.353Z"
   },
   {
    "duration": 3,
    "start_time": "2023-10-18T23:51:09.106Z"
   },
   {
    "duration": 3,
    "start_time": "2023-10-18T23:51:18.901Z"
   },
   {
    "duration": 179,
    "start_time": "2023-10-18T23:52:14.722Z"
   },
   {
    "duration": 21,
    "start_time": "2023-10-18T23:52:32.059Z"
   },
   {
    "duration": 802,
    "start_time": "2023-10-18T23:53:08.912Z"
   },
   {
    "duration": 18,
    "start_time": "2023-10-18T23:53:52.124Z"
   },
   {
    "duration": 1134,
    "start_time": "2023-10-18T23:54:01.431Z"
   },
   {
    "duration": 58,
    "start_time": "2023-10-18T23:54:02.567Z"
   },
   {
    "duration": 158,
    "start_time": "2023-10-18T23:54:02.627Z"
   },
   {
    "duration": 10,
    "start_time": "2023-10-18T23:54:02.787Z"
   },
   {
    "duration": 28,
    "start_time": "2023-10-18T23:54:02.798Z"
   },
   {
    "duration": 97,
    "start_time": "2023-10-18T23:54:02.828Z"
   },
   {
    "duration": 200,
    "start_time": "2023-10-18T23:54:02.926Z"
   },
   {
    "duration": 91,
    "start_time": "2023-10-18T23:54:03.128Z"
   },
   {
    "duration": 14,
    "start_time": "2023-10-18T23:54:03.221Z"
   },
   {
    "duration": 51,
    "start_time": "2023-10-18T23:54:03.238Z"
   },
   {
    "duration": 55,
    "start_time": "2023-10-18T23:54:03.291Z"
   },
   {
    "duration": 18,
    "start_time": "2023-10-18T23:54:03.348Z"
   },
   {
    "duration": 17,
    "start_time": "2023-10-18T23:54:03.367Z"
   },
   {
    "duration": 17,
    "start_time": "2023-10-18T23:54:03.386Z"
   },
   {
    "duration": 16,
    "start_time": "2023-10-18T23:54:03.405Z"
   },
   {
    "duration": 20,
    "start_time": "2023-10-18T23:54:03.423Z"
   },
   {
    "duration": 14,
    "start_time": "2023-10-18T23:54:03.445Z"
   },
   {
    "duration": 46,
    "start_time": "2023-10-18T23:54:03.460Z"
   },
   {
    "duration": 22,
    "start_time": "2023-10-18T23:54:03.507Z"
   },
   {
    "duration": 330,
    "start_time": "2023-10-18T23:54:03.531Z"
   },
   {
    "duration": 297,
    "start_time": "2023-10-18T23:54:03.863Z"
   },
   {
    "duration": 8,
    "start_time": "2023-10-18T23:54:04.162Z"
   },
   {
    "duration": 1199,
    "start_time": "2023-10-18T23:54:04.172Z"
   },
   {
    "duration": 28,
    "start_time": "2023-10-18T23:54:05.373Z"
   },
   {
    "duration": 23,
    "start_time": "2023-10-18T23:54:05.403Z"
   },
   {
    "duration": 69,
    "start_time": "2023-10-18T23:54:05.427Z"
   },
   {
    "duration": 16,
    "start_time": "2023-10-18T23:54:05.498Z"
   },
   {
    "duration": 21,
    "start_time": "2023-10-18T23:54:05.518Z"
   },
   {
    "duration": 187,
    "start_time": "2023-10-18T23:54:05.540Z"
   },
   {
    "duration": 912,
    "start_time": "2023-10-18T23:54:05.729Z"
   },
   {
    "duration": 34,
    "start_time": "2023-10-18T23:54:06.643Z"
   },
   {
    "duration": 264,
    "start_time": "2023-10-18T23:54:06.679Z"
   },
   {
    "duration": 904,
    "start_time": "2023-10-18T23:54:06.945Z"
   },
   {
    "duration": 0,
    "start_time": "2023-10-18T23:54:07.851Z"
   },
   {
    "duration": 0,
    "start_time": "2023-10-18T23:54:07.852Z"
   },
   {
    "duration": 0,
    "start_time": "2023-10-18T23:54:07.853Z"
   },
   {
    "duration": 0,
    "start_time": "2023-10-18T23:54:07.854Z"
   },
   {
    "duration": 0,
    "start_time": "2023-10-18T23:54:07.855Z"
   },
   {
    "duration": 0,
    "start_time": "2023-10-18T23:54:07.856Z"
   },
   {
    "duration": 0,
    "start_time": "2023-10-18T23:54:07.857Z"
   },
   {
    "duration": 0,
    "start_time": "2023-10-18T23:54:07.858Z"
   },
   {
    "duration": 0,
    "start_time": "2023-10-18T23:54:07.859Z"
   },
   {
    "duration": 0,
    "start_time": "2023-10-18T23:54:07.860Z"
   },
   {
    "duration": 0,
    "start_time": "2023-10-18T23:54:07.861Z"
   },
   {
    "duration": 0,
    "start_time": "2023-10-18T23:54:07.862Z"
   },
   {
    "duration": 0,
    "start_time": "2023-10-18T23:54:07.863Z"
   },
   {
    "duration": 0,
    "start_time": "2023-10-18T23:54:07.864Z"
   },
   {
    "duration": 0,
    "start_time": "2023-10-18T23:54:07.865Z"
   },
   {
    "duration": 0,
    "start_time": "2023-10-18T23:54:07.866Z"
   },
   {
    "duration": 0,
    "start_time": "2023-10-18T23:54:07.867Z"
   },
   {
    "duration": 0,
    "start_time": "2023-10-18T23:54:07.868Z"
   },
   {
    "duration": 0,
    "start_time": "2023-10-18T23:54:07.869Z"
   },
   {
    "duration": 677,
    "start_time": "2023-10-19T00:00:46.275Z"
   },
   {
    "duration": 150,
    "start_time": "2023-10-19T00:04:07.862Z"
   },
   {
    "duration": 189,
    "start_time": "2023-10-19T00:04:14.470Z"
   },
   {
    "duration": 142,
    "start_time": "2023-10-19T00:04:29.263Z"
   },
   {
    "duration": 156,
    "start_time": "2023-10-19T00:06:03.887Z"
   },
   {
    "duration": 146,
    "start_time": "2023-10-19T00:06:12.618Z"
   },
   {
    "duration": 165,
    "start_time": "2023-10-19T00:06:39.708Z"
   },
   {
    "duration": 158,
    "start_time": "2023-10-19T00:06:42.466Z"
   },
   {
    "duration": 165,
    "start_time": "2023-10-19T00:07:14.388Z"
   },
   {
    "duration": 158,
    "start_time": "2023-10-19T00:07:22.240Z"
   },
   {
    "duration": 169,
    "start_time": "2023-10-19T00:07:26.119Z"
   },
   {
    "duration": 283,
    "start_time": "2023-10-19T00:07:38.125Z"
   },
   {
    "duration": 155,
    "start_time": "2023-10-19T00:07:47.066Z"
   },
   {
    "duration": 272,
    "start_time": "2023-10-19T00:08:35.191Z"
   },
   {
    "duration": 262,
    "start_time": "2023-10-19T00:09:01.286Z"
   },
   {
    "duration": 166,
    "start_time": "2023-10-19T00:09:18.048Z"
   },
   {
    "duration": 166,
    "start_time": "2023-10-19T00:10:51.563Z"
   },
   {
    "duration": 11,
    "start_time": "2023-10-19T00:11:40.826Z"
   },
   {
    "duration": 157,
    "start_time": "2023-10-19T00:12:23.862Z"
   },
   {
    "duration": 11,
    "start_time": "2023-10-19T00:12:27.133Z"
   },
   {
    "duration": 10,
    "start_time": "2023-10-19T00:14:15.048Z"
   },
   {
    "duration": 10,
    "start_time": "2023-10-19T00:14:23.280Z"
   },
   {
    "duration": 8,
    "start_time": "2023-10-19T00:15:41.090Z"
   },
   {
    "duration": 95,
    "start_time": "2023-10-19T00:16:49.373Z"
   },
   {
    "duration": 169,
    "start_time": "2023-10-19T00:17:33.928Z"
   },
   {
    "duration": 150,
    "start_time": "2023-10-19T00:17:58.938Z"
   },
   {
    "duration": 8,
    "start_time": "2023-10-19T00:18:18.510Z"
   },
   {
    "duration": 146,
    "start_time": "2023-10-19T00:18:56.357Z"
   },
   {
    "duration": 158,
    "start_time": "2023-10-19T00:19:13.033Z"
   },
   {
    "duration": 12,
    "start_time": "2023-10-19T00:21:29.023Z"
   },
   {
    "duration": 29,
    "start_time": "2023-10-19T00:21:37.831Z"
   },
   {
    "duration": 28,
    "start_time": "2023-10-19T00:37:42.610Z"
   },
   {
    "duration": 13,
    "start_time": "2023-10-19T00:37:58.585Z"
   },
   {
    "duration": 25,
    "start_time": "2023-10-19T00:38:05.344Z"
   },
   {
    "duration": 4,
    "start_time": "2023-10-19T00:42:08.914Z"
   },
   {
    "duration": 159,
    "start_time": "2023-10-19T00:42:09.749Z"
   },
   {
    "duration": 162,
    "start_time": "2023-10-19T00:43:50.677Z"
   },
   {
    "duration": 164,
    "start_time": "2023-10-19T00:44:22.932Z"
   },
   {
    "duration": 183,
    "start_time": "2023-10-19T00:44:47.836Z"
   },
   {
    "duration": 1678,
    "start_time": "2023-10-19T00:45:54.735Z"
   },
   {
    "duration": 1689,
    "start_time": "2023-10-19T00:46:16.767Z"
   },
   {
    "duration": 1695,
    "start_time": "2023-10-19T00:46:34.606Z"
   },
   {
    "duration": 1625,
    "start_time": "2023-10-19T00:47:37.761Z"
   },
   {
    "duration": 1682,
    "start_time": "2023-10-19T00:48:11.319Z"
   },
   {
    "duration": 1671,
    "start_time": "2023-10-19T00:48:23.715Z"
   },
   {
    "duration": 1764,
    "start_time": "2023-10-19T00:48:32.907Z"
   },
   {
    "duration": 176,
    "start_time": "2023-10-19T00:52:20.357Z"
   },
   {
    "duration": 16,
    "start_time": "2023-10-19T00:52:23.671Z"
   },
   {
    "duration": 17,
    "start_time": "2023-10-19T00:52:26.433Z"
   },
   {
    "duration": 160,
    "start_time": "2023-10-19T00:53:35.583Z"
   },
   {
    "duration": 13,
    "start_time": "2023-10-19T00:55:03.000Z"
   },
   {
    "duration": 15,
    "start_time": "2023-10-19T00:56:41.996Z"
   },
   {
    "duration": 1276,
    "start_time": "2023-10-19T13:27:42.009Z"
   },
   {
    "duration": 97,
    "start_time": "2023-10-19T13:27:43.287Z"
   },
   {
    "duration": 35,
    "start_time": "2023-10-19T13:27:43.386Z"
   },
   {
    "duration": 28,
    "start_time": "2023-10-19T13:27:43.423Z"
   },
   {
    "duration": 72,
    "start_time": "2023-10-19T13:27:43.453Z"
   },
   {
    "duration": 45,
    "start_time": "2023-10-19T13:27:43.527Z"
   },
   {
    "duration": 22,
    "start_time": "2023-10-19T13:27:43.574Z"
   },
   {
    "duration": 31,
    "start_time": "2023-10-19T13:27:43.598Z"
   },
   {
    "duration": 24,
    "start_time": "2023-10-19T13:27:43.631Z"
   },
   {
    "duration": 20,
    "start_time": "2023-10-19T13:27:43.657Z"
   },
   {
    "duration": 14,
    "start_time": "2023-10-19T13:27:43.678Z"
   },
   {
    "duration": 17,
    "start_time": "2023-10-19T13:27:43.693Z"
   },
   {
    "duration": 12,
    "start_time": "2023-10-19T13:27:43.712Z"
   },
   {
    "duration": 43,
    "start_time": "2023-10-19T13:27:43.725Z"
   },
   {
    "duration": 45,
    "start_time": "2023-10-19T13:27:43.771Z"
   },
   {
    "duration": 88,
    "start_time": "2023-10-19T13:27:43.818Z"
   },
   {
    "duration": 59,
    "start_time": "2023-10-19T13:27:43.908Z"
   },
   {
    "duration": 48,
    "start_time": "2023-10-19T13:27:43.969Z"
   },
   {
    "duration": 38,
    "start_time": "2023-10-19T13:27:44.018Z"
   },
   {
    "duration": 309,
    "start_time": "2023-10-19T13:27:44.058Z"
   },
   {
    "duration": 272,
    "start_time": "2023-10-19T13:27:44.369Z"
   },
   {
    "duration": 8,
    "start_time": "2023-10-19T13:27:44.643Z"
   },
   {
    "duration": 1121,
    "start_time": "2023-10-19T13:27:44.652Z"
   },
   {
    "duration": 17,
    "start_time": "2023-10-19T13:27:45.775Z"
   },
   {
    "duration": 125,
    "start_time": "2023-10-19T13:27:45.794Z"
   },
   {
    "duration": 96,
    "start_time": "2023-10-19T13:27:45.922Z"
   },
   {
    "duration": 125,
    "start_time": "2023-10-19T13:27:46.019Z"
   },
   {
    "duration": 54,
    "start_time": "2023-10-19T13:27:46.149Z"
   },
   {
    "duration": 182,
    "start_time": "2023-10-19T13:27:46.204Z"
   },
   {
    "duration": 864,
    "start_time": "2023-10-19T13:27:46.387Z"
   },
   {
    "duration": 34,
    "start_time": "2023-10-19T13:27:47.253Z"
   },
   {
    "duration": 250,
    "start_time": "2023-10-19T13:27:47.288Z"
   },
   {
    "duration": 4,
    "start_time": "2023-10-19T13:27:47.540Z"
   },
   {
    "duration": 180,
    "start_time": "2023-10-19T13:27:47.545Z"
   },
   {
    "duration": 7,
    "start_time": "2023-10-19T13:27:47.727Z"
   },
   {
    "duration": 288,
    "start_time": "2023-10-19T13:27:47.735Z"
   },
   {
    "duration": 39,
    "start_time": "2023-10-19T13:27:48.025Z"
   },
   {
    "duration": 1645,
    "start_time": "2023-10-19T13:27:48.066Z"
   },
   {
    "duration": 183,
    "start_time": "2023-10-19T13:27:49.713Z"
   },
   {
    "duration": 13,
    "start_time": "2023-10-19T13:27:49.897Z"
   },
   {
    "duration": 50,
    "start_time": "2023-10-19T13:27:49.912Z"
   },
   {
    "duration": 188,
    "start_time": "2023-10-19T13:27:49.964Z"
   },
   {
    "duration": 134,
    "start_time": "2023-10-19T13:27:50.153Z"
   },
   {
    "duration": 156,
    "start_time": "2023-10-19T13:27:50.289Z"
   },
   {
    "duration": 152,
    "start_time": "2023-10-19T13:27:50.446Z"
   },
   {
    "duration": 151,
    "start_time": "2023-10-19T13:27:50.600Z"
   },
   {
    "duration": 238,
    "start_time": "2023-10-19T13:27:50.753Z"
   },
   {
    "duration": 136,
    "start_time": "2023-10-19T13:27:50.992Z"
   },
   {
    "duration": 123,
    "start_time": "2023-10-19T13:27:51.130Z"
   },
   {
    "duration": 137,
    "start_time": "2023-10-19T13:27:51.254Z"
   },
   {
    "duration": 8,
    "start_time": "2023-10-19T13:27:51.392Z"
   },
   {
    "duration": 15,
    "start_time": "2023-10-19T13:27:51.402Z"
   },
   {
    "duration": 13,
    "start_time": "2023-10-19T13:27:51.418Z"
   },
   {
    "duration": 7,
    "start_time": "2023-10-19T13:27:51.432Z"
   },
   {
    "duration": 96,
    "start_time": "2023-10-19T13:40:50.018Z"
   },
   {
    "duration": 5,
    "start_time": "2023-10-19T13:40:55.478Z"
   },
   {
    "duration": 13,
    "start_time": "2023-10-19T13:40:58.808Z"
   },
   {
    "duration": 142,
    "start_time": "2023-10-19T13:41:09.321Z"
   },
   {
    "duration": 131,
    "start_time": "2023-10-19T13:41:11.727Z"
   },
   {
    "duration": 142,
    "start_time": "2023-10-19T13:41:13.807Z"
   },
   {
    "duration": 4,
    "start_time": "2023-10-19T13:41:28.896Z"
   },
   {
    "duration": 166,
    "start_time": "2023-10-19T13:41:31.325Z"
   },
   {
    "duration": 128,
    "start_time": "2023-10-19T13:41:39.499Z"
   },
   {
    "duration": 119,
    "start_time": "2023-10-19T13:41:42.282Z"
   },
   {
    "duration": 1130,
    "start_time": "2023-10-19T13:42:08.604Z"
   },
   {
    "duration": 58,
    "start_time": "2023-10-19T13:42:09.735Z"
   },
   {
    "duration": 39,
    "start_time": "2023-10-19T13:42:09.795Z"
   },
   {
    "duration": 10,
    "start_time": "2023-10-19T13:42:09.837Z"
   },
   {
    "duration": 30,
    "start_time": "2023-10-19T13:42:09.850Z"
   },
   {
    "duration": 27,
    "start_time": "2023-10-19T13:42:09.881Z"
   },
   {
    "duration": 33,
    "start_time": "2023-10-19T13:42:09.910Z"
   },
   {
    "duration": 32,
    "start_time": "2023-10-19T13:42:09.945Z"
   },
   {
    "duration": 32,
    "start_time": "2023-10-19T13:42:09.978Z"
   },
   {
    "duration": 39,
    "start_time": "2023-10-19T13:42:10.012Z"
   },
   {
    "duration": 41,
    "start_time": "2023-10-19T13:42:10.053Z"
   },
   {
    "duration": 39,
    "start_time": "2023-10-19T13:42:10.095Z"
   },
   {
    "duration": 22,
    "start_time": "2023-10-19T13:42:10.136Z"
   },
   {
    "duration": 26,
    "start_time": "2023-10-19T13:42:10.161Z"
   },
   {
    "duration": 18,
    "start_time": "2023-10-19T13:42:10.188Z"
   },
   {
    "duration": 34,
    "start_time": "2023-10-19T13:42:10.208Z"
   },
   {
    "duration": 37,
    "start_time": "2023-10-19T13:42:10.244Z"
   },
   {
    "duration": 36,
    "start_time": "2023-10-19T13:42:10.283Z"
   },
   {
    "duration": 60,
    "start_time": "2023-10-19T13:42:10.321Z"
   },
   {
    "duration": 34,
    "start_time": "2023-10-19T13:42:10.383Z"
   },
   {
    "duration": 312,
    "start_time": "2023-10-19T13:42:10.419Z"
   },
   {
    "duration": 299,
    "start_time": "2023-10-19T13:42:10.733Z"
   },
   {
    "duration": 9,
    "start_time": "2023-10-19T13:42:11.034Z"
   },
   {
    "duration": 1101,
    "start_time": "2023-10-19T13:42:11.044Z"
   },
   {
    "duration": 17,
    "start_time": "2023-10-19T13:42:12.147Z"
   },
   {
    "duration": 502,
    "start_time": "2023-10-19T13:42:12.166Z"
   },
   {
    "duration": 244,
    "start_time": "2023-10-19T13:42:12.670Z"
   },
   {
    "duration": 193,
    "start_time": "2023-10-19T13:42:12.916Z"
   },
   {
    "duration": 161,
    "start_time": "2023-10-19T13:42:13.110Z"
   },
   {
    "duration": 237,
    "start_time": "2023-10-19T13:42:13.273Z"
   },
   {
    "duration": 846,
    "start_time": "2023-10-19T13:42:13.512Z"
   },
   {
    "duration": 33,
    "start_time": "2023-10-19T13:42:14.359Z"
   },
   {
    "duration": 363,
    "start_time": "2023-10-19T13:42:14.394Z"
   },
   {
    "duration": 4,
    "start_time": "2023-10-19T13:42:14.758Z"
   },
   {
    "duration": 502,
    "start_time": "2023-10-19T13:42:14.764Z"
   },
   {
    "duration": 101,
    "start_time": "2023-10-19T13:42:15.268Z"
   },
   {
    "duration": 324,
    "start_time": "2023-10-19T13:42:15.371Z"
   },
   {
    "duration": 7,
    "start_time": "2023-10-19T13:42:15.697Z"
   },
   {
    "duration": 1794,
    "start_time": "2023-10-19T13:42:15.706Z"
   },
   {
    "duration": 167,
    "start_time": "2023-10-19T13:42:17.502Z"
   },
   {
    "duration": 14,
    "start_time": "2023-10-19T13:42:17.672Z"
   },
   {
    "duration": 79,
    "start_time": "2023-10-19T13:42:17.688Z"
   },
   {
    "duration": 219,
    "start_time": "2023-10-19T13:42:17.769Z"
   },
   {
    "duration": 167,
    "start_time": "2023-10-19T13:42:17.990Z"
   },
   {
    "duration": 174,
    "start_time": "2023-10-19T13:42:18.159Z"
   },
   {
    "duration": 192,
    "start_time": "2023-10-19T13:42:18.335Z"
   },
   {
    "duration": 278,
    "start_time": "2023-10-19T13:42:18.529Z"
   },
   {
    "duration": 197,
    "start_time": "2023-10-19T13:42:18.809Z"
   },
   {
    "duration": 137,
    "start_time": "2023-10-19T13:42:19.007Z"
   },
   {
    "duration": 129,
    "start_time": "2023-10-19T13:42:19.146Z"
   },
   {
    "duration": 128,
    "start_time": "2023-10-19T13:42:19.277Z"
   },
   {
    "duration": 18,
    "start_time": "2023-10-19T13:42:19.406Z"
   },
   {
    "duration": 16,
    "start_time": "2023-10-19T13:42:19.426Z"
   },
   {
    "duration": 111,
    "start_time": "2023-10-19T13:42:19.444Z"
   },
   {
    "duration": 221,
    "start_time": "2023-10-19T13:42:19.557Z"
   },
   {
    "duration": 4,
    "start_time": "2023-10-19T13:42:32.528Z"
   },
   {
    "duration": 130,
    "start_time": "2023-10-19T13:42:34.427Z"
   },
   {
    "duration": 128,
    "start_time": "2023-10-19T13:42:35.291Z"
   },
   {
    "duration": 127,
    "start_time": "2023-10-19T13:42:35.582Z"
   },
   {
    "duration": 141,
    "start_time": "2023-10-19T13:42:36.288Z"
   },
   {
    "duration": 150,
    "start_time": "2023-10-19T13:42:36.489Z"
   },
   {
    "duration": 143,
    "start_time": "2023-10-19T13:42:36.705Z"
   },
   {
    "duration": 203,
    "start_time": "2023-10-19T13:42:37.413Z"
   },
   {
    "duration": 226,
    "start_time": "2023-10-19T13:42:37.623Z"
   },
   {
    "duration": 145,
    "start_time": "2023-10-19T13:42:37.851Z"
   },
   {
    "duration": 10,
    "start_time": "2023-10-19T14:02:04.787Z"
   },
   {
    "duration": 141,
    "start_time": "2023-10-19T14:04:29.412Z"
   },
   {
    "duration": 5,
    "start_time": "2023-10-19T14:04:35.121Z"
   },
   {
    "duration": 5,
    "start_time": "2023-10-19T14:05:51.809Z"
   },
   {
    "duration": 4,
    "start_time": "2023-10-19T14:08:50.661Z"
   },
   {
    "duration": 8,
    "start_time": "2023-10-19T14:10:19.903Z"
   },
   {
    "duration": 1177,
    "start_time": "2023-10-19T14:23:08.840Z"
   },
   {
    "duration": 55,
    "start_time": "2023-10-19T14:23:10.019Z"
   },
   {
    "duration": 38,
    "start_time": "2023-10-19T14:23:10.076Z"
   },
   {
    "duration": 11,
    "start_time": "2023-10-19T14:23:10.116Z"
   },
   {
    "duration": 3,
    "start_time": "2023-10-19T14:23:10.129Z"
   },
   {
    "duration": 19,
    "start_time": "2023-10-19T14:23:10.133Z"
   },
   {
    "duration": 13,
    "start_time": "2023-10-19T14:23:10.154Z"
   },
   {
    "duration": 17,
    "start_time": "2023-10-19T14:23:10.169Z"
   },
   {
    "duration": 11,
    "start_time": "2023-10-19T14:23:10.187Z"
   },
   {
    "duration": 22,
    "start_time": "2023-10-19T14:23:10.201Z"
   },
   {
    "duration": 21,
    "start_time": "2023-10-19T14:23:10.225Z"
   },
   {
    "duration": 16,
    "start_time": "2023-10-19T14:23:10.248Z"
   },
   {
    "duration": 14,
    "start_time": "2023-10-19T14:23:10.267Z"
   },
   {
    "duration": 27,
    "start_time": "2023-10-19T14:23:10.283Z"
   },
   {
    "duration": 36,
    "start_time": "2023-10-19T14:23:10.312Z"
   },
   {
    "duration": 22,
    "start_time": "2023-10-19T14:23:10.350Z"
   },
   {
    "duration": 19,
    "start_time": "2023-10-19T14:23:10.374Z"
   },
   {
    "duration": 10,
    "start_time": "2023-10-19T14:23:10.395Z"
   },
   {
    "duration": 16,
    "start_time": "2023-10-19T14:23:10.407Z"
   },
   {
    "duration": 20,
    "start_time": "2023-10-19T14:23:10.425Z"
   },
   {
    "duration": 330,
    "start_time": "2023-10-19T14:23:10.447Z"
   },
   {
    "duration": 296,
    "start_time": "2023-10-19T14:23:10.778Z"
   },
   {
    "duration": 8,
    "start_time": "2023-10-19T14:23:11.076Z"
   },
   {
    "duration": 1122,
    "start_time": "2023-10-19T14:23:11.086Z"
   },
   {
    "duration": 21,
    "start_time": "2023-10-19T14:23:12.209Z"
   },
   {
    "duration": 10,
    "start_time": "2023-10-19T14:23:12.231Z"
   },
   {
    "duration": 30,
    "start_time": "2023-10-19T14:23:12.243Z"
   },
   {
    "duration": 16,
    "start_time": "2023-10-19T14:23:12.279Z"
   },
   {
    "duration": 30,
    "start_time": "2023-10-19T14:23:12.296Z"
   },
   {
    "duration": 169,
    "start_time": "2023-10-19T14:23:12.328Z"
   },
   {
    "duration": 857,
    "start_time": "2023-10-19T14:23:12.499Z"
   },
   {
    "duration": 32,
    "start_time": "2023-10-19T14:23:13.358Z"
   },
   {
    "duration": 247,
    "start_time": "2023-10-19T14:23:13.392Z"
   },
   {
    "duration": 4,
    "start_time": "2023-10-19T14:23:13.640Z"
   },
   {
    "duration": 179,
    "start_time": "2023-10-19T14:23:13.645Z"
   },
   {
    "duration": 8,
    "start_time": "2023-10-19T14:23:13.825Z"
   },
   {
    "duration": 168,
    "start_time": "2023-10-19T14:23:13.834Z"
   },
   {
    "duration": 8,
    "start_time": "2023-10-19T14:23:14.003Z"
   },
   {
    "duration": 1781,
    "start_time": "2023-10-19T14:23:14.012Z"
   },
   {
    "duration": 219,
    "start_time": "2023-10-19T14:23:15.795Z"
   },
   {
    "duration": 20,
    "start_time": "2023-10-19T14:23:16.016Z"
   },
   {
    "duration": 5,
    "start_time": "2023-10-19T14:23:16.038Z"
   },
   {
    "duration": 153,
    "start_time": "2023-10-19T14:23:16.044Z"
   },
   {
    "duration": 146,
    "start_time": "2023-10-19T14:23:16.199Z"
   },
   {
    "duration": 141,
    "start_time": "2023-10-19T14:23:16.347Z"
   },
   {
    "duration": 160,
    "start_time": "2023-10-19T14:23:16.490Z"
   },
   {
    "duration": 159,
    "start_time": "2023-10-19T14:23:16.652Z"
   },
   {
    "duration": 237,
    "start_time": "2023-10-19T14:23:16.812Z"
   },
   {
    "duration": 140,
    "start_time": "2023-10-19T14:23:17.051Z"
   },
   {
    "duration": 137,
    "start_time": "2023-10-19T14:23:17.193Z"
   },
   {
    "duration": 133,
    "start_time": "2023-10-19T14:23:17.332Z"
   },
   {
    "duration": 9,
    "start_time": "2023-10-19T14:23:17.466Z"
   },
   {
    "duration": 16,
    "start_time": "2023-10-19T14:23:17.477Z"
   },
   {
    "duration": 14,
    "start_time": "2023-10-19T14:23:17.495Z"
   },
   {
    "duration": 17,
    "start_time": "2023-10-19T14:23:17.511Z"
   },
   {
    "duration": 1346,
    "start_time": "2023-10-19T16:02:16.049Z"
   },
   {
    "duration": 58,
    "start_time": "2023-10-19T16:02:17.398Z"
   },
   {
    "duration": 49,
    "start_time": "2023-10-19T16:02:17.460Z"
   },
   {
    "duration": 11,
    "start_time": "2023-10-19T16:02:17.510Z"
   },
   {
    "duration": 23,
    "start_time": "2023-10-19T16:02:17.523Z"
   },
   {
    "duration": 12,
    "start_time": "2023-10-19T16:02:17.561Z"
   },
   {
    "duration": 26,
    "start_time": "2023-10-19T16:02:17.575Z"
   },
   {
    "duration": 31,
    "start_time": "2023-10-19T16:02:17.603Z"
   },
   {
    "duration": 20,
    "start_time": "2023-10-19T16:02:17.637Z"
   },
   {
    "duration": 35,
    "start_time": "2023-10-19T16:02:17.659Z"
   },
   {
    "duration": 24,
    "start_time": "2023-10-19T16:02:17.696Z"
   },
   {
    "duration": 41,
    "start_time": "2023-10-19T16:02:17.722Z"
   },
   {
    "duration": 227,
    "start_time": "2023-10-19T16:02:17.765Z"
   },
   {
    "duration": 58,
    "start_time": "2023-10-19T16:02:17.994Z"
   },
   {
    "duration": 27,
    "start_time": "2023-10-19T16:02:18.054Z"
   },
   {
    "duration": 15,
    "start_time": "2023-10-19T16:02:18.083Z"
   },
   {
    "duration": 28,
    "start_time": "2023-10-19T16:02:18.100Z"
   },
   {
    "duration": 34,
    "start_time": "2023-10-19T16:02:18.130Z"
   },
   {
    "duration": 22,
    "start_time": "2023-10-19T16:02:18.167Z"
   },
   {
    "duration": 25,
    "start_time": "2023-10-19T16:02:18.191Z"
   },
   {
    "duration": 405,
    "start_time": "2023-10-19T16:02:18.219Z"
   },
   {
    "duration": 409,
    "start_time": "2023-10-19T16:02:18.626Z"
   },
   {
    "duration": 20,
    "start_time": "2023-10-19T16:02:19.038Z"
   },
   {
    "duration": 1417,
    "start_time": "2023-10-19T16:02:19.060Z"
   },
   {
    "duration": 20,
    "start_time": "2023-10-19T16:02:20.482Z"
   },
   {
    "duration": 34,
    "start_time": "2023-10-19T16:02:20.504Z"
   },
   {
    "duration": 58,
    "start_time": "2023-10-19T16:02:20.542Z"
   },
   {
    "duration": 29,
    "start_time": "2023-10-19T16:02:20.602Z"
   },
   {
    "duration": 29,
    "start_time": "2023-10-19T16:02:20.633Z"
   },
   {
    "duration": 226,
    "start_time": "2023-10-19T16:02:20.664Z"
   },
   {
    "duration": 1065,
    "start_time": "2023-10-19T16:02:20.891Z"
   },
   {
    "duration": 47,
    "start_time": "2023-10-19T16:02:21.958Z"
   },
   {
    "duration": 298,
    "start_time": "2023-10-19T16:02:22.007Z"
   },
   {
    "duration": 5,
    "start_time": "2023-10-19T16:02:22.308Z"
   },
   {
    "duration": 235,
    "start_time": "2023-10-19T16:02:22.315Z"
   },
   {
    "duration": 14,
    "start_time": "2023-10-19T16:02:22.552Z"
   },
   {
    "duration": 198,
    "start_time": "2023-10-19T16:02:22.569Z"
   },
   {
    "duration": 12,
    "start_time": "2023-10-19T16:02:22.770Z"
   },
   {
    "duration": 2032,
    "start_time": "2023-10-19T16:02:22.786Z"
   },
   {
    "duration": 212,
    "start_time": "2023-10-19T16:02:24.820Z"
   },
   {
    "duration": 25,
    "start_time": "2023-10-19T16:02:25.034Z"
   },
   {
    "duration": 49,
    "start_time": "2023-10-19T16:02:25.061Z"
   },
   {
    "duration": 215,
    "start_time": "2023-10-19T16:02:25.112Z"
   },
   {
    "duration": 161,
    "start_time": "2023-10-19T16:02:25.329Z"
   },
   {
    "duration": 156,
    "start_time": "2023-10-19T16:02:25.492Z"
   },
   {
    "duration": 185,
    "start_time": "2023-10-19T16:02:25.650Z"
   },
   {
    "duration": 185,
    "start_time": "2023-10-19T16:02:25.837Z"
   },
   {
    "duration": 297,
    "start_time": "2023-10-19T16:02:26.024Z"
   },
   {
    "duration": 179,
    "start_time": "2023-10-19T16:02:26.324Z"
   },
   {
    "duration": 183,
    "start_time": "2023-10-19T16:02:26.505Z"
   },
   {
    "duration": 173,
    "start_time": "2023-10-19T16:02:26.691Z"
   },
   {
    "duration": 16,
    "start_time": "2023-10-19T16:02:26.866Z"
   },
   {
    "duration": 40,
    "start_time": "2023-10-19T16:02:26.885Z"
   },
   {
    "duration": 63,
    "start_time": "2023-10-19T16:02:26.927Z"
   },
   {
    "duration": 41,
    "start_time": "2023-10-19T16:02:26.992Z"
   },
   {
    "duration": 1146,
    "start_time": "2023-12-13T00:31:24.130Z"
   },
   {
    "duration": 180,
    "start_time": "2023-12-13T00:31:25.277Z"
   },
   {
    "duration": 37,
    "start_time": "2023-12-13T00:31:25.458Z"
   },
   {
    "duration": 25,
    "start_time": "2023-12-13T00:31:25.497Z"
   },
   {
    "duration": 40,
    "start_time": "2023-12-13T00:31:25.524Z"
   },
   {
    "duration": 17,
    "start_time": "2023-12-13T00:31:25.565Z"
   },
   {
    "duration": 19,
    "start_time": "2023-12-13T00:31:25.584Z"
   },
   {
    "duration": 26,
    "start_time": "2023-12-13T00:31:25.605Z"
   },
   {
    "duration": 8,
    "start_time": "2023-12-13T00:31:25.633Z"
   },
   {
    "duration": 25,
    "start_time": "2023-12-13T00:31:25.643Z"
   },
   {
    "duration": 23,
    "start_time": "2023-12-13T00:31:25.670Z"
   },
   {
    "duration": 35,
    "start_time": "2023-12-13T00:31:25.694Z"
   },
   {
    "duration": 13,
    "start_time": "2023-12-13T00:31:25.731Z"
   },
   {
    "duration": 29,
    "start_time": "2023-12-13T00:31:25.747Z"
   },
   {
    "duration": 22,
    "start_time": "2023-12-13T00:31:25.778Z"
   },
   {
    "duration": 21,
    "start_time": "2023-12-13T00:31:25.802Z"
   },
   {
    "duration": 17,
    "start_time": "2023-12-13T00:31:25.824Z"
   },
   {
    "duration": 12,
    "start_time": "2023-12-13T00:31:25.842Z"
   },
   {
    "duration": 24,
    "start_time": "2023-12-13T00:31:25.855Z"
   },
   {
    "duration": 22,
    "start_time": "2023-12-13T00:31:25.881Z"
   },
   {
    "duration": 335,
    "start_time": "2023-12-13T00:31:25.904Z"
   },
   {
    "duration": 301,
    "start_time": "2023-12-13T00:31:26.240Z"
   },
   {
    "duration": 8,
    "start_time": "2023-12-13T00:31:26.542Z"
   },
   {
    "duration": 1182,
    "start_time": "2023-12-13T00:31:26.552Z"
   },
   {
    "duration": 17,
    "start_time": "2023-12-13T00:31:27.736Z"
   },
   {
    "duration": 14,
    "start_time": "2023-12-13T00:31:27.755Z"
   },
   {
    "duration": 52,
    "start_time": "2023-12-13T00:31:27.771Z"
   },
   {
    "duration": 16,
    "start_time": "2023-12-13T00:31:27.824Z"
   },
   {
    "duration": 9,
    "start_time": "2023-12-13T00:31:27.842Z"
   },
   {
    "duration": 199,
    "start_time": "2023-12-13T00:31:27.853Z"
   },
   {
    "duration": 914,
    "start_time": "2023-12-13T00:31:28.053Z"
   },
   {
    "duration": 45,
    "start_time": "2023-12-13T00:31:28.968Z"
   },
   {
    "duration": 267,
    "start_time": "2023-12-13T00:31:29.015Z"
   },
   {
    "duration": 3,
    "start_time": "2023-12-13T00:31:29.284Z"
   },
   {
    "duration": 172,
    "start_time": "2023-12-13T00:31:29.289Z"
   },
   {
    "duration": 8,
    "start_time": "2023-12-13T00:31:29.463Z"
   },
   {
    "duration": 181,
    "start_time": "2023-12-13T00:31:29.472Z"
   },
   {
    "duration": 8,
    "start_time": "2023-12-13T00:31:29.654Z"
   },
   {
    "duration": 1741,
    "start_time": "2023-12-13T00:31:29.664Z"
   },
   {
    "duration": 173,
    "start_time": "2023-12-13T00:31:31.406Z"
   },
   {
    "duration": 18,
    "start_time": "2023-12-13T00:31:31.583Z"
   },
   {
    "duration": 35,
    "start_time": "2023-12-13T00:31:31.602Z"
   },
   {
    "duration": 178,
    "start_time": "2023-12-13T00:31:31.638Z"
   },
   {
    "duration": 149,
    "start_time": "2023-12-13T00:31:31.818Z"
   },
   {
    "duration": 145,
    "start_time": "2023-12-13T00:31:31.969Z"
   },
   {
    "duration": 156,
    "start_time": "2023-12-13T00:31:32.116Z"
   },
   {
    "duration": 157,
    "start_time": "2023-12-13T00:31:32.274Z"
   },
   {
    "duration": 232,
    "start_time": "2023-12-13T00:31:32.433Z"
   },
   {
    "duration": 145,
    "start_time": "2023-12-13T00:31:32.666Z"
   },
   {
    "duration": 146,
    "start_time": "2023-12-13T00:31:32.813Z"
   },
   {
    "duration": 157,
    "start_time": "2023-12-13T00:31:32.960Z"
   },
   {
    "duration": 9,
    "start_time": "2023-12-13T00:31:33.119Z"
   },
   {
    "duration": 50,
    "start_time": "2023-12-13T00:31:33.130Z"
   },
   {
    "duration": 16,
    "start_time": "2023-12-13T00:31:33.181Z"
   },
   {
    "duration": 12,
    "start_time": "2023-12-13T00:31:33.199Z"
   },
   {
    "duration": 4,
    "start_time": "2023-12-13T00:33:34.845Z"
   },
   {
    "duration": 5,
    "start_time": "2023-12-13T00:34:48.397Z"
   },
   {
    "duration": 6,
    "start_time": "2023-12-13T00:34:52.920Z"
   },
   {
    "duration": 8,
    "start_time": "2023-12-13T00:35:05.657Z"
   },
   {
    "duration": 5,
    "start_time": "2023-12-13T00:40:13.707Z"
   },
   {
    "duration": 4,
    "start_time": "2023-12-13T00:40:19.986Z"
   },
   {
    "duration": 7,
    "start_time": "2023-12-13T00:40:31.945Z"
   },
   {
    "duration": 23,
    "start_time": "2023-12-13T00:41:16.277Z"
   },
   {
    "duration": 7,
    "start_time": "2023-12-13T00:41:31.040Z"
   },
   {
    "duration": 10,
    "start_time": "2023-12-13T00:41:34.352Z"
   },
   {
    "duration": 22,
    "start_time": "2023-12-13T00:41:40.266Z"
   },
   {
    "duration": 9,
    "start_time": "2023-12-13T00:42:16.002Z"
   },
   {
    "duration": 8,
    "start_time": "2023-12-13T00:42:22.866Z"
   },
   {
    "duration": 6,
    "start_time": "2023-12-13T00:42:29.408Z"
   },
   {
    "duration": 1057,
    "start_time": "2023-12-13T00:42:44.446Z"
   },
   {
    "duration": 56,
    "start_time": "2023-12-13T00:42:45.504Z"
   },
   {
    "duration": 40,
    "start_time": "2023-12-13T00:42:45.561Z"
   },
   {
    "duration": 9,
    "start_time": "2023-12-13T00:42:45.603Z"
   },
   {
    "duration": 13,
    "start_time": "2023-12-13T00:42:45.614Z"
   },
   {
    "duration": 13,
    "start_time": "2023-12-13T00:42:45.628Z"
   },
   {
    "duration": 20,
    "start_time": "2023-12-13T00:42:45.643Z"
   },
   {
    "duration": 14,
    "start_time": "2023-12-13T00:42:45.665Z"
   },
   {
    "duration": 18,
    "start_time": "2023-12-13T00:42:45.680Z"
   },
   {
    "duration": 10,
    "start_time": "2023-12-13T00:42:45.701Z"
   },
   {
    "duration": 17,
    "start_time": "2023-12-13T00:42:45.712Z"
   },
   {
    "duration": 35,
    "start_time": "2023-12-13T00:42:45.731Z"
   },
   {
    "duration": 14,
    "start_time": "2023-12-13T00:42:45.768Z"
   },
   {
    "duration": 27,
    "start_time": "2023-12-13T00:42:45.784Z"
   },
   {
    "duration": 15,
    "start_time": "2023-12-13T00:42:45.813Z"
   },
   {
    "duration": 18,
    "start_time": "2023-12-13T00:42:45.830Z"
   },
   {
    "duration": 32,
    "start_time": "2023-12-13T00:42:45.850Z"
   },
   {
    "duration": 14,
    "start_time": "2023-12-13T00:42:45.884Z"
   },
   {
    "duration": 24,
    "start_time": "2023-12-13T00:42:45.900Z"
   },
   {
    "duration": 38,
    "start_time": "2023-12-13T00:42:45.925Z"
   },
   {
    "duration": 322,
    "start_time": "2023-12-13T00:42:45.965Z"
   },
   {
    "duration": 288,
    "start_time": "2023-12-13T00:42:46.289Z"
   },
   {
    "duration": 8,
    "start_time": "2023-12-13T00:42:46.579Z"
   },
   {
    "duration": 1145,
    "start_time": "2023-12-13T00:42:46.599Z"
   },
   {
    "duration": 18,
    "start_time": "2023-12-13T00:42:47.746Z"
   },
   {
    "duration": 37,
    "start_time": "2023-12-13T00:42:47.766Z"
   },
   {
    "duration": 48,
    "start_time": "2023-12-13T00:42:47.804Z"
   },
   {
    "duration": 16,
    "start_time": "2023-12-13T00:42:47.858Z"
   },
   {
    "duration": 12,
    "start_time": "2023-12-13T00:42:47.876Z"
   },
   {
    "duration": 183,
    "start_time": "2023-12-13T00:42:47.891Z"
   },
   {
    "duration": 907,
    "start_time": "2023-12-13T00:42:48.076Z"
   },
   {
    "duration": 46,
    "start_time": "2023-12-13T00:42:48.985Z"
   },
   {
    "duration": 268,
    "start_time": "2023-12-13T00:42:49.033Z"
   },
   {
    "duration": 5,
    "start_time": "2023-12-13T00:42:49.303Z"
   },
   {
    "duration": 180,
    "start_time": "2023-12-13T00:42:49.310Z"
   },
   {
    "duration": 9,
    "start_time": "2023-12-13T00:42:49.500Z"
   },
   {
    "duration": 173,
    "start_time": "2023-12-13T00:42:49.511Z"
   },
   {
    "duration": 19,
    "start_time": "2023-12-13T00:42:49.686Z"
   },
   {
    "duration": 1765,
    "start_time": "2023-12-13T00:42:49.707Z"
   },
   {
    "duration": 181,
    "start_time": "2023-12-13T00:42:51.473Z"
   },
   {
    "duration": 14,
    "start_time": "2023-12-13T00:42:51.656Z"
   },
   {
    "duration": 19,
    "start_time": "2023-12-13T00:42:51.672Z"
   },
   {
    "duration": 150,
    "start_time": "2023-12-13T00:42:51.692Z"
   },
   {
    "duration": 157,
    "start_time": "2023-12-13T00:42:51.843Z"
   },
   {
    "duration": 148,
    "start_time": "2023-12-13T00:42:52.001Z"
   },
   {
    "duration": 168,
    "start_time": "2023-12-13T00:42:52.150Z"
   },
   {
    "duration": 169,
    "start_time": "2023-12-13T00:42:52.320Z"
   },
   {
    "duration": 231,
    "start_time": "2023-12-13T00:42:52.491Z"
   },
   {
    "duration": 147,
    "start_time": "2023-12-13T00:42:52.724Z"
   },
   {
    "duration": 139,
    "start_time": "2023-12-13T00:42:52.873Z"
   },
   {
    "duration": 151,
    "start_time": "2023-12-13T00:42:53.013Z"
   },
   {
    "duration": 8,
    "start_time": "2023-12-13T00:42:53.166Z"
   },
   {
    "duration": 15,
    "start_time": "2023-12-13T00:42:53.176Z"
   },
   {
    "duration": 19,
    "start_time": "2023-12-13T00:42:53.199Z"
   },
   {
    "duration": 31,
    "start_time": "2023-12-13T00:42:53.220Z"
   },
   {
    "duration": 16,
    "start_time": "2023-12-13T00:42:53.252Z"
   }
  ],
  "kernelspec": {
   "display_name": "Python 3 (ipykernel)",
   "language": "python",
   "name": "python3"
  },
  "language_info": {
   "codemirror_mode": {
    "name": "ipython",
    "version": 3
   },
   "file_extension": ".py",
   "mimetype": "text/x-python",
   "name": "python",
   "nbconvert_exporter": "python",
   "pygments_lexer": "ipython3",
   "version": "3.9.5"
  },
  "toc": {
   "base_numbering": 1,
   "nav_menu": {},
   "number_sections": true,
   "sideBar": true,
   "skip_h1_title": true,
   "title_cell": "Table of Contents",
   "title_sidebar": "Contents",
   "toc_cell": false,
   "toc_position": {},
   "toc_section_display": true,
   "toc_window_display": false
  }
 },
 "nbformat": 4,
 "nbformat_minor": 2
}
